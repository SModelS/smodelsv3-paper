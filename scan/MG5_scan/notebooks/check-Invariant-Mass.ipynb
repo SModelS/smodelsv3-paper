{
 "cells": [
  {
   "cell_type": "code",
   "execution_count": 1,
   "id": "b83cc91d",
   "metadata": {
    "ExecuteTime": {
     "end_time": "2024-03-19T14:30:11.078795Z",
     "start_time": "2024-03-19T14:30:09.002896Z"
    }
   },
   "outputs": [
    {
     "name": "stdout",
     "output_type": "stream",
     "text": [
      "Welcome to JupyROOT 6.26/10\n"
     ]
    }
   ],
   "source": [
    "import sys,os,glob,copy\n",
    "sys.path.append('../')\n",
    "import numpy as np\n",
    "from numpy.linalg import norm\n",
    "import pandas as pd\n",
    "from matplotlib import pyplot as plt\n",
    "import seaborn as sns\n",
    "from scipy.interpolate import LinearNDInterpolator,interp2d\n",
    "import matplotlib as mpl\n",
    "from matplotlib.colors import LogNorm\n",
    "from IPython.display import display, Markdown\n",
    "from collections import OrderedDict\n",
    "import pylhe\n",
    "import glob\n",
    "import pyslha\n",
    "\n",
    "delphesDir = os.path.abspath(\"/home/camila/MG5/Delphes\")\n",
    "os.environ['ROOT_INCLUDE_PATH'] = os.path.join(delphesDir,\"external\")\n",
    "\n",
    "import ROOT\n",
    "import xml.etree.ElementTree as ET\n",
    "\n",
    "\n",
    "ROOT.gSystem.Load(os.path.join(delphesDir,\"libDelphes.so\"))\n",
    "\n",
    "ROOT.gInterpreter.Declare('#include \"classes/SortableObject.h\"')\n",
    "ROOT.gInterpreter.Declare('#include \"classes/DelphesClasses.h\"')\n",
    "ROOT.gInterpreter.Declare('#include \"external/ExRootAnalysis/ExRootTreeReader.h\"')\n",
    "\n",
    "plt.rcParams.update({\n",
    "    \"text.usetex\": True,\n",
    "    \"font.family\": \"sans-serif\",\n",
    "    \"font.sans-serif\": [\"Helvetica\"]})\n",
    "\n",
    "plt.rcParams.update({\"savefig.dpi\" : 300}) #Figure resolution\n",
    "\n",
    "\n",
    "#Define plotting style:\n",
    "sns.set() #Set style\n",
    "sns.set_style('ticks',{'font.family':'Times New Roman', 'font.serif':'Times New Roman'})\n",
    "sns.set_context('paper', font_scale=1.8)\n",
    "cm = plt.colormaps.get_cmap('RdYlBu')"
   ]
  },
  {
   "cell_type": "markdown",
   "id": "e4bdf95b",
   "metadata": {},
   "source": [
    "### Set delphes files"
   ]
  },
  {
   "cell_type": "code",
   "execution_count": 2,
   "id": "65349727",
   "metadata": {
    "ExecuteTime": {
     "end_time": "2024-03-19T14:30:11.188546Z",
     "start_time": "2024-03-19T14:30:11.082162Z"
    }
   },
   "outputs": [],
   "source": [
    "inputFiles = {'off-shell': ['/home/camila/MonoXSMS/Tests/DMSimp_axial_0j_gm_005/Events/run_01/axial_3000_1_delphes_events.root'],\n",
    "              'on-shell': ['/home/camila/MonoXSMS/Tests/DMSimp_axial_0j_gm_onshell_005/Events/run_01/axial_3000_1_delphes_events.root']\n",
    "              }"
   ]
  },
  {
   "cell_type": "markdown",
   "id": "6d990014",
   "metadata": {},
   "source": [
    "### Load Model Parameters"
   ]
  },
  {
   "cell_type": "code",
   "execution_count": 3,
   "id": "215216ae",
   "metadata": {
    "ExecuteTime": {
     "end_time": "2024-03-19T14:30:12.126643Z",
     "start_time": "2024-03-19T14:30:11.992446Z"
    }
   },
   "outputs": [
    {
     "name": "stdout",
     "output_type": "stream",
     "text": [
      "off-shell : mMed = 3000.00 GeV, mDM = 1.00 GeV, cross-section = 3.917e-02 pb\n",
      "on-shell : mMed = 3000.00 GeV, mDM = 1.00 GeV, cross-section = 2.696e-02 pb\n"
     ]
    }
   ],
   "source": [
    "parameters = {}\n",
    "for label,file in inputFiles.items():\n",
    "    banner = list(glob.glob(os.path.dirname(file[0])+'/*banner.txt'))\n",
    "    if len(banner) != 1:\n",
    "        print('%i banner files found for %s!' %(len(banner),label))\n",
    "        break\n",
    "    else:\n",
    "        banner = banner[0]\n",
    "    xtree = ET.parse(banner)\n",
    "    xroot = xtree.getroot()\n",
    "    xsecPB = eval(xroot.find('init').text.split()[-2])\n",
    "    slha = xroot.find('header').find('slha').text\n",
    "    pars = pyslha.readSLHA(slha)\n",
    "    mMed = pars.blocks['MASS'][55]\n",
    "    mDM = pars.blocks['MASS'][52]\n",
    "    wMed = pars.decays[55].totalwidth\n",
    "    gVq = pars.blocks['DMINPUTS'][4] # Mediator-quark vector coupling\n",
    "    gAq = pars.blocks['DMINPUTS'][10] # Mediator-quark axial coupling\n",
    "    gVx = pars.blocks['DMINPUTS'][2] # Mediator-DM vector coupling\n",
    "    gAx = pars.blocks['DMINPUTS'][3] # Mediator-DM axial coupling\n",
    "    parameters[label] = {'xsec(pb)' : xsecPB, 'mMed' : mMed, 'mDM' : mDM, \n",
    "                         'gVq' : gVq, 'gAq' : gAq, 'gVx' : gVx, 'gAx' : gAx, 'wMed': wMed}\n",
    "    print(label,': mMed = %1.2f GeV, mDM = %1.2f GeV, cross-section = %1.3e pb' %(mMed,mDM,xsecPB))"
   ]
  },
  {
   "cell_type": "markdown",
   "id": "08d3c60a",
   "metadata": {},
   "source": [
    "### Load events, get parton level invariant mass"
   ]
  },
  {
   "cell_type": "code",
   "execution_count": 4,
   "id": "5e0ff8e9",
   "metadata": {
    "ExecuteTime": {
     "end_time": "2024-03-19T14:30:13.176487Z",
     "start_time": "2024-03-19T14:30:13.068834Z"
    }
   },
   "outputs": [],
   "source": [
    "# ## Cuts\n",
    "## MET\n",
    "minMET = 250.\n",
    "pTcut = 150."
   ]
  },
  {
   "cell_type": "code",
   "execution_count": 5,
   "id": "ec2262fe",
   "metadata": {
    "ExecuteTime": {
     "end_time": "2024-03-19T14:30:18.789006Z",
     "start_time": "2024-03-19T14:30:13.310085Z"
    }
   },
   "outputs": [],
   "source": [
    "weights = {label : np.array([]) for label in inputFiles}\n",
    "invmasses = {label : np.array([]) for label in inputFiles}\n",
    "genMet = {label : np.array([]) for label in inputFiles}\n",
    "totalweight = {label : 0.0 for label in inputFiles}\n",
    "totalweightPB = 0.\n",
    "    \n",
    "for label,files in inputFiles.items():\n",
    "    for file in files:\n",
    "\n",
    "        f = ROOT.TFile(file,'read')\n",
    "        tree = f.Get(\"Delphes\")\n",
    "        nevts = tree.GetEntries()\n",
    "        parameters[label]['Events'] = nevts\n",
    "\n",
    "        for ievt in range(nevts):    \n",
    "            tree.GetEntry(ievt)     \n",
    "            weight = tree.Weight.At(1).Weight\n",
    "\n",
    "            if weight >= 0:\n",
    "                totalweight[label] += weight\n",
    "            \n",
    "            missingET = tree.GenMissingET.At(0)  # USE REAL MISSING ET!\n",
    "            \n",
    "            \n",
    "            if missingET.MET < pTcut:\n",
    "                continue\n",
    "                \n",
    "            if missingET.MET < minMET:\n",
    "                continue\n",
    "                \n",
    "            DM1 = tree.dmParticles.At(0)\n",
    "            DM2 = tree.dmParticles.At(1)\n",
    "            \n",
    "            invmass2 = (DM1.E + DM2.E)**2 - (DM1.Px + DM2.Px + DM1.Py + DM2.Py + DM1.Pz + DM2.Pz)**2\n",
    "            invmass = np.sqrt(invmass2) if invmass2 >= 0 else 0\n",
    "            \n",
    "\n",
    "            weights[label] = np.append(weights[label],totalweightPB)\n",
    "            invmasses[label] = np.append(invmasses[label],invmass)\n",
    "            genMet[label] = np.append(genMet[label],missingET.MET)\n",
    "\n",
    "        f.Close()"
   ]
  },
  {
   "cell_type": "markdown",
   "id": "4af6cd5d",
   "metadata": {},
   "source": [
    "### Total cross-sections"
   ]
  },
  {
   "cell_type": "code",
   "execution_count": 6,
   "id": "42fa1a30",
   "metadata": {
    "ExecuteTime": {
     "end_time": "2024-03-19T14:30:18.900961Z",
     "start_time": "2024-03-19T14:30:18.793857Z"
    }
   },
   "outputs": [
    {
     "name": "stdout",
     "output_type": "stream",
     "text": [
      "off-shell total cross-section = 3.562e-02 pb (93826 events)\n",
      "on-shell total cross-section = 2.385e-02 pb (92230 events)\n"
     ]
    }
   ],
   "source": [
    "for label,w in totalweight.items():\n",
    "    print(label,'total cross-section = %1.3e pb (%i events)' %(w,parameters[label]['Events']))\n",
    "colors = {label : sns.color_palette('deep')[i+1] for i,label in enumerate(weights.keys())}  "
   ]
  },
  {
   "cell_type": "markdown",
   "id": "79e1cb79",
   "metadata": {},
   "source": [
    "### Plot invariant mass distributions (parton level)"
   ]
  },
  {
   "cell_type": "code",
   "execution_count": 7,
   "id": "478b00fa",
   "metadata": {
    "ExecuteTime": {
     "end_time": "2024-03-19T14:30:19.327906Z",
     "start_time": "2024-03-19T14:30:18.902814Z"
    }
   },
   "outputs": [
    {
     "data": {
      "image/png": "[encoded data removed]",
      "text/plain": [
       "<Figure size 1000x600 with 1 Axes>"
      ]
     },
     "metadata": {},
     "output_type": "display_data"
    }
   ],
   "source": [
    "fig = plt.figure(figsize=(10,6))\n",
    "for label,pt in invmasses.items():\n",
    "    binc,binEdges,patches = plt.hist(pt,bins=np.linspace(0,5000,101),\n",
    "                               label=label,histtype='step',color=colors[label],linewidth=2, density=True)\n",
    "\n",
    "\n",
    "    \n",
    "# plt.yscale('log')\n",
    "# plt.ylim(1e-7,3e-2)\n",
    "plt.xlabel(r'$m_{\\chi \\chi}$ (GeV)')\n",
    "plt.ylabel(r'Events (normalized)')\n",
    "# plt.xlim(200,2500)\n",
    "plt.legend(loc='upper right', fontsize='x-small')\n",
    "plt.show()"
   ]
  },
  {
   "cell_type": "markdown",
   "id": "5e1525f0",
   "metadata": {},
   "source": [
    "### make cut on invariant mass for off-shell events using bwcutoff $=5$"
   ]
  },
  {
   "cell_type": "code",
   "execution_count": 8,
   "id": "7ed7da92",
   "metadata": {
    "ExecuteTime": {
     "end_time": "2024-03-19T14:30:30.131726Z",
     "start_time": "2024-03-19T14:30:30.021106Z"
    }
   },
   "outputs": [],
   "source": [
    "weights['off-shell (cut)'] = np.array([])\n",
    "invmasses['off-shell (cut)'] = np.array([])"
   ]
  },
  {
   "cell_type": "code",
   "execution_count": 9,
   "id": "0f65414e",
   "metadata": {
    "ExecuteTime": {
     "end_time": "2024-03-19T14:30:32.881513Z",
     "start_time": "2024-03-19T14:30:30.219932Z"
    }
   },
   "outputs": [],
   "source": [
    "for file in inputFiles['off-shell']:\n",
    "\n",
    "    f = ROOT.TFile(file,'read')\n",
    "    tree = f.Get(\"Delphes\")\n",
    "    nevts = tree.GetEntries()\n",
    "    parameters[label]['Events'] = nevts\n",
    "\n",
    "    for ievt in range(nevts):    \n",
    "        tree.GetEntry(ievt)     \n",
    "        weight = tree.Weight.At(1).Weight\n",
    "\n",
    "        if weight >= 0:\n",
    "            totalweight[label] += weight\n",
    "\n",
    "        missingET = tree.GenMissingET.At(0)  # USE REAL MISSING ET!\n",
    "\n",
    "\n",
    "        if missingET.MET < pTcut:\n",
    "            continue\n",
    "\n",
    "        if missingET.MET < minMET:\n",
    "            continue\n",
    "\n",
    "        DM1 = tree.dmParticles.At(0)\n",
    "        DM2 = tree.dmParticles.At(1)\n",
    "\n",
    "        invmass2 = (DM1.E + DM2.E)**2 - (DM1.Px + DM2.Px + DM1.Py + DM2.Py + DM1.Pz + DM2.Pz)**2\n",
    "        invmass = np.sqrt(invmass2) if invmass2 >= 0 else 0\n",
    "\n",
    "        wMed = parameters['off-shell']['wMed']\n",
    "        mMed = parameters['off-shell']['mMed']\n",
    "        bwcutoff = 5\n",
    "\n",
    "        if invmass < (mMed - bwcutoff*wMed) or invmass > (mMed + bwcutoff*wMed):\n",
    "            continue\n",
    "\n",
    "\n",
    "        weights['off-shell (cut)'] = np.append(weights['off-shell (cut)'],totalweightPB)\n",
    "        invmasses['off-shell (cut)'] = np.append(invmasses['off-shell (cut)'],invmass)\n",
    "\n",
    "    f.Close()"
   ]
  },
  {
   "cell_type": "code",
   "execution_count": 13,
   "id": "8bb7c7b2",
   "metadata": {
    "ExecuteTime": {
     "end_time": "2024-03-19T14:31:33.868643Z",
     "start_time": "2024-03-19T14:31:33.583014Z"
    }
   },
   "outputs": [
    {
     "data": {
      "image/png": "[encoded data removed]",
      "text/plain": [
       "<Figure size 1000x600 with 1 Axes>"
      ]
     },
     "metadata": {},
     "output_type": "display_data"
    }
   ],
   "source": [
    "fig = plt.figure(figsize=(10,6))\n",
    "for label,pt in invmasses.items():\n",
    "    binc,binEdges,patches = plt.hist(pt,bins=np.linspace(0,5000,101),\n",
    "                               label=label,histtype='step',linewidth=2, density=False)\n",
    "\n",
    "\n",
    "    \n",
    "# plt.yscale('log')\n",
    "# plt.ylim(1e-7,3e-2)\n",
    "plt.xlabel(r'$m_{\\chi \\chi}$ (GeV)')\n",
    "plt.ylabel(r'Events')\n",
    "# plt.xlim(200,2500)\n",
    "plt.legend(loc='upper right', fontsize='x-small')\n",
    "plt.show()"
   ]
  },
  {
   "cell_type": "code",
   "execution_count": 11,
   "id": "7b726ccc",
   "metadata": {
    "ExecuteTime": {
     "end_time": "2024-03-19T14:30:55.779919Z",
     "start_time": "2024-03-19T14:30:55.463112Z"
    }
   },
   "outputs": [
    {
     "data": {
      "image/png": "[encoded data removed]",
      "text/plain": [
       "<Figure size 1000x600 with 1 Axes>"
      ]
     },
     "metadata": {},
     "output_type": "display_data"
    }
   ],
   "source": [
    "fig = plt.figure(figsize=(10,6))\n",
    "for label,pt in invmasses.items():\n",
    "    if 'on-shell' in label:\n",
    "        bincOn,binEdges,patches = plt.hist(pt,bins=np.linspace(0,5000,101),\n",
    "                                   label=label,histtype='step',linewidth=2, density=False)\n",
    "    if '(cut)' not in label and 'off-shell' in label:\n",
    "        bincOff,binEdges,patches = plt.hist(pt,bins=np.linspace(0,5000,101),\n",
    "                                   label=label,histtype='step',linewidth=2, density=False)\n",
    "\n",
    "\n",
    "    \n",
    "plt.yscale('log')\n",
    "# plt.ylim(1e-7,3e-2)\n",
    "plt.xlabel(r'$m_{\\chi \\chi}$ (GeV)')\n",
    "plt.ylabel(r'Events')\n",
    "# plt.xlim(200,2500)\n",
    "plt.legend(loc='upper right', fontsize='x-small')\n",
    "plt.show()"
   ]
  },
  {
   "cell_type": "code",
   "execution_count": null,
   "id": "8e75f6db",
   "metadata": {},
   "outputs": [],
   "source": []
  }
 ],
 "metadata": {
  "kernelspec": {
   "display_name": "Python 3 (ipykernel)",
   "language": "python",
   "name": "python3"
  },
  "language_info": {
   "codemirror_mode": {
    "name": "ipython",
    "version": 3
   },
   "file_extension": ".py",
   "mimetype": "text/x-python",
   "name": "python",
   "nbconvert_exporter": "python",
   "pygments_lexer": "ipython3",
   "version": "3.10.12"
  }
 },
 "nbformat": 4,
 "nbformat_minor": 5
}
