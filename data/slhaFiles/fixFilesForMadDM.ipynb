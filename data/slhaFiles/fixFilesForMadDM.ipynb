{
 "cells": [
  {
   "cell_type": "code",
   "execution_count": 1,
   "id": "55a7c0e2-1c55-4d3f-badd-617cb6bd551f",
   "metadata": {},
   "outputs": [],
   "source": [
    "import pyslha\n",
    "import glob"
   ]
  },
  {
   "cell_type": "code",
   "execution_count": 2,
   "id": "0bb95933-13c5-4725-a7a1-89dba09877fb",
   "metadata": {},
   "outputs": [],
   "source": [
    "templateFile = '../../Cards/2MDM/param_card_maddm.dat'\n",
    "tmp = pyslha.readSLHAFile(templateFile)\n"
   ]
  },
  {
   "cell_type": "code",
   "execution_count": 3,
   "id": "4a8de322-a12e-4de5-83ef-866b758a18d4",
   "metadata": {},
   "outputs": [],
   "source": [
    "for oldFile in glob.glob('./slha_files_final/*.slha'):\n",
    "    new = pyslha.readSLHAFile(oldFile)\n",
    "    for block in tmp.blocks:\n",
    "        if block not in new.blocks:\n",
    "            new.blocks[block] = tmp.blocks[block]\n",
    "    for pdg,mass in tmp.blocks['MASS'].items():\n",
    "        if (pdg not in new.blocks['MASS']) or pdg < 25:\n",
    "            new.blocks['MASS'][pdg] = mass\n",
    "    \n",
    "    for key,val in tmp.blocks['YUKAWA'].items():\n",
    "        if (key not in new.blocks['YUKAWA']):\n",
    "            new.blocks['YUKAWA'][key] = val\n",
    "    \n",
    "    for pdg,decay in tmp.decays.items():\n",
    "        if pdg not in new.decays:\n",
    "            new.decays[pdg] = decay\n",
    "\n",
    "    pyslha.writeSLHAFile(oldFile.replace('slha_files_final','slha_files_final_maddm'),new)"
   ]
  },
  {
   "cell_type": "code",
   "execution_count": null,
   "id": "2e2aef43-343e-4373-aee5-1d41b546743f",
   "metadata": {},
   "outputs": [],
   "source": []
  },
  {
   "cell_type": "code",
   "execution_count": null,
   "id": "216d514c-c612-46ab-81a4-4572ef995f08",
   "metadata": {},
   "outputs": [],
   "source": []
  }
 ],
 "metadata": {
  "kernelspec": {
   "display_name": "Python 3 (ipykernel)",
   "language": "python",
   "name": "python3"
  },
  "language_info": {
   "codemirror_mode": {
    "name": "ipython",
    "version": 3
   },
   "file_extension": ".py",
   "mimetype": "text/x-python",
   "name": "python",
   "nbconvert_exporter": "python",
   "pygments_lexer": "ipython3",
   "version": "3.12.3"
  }
 },
 "nbformat": 4,
 "nbformat_minor": 5
}
