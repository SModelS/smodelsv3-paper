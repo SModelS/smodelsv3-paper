{
 "cells": [
  {
   "cell_type": "markdown",
   "metadata": {},
   "source": [
    "<style>\n",
    "    .custom-hr {\n",
    "        border: none;\n",
    "        height: 1.2px;\n",
    "        background-color: #a61c00;\n",
    "        margin: 20px 0;\n",
    "    }\n",
    "</style>\n",
    "<div style=\"text-align: center;\">\n",
    "    <h1 style=\"color: black; font-size: 1.8em;\"><em><strong>SModelS V3.0.0 beta</strong></em></h1>\n",
    "</div>\n",
    "<hr class=\"custom-hr\">\n",
    "<div style=\"text-align: left;\">\n",
    "    <p style=\"font-size: 0.8em;\"><em>Yoxara Sánchez Villamizar (<a href=\"https://fisica.ufabc.edu.br/pt/\" target=\"_blank\">UFABC</a> &amp; <a href=\"http://sprace.org.br/\" target=\"_blank\">SPRACE</a>)</em></p>\n",
    "    <p style=\"font-size: 1em;\"><em>pp → Zp → jj</em></p>\n",
    "</div>\n"
   ]
  },
  {
   "cell_type": "code",
   "execution_count": 1,
   "metadata": {
    "ExecuteTime": {
     "end_time": "2023-10-11T16:55:20.389419Z",
     "start_time": "2023-10-11T16:46:16.656042Z"
    }
   },
   "outputs": [
    {
     "name": "stderr",
     "output_type": "stream",
     "text": [
      "WARNING in databaseObj.fetchFromScratch() in 691: downloading the database from https://smodels.github.io/database/official300-beta and caching in /home/camila/.cache/smodels. If you want the pickled database file to be cached in a different location, set the environment variable SMODELS_CACHEDIR, e.g. to '/tmp'.\n"
     ]
    },
    {
     "name": "stdout",
     "output_type": "stream",
     "text": [
      "loading >...................................................done.\n"
     ]
    },
    {
     "name": "stderr",
     "output_type": "stream",
     "text": [
      "WARNING in databaseObj.fetchFromScratch() in 691: downloading the database from https://smodels.github.io/database/fastlim300-beta and caching in /home/camila/.cache/smodels. If you want the pickled database file to be cached in a different location, set the environment variable SMODELS_CACHEDIR, e.g. to '/tmp'.\n"
     ]
    },
    {
     "name": "stdout",
     "output_type": "stream",
     "text": [
      "loading >...................................................done.\n",
      "Database version: 3.0.0-beta+fastlim\n",
      "-------------------------------------\n",
      "166 experimental results: 72 CMS, 94 ATLAS, 58 @ 8 TeV, 108 @ 13 TeV\n",
      "876 datasets, 4589 txnames.\n",
      "\n"
     ]
    }
   ],
   "source": [
    "from smodels.experiment.databaseObj import Database\n",
    "database = Database(\"official+fastlim\")\n",
    "print(database)"
   ]
  },
  {
   "cell_type": "raw",
   "metadata": {},
   "source": [
    "!runSModelS.py --help"
   ]
  },
  {
   "cell_type": "code",
   "execution_count": 1,
   "metadata": {},
   "outputs": [
    {
     "name": "stdout",
     "output_type": "stream",
     "text": [
      "3.0.0-beta\n"
     ]
    }
   ],
   "source": [
    "!runSModelS.py -V"
   ]
  },
  {
   "cell_type": "code",
   "execution_count": 2,
   "metadata": {},
   "outputs": [
    {
     "name": "stdout",
     "output_type": "stream",
     "text": [
      "<class 'smodels.base.model.Model'>\n"
     ]
    }
   ],
   "source": [
    "import time\n",
    "import os\n",
    "from smodels.experiment.expSMS import ExpSMS\n",
    "from smodels.experiment.defaultFinalStates import finalStates\n",
    "from smodels.experiment.databaseObj import Database\n",
    "from smodels.base.smodelsLogging import setLogLevel\n",
    "setLogLevel(\"debug\")\n",
    "from smodels.base.model import Model\n",
    "from smodels.base.particle import Particle, MultiParticle\n",
    "\n",
    "from __future__ import print_function\n",
    "from smodels.decomposition import decomposer\n",
    "from smodels.base.physicsUnits import fb, GeV, TeV\n",
    "from smodels.matching.theoryPrediction import theoryPredictionsFor,TheoryPredictionsCombiner\n",
    "from smodels.experiment.databaseObj import Database\n",
    "from smodels.tools import coverage\n",
    "from smodels.base.smodelsLogging import setLogLevel\n",
    "from smodels.base import runtime\n",
    "runtime.modelFile = 'smodels.share.models.ppZpjj'\n",
    "from smodels.share.models.ppZpjj import BSMList\n",
    "from smodels.share.models.SMparticles import SMList\n",
    "setLogLevel(\"info\")\n",
    "print(Model)\n"
   ]
  },
  {
   "cell_type": "code",
   "execution_count": 3,
   "metadata": {},
   "outputs": [
    {
     "name": "stderr",
     "output_type": "stream",
     "text": [
      "INFO in databaseObj.loadBinaryFile() in 526: loading binary db file /home/yoxara/smodels/smodels-database/db3.pcl format version 214\n",
      "INFO in databaseObj.loadBinaryFile() in 533: Loaded database from /home/yoxara/smodels/smodels-database/db3.pcl in 2.2 secs.\n"
     ]
    }
   ],
   "source": [
    "path = \"/home/camila/smodels/smodels-database\"\n",
    "db = Database(path)"
   ]
  },
  {
   "cell_type": "code",
   "execution_count": 4,
   "metadata": {},
   "outputs": [
    {
     "data": {
      "image/svg+xml": [
       "<?xml version=\"1.0\" encoding=\"UTF-8\" standalone=\"no\"?>\n",
       "<!DOCTYPE svg PUBLIC \"-//W3C//DTD SVG 1.1//EN\"\n",
       " \"http://www.w3.org/Graphics/SVG/1.1/DTD/svg11.dtd\">\n",
       "<!-- Generated by graphviz version 2.43.0 (0)\n",
       " -->\n",
       "<!-- Title: %3 Pages: 1 -->\n",
       "<svg width=\"170pt\" height=\"152pt\"\n",
       " viewBox=\"0.00 0.00 170.21 152.00\" xmlns=\"http://www.w3.org/2000/svg\" xmlns:xlink=\"http://www.w3.org/1999/xlink\">\n",
       "<g id=\"graph0\" class=\"graph\" transform=\"scale(1 1) rotate(0) translate(4 148)\">\n",
       "<title>%3</title>\n",
       "<polygon fill=\"white\" stroke=\"transparent\" points=\"-4,4 -4,-148 166.21,-148 166.21,4 -4,4\"/>\n",
       "<!-- 0 -->\n",
       "<g id=\"node1\" class=\"node\">\n",
       "<title>0</title>\n",
       "<ellipse fill=\"darkgray\" stroke=\"black\" cx=\"18\" cy=\"-72\" rx=\"18\" ry=\"18\"/>\n",
       "<text text-anchor=\"middle\" x=\"18\" y=\"-69.5\" font-family=\"Times,serif\" font-size=\"10.00\">PV</text>\n",
       "</g>\n",
       "<!-- 1 -->\n",
       "<g id=\"node2\" class=\"node\">\n",
       "<title>1</title>\n",
       "<ellipse fill=\"#5cacee\" stroke=\"black\" cx=\"81.11\" cy=\"-72\" rx=\"23.21\" ry=\"23.21\"/>\n",
       "<text text-anchor=\"middle\" x=\"81.11\" y=\"-69.5\" font-family=\"Times,serif\" font-size=\"10.00\">anyBSM</text>\n",
       "</g>\n",
       "<!-- 0&#45;&gt;1 -->\n",
       "<g id=\"edge1\" class=\"edge\">\n",
       "<title>0&#45;&gt;1</title>\n",
       "<path fill=\"none\" stroke=\"#878787\" d=\"M36.02,-72C40.58,-72 45.63,-72 50.65,-72\"/>\n",
       "<polygon fill=\"#878787\" stroke=\"#878787\" points=\"57.92,-72 50.92,-75.15 54.42,-72 50.92,-72 50.92,-72 50.92,-72 54.42,-72 50.92,-68.85 57.92,-72 57.92,-72\"/>\n",
       "</g>\n",
       "<!-- 2 -->\n",
       "<g id=\"node3\" class=\"node\">\n",
       "<title>2</title>\n",
       "<ellipse fill=\"#5cacee\" stroke=\"black\" cx=\"144.21\" cy=\"-126\" rx=\"18\" ry=\"18\"/>\n",
       "<text text-anchor=\"middle\" x=\"144.21\" y=\"-123.5\" font-family=\"Times,serif\" font-size=\"10.00\">MET</text>\n",
       "</g>\n",
       "<!-- 1&#45;&gt;2 -->\n",
       "<g id=\"edge2\" class=\"edge\">\n",
       "<title>1&#45;&gt;2</title>\n",
       "<path fill=\"none\" stroke=\"#878787\" d=\"M99.13,-87.04C107.05,-94.04 116.48,-102.38 124.59,-109.55\"/>\n",
       "<polygon fill=\"#878787\" stroke=\"#878787\" points=\"129.96,-114.29 122.63,-112.01 127.34,-111.97 124.71,-109.65 124.71,-109.65 124.71,-109.65 127.34,-111.97 126.8,-107.29 129.96,-114.29 129.96,-114.29\"/>\n",
       "</g>\n",
       "<!-- 3 -->\n",
       "<g id=\"node4\" class=\"node\">\n",
       "<title>3</title>\n",
       "<ellipse fill=\"#eea2ad\" stroke=\"black\" cx=\"144.21\" cy=\"-72\" rx=\"18\" ry=\"18\"/>\n",
       "<text text-anchor=\"middle\" x=\"144.21\" y=\"-69.5\" font-family=\"Times,serif\" font-size=\"10.00\">jet</text>\n",
       "</g>\n",
       "<!-- 1&#45;&gt;3 -->\n",
       "<g id=\"edge3\" class=\"edge\">\n",
       "<title>1&#45;&gt;3</title>\n",
       "<path fill=\"none\" stroke=\"#878787\" d=\"M104.51,-72C109.16,-72 114.08,-72 118.8,-72\"/>\n",
       "<polygon fill=\"#878787\" stroke=\"#878787\" points=\"125.98,-72 118.98,-75.15 122.48,-72 118.98,-72 118.98,-72 118.98,-72 122.48,-72 118.98,-68.85 125.98,-72 125.98,-72\"/>\n",
       "</g>\n",
       "<!-- 4 -->\n",
       "<g id=\"node5\" class=\"node\">\n",
       "<title>4</title>\n",
       "<ellipse fill=\"#eea2ad\" stroke=\"black\" cx=\"144.21\" cy=\"-18\" rx=\"18\" ry=\"18\"/>\n",
       "<text text-anchor=\"middle\" x=\"144.21\" y=\"-15.5\" font-family=\"Times,serif\" font-size=\"10.00\">jet</text>\n",
       "</g>\n",
       "<!-- 1&#45;&gt;4 -->\n",
       "<g id=\"edge4\" class=\"edge\">\n",
       "<title>1&#45;&gt;4</title>\n",
       "<path fill=\"none\" stroke=\"#878787\" d=\"M99.13,-56.96C107.05,-49.96 116.48,-41.62 124.59,-34.45\"/>\n",
       "<polygon fill=\"#878787\" stroke=\"#878787\" points=\"129.96,-29.71 126.8,-36.71 127.34,-32.03 124.71,-34.35 124.71,-34.35 124.71,-34.35 127.34,-32.03 122.63,-31.99 129.96,-29.71 129.96,-29.71\"/>\n",
       "</g>\n",
       "</g>\n",
       "</svg>\n"
      ],
      "text/plain": [
       "<graphviz.graphs.Digraph at 0x7fe868213790>"
      ]
     },
     "metadata": {},
     "output_type": "display_data"
    },
    {
     "name": "stdout",
     "output_type": "stream",
     "text": [
      "[PV, anyBSM, MET, jet, jet]\n",
      "[(PV, anyBSM), (anyBSM, MET), (anyBSM, jet), (anyBSM, jet)]\n"
     ]
    }
   ],
   "source": [
    "elString = \"[[['jet', 'jet']]]\" \n",
    "el = ExpSMS.from_string(elString,model=finalStates)\n",
    "el.draw()\n",
    "print(el.nodes)\n",
    "print(el.edges)"
   ]
  },
  {
   "cell_type": "raw",
   "metadata": {},
   "source": [
    "from smodels.experiment.databaseObj import Database\n",
    "database = Database(\"official+fastlim\")\n",
    "print(database)"
   ]
  },
  {
   "cell_type": "raw",
   "metadata": {},
   "source": [
    "results1 = db.selectExpResults(analysisIDs='CMS-EXO-19-012', useNonValidated=True)\n",
    "#dataTypes='upperLimit',txnames='TRV1qq.txt',\n",
    "print(db)\n",
    "print(results1)\n"
   ]
  },
  {
   "cell_type": "code",
   "execution_count": 5,
   "metadata": {},
   "outputs": [
    {
     "name": "stdout",
     "output_type": "stream",
     "text": [
      "Database version: 3.0.0-beta\n",
      "-----------------------------\n",
      "2 experimental results: 1 CMS, 1 ATLAS, 0 @ 8 TeV, 2 @ 13 TeV\n",
      "2 datasets, 2 txnames.\n",
      "\n"
     ]
    }
   ],
   "source": [
    "analysis_list = ['CMS-EXO-19-012', 'ATLAS-EXOT-2019-03', 'ATLAS-EXOT-2018-48', 'CMS-PAS-EXO-20-008']\n",
    "results = db.selectExpResults(analysisIDs=analysis_list,dataTypes='upperLimit',txnames='TRV1qq',useNonValidated=True)\n",
    "print(db)"
   ]
  },
  {
   "cell_type": "raw",
   "metadata": {},
   "source": [
    "import re\n",
    "def extract_slha_and_info_from_banner(banner_path):\n",
    "    \"\"\"\n",
    "    Extract the SLHA section, integrated weight, and number of events from a MadGraph banner.txt file.\n",
    "    :param banner_path: Path to the banner file.\n",
    "    :return: A tuple containing the SLHA content as a string, the integrated weight, and the number of events.\n",
    "    \"\"\"\n",
    "    with open(banner_path, 'r') as f:\n",
    "        content = f.read()\n",
    "    # Extract SLHA\n",
    "    slha_match = re.search(r'<slha>(.*?)<\\/slha>', content, re.DOTALL)\n",
    "    slha_content = slha_match.group(1).strip() if slha_match else None\n",
    "    # Extract integrated weight\n",
    "    weight_match = re.search(r'Integrated weight \\(pb\\)  :\\s*(\\d*\\.\\d+|\\d+)', content)\n",
    "    weight = float(weight_match.group(1)) if weight_match else None\n",
    "    # Extract number of events\n",
    "    events_match = re.search(r'Number of Events\\s*:\\s*(\\d+)', content)\n",
    "    num_events = int(events_match.group(1)) if events_match else None\n",
    "    return slha_content, weight, num_events\n",
    "def main():\n",
    "    # List of banner paths for different runs\n",
    "    banner_paths = [\n",
    "        \"/home/yoxara/MG5_aMC_v3_5_1/xsec_ppZp_CMS_Exp/Events/run_{:02d}/run_{:02d}_tag_1_banner.txt\".format(i, i) for i in range(1, 35)\n",
    "    ]\n",
    "    # Directory to save the SLHA files\n",
    "    output_dir = \"/home/yoxara/2MDM/Update_Data_val_SmodelS/ppZpjj/slhaFiles/xsec_ppZp_CMS_Exp\"\n",
    "    # Create the directory if it doesn't exist\n",
    "    if not os.path.exists(output_dir):\n",
    "        os.makedirs(output_dir)\n",
    "    for banner_path in banner_paths:\n",
    "        if not os.path.exists(banner_path):\n",
    "            print(f\"Banner file {banner_path} does not exist. Skipping.\")\n",
    "            continue\n",
    "        slha_content, weight, num_events = extract_slha_and_info_from_banner(banner_path)\n",
    "        if slha_content and weight is not None and num_events is not None:\n",
    "            # Append XSECTION block\n",
    "            xsection_block = f\"\\nXSECTION  1.30E+04  2212 2212 2 5000001 5000001 # {num_events} events, [pb], pythia8 for LO\\n 0  2  0  0  5  -5   {weight} SModelS 3.0.0-beta\"\n",
    "            slha_content += xsection_block   \n",
    "            base_name = os.path.basename(banner_path).replace(\"_banner.txt\", \".slha\")\n",
    "            output_path = os.path.join(output_dir, base_name)\n",
    "            with open(output_path, 'w') as f:\n",
    "                f.write(slha_content)\n",
    "            print(f\"SLHA content with XSECTION saved to {output_path}\")\n",
    "        else:\n",
    "            print(f\"Failed to extract SLHA and/or weight and/or number of events from {banner_path}\")\n",
    "if __name__ == \"__main__\":\n",
    "    main()"
   ]
  },
  {
   "cell_type": "code",
   "execution_count": 10,
   "metadata": {},
   "outputs": [],
   "source": [
    "#Y1_particle = Particle(label='Y1', isSM=False, pdg=5000001, eCharge=0, colordim=1, spin=1, _isInvisible=False)\n",
    "#xd_particle = Particle(label='xd', isSM=False, pdg=5000521, eCharge=0, colordim=1, spin=0.5, _isInvisible=True)\n",
    "#Y1 = MultiParticle('Y1', [Y1_particle, Y1_particle.chargeConjugate('Y1')])\n",
    "#xd = MultiParticle('xd', [xd_particle, xd_particle.chargeConjugate('xd')])\n",
    "#BSMList = [Y1, xd]\n",
    "Y1 = Particle(label='Y1', isSM=False, pdg=5000001, eCharge=0, colordim=1, spin=1, _isInvisible=False)\n",
    "xd = Particle(label='xd', isSM=False, pdg=5000521, eCharge=0, colordim=1, spin=0.5, _isInvisible=True)\n",
    "BSMList = [Y1, xd]\n",
    "#!smodelsTools.py slhachecker -f /home/yoxara/2MDM/Update_Data_val_SmodelS/ppZpjj/slhaFiles/xsec_ppZp_CMS_Exp/run_18_tag_1.slha\n",
    "#!smodelsTools.py lhechecker -f /home/yoxara/MG5_aMC_v3_5_1/xsec_ppZp_CMS_Exp/Events/run_01/tmp_0_unweighted_events.lhe"
   ]
  },
  {
   "cell_type": "code",
   "execution_count": 11,
   "metadata": {},
   "outputs": [
    {
     "name": "stderr",
     "output_type": "stream",
     "text": [
      "INFO in model.updateParticles() in 415: Loaded 2 BSM particles\n",
      "INFO in model.setDecays() in 334: Particle(s) {-5000521} is not defined within model. Decay  0.4 [5000521, -5000521] will be ignored\n"
     ]
    }
   ],
   "source": [
    "slhaFile = \"/home/yoxara/2MDM/Update_Data_val_SmodelS/ppZpjj/slhaFiles/xsec_ppZp_CMS_Exp/run_18_tag_1.slha\"\n",
    "model = Model(BSMparticles=BSMList, SMparticles=SMList)\n",
    "model.updateParticles(inputFile=slhaFile)"
   ]
  },
  {
   "cell_type": "code",
   "execution_count": 13,
   "metadata": {},
   "outputs": [
    {
     "name": "stdout",
     "output_type": "stream",
     "text": [
      "\n",
      " Decomposition done in 0.00m\n",
      "\n",
      " Decomposition Results: \n",
      "\t  Total number of topologies: 0 \n",
      "\t  Total number of elements = 0 \n"
     ]
    }
   ],
   "source": [
    "# Set main options for decomposition\n",
    "sigmacut = 0.5*fb\n",
    "mingap = 5.*GeV\n",
    "\n",
    "t0 = time.time()\n",
    "# Decompose model\n",
    "topDict = decomposer.decompose(model, sigmacut,\n",
    "                               massCompress=True, invisibleCompress=True,\n",
    "                               minmassgap=mingap)\n",
    "\n",
    "# Access basic information from decomposition, using the topology list and topology objects:\n",
    "print(\"\\n Decomposition done in %1.2fm\" %((time.time()-t0)/60.))\n",
    "print(\"\\n Decomposition Results: \")\n",
    "print(\"\\t  Total number of topologies: %i \" % len(topDict))\n",
    "nel = len(topDict.getSMSList())\n",
    "print(\"\\t  Total number of elements = %i \" % nel)\n",
    "# Print information about the m-th topology:\n",
    "m = 2\n",
    "if len(topDict) > m:\n",
    "    cName = sorted(topDict.keys())[m]\n",
    "    elementList = topDict[cName]\n",
    "    print(\"\\t\\t %i topology  = \" % cName)\n",
    "    # Print information about the n-th element in the m-th topology:\n",
    "    n = 0\n",
    "    el = elementList[n]\n",
    "    print(\"\\t\\t %i-th element  = \" % (n), el, end=\"\")\n",
    "    print(\"\\n\\t\\t\\twith final states =\", el.getFinalStates(), \"\\n\\t\\t\\twith cross section =\", el.weightList, \"\\n\\t\\t\\tand masses = \", el.mass)"
   ]
  },
  {
   "cell_type": "code",
   "execution_count": null,
   "metadata": {},
   "outputs": [],
   "source": []
  },
  {
   "cell_type": "raw",
   "metadata": {},
   "source": [
    "!runSModelS.py -p parameters.ini -f "
   ]
  },
  {
   "cell_type": "raw",
   "metadata": {},
   "source": []
  }
 ],
 "metadata": {
  "kernelspec": {
   "display_name": "Python 3 (ipykernel)",
   "language": "python",
   "name": "python3"
  },
  "language_info": {
   "codemirror_mode": {
    "name": "ipython",
    "version": 3
   },
   "file_extension": ".py",
   "mimetype": "text/x-python",
   "name": "python",
   "nbconvert_exporter": "python",
   "pygments_lexer": "ipython3",
   "version": "3.10.12"
  }
 },
 "nbformat": 4,
 "nbformat_minor": 2
}
