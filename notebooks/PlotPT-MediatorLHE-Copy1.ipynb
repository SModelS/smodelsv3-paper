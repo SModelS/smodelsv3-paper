{
 "cells": [
  {
   "cell_type": "code",
   "execution_count": 1,
   "id": "b83cc91d",
   "metadata": {
    "ExecuteTime": {
     "end_time": "2023-09-01T18:44:50.553519Z",
     "start_time": "2023-09-01T18:44:45.327313Z"
    }
   },
   "outputs": [
    {
     "name": "stdout",
     "output_type": "stream",
     "text": [
      "Welcome to JupyROOT 6.26/10\n"
     ]
    }
   ],
   "source": [
    "import sys,os,glob,copy\n",
    "sys.path.append('../')\n",
    "import numpy as np\n",
    "from numpy.linalg import norm\n",
    "import pandas as pd\n",
    "from matplotlib import pyplot as plt\n",
    "import seaborn as sns\n",
    "from scipy.interpolate import LinearNDInterpolator,interp2d\n",
    "import scipy\n",
    "import matplotlib as mpl\n",
    "from matplotlib.colors import LogNorm\n",
    "from IPython.display import display, Markdown\n",
    "from collections import OrderedDict\n",
    "import pylhe\n",
    "import glob\n",
    "import pyslha\n",
    "import ROOT\n",
    "import xml.etree.ElementTree as ET\n",
    "\n",
    "\n",
    "plt.rcParams.update({\n",
    "    \"text.usetex\": True,\n",
    "    \"font.family\": \"sans-serif\",\n",
    "    \"font.sans-serif\": [\"Helvetica\"]})\n",
    "\n",
    "plt.rcParams.update({\"savefig.dpi\" : 300}) #Figure resolution\n",
    "\n",
    "\n",
    "#Define plotting style:\n",
    "sns.set() #Set style\n",
    "sns.set_style('ticks',{'font.family':'Times New Roman', 'font.serif':'Times New Roman'})\n",
    "sns.set_context('paper', font_scale=1.8)\n",
    "cm = plt.cm.get_cmap('RdYlBu')"
   ]
  },
  {
   "cell_type": "code",
   "execution_count": 2,
   "id": "7b0692f2",
   "metadata": {
    "ExecuteTime": {
     "end_time": "2023-09-01T18:44:50.671821Z",
     "start_time": "2023-09-01T18:44:50.557103Z"
    }
   },
   "outputs": [],
   "source": [
    "def readNumEvents(file):\n",
    "    \"\"\"\n",
    "    Moderately efficent way to get the number of events stored in file.\n",
    "    \"\"\"\n",
    "    \n",
    "    with pylhe._extract_fileobj(file) as fileobj:\n",
    "        nevts = sum(element.tag == \"event\" for event, element in ET.iterparse(fileobj, events=[\"end\"]))\n",
    "    return nevts"
   ]
  },
  {
   "cell_type": "code",
   "execution_count": 3,
   "id": "22d678c9",
   "metadata": {
    "ExecuteTime": {
     "end_time": "2023-09-01T18:44:50.949570Z",
     "start_time": "2023-09-01T18:44:50.683434Z"
    }
   },
   "outputs": [],
   "source": [
    "inputFiles = {'zp_dm': '/home/camila/MG5/2mdm_spin1/Events/run_01/unweighted_events.lhe.gz',\n",
    "              'mixed_couplings': '/home/camila/MG5/dmsimp_test4/Events/run_03/unweighted_events.lhe.gz'\n",
    "              }"
   ]
  },
  {
   "cell_type": "code",
   "execution_count": 4,
   "id": "4b4c17b7",
   "metadata": {
    "ExecuteTime": {
     "end_time": "2023-09-01T18:44:59.347437Z",
     "start_time": "2023-09-01T18:44:50.952773Z"
    }
   },
   "outputs": [],
   "source": [
    "events = {}\n",
    "nevents = {}\n",
    "for label,f in inputFiles.items():   \n",
    "    events[label] = pylhe.read_lhe_with_attributes(f)\n",
    "    nevents[label] = readNumEvents(f)\n"
   ]
  },
  {
   "cell_type": "code",
   "execution_count": 5,
   "id": "e0bddf06",
   "metadata": {
    "ExecuteTime": {
     "end_time": "2023-09-01T18:44:59.479952Z",
     "start_time": "2023-09-01T18:44:59.350643Z"
    }
   },
   "outputs": [
    {
     "name": "stdout",
     "output_type": "stream",
     "text": [
      "zp_dm : mZp = 2000.00 GeV, mH2 = 405.00 GeV, mDM = 200.00 GeV\n",
      "mixed_couplings : mZp = 2000.00 GeV, mH2 = nan GeV, mDM = 100.00 GeV\n"
     ]
    }
   ],
   "source": [
    "parameters = {}\n",
    "for label,file in inputFiles.items():\n",
    "    banner = sorted(glob.glob(os.path.dirname(file)+'/*banner.txt'),key=os.path.getmtime,reverse=True)\n",
    "    if len(banner) == 0:\n",
    "        print('Banner not found for %s' %label)\n",
    "    elif len(banner) > 1:        \n",
    "        print('\\n%i banner files found for %s. Using %s' \n",
    "              %(len(banner),label,os.path.basename(banner[0])))\n",
    "    banner = banner[0]\n",
    "    xtree = ET.parse(banner)\n",
    "    xroot = xtree.getroot()\n",
    "    slha = xroot.find('header').find('slha').text\n",
    "    pars = pyslha.readSLHA(slha)\n",
    "    \n",
    "    \n",
    "    if 9900032 in pars.blocks['MASS']:\n",
    "        model = '2mdm'        \n",
    "        mZp = pars.blocks['MASS'][9900032] # Z prime mass\n",
    "        \n",
    "    elif 55 in pars.blocks['MASS']:\n",
    "        model = 'dmsimp'\n",
    "        mZp = pars.blocks['MASS'][55] # Z prime mass\n",
    "        \n",
    "    \n",
    "    if model == '2mdm':\n",
    "        mH2 = pars.blocks['BLINPUTS'][2] # dark Higgs mass\n",
    "        mChi = pars.blocks['MASS'][9000006] # DM mass\n",
    "        sTheta = pars.blocks['BLINPUTS'][3] # sin theta\n",
    "        gchi = pars.blocks['ZPRIME'][1] # coupling of mediators to DM\n",
    "        gq = pars.blocks['ZPRIME'][2] # coupling of mediators to SM\n",
    "    elif model == 'dmsimp':\n",
    "        mH2 = np.nan # dark Higgs mass\n",
    "        mChi = pars.blocks['MASS'][52] # DM mass\n",
    "        sTheta = 0\n",
    "        gchi = pars.blocks['DMINPUTS'][3] # coupling of mediators to DM\n",
    "        gq = pars.blocks['DMINPUTS'][6] # coupling of mediators to SM  \n",
    "        \n",
    "\n",
    "    \n",
    "        \n",
    "    parameters[label] = {'mZp' : mZp, 'mDM' : mChi, 'mH2' : mH2,\n",
    "                         'gq' : gq, 'sTheta' : sTheta, 'gx' : gchi}\n",
    "    print(label,': mZp = %1.2f GeV, mH2 = %1.2f GeV, mDM = %1.2f GeV' %(mZp,mH2,mChi))"
   ]
  },
  {
   "cell_type": "code",
   "execution_count": 6,
   "id": "a72a7b58",
   "metadata": {
    "ExecuteTime": {
     "end_time": "2023-09-01T18:44:59.941182Z",
     "start_time": "2023-09-01T18:44:59.483257Z"
    }
   },
   "outputs": [
    {
     "data": {
      "text/plain": [
       "{'zp_dm': {'mZp': 2000.0,\n",
       "  'mDM': 200.0,\n",
       "  'mH2': 405.0,\n",
       "  'gq': 0.25,\n",
       "  'sTheta': 0.1,\n",
       "  'gx': 1.0},\n",
       " 'mixed_couplings': {'mZp': 2000.0,\n",
       "  'mDM': 100.0,\n",
       "  'mH2': nan,\n",
       "  'gq': 0.25,\n",
       "  'sTheta': 0,\n",
       "  'gx': 1.0}}"
      ]
     },
     "execution_count": 6,
     "metadata": {},
     "output_type": "execute_result"
    }
   ],
   "source": [
    "parameters"
   ]
  },
  {
   "cell_type": "code",
   "execution_count": 7,
   "id": "f975cc9a",
   "metadata": {
    "ExecuteTime": {
     "end_time": "2023-09-01T18:45:00.389125Z",
     "start_time": "2023-09-01T18:44:59.960860Z"
    }
   },
   "outputs": [],
   "source": [
    "## jets\n",
    "pTj1min = 25.\n",
    "pTjmin = 25.\n",
    "# etamax = 2.4\n",
    "# ## MET\n",
    "minMET = 25.\n",
    "# ## Electrons\n",
    "# pTmin_el = 10.\n",
    "# etamax_el = 2.5\n",
    "# nMax_el = 0\n",
    "# ## Muons\n",
    "# pTmin_mu = 10.\n",
    "# etamax_mu = 2.4\n",
    "# nMax_mu = 0"
   ]
  },
  {
   "cell_type": "code",
   "execution_count": 8,
   "id": "c78cedbe",
   "metadata": {
    "ExecuteTime": {
     "end_time": "2023-09-01T18:45:00.513836Z",
     "start_time": "2023-09-01T18:45:00.393230Z"
    }
   },
   "outputs": [],
   "source": [
    "## jets\n",
    "pTj1min = 25.\n",
    "pTjmin = 25.\n",
    "etamax = 5;\n",
    "# ## MET\n",
    "minMET = 25.\n",
    "# ## Electrons\n",
    "# pTmin_el = 10.\n",
    "# etamax_el = 2.5\n",
    "# nMax_el = 0\n",
    "# ## Muons\n",
    "# pTmin_mu = 10.\n",
    "# etamax_mu = 2.4\n",
    "# nMax_mu = 0"
   ]
  },
  {
   "cell_type": "code",
   "execution_count": 9,
   "id": "33dc7a3b",
   "metadata": {
    "ExecuteTime": {
     "end_time": "2023-09-01T18:46:03.889596Z",
     "start_time": "2023-09-01T18:45:00.517460Z"
    }
   },
   "outputs": [],
   "source": [
    "pTj1 = {label : np.array([]) for label in inputFiles}\n",
    "weights = {label : np.array([]) for label in inputFiles}\n",
    "met = {label : np.array([]) for label in inputFiles}\n",
    "njets = {label : np.array([]) for label in inputFiles}\n",
    "totalweight = {label : 0 for label in inputFiles}\n",
    "# negweight = {label : np.array([]) for label in inputFiles}\n",
    "\n",
    "for label,evts in events.items():\n",
    "   \n",
    "    nevts = nevents[label]\n",
    "    parameters[label]['Events'] = nevts\n",
    "    \n",
    "    for event in evts:\n",
    "\n",
    "        particles = event.particles\n",
    "       \n",
    "        jets = [p for p in particles if abs(p.id) in [1,2,3,4,5,21] and p.status == 1]\n",
    "#         med = [p for p in particles if abs(p.id) in [55] and p.status == 1]\n",
    "        dm = [p for p in particles if abs(p.id) in [9000006, 52] and p.status == 1]\n",
    "#         electrons = [p for p in particles if abs(p.id) in [11] and p.status == 1]\n",
    "#         muons = [p for p in particles if abs(p.id) in [13] and p.status == 1]\n",
    "        \n",
    "#         if len(med) != 1:\n",
    "#             continue\n",
    "        if len(dm) != 2:\n",
    "            continue\n",
    "            \n",
    "        weight = event.eventinfo.weight/nevts\n",
    "            \n",
    "#         if weight < 0:\n",
    "#             negw = weight\n",
    "#             negweight[label] += negw\n",
    "#             negweight[label] = np.append(negweight[label], negw)\n",
    "#             continue\n",
    "            \n",
    "        totalweight[label] += weight\n",
    "            \n",
    "        # Filter jets\n",
    "        jetList = []\n",
    "        for j in jets:\n",
    "            pT = np.sqrt(j.px**2+j.py**2)\n",
    "            p = np.sqrt(j.px**2+j.py**2+j.pz**2)\n",
    "            pL = j.pz\n",
    "            eta = 0.5*np.log((p+pL)/(p-pL))\n",
    "            \n",
    "            if pT < pTjmin:\n",
    "                continue\n",
    "            if np.abs(eta) > etamax:\n",
    "                continue\n",
    "            jetList.append(j)\n",
    "        jetList = sorted(jetList, key = lambda j: np.sqrt(j.px**2+j.py**2), reverse=True)          \n",
    "        \n",
    "            \n",
    "        # Filter electrons\n",
    "#         electronList = []\n",
    "#         for el in electrons:\n",
    "#             pT = np.sqrt(el.px**2+el.py**2)\n",
    "#             p = np.sqrt(el.px**2+el.py**2+el.pz**2)\n",
    "#             pL = el.pz\n",
    "#             eta = 0.5*np.log((p+pL)/(p-pL))\n",
    "            \n",
    "# #             if pT < pTmin_el:\n",
    "# #                 continue\n",
    "# #             if np.abs(eta) > etamax_el:\n",
    "# #                 continue\n",
    "#             electronList.append(el)\n",
    "#         electronList = sorted(electronList, key = lambda j: np.sqrt(j.px**2+j.py**2), reverse=True)                                    \n",
    "        \n",
    "        # Filter muons\n",
    "#         muonList = []\n",
    "#         for mu in muons:\n",
    "#             pT = np.sqrt(mu.px**2+mu.py**2)\n",
    "#             p = np.sqrt(mu.px**2+mu.py**2+mu.pz**2)\n",
    "#             pL = mu.pz\n",
    "#             eta = 0.5*np.log((p+pL)/(p-pL))\n",
    "            \n",
    "#             if pT < pTmin_mu:\n",
    "#                 continue\n",
    "#             if np.abs(eta) > etamax_mu:\n",
    "#                 continue\n",
    "#             muonList.append(mu)\n",
    "#         muonList = sorted(muonList, key = lambda j: np.sqrt(j.px**2+j.py**2), reverse=True)                                            \n",
    "              \n",
    "        # Compute MET\n",
    "#         MET = np.sqrt((med[0].px)**2 + (med[0].py)**2)\n",
    "        MET = np.sqrt((dm[0].px+dm[1].px)**2 + (dm[0].py+dm[1].py)**2)\n",
    "        \n",
    "        # Compute deltaPhi\n",
    "#         if len(jetList) > 0:\n",
    "#             phij1 = np.arctan2(jetList[0].py,jetList[0].px)\n",
    "# #             phiMET = np.arctan2((med[0].py),(med[0].px))\n",
    "#             phiMET = np.arctan2((dm[0].py+dm[1].py),(dm[0].px+dm[1].px))\n",
    "#             deltaPhi = np.abs(phij1-phiMET)\n",
    "#         else:\n",
    "#             deltaPhi = 0.0\n",
    "        \n",
    "#         #Apply cuts:\n",
    "#         if len(electronList) > 0:\n",
    "#             continue\n",
    "#         if len(muonList) > 0:\n",
    "#             continue\n",
    "        if len(jetList) == 0:\n",
    "            continue\n",
    "        \n",
    "        pT1 = np.sqrt(jetList[0].px**2+jetList[0].py**2)\n",
    "#         if MET < minMET:\n",
    "#             continue\n",
    "#         if pT1 < pTj1min:\n",
    "#             continue\n",
    "#         if deltaPhi < 0.5:\n",
    "#             continue\n",
    "        \n",
    "        # Store relevant data        \n",
    "        njets[label] = np.append(njets[label],len(jets))\n",
    "        pTj1[label] = np.append(pTj1[label],pT1)\n",
    "        weights[label] = np.append(weights[label],weight)\n",
    "        met[label] = np.append(met[label],MET)\n",
    "        "
   ]
  },
  {
   "cell_type": "code",
   "execution_count": 10,
   "id": "cc4424f6",
   "metadata": {
    "ExecuteTime": {
     "end_time": "2023-09-01T18:46:07.942661Z",
     "start_time": "2023-09-01T18:46:07.830934Z"
    }
   },
   "outputs": [
    {
     "data": {
      "text/plain": [
       "{'zp_dm': array([1644.4273413 ,   61.32129338,   30.39104592, ...,   30.96937436,\n",
       "          44.37593887,   50.07210884]),\n",
       " 'mixed_couplings': array([164.51961341,  43.10385948,  30.12892164, ...,  85.46420762,\n",
       "        441.93832246,  47.58396681])}"
      ]
     },
     "execution_count": 10,
     "metadata": {},
     "output_type": "execute_result"
    }
   ],
   "source": [
    "met"
   ]
  },
  {
   "cell_type": "code",
   "execution_count": 11,
   "id": "46ce1325",
   "metadata": {
    "ExecuteTime": {
     "end_time": "2023-09-01T18:46:12.457886Z",
     "start_time": "2023-09-01T18:46:12.351132Z"
    }
   },
   "outputs": [],
   "source": [
    "# for label in weights:\n",
    "#     frac = np.array(len(negweight[label]))/nevents[label]*100\n",
    "#     print(label, 'Fraction of negative events: %1.2f%%' \n",
    "#           %frac)"
   ]
  },
  {
   "cell_type": "code",
   "execution_count": 12,
   "id": "a4b8dae8",
   "metadata": {
    "ExecuteTime": {
     "end_time": "2023-09-01T18:46:12.945536Z",
     "start_time": "2023-09-01T18:46:12.834783Z"
    }
   },
   "outputs": [
    {
     "name": "stdout",
     "output_type": "stream",
     "text": [
      "87019\n",
      "43627\n"
     ]
    }
   ],
   "source": [
    "for label, w in weights.items():\n",
    "    print(len(weights[label]))"
   ]
  },
  {
   "cell_type": "code",
   "execution_count": 13,
   "id": "0466e8d0",
   "metadata": {
    "ExecuteTime": {
     "end_time": "2023-09-01T18:46:15.130198Z",
     "start_time": "2023-09-01T18:46:15.016383Z"
    }
   },
   "outputs": [
    {
     "data": {
      "text/plain": [
       "{'zp_dm': 100000, 'mixed_couplings': 50000}"
      ]
     },
     "execution_count": 13,
     "metadata": {},
     "output_type": "execute_result"
    }
   ],
   "source": [
    "nevents"
   ]
  },
  {
   "cell_type": "code",
   "execution_count": 14,
   "id": "db317cc7",
   "metadata": {
    "ExecuteTime": {
     "end_time": "2023-09-01T18:46:18.141557Z",
     "start_time": "2023-09-01T18:46:18.031570Z"
    },
    "scrolled": true
   },
   "outputs": [
    {
     "name": "stdout",
     "output_type": "stream",
     "text": [
      "zp_dm total cross-section = 8.892e-02 pb\n",
      "mixed_couplings total cross-section = 2.485e-01 pb\n"
     ]
    }
   ],
   "source": [
    "for label,w in totalweight.items():\n",
    "    print(label,'total cross-section = %1.3e pb' %w)\n",
    "colors = {label : sns.color_palette('deep', n_colors=16)[i] for i,label in enumerate(weights.keys())}    "
   ]
  },
  {
   "cell_type": "code",
   "execution_count": 15,
   "id": "bff53e45",
   "metadata": {
    "ExecuteTime": {
     "end_time": "2023-09-01T18:46:22.622204Z",
     "start_time": "2023-09-01T18:46:21.212569Z"
    }
   },
   "outputs": [
    {
     "data": {
      "image/png": "[encoded data removed]",
      "text/plain": [
       "<Figure size 1000x600 with 1 Axes>"
      ]
     },
     "metadata": {},
     "output_type": "display_data"
    }
   ],
   "source": [
    "fig = plt.figure(figsize=(10,6))\n",
    "for label,pt in pTj1.items():\n",
    "#     if label in ['scalar_run03']:\n",
    "    binc,binEdges,patches = plt.hist(pt,bins=np.linspace(0,5000,101),\n",
    "                               label=label,histtype='step',color=colors[label],\n",
    "                               weights=weights[label],linewidth=2, density=False)\n",
    "    errorc2,_ = np.histogram(pt,bins=binEdges,weights=weights[label]**2)\n",
    "    errorc = np.sqrt(errorc2)\n",
    "    binCenter = (binEdges[0:-1]+binEdges[1:])/2.\n",
    "    plt.errorbar(binCenter,binc,yerr = errorc, marker = '.', \n",
    "                 drawstyle = 'steps-mid',color=colors[label])\n",
    "\n",
    "    \n",
    "plt.yscale('log')\n",
    "# plt.ylim(1e-9,1e-3)\n",
    "plt.xlabel(r'$p_T(j_1)$ (GeV)')\n",
    "plt.ylabel(r'$\\frac{d\\sigma}{dp_{T}}$ (pb)')\n",
    "plt.xlim(200,2000)\n",
    "plt.legend(loc='upper right', fontsize='x-small')\n",
    "plt.show()"
   ]
  },
  {
   "cell_type": "code",
   "execution_count": 20,
   "id": "06b974bc",
   "metadata": {
    "ExecuteTime": {
     "end_time": "2023-09-01T18:48:19.024170Z",
     "start_time": "2023-09-01T18:48:17.515865Z"
    },
    "scrolled": false
   },
   "outputs": [
    {
     "name": "stderr",
     "output_type": "stream",
     "text": [
      "/tmp/ipykernel_216314/3970978218.py:33: RuntimeWarning: divide by zero encountered in divide\n",
      "  ratio = (1/k)*bincSc/bincPs\n",
      "/tmp/ipykernel_216314/3970978218.py:33: RuntimeWarning: invalid value encountered in divide\n",
      "  ratio = (1/k)*bincSc/bincPs\n",
      "/tmp/ipykernel_216314/3970978218.py:34: RuntimeWarning: invalid value encountered in multiply\n",
      "  ratioErr = np.sqrt(errorSc**2 + ratio**2 * errorPs**2)/bincPs\n"
     ]
    },
    {
     "data": {
      "image/png": "[encoded data removed]",
      "text/plain": [
       "<Figure size 1000x800 with 2 Axes>"
      ]
     },
     "metadata": {},
     "output_type": "display_data"
    }
   ],
   "source": [
    "figs, ax = plt.subplots(2,sharex=True, gridspec_kw = {'height_ratios':[2.2, 1]},figsize=(10,8))\n",
    "plt.subplots_adjust(left=0.12, bottom=0.12, right=0.97, top=None, wspace=None, hspace=0.1)\n",
    "\n",
    "# k=1\n",
    "k = totalweight['zp_dm']/totalweight['mixed_couplings']\n",
    "\n",
    "for label,metPts in met.items():\n",
    "    if label in ['zp_dm']:\n",
    "        bincSc,binEdges,patches = ax[0].hist(metPts,bins=np.linspace(0,5000,101),\n",
    "                                        label=r'pure %s couplings' %(label.split('_')[1]),\n",
    "                                         histtype='step',color=colors[label],\n",
    "                                         weights=weights[label],linewidth=2)\n",
    "        binCenter = (binEdges[0:-1]+binEdges[1:])/2.\n",
    "        errorSc2, _ = np.histogram(metPts,bins=binEdges,weights=weights[label]**2)\n",
    "        errorSc = np.sqrt(errorSc2)\n",
    "        errorSc[errorSc<0] = 0\n",
    "        ax[0].errorbar(binCenter,bincSc,yerr = errorSc, marker = '.', drawstyle = 'steps-mid',color=colors[label])\n",
    "\n",
    "    \n",
    "    if label in ['mixed_couplings']:\n",
    "        bincPs,binEdges,patches = ax[0].hist(metPts,bins=np.linspace(0,5000,101),\n",
    "                                        label=r'%s couplings' %(label.split('_')[0]),\n",
    "                                         histtype='step',color=colors[label],\n",
    "                                         weights=weights[label],linewidth=2)\n",
    "        errorPs2, _ = np.histogram(metPts,bins=binEdges,weights=weights[label]**2)\n",
    "        errorPs = np.sqrt(errorPs2)\n",
    "        errorPs[errorPs<0] = 0\n",
    "        \n",
    "        ax[0].errorbar(binCenter,bincPs,yerr = errorPs, marker = '.', drawstyle = 'steps-mid',color=colors[label])\n",
    "\n",
    "        \n",
    "# k = 1.0\n",
    "ratio = (1/k)*bincSc/bincPs\n",
    "ratioErr = np.sqrt(errorSc**2 + ratio**2 * errorPs**2)/bincPs\n",
    "binCenter = (binEdges[0:-1]+binEdges[1:])/2.\n",
    "errorh = (np.diff(binEdges+[2000.])/2).tolist()\n",
    "\n",
    "ax[1].scatter(binCenter, ratio, marker='.')\n",
    "ax[1].errorbar(binCenter,ratio,xerr = errorh, yerr = ratioErr, fmt='.', color=colors['zp_dm'])\n",
    "ax[1].hlines(y=1, xmin=0, xmax=2000., linestyle='--', color='gray', linewidth=0.7)\n",
    "ax[1].hlines(y=1.2, xmin=0, xmax=2000., linestyle='--', color='gray', linewidth=0.3)\n",
    "ax[1].hlines(y=0.8, xmin=0, xmax=2000., linestyle='--', color='gray', linewidth=0.3)\n",
    "\n",
    "        \n",
    "ax[0].set_yscale('log')\n",
    "# ax[0].set_ylim(6e-8,2e-2)\n",
    "ax[0].set_ylabel(r'$\\frac{d\\sigma}{d p_T^{miss}}$ (pb) (Normalized)')\n",
    "ax[0].set_xlim(0,1400)\n",
    "ax[0].legend(loc='lower left')\n",
    "ax[0].set_title(r'Mediator missing energy distribution for $m_{med} = 1$ TeV')\n",
    "\n",
    "\n",
    "ax[1].set_ylim(0.5,1.5)\n",
    "ax[1].set_xlabel(r'$p_T^{miss}$ (GeV)')\n",
    "\n",
    "# plt.savefig('plot-s-ps-bias.png')\n",
    "plt.show()"
   ]
  },
  {
   "cell_type": "code",
   "execution_count": null,
   "id": "0ffbbd7c",
   "metadata": {},
   "outputs": [],
   "source": []
  }
 ],
 "metadata": {
  "kernelspec": {
   "display_name": "Python 3 (ipykernel)",
   "language": "python",
   "name": "python3"
  },
  "language_info": {
   "codemirror_mode": {
    "name": "ipython",
    "version": 3
   },
   "file_extension": ".py",
   "mimetype": "text/x-python",
   "name": "python",
   "nbconvert_exporter": "python",
   "pygments_lexer": "ipython3",
   "version": "3.10.12"
  }
 },
 "nbformat": 4,
 "nbformat_minor": 5
}
