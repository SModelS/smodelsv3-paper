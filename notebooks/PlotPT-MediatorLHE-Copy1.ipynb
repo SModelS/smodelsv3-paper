{
 "cells": [
  {
   "cell_type": "code",
   "execution_count": 1,
   "id": "b83cc91d",
   "metadata": {
    "ExecuteTime": {
     "end_time": "2023-09-05T00:08:56.126336Z",
     "start_time": "2023-09-05T00:08:54.192577Z"
    }
   },
   "outputs": [
    {
     "name": "stdout",
     "output_type": "stream",
     "text": [
      "Welcome to JupyROOT 6.26/10\n"
     ]
    }
   ],
   "source": [
    "import sys,os,glob,copy\n",
    "sys.path.append('../')\n",
    "import numpy as np\n",
    "from numpy.linalg import norm\n",
    "import pandas as pd\n",
    "from matplotlib import pyplot as plt\n",
    "import seaborn as sns\n",
    "from scipy.interpolate import LinearNDInterpolator,interp2d\n",
    "import scipy\n",
    "import matplotlib as mpl\n",
    "from matplotlib.colors import LogNorm\n",
    "from IPython.display import display, Markdown\n",
    "from collections import OrderedDict\n",
    "import pylhe\n",
    "import glob\n",
    "import pyslha\n",
    "import ROOT\n",
    "import xml.etree.ElementTree as ET\n",
    "\n",
    "\n",
    "plt.rcParams.update({\n",
    "    \"text.usetex\": True,\n",
    "    \"font.family\": \"sans-serif\",\n",
    "    \"font.sans-serif\": [\"Helvetica\"]})\n",
    "\n",
    "plt.rcParams.update({\"savefig.dpi\" : 300}) #Figure resolution\n",
    "\n",
    "\n",
    "#Define plotting style:\n",
    "sns.set() #Set style\n",
    "sns.set_style('ticks',{'font.family':'Times New Roman', 'font.serif':'Times New Roman'})\n",
    "sns.set_context('paper', font_scale=1.8)\n",
    "cm = plt.cm.get_cmap('RdYlBu')"
   ]
  },
  {
   "cell_type": "code",
   "execution_count": 2,
   "id": "7b0692f2",
   "metadata": {
    "ExecuteTime": {
     "end_time": "2023-09-05T00:08:56.234291Z",
     "start_time": "2023-09-05T00:08:56.128283Z"
    }
   },
   "outputs": [],
   "source": [
    "def readNumEvents(file):\n",
    "    \"\"\"\n",
    "    Moderately efficent way to get the number of events stored in file.\n",
    "    \"\"\"\n",
    "    \n",
    "    with pylhe._extract_fileobj(file) as fileobj:\n",
    "        nevts = sum(element.tag == \"event\" for event, element in ET.iterparse(fileobj, events=[\"end\"]))\n",
    "    return nevts"
   ]
  },
  {
   "cell_type": "code",
   "execution_count": 3,
   "id": "22d678c9",
   "metadata": {
    "ExecuteTime": {
     "end_time": "2023-09-05T00:08:56.898445Z",
     "start_time": "2023-09-05T00:08:56.235636Z"
    }
   },
   "outputs": [],
   "source": [
    "# inputFiles = {'zp_dm': '/home/camila/MG5/2mdm_spin1/Events/run_01/unweighted_events.lhe.gz',\n",
    "#               'mixed_couplings': '/home/camila/MG5/dmsimp_test4/Events/run_03/unweighted_events.lhe.gz'\n",
    "#               }\n",
    "\n",
    "inputFiles = {'zp_dm': '/home/camila/MG5/2mdm_spin1_add/Events/run_05/unweighted_events.lhe.gz',\n",
    "              'h2_dm': '/home/camila/MG5/2mdm_spin0/Events/run_05/unweighted_events.lhe.gz'\n",
    "              }\n",
    "\n",
    "cmsData = pd.read_pickle('../data/DMsimp_spin-1_Monojet_DF.pcl')\n",
    "cmsData.rename(columns = {'$m_{med}$':'$M_{med}$', '$m_{DM}$':'$m_{\\chi}$', '$g_{DM}$':'$g_{\\chi}$'}, \n",
    "                inplace=True)"
   ]
  },
  {
   "cell_type": "code",
   "execution_count": 4,
   "id": "4b4c17b7",
   "metadata": {
    "ExecuteTime": {
     "end_time": "2023-09-05T00:09:00.432757Z",
     "start_time": "2023-09-05T00:08:56.909705Z"
    }
   },
   "outputs": [],
   "source": [
    "events = {}\n",
    "nevents = {}\n",
    "for label,f in inputFiles.items():   \n",
    "    events[label] = pylhe.read_lhe_with_attributes(f)\n",
    "    nevents[label] = readNumEvents(f)\n"
   ]
  },
  {
   "cell_type": "code",
   "execution_count": 5,
   "id": "e0bddf06",
   "metadata": {
    "ExecuteTime": {
     "end_time": "2023-09-05T00:09:00.555931Z",
     "start_time": "2023-09-05T00:09:00.436681Z"
    }
   },
   "outputs": [
    {
     "name": "stdout",
     "output_type": "stream",
     "text": [
      "zp_dm : mZp = 2000.00 GeV, mH2 = 150.00 GeV, mDM = 65.00 GeV\n",
      "h2_dm : mZp = 2000.00 GeV, mH2 = 150.00 GeV, mDM = 65.00 GeV\n"
     ]
    }
   ],
   "source": [
    "parameters = {}\n",
    "for label,file in inputFiles.items():\n",
    "    banner = sorted(glob.glob(os.path.dirname(file)+'/*banner.txt'),key=os.path.getmtime,reverse=True)\n",
    "    if len(banner) == 0:\n",
    "        print('Banner not found for %s' %label)\n",
    "    elif len(banner) > 1:        \n",
    "        print('\\n%i banner files found for %s. Using %s' \n",
    "              %(len(banner),label,os.path.basename(banner[0])))\n",
    "    banner = banner[0]\n",
    "    xtree = ET.parse(banner)\n",
    "    xroot = xtree.getroot()\n",
    "    slha = xroot.find('header').find('slha').text\n",
    "    pars = pyslha.readSLHA(slha)\n",
    "    \n",
    "    \n",
    "    if 9900032 in pars.blocks['MASS']:\n",
    "        model = '2mdm'        \n",
    "        mZp = pars.blocks['MASS'][9900032] # Z prime mass\n",
    "        \n",
    "    elif 55 in pars.blocks['MASS']:\n",
    "        model = 'dmsimp'\n",
    "        mZp = pars.blocks['MASS'][55] # Z prime mass\n",
    "        \n",
    "    \n",
    "    if model == '2mdm':\n",
    "        mH2 = pars.blocks['BLINPUTS'][2] # dark Higgs mass\n",
    "        mChi = pars.blocks['MASS'][9000006] # DM mass\n",
    "        sTheta = pars.blocks['BLINPUTS'][3] # sin theta\n",
    "        gchi = pars.blocks['ZPRIME'][1] # coupling of mediators to DM\n",
    "        gq = pars.blocks['ZPRIME'][2] # coupling of mediators to SM\n",
    "    elif model == 'dmsimp':\n",
    "        mH2 = np.nan # dark Higgs mass\n",
    "        mChi = pars.blocks['MASS'][52] # DM mass\n",
    "        sTheta = 0\n",
    "        gchi = pars.blocks['DMINPUTS'][3] # coupling of mediators to DM\n",
    "        gq = pars.blocks['DMINPUTS'][6] # coupling of mediators to SM  \n",
    "        \n",
    "\n",
    "    \n",
    "        \n",
    "    parameters[label] = {'mZp' : mZp, 'mDM' : mChi, 'mH2' : mH2,\n",
    "                         'gq' : gq, 'sTheta' : sTheta, 'gx' : gchi}\n",
    "    print(label,': mZp = %1.2f GeV, mH2 = %1.2f GeV, mDM = %1.2f GeV' %(mZp,mH2,mChi))"
   ]
  },
  {
   "cell_type": "code",
   "execution_count": 6,
   "id": "c78cedbe",
   "metadata": {
    "ExecuteTime": {
     "end_time": "2023-09-05T00:09:01.043534Z",
     "start_time": "2023-09-05T00:09:00.557657Z"
    }
   },
   "outputs": [],
   "source": [
    "## jets\n",
    "pTj1min = 100.\n",
    "pTjmin = 20.\n",
    "etamax = 2.4\n",
    "## MET\n",
    "minMET = 250."
   ]
  },
  {
   "cell_type": "code",
   "execution_count": 7,
   "id": "33dc7a3b",
   "metadata": {
    "ExecuteTime": {
     "end_time": "2023-09-05T00:09:12.711615Z",
     "start_time": "2023-09-05T00:09:01.048540Z"
    }
   },
   "outputs": [],
   "source": [
    "pTj1 = {label : np.array([]) for label in inputFiles}\n",
    "weights = {label : np.array([]) for label in inputFiles}\n",
    "met = {label : np.array([]) for label in inputFiles}\n",
    "njets = {label : np.array([]) for label in inputFiles}\n",
    "totalweight = {label : 0 for label in inputFiles}\n",
    "negweight = {label : np.array([]) for label in inputFiles}\n",
    "\n",
    "for label,evts in events.items():\n",
    "   \n",
    "    nevts = nevents[label]\n",
    "    parameters[label]['Events'] = nevts\n",
    "    \n",
    "    for event in evts:\n",
    "\n",
    "        particles = event.particles\n",
    "       \n",
    "        jets = [p for p in particles if abs(p.id) in [1,2,3,4,5,21] and p.status == 1]\n",
    "        dm = [p for p in particles if abs(p.id) in [9000006, 52] and p.status == 1]\n",
    "        \n",
    "        if len(dm) != 2:\n",
    "            continue\n",
    "            \n",
    "        weight = event.eventinfo.weight/nevts\n",
    "            \n",
    "        if weight < 0:\n",
    "            negw = weight\n",
    "            negweight[label] += negw\n",
    "            negweight[label] = np.append(negweight[label], negw)\n",
    "            continue\n",
    "            \n",
    "        totalweight[label] += weight\n",
    "            \n",
    "        # Filter jets\n",
    "        jetList = []\n",
    "        for j in jets:\n",
    "            pT = np.sqrt(j.px**2+j.py**2)\n",
    "            p = np.sqrt(j.px**2+j.py**2+j.pz**2)\n",
    "            pL = j.pz\n",
    "            eta = 0.5*np.log((p+pL)/(p-pL))\n",
    "            \n",
    "            if pT < pTjmin:\n",
    "                continue\n",
    "            if np.abs(eta) > etamax:\n",
    "                continue\n",
    "            jetList.append(j)\n",
    "        jetList = sorted(jetList, key = lambda j: np.sqrt(j.px**2+j.py**2), reverse=True)          \n",
    "\n",
    "        # Compute MET\n",
    "        MET = np.sqrt((dm[0].px+dm[1].px)**2 + (dm[0].py+dm[1].py)**2)\n",
    "        \n",
    "        if len(jetList) == 0:\n",
    "            continue\n",
    "        \n",
    "        pT1 = np.sqrt(jetList[0].px**2+jetList[0].py**2)\n",
    "        if MET < minMET:\n",
    "            continue\n",
    "        if pT1 < pTj1min:\n",
    "            continue\n",
    "#         if deltaPhi < 0.5:\n",
    "#             continue\n",
    "        \n",
    "        # Store relevant data        \n",
    "        njets[label] = np.append(njets[label],len(jets))\n",
    "        pTj1[label] = np.append(pTj1[label],pT1)\n",
    "        weights[label] = np.append(weights[label],weight)\n",
    "        met[label] = np.append(met[label],MET)\n",
    "        "
   ]
  },
  {
   "cell_type": "code",
   "execution_count": 8,
   "id": "46ce1325",
   "metadata": {
    "ExecuteTime": {
     "end_time": "2023-09-05T00:09:12.817966Z",
     "start_time": "2023-09-05T00:09:12.713402Z"
    }
   },
   "outputs": [
    {
     "name": "stdout",
     "output_type": "stream",
     "text": [
      "zp_dm Fraction of negative events: 1.36%\n",
      "h2_dm Fraction of negative events: 0.08%\n"
     ]
    }
   ],
   "source": [
    "for label in weights:\n",
    "    frac = np.array(len(negweight[label]))/nevents[label]*100\n",
    "    print(label, 'Fraction of negative events: %1.2f%%' \n",
    "          %frac)"
   ]
  },
  {
   "cell_type": "code",
   "execution_count": 9,
   "id": "db317cc7",
   "metadata": {
    "ExecuteTime": {
     "end_time": "2023-09-05T00:09:13.250367Z",
     "start_time": "2023-09-05T00:09:12.819817Z"
    },
    "scrolled": true
   },
   "outputs": [
    {
     "name": "stdout",
     "output_type": "stream",
     "text": [
      "zp_dm total cross-section = 1.668e-01 pb\n",
      "h2_dm total cross-section = 2.512e-03 pb\n"
     ]
    }
   ],
   "source": [
    "for label,w in totalweight.items():\n",
    "    print(label,'total cross-section = %1.3e pb' %w)\n",
    "colors = {label : sns.color_palette('deep', n_colors=16)[i] for i,label in enumerate(weights.keys())}    "
   ]
  },
  {
   "cell_type": "code",
   "execution_count": 10,
   "id": "dc75ccb3",
   "metadata": {
    "ExecuteTime": {
     "end_time": "2023-09-05T00:09:13.456146Z",
     "start_time": "2023-09-05T00:09:13.258384Z"
    }
   },
   "outputs": [],
   "source": [
    "## Filter CMS data\n",
    "\n",
    "modelFilter = { \n",
    " 'Mode' : 'DM+QCDjets', \n",
    " 'Coupling' : 'Axial',\n",
    " '$M_{med}$' : 2000.0,\n",
    " '$m_{\\chi}$' : 1.0,\n",
    " '$g_{\\chi}$' : 1.0,\n",
    " '$g_{q}$' : 0.25}\n",
    "\n",
    "\n",
    "textstr = '\\n'.join([r'%s = %s' %(k,v) for k,v in modelFilter.items()])\n",
    "dfModel = cmsData.loc[(cmsData[list(modelFilter)] == pd.Series(modelFilter)).all(axis=1)]\n",
    "dfModel = dfModel[dfModel['Data-takingperiod'] == 2017]"
   ]
  },
  {
   "cell_type": "code",
   "execution_count": 11,
   "id": "7fb2ff37",
   "metadata": {
    "ExecuteTime": {
     "end_time": "2023-09-05T00:09:13.654443Z",
     "start_time": "2023-09-05T00:09:13.460444Z"
    }
   },
   "outputs": [],
   "source": [
    "# Auxiliar function for plotting\n",
    "def getBins(dfModel,rightBin = 1400.):\n",
    "    \n",
    "    bins = {c : eval(c.split('_')[1]) for c in dfModel.columns if (\"bin_\" in c and not 'Error' in c)}\n",
    "    binsError = {c : eval(c.split('_')[1]) for c in dfModel.columns if (\"bin_\" in c and 'ErrorPlus' in c)}    \n",
    "    binCenter = (np.array(list(bins.values()))+np.diff(list(bins.values())+[rightBin])/2).tolist()    \n",
    "    binLeft = [bins[c] for c in bins]+[rightBin] \n",
    "    \n",
    "    return bins,binsError,binCenter,binLeft\n",
    "\n",
    "def getMETbins(dfSingle,bins,binsError):\n",
    "\n",
    "    data = {c : dfSingle[c].iloc[0] for c in bins}\n",
    "    dataError = {c : dfSingle[c].iloc[0] for c in binsError}\n",
    "\n",
    "    return data,dataError\n"
   ]
  },
  {
   "cell_type": "code",
   "execution_count": 12,
   "id": "4f5785ac",
   "metadata": {
    "ExecuteTime": {
     "end_time": "2023-09-05T00:09:13.877048Z",
     "start_time": "2023-09-05T00:09:13.658407Z"
    }
   },
   "outputs": [],
   "source": [
    "bins,binsError,binCenter,binLeft = getBins(dfModel)\n",
    "data, dataError = getMETbins(dfModel,bins,binsError)\n",
    "ptCMS = np.array([data[c] for c in bins])"
   ]
  },
  {
   "cell_type": "code",
   "execution_count": 13,
   "id": "3783d5c2",
   "metadata": {
    "ExecuteTime": {
     "end_time": "2023-09-05T00:09:14.077158Z",
     "start_time": "2023-09-05T00:09:13.881690Z"
    }
   },
   "outputs": [],
   "source": [
    "lum2017 = 41.5 #fb^-1\n",
    "binned = {}\n",
    "for label, pt in pTj1.items():\n",
    "#     binned[label], bins2 = np.histogram(pt, bins=binLeft, weights=weights[label])\n",
    "    binned[label], bins2 = np.histogram(pt, bins=binLeft, weights=weights[label]*1e3*lum2017)"
   ]
  },
  {
   "cell_type": "code",
   "execution_count": 21,
   "id": "8be17dd5",
   "metadata": {
    "ExecuteTime": {
     "end_time": "2023-09-05T17:27:49.193749Z",
     "start_time": "2023-09-05T17:27:49.086805Z"
    }
   },
   "outputs": [],
   "source": [
    "k = ptCMS.sum()/binned['zp_dm'].sum()"
   ]
  },
  {
   "cell_type": "code",
   "execution_count": 22,
   "id": "648eee9a",
   "metadata": {
    "ExecuteTime": {
     "end_time": "2023-09-05T17:27:49.697505Z",
     "start_time": "2023-09-05T17:27:49.590153Z"
    }
   },
   "outputs": [],
   "source": [
    "ptTotal = binned['zp_dm'] + binned['h2_dm']"
   ]
  },
  {
   "cell_type": "code",
   "execution_count": 23,
   "id": "4ca964b5",
   "metadata": {
    "ExecuteTime": {
     "end_time": "2023-09-05T17:27:50.915058Z",
     "start_time": "2023-09-05T17:27:49.795753Z"
    }
   },
   "outputs": [
    {
     "data": {
      "image/png": "[encoded data removed]",
      "text/plain": [
       "<Figure size 1000x600 with 1 Axes>"
      ]
     },
     "metadata": {},
     "output_type": "display_data"
    }
   ],
   "source": [
    "fig = plt.figure(figsize=(10,6))\n",
    "\n",
    "plt.hist(binCenter, bins=binLeft, weights=k*ptTotal, stacked=True, label='h2_dm')\n",
    "# plt.hist(binCenter, bins=binLeft, weights=binned['h2_dm'], stacked=True, label='h2_dm')\n",
    "plt.hist(binCenter, bins=binLeft, weights=k*binned['zp_dm'], stacked=True, label='zp_dm')\n",
    " \n",
    "plt.scatter(x=binCenter, y=ptCMS, s=30, color='black', label='CMS')\n",
    "    \n",
    "plt.yscale('log')\n",
    "plt.ylim(1e0,4e2)\n",
    "plt.xlabel(r'$p_T(j_1)$ (GeV)')\n",
    "plt.ylabel(r'Events')\n",
    "plt.xlim(250,1400)\n",
    "plt.legend(loc='upper right', fontsize='x-small')\n",
    "plt.show()"
   ]
  },
  {
   "cell_type": "code",
   "execution_count": 24,
   "id": "65fef029",
   "metadata": {
    "ExecuteTime": {
     "end_time": "2023-09-05T17:29:15.488661Z",
     "start_time": "2023-09-05T17:29:15.374684Z"
    }
   },
   "outputs": [
    {
     "data": {
      "text/plain": [
       "[265.0,\n",
       " 295.0,\n",
       " 325.0,\n",
       " 355.0,\n",
       " 385.0,\n",
       " 415.0,\n",
       " 450.0,\n",
       " 490.0,\n",
       " 530.0,\n",
       " 570.0,\n",
       " 615.0,\n",
       " 665.0,\n",
       " 715.0,\n",
       " 765.0,\n",
       " 815.0,\n",
       " 870.0,\n",
       " 930.0,\n",
       " 990.0,\n",
       " 1055.0,\n",
       " 1125.0,\n",
       " 1205.0,\n",
       " 1325.0]"
      ]
     },
     "execution_count": 24,
     "metadata": {},
     "output_type": "execute_result"
    }
   ],
   "source": [
    "binCenter"
   ]
  },
  {
   "cell_type": "code",
   "execution_count": null,
   "id": "ca92b111",
   "metadata": {},
   "outputs": [],
   "source": []
  }
 ],
 "metadata": {
  "kernelspec": {
   "display_name": "Python 3 (ipykernel)",
   "language": "python",
   "name": "python3"
  },
  "language_info": {
   "codemirror_mode": {
    "name": "ipython",
    "version": 3
   },
   "file_extension": ".py",
   "mimetype": "text/x-python",
   "name": "python",
   "nbconvert_exporter": "python",
   "pygments_lexer": "ipython3",
   "version": "3.10.12"
  }
 },
 "nbformat": 4,
 "nbformat_minor": 5
}
