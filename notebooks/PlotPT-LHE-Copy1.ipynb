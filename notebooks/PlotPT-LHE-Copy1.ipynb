{
 "cells": [
  {
   "cell_type": "code",
   "execution_count": 1,
   "id": "b83cc91d",
   "metadata": {
    "ExecuteTime": {
     "end_time": "2023-09-21T13:16:39.525247Z",
     "start_time": "2023-09-21T13:16:37.527495Z"
    }
   },
   "outputs": [
    {
     "name": "stdout",
     "output_type": "stream",
     "text": [
      "Welcome to JupyROOT 6.26/10\n"
     ]
    }
   ],
   "source": [
    "import sys,os,glob,copy\n",
    "sys.path.append('../')\n",
    "import numpy as np\n",
    "from numpy.linalg import norm\n",
    "import pandas as pd\n",
    "from matplotlib import pyplot as plt\n",
    "import seaborn as sns\n",
    "from scipy.interpolate import LinearNDInterpolator,interp2d\n",
    "import scipy\n",
    "import matplotlib as mpl\n",
    "from matplotlib.colors import LogNorm\n",
    "from IPython.display import display, Markdown\n",
    "from collections import OrderedDict\n",
    "import pylhe\n",
    "import glob\n",
    "import pyslha\n",
    "import ROOT\n",
    "import xml.etree.ElementTree as ET\n",
    "\n",
    "\n",
    "plt.rcParams.update({\n",
    "    \"text.usetex\": True,\n",
    "    \"font.family\": \"sans-serif\",\n",
    "    \"font.sans-serif\": [\"Helvetica\"]})\n",
    "\n",
    "plt.rcParams.update({\"savefig.dpi\" : 300}) #Figure resolution\n",
    "\n",
    "\n",
    "#Define plotting style:\n",
    "sns.set() #Set style\n",
    "sns.set_style('ticks',{'font.family':'Times New Roman', 'font.serif':'Times New Roman'})\n",
    "sns.set_context('paper', font_scale=1.8)\n",
    "cm = plt.cm.get_cmap('RdYlBu')"
   ]
  },
  {
   "cell_type": "code",
   "execution_count": 2,
   "id": "7b0692f2",
   "metadata": {
    "ExecuteTime": {
     "end_time": "2023-09-21T13:16:39.633115Z",
     "start_time": "2023-09-21T13:16:39.526603Z"
    }
   },
   "outputs": [],
   "source": [
    "def readNumEvents(file):\n",
    "    \"\"\"\n",
    "    Moderately efficent way to get the number of events stored in file.\n",
    "    \"\"\"\n",
    "    \n",
    "    with pylhe._extract_fileobj(file) as fileobj:\n",
    "        nevts = sum(element.tag == \"event\" for event, element in ET.iterparse(fileobj, events=[\"end\"]))\n",
    "    return nevts"
   ]
  },
  {
   "cell_type": "code",
   "execution_count": 3,
   "id": "22d678c9",
   "metadata": {
    "ExecuteTime": {
     "end_time": "2023-09-21T13:16:40.133594Z",
     "start_time": "2023-09-21T13:16:39.645296Z"
    }
   },
   "outputs": [],
   "source": [
    "# inputFiles = {'zp_dm': '/home/camila/MG5/2mdm_spin1/Events/run_01/unweighted_events.lhe.gz',\n",
    "#               'mixed_couplings': '/home/camila/MG5/dmsimp_test4/Events/run_03/unweighted_events.lhe.gz'\n",
    "#               }\n",
    "\n",
    "inputFiles = {'sd_dm': '/home/camila/MG5/2mdm_spin0_sd/Events/run_06/unweighted_events.lhe.gz',\n",
    "              'zp_dm': '/home/camila/MG5/2mdm_spin1_zp/Events/run_05/unweighted_events.lhe.gz'\n",
    "              }\n",
    "\n",
    "\n",
    "# inputFiles = {'zp_prod': '/home/camila/MG5/2mdm_nlo_spin1_zp/Events/run_05/unweighted_events.lhe.gz',\n",
    "#               'sd_prod': '/home/camila/MG5/2mdm_nlo_spin0_sd/Events/run_02/unweighted_events.lhe.gz'\n",
    "#               }\n",
    "\n",
    "cmsData = pd.read_pickle('../data/Data_CMS.pcl')"
   ]
  },
  {
   "cell_type": "code",
   "execution_count": 4,
   "id": "4b4c17b7",
   "metadata": {
    "ExecuteTime": {
     "end_time": "2023-09-21T13:16:42.348850Z",
     "start_time": "2023-09-21T13:16:40.147972Z"
    }
   },
   "outputs": [],
   "source": [
    "events = {}\n",
    "nevents = {}\n",
    "for label,f in inputFiles.items():   \n",
    "    events[label] = pylhe.read_lhe_with_attributes(f)\n",
    "    nevents[label] = readNumEvents(f)\n"
   ]
  },
  {
   "cell_type": "code",
   "execution_count": 5,
   "id": "e0bddf06",
   "metadata": {
    "ExecuteTime": {
     "end_time": "2023-09-21T13:16:42.476569Z",
     "start_time": "2023-09-21T13:16:42.353947Z"
    }
   },
   "outputs": [
    {
     "name": "stdout",
     "output_type": "stream",
     "text": [
      "sd_dm : mZp = 2500.00 GeV, mH2 = 600.00 GeV, mDM = 65.00 GeV\n",
      "zp_dm : mZp = 2000.00 GeV, mH2 = 300.00 GeV, mDM = 65.00 GeV\n"
     ]
    }
   ],
   "source": [
    "parameters = {}\n",
    "for label,file in inputFiles.items():\n",
    "    banner = sorted(glob.glob(os.path.dirname(file)+'/*banner.txt'),key=os.path.getmtime,reverse=True)\n",
    "    if len(banner) == 0:\n",
    "        print('Banner not found for %s' %label)\n",
    "    elif len(banner) > 1:        \n",
    "        print('\\n%i banner files found for %s. Using %s' \n",
    "              %(len(banner),label,os.path.basename(banner[0])))\n",
    "    banner = banner[0]\n",
    "    xtree = ET.parse(banner)\n",
    "    xroot = xtree.getroot()\n",
    "    slha = xroot.find('header').find('slha').text\n",
    "    pars = pyslha.readSLHA(slha)\n",
    "    \n",
    "    \n",
    "    if 9900032 in pars.blocks['MASS']:\n",
    "        model = '2mdm'        \n",
    "        mZp = pars.blocks['MASS'][9900032] # Z prime mass\n",
    "        \n",
    "    elif 55 in pars.blocks['MASS']:\n",
    "        model = 'dmsimp'\n",
    "        mZp = pars.blocks['MASS'][55] # Z prime mass\n",
    "        \n",
    "    \n",
    "    if model == '2mdm':\n",
    "        mS = pars.blocks['BLINPUTS'][2] # dark Higgs (S) mass\n",
    "        mChi = pars.blocks['MASS'][9000006] # DM mass\n",
    "        sTheta = pars.blocks['BLINPUTS'][3] # sin theta\n",
    "        ychi = pars.blocks['FRBLOCK'][1] # coupling of S to DM\n",
    "        gchi = pars.blocks['ZPRIME'][1] # coupling of mediators to DM\n",
    "        gq = pars.blocks['ZPRIME'][2] # coupling of mediators to SM\n",
    "    elif model == 'dmsimp':\n",
    "        mS = np.nan # dark Higgs mass\n",
    "        mChi = pars.blocks['MASS'][52] # DM mass\n",
    "        sTheta = 0\n",
    "        gchi = pars.blocks['DMINPUTS'][2] # coupling of mediators to DM\n",
    "        gq = pars.blocks['DMINPUTS'][6] # coupling of mediators to SM  \n",
    "        \n",
    "\n",
    "    \n",
    "        \n",
    "    parameters[label] = {'mZp' : mZp, 'mDM' : mChi, 'mH2' : mS,\n",
    "                         'gq' : gq, 'sTheta' : sTheta, 'gx' : gchi, 'ychi' : ychi}\n",
    "    print(label,': mZp = %1.2f GeV, mH2 = %1.2f GeV, mDM = %1.2f GeV' %(mZp,mS,mChi))"
   ]
  },
  {
   "cell_type": "code",
   "execution_count": 6,
   "id": "c78cedbe",
   "metadata": {
    "ExecuteTime": {
     "end_time": "2023-09-21T13:16:42.810365Z",
     "start_time": "2023-09-21T13:16:42.479459Z"
    }
   },
   "outputs": [],
   "source": [
    "## jets\n",
    "pTj1min = 100.\n",
    "pTjmin = 20.\n",
    "etamax = 2.4\n",
    "## MET\n",
    "minMET = 250."
   ]
  },
  {
   "cell_type": "code",
   "execution_count": 7,
   "id": "33dc7a3b",
   "metadata": {
    "ExecuteTime": {
     "end_time": "2023-09-21T13:16:52.179906Z",
     "start_time": "2023-09-21T13:16:42.817727Z"
    }
   },
   "outputs": [],
   "source": [
    "pTj1 = {label : np.array([]) for label in inputFiles}\n",
    "weights = {label : np.array([]) for label in inputFiles}\n",
    "met = {label : np.array([]) for label in inputFiles}\n",
    "njets = {label : np.array([]) for label in inputFiles}\n",
    "totalweight = {label : 0 for label in inputFiles}\n",
    "negweight = {label : np.array([]) for label in inputFiles}\n",
    "\n",
    "for label,evts in events.items():\n",
    "   \n",
    "    nevts = nevents[label]\n",
    "    parameters[label]['Events'] = nevts\n",
    "    \n",
    "    for event in evts:\n",
    "\n",
    "        particles = event.particles\n",
    "       \n",
    "        jets = [p for p in particles if abs(p.id) in [1,2,3,4,5,21] and p.status == 1]\n",
    "        dm = [p for p in particles if abs(p.id) in [9000006, 52, 55, 9900026, 9900032] and p.status == 1]\n",
    "        med = [p for p in particles if abs(p.id) in [55, 9900026, 9900032] and p.status == 1]\n",
    "        \n",
    "        if (len(dm) != 2) and (len(med) != 1):\n",
    "            continue\n",
    "            \n",
    "        # Filter jets\n",
    "        jetList = []\n",
    "        for j in jets:\n",
    "            pT = np.sqrt(j.px**2+j.py**2)\n",
    "            p = np.sqrt(j.px**2+j.py**2+j.pz**2)\n",
    "            pL = j.pz\n",
    "            eta = 0.5*np.log((p+pL)/(p-pL))\n",
    "            \n",
    "            if pT < pTjmin:\n",
    "                continue\n",
    "            if np.abs(eta) > etamax:\n",
    "                continue\n",
    "            jetList.append(j)\n",
    "        jetList = sorted(jetList, key = lambda j: np.sqrt(j.px**2+j.py**2), reverse=True)          \n",
    "\n",
    "        # Compute MET\n",
    "        if len(dm) == 2:\n",
    "            MET = np.sqrt((dm[0].px+dm[1].px)**2 + (dm[0].py+dm[1].py)**2)\n",
    "        elif len(med) == 1:\n",
    "            MET = np.sqrt((med[0].px)**2 + (med[0].py)**2)\n",
    "        \n",
    "        if len(jetList) == 0:\n",
    "            continue\n",
    "        \n",
    "        pT1 = np.sqrt(jetList[0].px**2+jetList[0].py**2)\n",
    "        if MET < minMET:\n",
    "            continue\n",
    "        if pT1 < pTj1min:\n",
    "            continue\n",
    "#         if deltaPhi < 0.5:\n",
    "#             continue\n",
    "\n",
    "        weight = event.eventinfo.weight/nevts\n",
    "            \n",
    "        if weight < 0:\n",
    "            negw = weight\n",
    "            negweight[label] += negw\n",
    "            negweight[label] = np.append(negweight[label], negw)\n",
    "            continue\n",
    "            \n",
    "        totalweight[label] += weight\n",
    "        \n",
    "        # Store relevant data        \n",
    "        njets[label] = np.append(njets[label],len(jets))\n",
    "        pTj1[label] = np.append(pTj1[label],pT1)\n",
    "        weights[label] = np.append(weights[label],weight)\n",
    "        met[label] = np.append(met[label],MET)\n",
    "        "
   ]
  },
  {
   "cell_type": "code",
   "execution_count": 8,
   "id": "46ce1325",
   "metadata": {
    "ExecuteTime": {
     "end_time": "2023-09-21T13:16:52.291169Z",
     "start_time": "2023-09-21T13:16:52.185671Z"
    }
   },
   "outputs": [
    {
     "name": "stdout",
     "output_type": "stream",
     "text": [
      "sd_dm Fraction of negative events: 0.10%\n",
      "zp_dm Fraction of negative events: 3.39%\n"
     ]
    }
   ],
   "source": [
    "for label in weights:\n",
    "    frac = np.array(len(negweight[label]))/nevents[label]*100\n",
    "    print(label, 'Fraction of negative events: %1.2f%%' \n",
    "          %frac)"
   ]
  },
  {
   "cell_type": "code",
   "execution_count": 9,
   "id": "db317cc7",
   "metadata": {
    "ExecuteTime": {
     "end_time": "2023-09-21T13:16:52.591081Z",
     "start_time": "2023-09-21T13:16:52.292554Z"
    },
    "scrolled": true
   },
   "outputs": [
    {
     "name": "stdout",
     "output_type": "stream",
     "text": [
      "sd_dm total cross-section = 1.135e-03 pb\n",
      "zp_dm total cross-section = 4.164e-02 pb\n"
     ]
    }
   ],
   "source": [
    "for label,w in totalweight.items():\n",
    "    print(label,'total cross-section = %1.3e pb' %w)\n",
    "colors = {label : sns.color_palette('deep', n_colors=16)[i] for i,label in enumerate(weights.keys())}    "
   ]
  },
  {
   "cell_type": "code",
   "execution_count": 10,
   "id": "dc75ccb3",
   "metadata": {
    "ExecuteTime": {
     "end_time": "2023-09-21T13:16:58.301700Z",
     "start_time": "2023-09-21T13:16:58.185735Z"
    }
   },
   "outputs": [],
   "source": [
    "## Filter CMS data\n",
    "\n",
    "modelFilter = { \n",
    " 'Datasetyear': 2017,\n",
    " 'Region': 'Signal',\n",
    " 'Fit': 'B-only'}\n",
    "\n",
    "\n",
    "dfModel = cmsData.loc[(cmsData[list(modelFilter)] == pd.Series(modelFilter)).all(axis=1)]"
   ]
  },
  {
   "cell_type": "code",
   "execution_count": 11,
   "id": "f3aacf10",
   "metadata": {
    "ExecuteTime": {
     "end_time": "2023-09-21T13:16:58.896149Z",
     "start_time": "2023-09-21T13:16:58.776421Z"
    }
   },
   "outputs": [],
   "source": [
    "totalBG = dfModel[dfModel['Process'] == 'TotalSM']\n",
    "dataCMS = dfModel[dfModel['Process'] == 'Data']"
   ]
  },
  {
   "cell_type": "code",
   "execution_count": 12,
   "id": "7fb2ff37",
   "metadata": {
    "ExecuteTime": {
     "end_time": "2023-09-21T13:16:59.736060Z",
     "start_time": "2023-09-21T13:16:59.623099Z"
    }
   },
   "outputs": [],
   "source": [
    "# Auxiliar function for plotting\n",
    "def getBins(dfModel,rightBin = 1400.):\n",
    "    \n",
    "    bins = {c : eval(c.split('_')[1]) for c in dfModel.columns if (\"bin_\" in c)}    \n",
    "    binCenter = (np.array(list(bins.values()))+np.diff(list(bins.values())+[rightBin])/2).tolist()    \n",
    "    binLeft = [bins[c] for c in bins]+[rightBin] \n",
    "    \n",
    "    return bins,binCenter,binLeft\n",
    "\n",
    "def getMETbins(dfSingle,bins):\n",
    "\n",
    "    data = {c : dfSingle[c].iloc[0] for c in bins}\n",
    "\n",
    "    return data\n"
   ]
  },
  {
   "cell_type": "code",
   "execution_count": 13,
   "id": "4f5785ac",
   "metadata": {
    "ExecuteTime": {
     "end_time": "2023-09-21T13:17:00.300909Z",
     "start_time": "2023-09-21T13:17:00.176760Z"
    }
   },
   "outputs": [],
   "source": [
    "bins,binCenter,binLeft = getBins(dataCMS)\n",
    "data = getMETbins(dataCMS,bins)\n",
    "ptCMS = np.array([data[c] for c in bins])\n",
    "sumBG = getMETbins(totalBG, bins)\n",
    "ptBG = np.array([sumBG[c] for c in bins])"
   ]
  },
  {
   "cell_type": "code",
   "execution_count": 14,
   "id": "3783d5c2",
   "metadata": {
    "ExecuteTime": {
     "end_time": "2023-09-21T13:17:00.780390Z",
     "start_time": "2023-09-21T13:17:00.645190Z"
    }
   },
   "outputs": [],
   "source": [
    "lum2017 = 41.5 #fb^-1\n",
    "binned = {}\n",
    "metBins = [250,  280,  310,  340,  370,  400,  430,  470,  510, 550,  590,  640,  690,  \n",
    "            740,  790,  840,  900,  960, 1020, 1090, 1160, 1250, 99999]\n",
    "for label, pt in pTj1.items():\n",
    "#     binned[label], bins2 = np.histogram(pt, bins=binLeft, weights=weights[label])\n",
    "    binned[label], bins2 = np.histogram(pt, bins=metBins, weights=weights[label]*1e3*lum2017)\n",
    "k=1\n",
    "brZ = 0.639069\n",
    "brS = 0.9018403\n",
    "ptTotal = k*binned['zp_dm'] + k*binned['sd_dm'] + ptBG\n",
    "zp_bg = binned['zp_dm'] + ptBG"
   ]
  },
  {
   "cell_type": "code",
   "execution_count": 15,
   "id": "0171d37e",
   "metadata": {
    "ExecuteTime": {
     "end_time": "2023-09-21T13:17:01.313278Z",
     "start_time": "2023-09-21T13:17:01.197102Z"
    }
   },
   "outputs": [],
   "source": [
    "# legend\n",
    "legend = {\n",
    "          'Coupling' : 'Vector',\n",
    "          '$m_{Z^{\\prime}}$' : 2000.0,\n",
    "          '$m_{s}$' : 300.0,\n",
    "          '$g_{\\chi}$' : 2.0,\n",
    "          '$g_{q}$' : 0.1,\n",
    "          '$y_{\\chi}$' : 1.5,\n",
    "          '$\\sin\\\\alpha$' : 0.2\n",
    "           }\n",
    "textstr = '\\n'.join([r'%s = %s' %(k,v) for k,v in legend.items()])"
   ]
  },
  {
   "cell_type": "code",
   "execution_count": 23,
   "id": "4ca964b5",
   "metadata": {
    "ExecuteTime": {
     "end_time": "2023-09-21T20:22:54.017129Z",
     "start_time": "2023-09-21T20:22:53.584263Z"
    }
   },
   "outputs": [
    {
     "data": {
      "image/png": "[encoded data removed]",
      "text/plain": [
       "<Figure size 1000x600 with 1 Axes>"
      ]
     },
     "metadata": {},
     "output_type": "display_data"
    }
   ],
   "source": [
    "fig = plt.figure(figsize=(10,6))\n",
    "\n",
    "\n",
    "plt.hist(binCenter, bins=metBins, weights=ptTotal, stacked=True, label=r'spin-0 mediator')\n",
    "plt.hist(binCenter, bins=binLeft, weights=zp_bg, stacked=True, label=r'spin-1 mediator')\n",
    "# plt.hist(binCenter, bins=metBins, weights=k*binned['zp_dm']*brZ, stacked=True, \n",
    "#          label=r'spin-1 mediator')\n",
    "plt.hist(binCenter, bins=binLeft, weights=ptBG, stacked=True, label=r'SM brackground')\n",
    "\n",
    " \n",
    "plt.scatter(x=binCenter, y=ptCMS, s=30, color='black', label='data')\n",
    "    \n",
    "plt.yscale('log')\n",
    "# plt.ylim(1e4,1.8e5)\n",
    "plt.xlabel(r'$p^{miss}_T$ (GeV)')\n",
    "plt.ylabel(r'Events')\n",
    "plt.xlim(250,1400)\n",
    "plt.legend(loc='upper right', fontsize='x-small')\n",
    "\n",
    "plt.text(0.76,0.4,textstr,fontsize=15,bbox=dict(facecolor='white', edgecolor='black'),\n",
    "         transform = plt.gca().transAxes)\n",
    "\n",
    "# plt.savefig('../../Pictures/plot-pt.png')\n",
    "plt.show()"
   ]
  },
  {
   "cell_type": "code",
   "execution_count": 17,
   "id": "55eceaad",
   "metadata": {
    "ExecuteTime": {
     "end_time": "2023-09-21T13:17:07.257252Z",
     "start_time": "2023-09-21T13:17:07.143442Z"
    }
   },
   "outputs": [
    {
     "data": {
      "text/plain": [
       "array([1.76130347e+05, 9.60865608e+04, 5.52342987e+04, 3.29846868e+04,\n",
       "       2.03166768e+04, 1.30841065e+04, 1.08616131e+04, 6.59412662e+03,\n",
       "       4.03603075e+03, 2.62452450e+03, 2.01447479e+03, 1.23392041e+03,\n",
       "       7.59064607e+02, 4.89114134e+02, 3.19630079e+02, 2.57251099e+02,\n",
       "       1.63376945e+02, 9.98616349e+01, 7.97058981e+01, 4.13920282e+01,\n",
       "       3.83838557e+01, 5.18220410e+01])"
      ]
     },
     "execution_count": 17,
     "metadata": {},
     "output_type": "execute_result"
    }
   ],
   "source": [
    "ptTotal"
   ]
  },
  {
   "cell_type": "code",
   "execution_count": 18,
   "id": "4bfc38aa",
   "metadata": {
    "ExecuteTime": {
     "end_time": "2023-09-21T13:17:08.873816Z",
     "start_time": "2023-09-21T13:17:08.752453Z"
    }
   },
   "outputs": [
    {
     "data": {
      "text/plain": [
       "array([1.76118181e+05, 9.60772053e+04, 5.52277582e+04, 3.29797321e+04,\n",
       "       2.03131573e+04, 1.30814564e+04, 1.08591120e+04, 6.59240261e+03,\n",
       "       4.03490403e+03, 2.62372785e+03, 2.01383352e+03, 1.23353095e+03,\n",
       "       7.58811618e+02, 4.88946053e+02, 3.19521864e+02, 2.57168739e+02,\n",
       "       1.63322898e+02, 9.98315177e+01, 7.96831993e+01, 4.13779492e+01,\n",
       "       3.83743114e+01, 5.18102193e+01])"
      ]
     },
     "execution_count": 18,
     "metadata": {},
     "output_type": "execute_result"
    }
   ],
   "source": [
    "zp_bg"
   ]
  },
  {
   "cell_type": "code",
   "execution_count": 19,
   "id": "42295302",
   "metadata": {
    "ExecuteTime": {
     "end_time": "2023-09-20T21:33:41.478843Z",
     "start_time": "2023-09-20T21:33:41.365776Z"
    }
   },
   "outputs": [
    {
     "data": {
      "text/plain": [
       "array([1.7582e+05, 9.5834e+04, 5.5032e+04, 3.2818e+04, 2.0181e+04,\n",
       "       1.2977e+04, 1.0744e+04, 6.5019e+03, 3.9628e+03, 2.5677e+03,\n",
       "       1.9601e+03, 1.1892e+03, 7.2499e+02, 4.6213e+02, 2.9984e+02,\n",
       "       2.3814e+02, 1.4867e+02, 8.9222e+01, 6.9676e+01, 3.4467e+01,\n",
       "       3.2310e+01, 3.8836e+01])"
      ]
     },
     "execution_count": 19,
     "metadata": {},
     "output_type": "execute_result"
    }
   ],
   "source": [
    "np.array([sumBG[c] for c in bins])"
   ]
  },
  {
   "cell_type": "code",
   "execution_count": 19,
   "id": "61594d22",
   "metadata": {
    "ExecuteTime": {
     "end_time": "2023-09-21T13:06:18.678961Z",
     "start_time": "2023-09-21T13:06:18.565736Z"
    },
    "scrolled": true
   },
   "outputs": [
    {
     "data": {
      "text/plain": [
       "array([1.7617e+05, 9.6067e+04, 5.4789e+04, 3.2767e+04, 2.0209e+04,\n",
       "       1.2910e+04, 1.0653e+04, 6.4870e+03, 3.9550e+03, 2.5870e+03,\n",
       "       1.9570e+03, 1.1510e+03, 7.2100e+02, 4.5500e+02, 2.9800e+02,\n",
       "       2.4500e+02, 1.4600e+02, 8.9000e+01, 6.5000e+01, 3.9000e+01,\n",
       "       3.5000e+01, 4.0000e+01])"
      ]
     },
     "execution_count": 19,
     "metadata": {},
     "output_type": "execute_result"
    }
   ],
   "source": [
    "ptCMS"
   ]
  },
  {
   "cell_type": "code",
   "execution_count": 19,
   "id": "9d7fb006",
   "metadata": {
    "ExecuteTime": {
     "end_time": "2023-09-21T13:17:14.318438Z",
     "start_time": "2023-09-21T13:17:14.205016Z"
    }
   },
   "outputs": [
    {
     "data": {
      "text/plain": [
       "array([  39.6525696 ,  -19.5607652 , -445.29868798, -217.68679303,\n",
       "       -107.67683875, -174.10651219, -208.6130649 , -107.12662203,\n",
       "        -81.03075442,  -37.52449919,  -57.47479361,  -82.92040735,\n",
       "        -38.0646073 ,  -34.11413431,  -21.63007893,  -12.25109869,\n",
       "        -17.37694514,  -10.86163491,  -14.70589808,   -2.39202817,\n",
       "         -3.38385574,  -11.82204101])"
      ]
     },
     "execution_count": 19,
     "metadata": {},
     "output_type": "execute_result"
    }
   ],
   "source": [
    "ptCMS - ptTotal"
   ]
  },
  {
   "cell_type": "code",
   "execution_count": 18,
   "id": "c0ddcb7a",
   "metadata": {
    "ExecuteTime": {
     "end_time": "2023-09-21T12:49:48.470632Z",
     "start_time": "2023-09-21T12:49:48.357081Z"
    }
   },
   "outputs": [
    {
     "data": {
      "text/plain": [
       "{'sd_dm': {'mZp': 2500.0,\n",
       "  'mDM': 65.0,\n",
       "  'mH2': 300.0,\n",
       "  'gq': 0.25,\n",
       "  'sTheta': 0.2,\n",
       "  'gx': 1.0,\n",
       "  'ychi': 1.5,\n",
       "  'Events': 50000},\n",
       " 'zp_dm': {'mZp': 2000.0,\n",
       "  'mDM': 65.0,\n",
       "  'mH2': 300.0,\n",
       "  'gq': 0.25,\n",
       "  'sTheta': 0.1,\n",
       "  'gx': 2.0,\n",
       "  'ychi': 1.0,\n",
       "  'Events': 50000}}"
      ]
     },
     "execution_count": 18,
     "metadata": {},
     "output_type": "execute_result"
    }
   ],
   "source": [
    "parameters"
   ]
  },
  {
   "cell_type": "code",
   "execution_count": null,
   "id": "ffbb9314",
   "metadata": {},
   "outputs": [],
   "source": []
  }
 ],
 "metadata": {
  "kernelspec": {
   "display_name": "Python 3 (ipykernel)",
   "language": "python",
   "name": "python3"
  },
  "language_info": {
   "codemirror_mode": {
    "name": "ipython",
    "version": 3
   },
   "file_extension": ".py",
   "mimetype": "text/x-python",
   "name": "python",
   "nbconvert_exporter": "python",
   "pygments_lexer": "ipython3",
   "version": "3.10.12"
  }
 },
 "nbformat": 4,
 "nbformat_minor": 5
}
