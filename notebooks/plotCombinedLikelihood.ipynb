{
 "cells": [
  {
   "cell_type": "code",
   "execution_count": null,
   "metadata": {},
   "outputs": [],
   "source": [
    "# Set up the path to SModelS installation folder\n",
    "import os\n",
    "import sys\n",
    "module_path = os.path.abspath(os.path.expanduser('~/smodels')) # or the path to your source code\n",
    "sys.path.insert(0, module_path)\n",
    "import numpy as np\n",
    "import matplotlib.pyplot as plt"
   ]
  },
  {
   "cell_type": "code",
   "execution_count": null,
   "metadata": {},
   "outputs": [],
   "source": [
    "from smodels.matching.modelTester import getCombiner"
   ]
  },
  {
   "cell_type": "code",
   "execution_count": null,
   "metadata": {},
   "outputs": [],
   "source": [
    "slhafile = os.path.expanduser(\"../data/slha_files/scan_1_y_f1d0dq.slha\")\n",
    "# Define parameters file with combineAnas = ATLAS-SUSY-2019-08,ATLAS-SUSY-2019-09:\n",
    "parfile = os.path.expanduser('../scan/smodels_parameters_2mdm.ini')"
   ]
  },
  {
   "cell_type": "code",
   "execution_count": null,
   "metadata": {},
   "outputs": [],
   "source": [
    "expected = False # whether to plot the observed or expected likelihood\n",
    "normalize = True # whether to normalize the likelihoods\n",
    "muvals = np.linspace(-5.,5.,200) # Signal strength values for which to evaluate the likelihoods"
   ]
  },
  {
   "cell_type": "code",
   "execution_count": null,
   "metadata": {},
   "outputs": [],
   "source": [
    "combiner = getCombiner(slhafile, parfile)"
   ]
  },
  {
   "cell_type": "code",
   "execution_count": null,
   "metadata": {},
   "outputs": [],
   "source": [
    "llhdDict = combiner.getLlhds(muvals,expected,normalize)\n",
    "llhdDict_exp = combiner.getLlhds(muvals,True,normalize)"
   ]
  },
  {
   "cell_type": "code",
   "execution_count": null,
   "metadata": {},
   "outputs": [],
   "source": [
    "muhat = combiner.muhat()\n",
    "lmax = combiner.lmax()\n",
    "lsm = combiner.lsm()\n",
    "lbsm = combiner.likelihood(mu=1.0)\n",
    "muULDict = {'combined' : combiner.getUpperLimitOnMu()}\n",
    "for theoryPred in combiner.theoryPredictions:\n",
    "    anaID = theoryPred.analysisId()\n",
    "    muULDict[anaID] = theoryPred.getUpperLimitOnMu()"
   ]
  },
  {
   "cell_type": "code",
   "execution_count": null,
   "metadata": {},
   "outputs": [],
   "source": [
    "muULDict_exp = {'combined' : combiner.getUpperLimitOnMu(expected=True)}\n",
    "for theoryPred in combiner.theoryPredictions:\n",
    "    anaID = theoryPred.analysisId()\n",
    "    muULDict_exp[anaID] = theoryPred.getUpperLimitOnMu(expected=True)"
   ]
  },
  {
   "cell_type": "code",
   "execution_count": null,
   "metadata": {},
   "outputs": [],
   "source": [
    "muULDict_exp"
   ]
  },
  {
   "cell_type": "code",
   "execution_count": null,
   "metadata": {},
   "outputs": [],
   "source": [
    "muULDict"
   ]
  },
  {
   "cell_type": "code",
   "execution_count": null,
   "metadata": {},
   "outputs": [],
   "source": [
    "import seaborn as sns\n",
    "plt.rcParams.update({\n",
    "    \"text.usetex\": True,\n",
    "    \"font.family\": \"sans-serif\",\n",
    "    \"font.sans-serif\": [\"Helvetica\"]})\n",
    "\n",
    "plt.rcParams.update({\"savefig.dpi\" : 300}) #Figure resolution\n",
    "\n",
    "\n",
    "#Define plotting style:\n",
    "sns.set() #Set style\n",
    "sns.set_style('ticks',{'font.family':'Times New Roman', 'font.serif':'Times New Roman'})\n",
    "sns.set_context('paper', font_scale=2.0)\n",
    "cm = plt.cm.get_cmap('RdYlBu')\n",
    "# plt.rcParams.update({'font.size': 22})\n"
   ]
  },
  {
   "cell_type": "code",
   "execution_count": null,
   "metadata": {},
   "outputs": [],
   "source": [
    "plt.rc('axes', titlesize=25)     # fontsize of the axes title\n",
    "plt.rc('axes', labelsize=25)    # fontsize of the x and y labels\n",
    "plt.rc('xtick', labelsize=25)    # fontsize of the tick labels\n",
    "plt.rc('ytick', labelsize=25)    # fontsize of the tick labels\n"
   ]
  },
  {
   "cell_type": "code",
   "execution_count": null,
   "metadata": {},
   "outputs": [],
   "source": [
    "processDict = {'ATLAS-SUSY-2018-22-multibin' : 'ATLAS-SUSY-2018-22'}\n",
    "def convertLabel(label):\n",
    "    newlabel = label[:]\n",
    "    #Replace txnames by process\n",
    "    for txlabel,proc in processDict.items():\n",
    "        newlabel = newlabel.replace(txlabel,proc) \n",
    "    return newlabel"
   ]
  },
  {
   "cell_type": "code",
   "execution_count": null,
   "metadata": {},
   "outputs": [],
   "source": [
    "fig, ax = plt.subplots(figsize=(20,7),ncols=2,nrows=1)\n",
    "colors = {}\n",
    "ymin = 0.\n",
    "ymax = 0.\n",
    "for anaID,l in llhdDict_exp.items():\n",
    "    if anaID == 'combined':\n",
    "        zorder = 100\n",
    "        linestyle = '--'\n",
    "    else:\n",
    "        zorder = None\n",
    "        linestyle = '-'\n",
    "        \n",
    "    p = ax[0].plot(muvals,l,label=convertLabel(anaID),linewidth=3,zorder=zorder,linestyle=linestyle)\n",
    "    colors[anaID] = p[0].get_color()\n",
    "\n",
    "    ymin = min(ymin,min(l))\n",
    "    ymax = max(ymax,max(l))\n",
    "    \n",
    "    ax[0].set_title(r'\\textsc{SModelS}~v3.0.0', loc='left')\n",
    "    ax[0].set_title(r'2MDM model', loc='right')\n",
    "    \n",
    "ax[0].text(0.5, 1.9, r'\\textbf{$\\mathbf{\\mu_{UL}}$ = %1.2f}' %(muULDict_exp['combined']), color=colors['combined'], backgroundcolor='white', fontsize=20)\n",
    "ax[0].vlines(muULDict_exp['combined'],ymin=ymin, ymax=ymax, linestyle='--',linewidth=2,color=colors['combined'],alpha=0.7)\n",
    "\n",
    "ax[0].text(0.65, 1.5, r'\\textbf{$\\mathbf{\\mu_{UL}}$ = %1.2f}' %(muULDict_exp['ATLAS-SUSY-2018-22-multibin']), color=colors['ATLAS-SUSY-2018-22-multibin'], \n",
    "           backgroundcolor='white', fontsize=20)\n",
    "ax[0].vlines(muULDict_exp['ATLAS-SUSY-2018-22-multibin'],ymin=ymin, ymax=1.6, linestyle='--',linewidth=2,color=colors['ATLAS-SUSY-2018-22-multibin'],alpha=0.7)\n",
    "\n",
    "ax[0].text(0.55, 1.7, r'\\textbf{$\\mathbf{\\mu_{UL}}$ = %1.2f}' %(muULDict_exp['CMS-EXO-20-004']), color=colors['CMS-EXO-20-004'], backgroundcolor='white', fontsize=20)\n",
    "ax[0].vlines(muULDict_exp['CMS-EXO-20-004'],ymin=ymin, ymax=1.8, linestyle='--',linewidth=2,color=colors['CMS-EXO-20-004'],alpha=0.7)\n",
    "\n",
    "# ax[0].vlines(muhat,ymin=ymin,ymax=ymax,linestyle='--',black='black',linewidth=2,alpha=0.7)\n",
    "\n",
    "for anaID,l in llhdDict.items():\n",
    "    if anaID == 'combined':\n",
    "        zorder = 100\n",
    "        linestyle = '--'\n",
    "    else:\n",
    "        zorder = None\n",
    "        linestyle = '-'\n",
    "        \n",
    "    p = ax[1].plot(muvals,l,label=convertLabel(anaID),linewidth=3,zorder=zorder,linestyle=linestyle)\n",
    "    ymin = min(ymin,min(l))\n",
    "    ymax = max(ymax,max(l))\n",
    "    \n",
    "    ax[1].set_title(r'\\textsc{SModelS}~v3.0.0', loc='left')\n",
    "    ax[1].set_title(r'2MDM model', loc='right')\n",
    "\n",
    "\n",
    "ax[1].text(0.8, 1.9, r'\\textbf{$\\mathbf{\\mu_{UL}}$ = %1.2f}' %(muULDict['combined']), color=colors['combined'], backgroundcolor='white', fontsize=20)\n",
    "ax[1].vlines(muULDict['combined'],ymin=ymin, ymax=ymax, linestyle='--',linewidth=2,color=colors['combined'],alpha=0.7)\n",
    "\n",
    "ax[1].text(0.8, 1.7, r'\\textbf{$\\mathbf{\\mu_{UL}}$ = %1.2f}' %(muULDict['ATLAS-SUSY-2018-22-multibin']), color=colors['ATLAS-SUSY-2018-22-multibin'], \n",
    "           backgroundcolor='white', fontsize=20)\n",
    "ax[1].vlines(muULDict['ATLAS-SUSY-2018-22-multibin'],ymin=ymin, ymax=ymax, linestyle='--',linewidth=2,color=colors['ATLAS-SUSY-2018-22-multibin'],alpha=0.7)\n",
    "\n",
    "ax[1].text(1.07, 1.50, r'\\textbf{$\\mathbf{\\mu_{UL}}$ = %1.2f}' %(muULDict['CMS-EXO-20-004']), color=colors['CMS-EXO-20-004'], backgroundcolor='white', fontsize=20)\n",
    "ax[1].vlines(muULDict['CMS-EXO-20-004'],ymin=ymin, ymax=1.7, linestyle='--',linewidth=2,color=colors['CMS-EXO-20-004'],alpha=0.7)\n",
    "\n",
    "\n",
    "ax[0].text(-0.8,1.5,r'\\textbf{Expected}',fontsize=25)\n",
    "ax[1].text(-0.8,1.5,r'\\textbf{Observed}',fontsize=25)\n",
    "    \n",
    "ax[1].text(0.18, 0.2, r'\\textbf{$\\mathbf{\\hat{\\mu}}$ = %1.2f}' %(muhat), color='black', backgroundcolor='white', fontsize=20)\n",
    "ax[1].vlines(muhat,ymin=ymin,ymax=ymax,linestyle='dashdot',linewidth=2,color='black',alpha=0.7)\n",
    "\n",
    "\n",
    "ax[0].set_xlim(-1.0, 1.2)\n",
    "ax[1].set_xlim(-0.9, 1.7)\n",
    "\n",
    "ax[0].set_ylim(0.0, 2.1)\n",
    "ax[1].set_ylim(0.0, 2.1)\n",
    "\n",
    "ax[0].set_ylabel('Normalized likelihood')\n",
    "ax[0].set_xlabel(r'Signal strength $\\mu$')\n",
    "ax[1].set_xlabel(r'Signal strength $\\mu$')\n",
    "\n",
    "plt.text(1.8, 0.1, \n",
    "         r'$m_{\\chi} = 187$ GeV'+'\\n'+r'$m_{Z^{\\prime}} = 1754$ GeV'+'\\n'+r'$m_{S}=877$ GeV'+'\\n'+r'$g_{\\chi} = \\sqrt{2}$'+'\\n'+r'$g_{q}=0.25$'+'\\n'+r'$\\sin(\\alpha) = 0.25$'+'\\n\\n'+r'$r_{obs}$(comb) $=1.38$',\n",
    "         fontsize=25)\n",
    "\n",
    "\n",
    "ax[0].grid()\n",
    "ax[1].grid()\n",
    "\n",
    "plt.legend(loc='center left', bbox_to_anchor=(1.0, 0.85),\n",
    "          fancybox=True, shadow=True, fontsize=25)\n",
    "plt.tight_layout()\n",
    "plt.savefig('./figures/likelihoods.png')\n",
    "plt.show()\n"
   ]
  },
  {
   "cell_type": "code",
   "execution_count": null,
   "metadata": {},
   "outputs": [],
   "source": [
    "for anaID in llhdDict.keys():\n",
    "    print(convertLabel(anaID))"
   ]
  },
  {
   "cell_type": "code",
   "execution_count": null,
   "metadata": {},
   "outputs": [],
   "source": []
  }
 ],
 "metadata": {
  "kernelspec": {
   "display_name": "Python 3",
   "language": "python",
   "name": "python3"
  },
  "language_info": {
   "codemirror_mode": {
    "name": "ipython",
    "version": 3
   },
   "file_extension": ".py",
   "mimetype": "text/x-python",
   "name": "python",
   "nbconvert_exporter": "python",
   "pygments_lexer": "ipython3",
   "version": "3.12.3"
  },
  "orig_nbformat": 4
 },
 "nbformat": 4,
 "nbformat_minor": 2
}
