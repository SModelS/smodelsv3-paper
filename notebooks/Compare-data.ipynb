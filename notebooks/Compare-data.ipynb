{
 "cells": [
  {
   "cell_type": "code",
   "execution_count": 1,
   "id": "b83cc91d",
   "metadata": {
    "ExecuteTime": {
     "end_time": "2023-09-25T01:14:42.624021Z",
     "start_time": "2023-09-25T01:14:24.231905Z"
    }
   },
   "outputs": [
    {
     "name": "stdout",
     "output_type": "stream",
     "text": [
      "Welcome to JupyROOT 6.26/10\n"
     ]
    }
   ],
   "source": [
    "import sys,os,glob,copy\n",
    "sys.path.append('../')\n",
    "import numpy as np\n",
    "from numpy.linalg import norm\n",
    "import pandas as pd\n",
    "from matplotlib import pyplot as plt\n",
    "import seaborn as sns\n",
    "from scipy.interpolate import LinearNDInterpolator,interp2d\n",
    "import matplotlib as mpl\n",
    "from matplotlib.colors import LogNorm\n",
    "from IPython.display import display, Markdown\n",
    "from collections import OrderedDict\n",
    "import pylhe\n",
    "import glob\n",
    "import pyslha\n",
    "\n",
    "delphesDir = os.path.abspath(\"../../MG5/Delphes/\")\n",
    "os.environ['ROOT_INCLUDE_PATH'] = os.path.join(delphesDir,\"external\")\n",
    "\n",
    "import ROOT\n",
    "import xml.etree.ElementTree as ET\n",
    "\n",
    "\n",
    "ROOT.gSystem.Load(os.path.join(delphesDir,\"libDelphes.so\"))\n",
    "\n",
    "ROOT.gInterpreter.Declare('#include \"classes/SortableObject.h\"')\n",
    "ROOT.gInterpreter.Declare('#include \"classes/DelphesClasses.h\"')\n",
    "ROOT.gInterpreter.Declare('#include \"external/ExRootAnalysis/ExRootTreeReader.h\"')\n",
    "\n",
    "plt.rcParams.update({\n",
    "    \"text.usetex\": True,\n",
    "    \"font.family\": \"sans-serif\",\n",
    "    \"font.sans-serif\": [\"Helvetica\"]})\n",
    "\n",
    "plt.rcParams.update({\"savefig.dpi\" : 300}) #Figure resolution\n",
    "\n",
    "\n",
    "#Define plotting style:\n",
    "sns.set() #Set style\n",
    "sns.set_style('ticks',{'font.family':'Times New Roman', 'font.serif':'Times New Roman'})\n",
    "sns.set_context('paper', font_scale=1.8)\n",
    "cm = plt.cm.get_cmap('RdYlBu')"
   ]
  },
  {
   "cell_type": "code",
   "execution_count": 3,
   "id": "22d678c9",
   "metadata": {
    "ExecuteTime": {
     "end_time": "2023-09-25T01:15:00.956152Z",
     "start_time": "2023-09-25T01:15:00.696986Z"
    }
   },
   "outputs": [],
   "source": [
    "# inputFiles = {'zp_dm': '/home/camila/MG5/2mdm_spin1/Events/run_01/unweighted_events.lhe.gz',\n",
    "#               'mixed_couplings': '/home/camila/MG5/dmsimp_test4/Events/run_03/unweighted_events.lhe.gz'\n",
    "#               }\n",
    "\n",
    "inputFiles = {'zp_dm': '../Tests/2mdm_spin1/Events/run_01/zp_2000_delphes_events.root',\n",
    "              'sd_dm': '../Tests/2mdm_spin0/Events/run_03/sd_300_delphes_events.root'}\n",
    "\n",
    "\n",
    "# inputFiles = {'zp_prod': '/home/camila/MG5/2mdm_nlo_spin1_zp/Events/run_05/unweighted_events.lhe.gz',\n",
    "#               'sd_prod': '/home/camila/MG5/2mdm_nlo_spin0_sd/Events/run_02/unweighted_events.lhe.gz'\n",
    "#               }\n",
    "\n",
    "cmsData = pd.read_pickle('../data/Data_CMS.pcl')"
   ]
  },
  {
   "cell_type": "code",
   "execution_count": 4,
   "id": "e0bddf06",
   "metadata": {
    "ExecuteTime": {
     "end_time": "2023-09-25T01:15:03.548702Z",
     "start_time": "2023-09-25T01:15:03.295459Z"
    }
   },
   "outputs": [
    {
     "name": "stdout",
     "output_type": "stream",
     "text": [
      "zp_dm : mZp = 2000.00 GeV, mH2 = 200.00 GeV, mDM = 65.00 GeV\n",
      "sd_dm : mZp = 2000.00 GeV, mH2 = 300.00 GeV, mDM = 65.00 GeV\n"
     ]
    }
   ],
   "source": [
    "parameters = {}\n",
    "for label,file in inputFiles.items():\n",
    "    banner = sorted(glob.glob(os.path.dirname(file)+'/*banner.txt'),key=os.path.getmtime,reverse=True)\n",
    "    if len(banner) == 0:\n",
    "        print('Banner not found for %s' %label)\n",
    "    elif len(banner) > 1:        \n",
    "        print('\\n%i banner files found for %s. Using %s' \n",
    "              %(len(banner),label,os.path.basename(banner[0])))\n",
    "    banner = banner[0]\n",
    "    xtree = ET.parse(banner)\n",
    "    xroot = xtree.getroot()\n",
    "    slha = xroot.find('header').find('slha').text\n",
    "    pars = pyslha.readSLHA(slha)\n",
    "    \n",
    "    \n",
    "    if 9900032 in pars.blocks['MASS']:\n",
    "        model = '2mdm'        \n",
    "        mZp = pars.blocks['MASS'][9900032] # Z prime mass\n",
    "        \n",
    "    elif 55 in pars.blocks['MASS']:\n",
    "        model = 'dmsimp'\n",
    "        mZp = pars.blocks['MASS'][55] # Z prime mass\n",
    "        \n",
    "    \n",
    "    if model == '2mdm':\n",
    "        mS = pars.blocks['BLINPUTS'][2] # dark Higgs (S) mass\n",
    "        mChi = pars.blocks['MASS'][9000006] # DM mass\n",
    "        sTheta = pars.blocks['BLINPUTS'][3] # sin theta\n",
    "        ychi = pars.blocks['FRBLOCK'][1] # coupling of S to DM\n",
    "        gchi = pars.blocks['ZPRIME'][1] # coupling of mediators to DM\n",
    "        gq = pars.blocks['ZPRIME'][2] # coupling of mediators to SM\n",
    "    elif model == 'dmsimp':\n",
    "        mS = np.nan # dark Higgs mass\n",
    "        mChi = pars.blocks['MASS'][52] # DM mass\n",
    "        sTheta = 0\n",
    "        gchi = pars.blocks['DMINPUTS'][2] # coupling of mediators to DM\n",
    "        gq = pars.blocks['DMINPUTS'][6] # coupling of mediators to SM  \n",
    "        \n",
    "\n",
    "    \n",
    "        \n",
    "    parameters[label] = {'mZp' : mZp, 'mDM' : mChi, 'mH2' : mS,\n",
    "                         'gq' : gq, 'sTheta' : sTheta, 'gx' : gchi, 'ychi' : ychi}\n",
    "    print(label,': mZp = %1.2f GeV, mH2 = %1.2f GeV, mDM = %1.2f GeV' %(mZp,mS,mChi))"
   ]
  },
  {
   "cell_type": "code",
   "execution_count": 5,
   "id": "c78cedbe",
   "metadata": {
    "ExecuteTime": {
     "end_time": "2023-09-25T01:15:06.147288Z",
     "start_time": "2023-09-25T01:15:06.042380Z"
    }
   },
   "outputs": [],
   "source": [
    "# ## Cuts\n",
    "## MET\n",
    "pTcut = 150.\n",
    "## jets\n",
    "pTj1min = 100.\n",
    "pTjmin = 20.\n",
    "etamax = 2.4\n",
    "## MET\n",
    "minMET = 250.\n",
    "## Electrons\n",
    "pTmin_el = 10.\n",
    "etamax_el = 2.5\n",
    "nMax_el = 0\n",
    "## Photons\n",
    "pTmin_a = 15.\n",
    "etamax_a = 2.5\n",
    "nMax_a = 0\n",
    "## Muons\n",
    "pTmin_mu = 10.\n",
    "etamax_mu = 2.4\n",
    "nMax_mu = 0\n",
    "## Tau jets\n",
    "nMax_tau = 0\n",
    "etatau_max = 2.3\n",
    "pTtau_min = 18.0\n",
    "## b jets\n",
    "nMax_b = 0\n",
    "etab_max = 2.4\n",
    "pTb_min = 20.0"
   ]
  },
  {
   "cell_type": "code",
   "execution_count": 7,
   "id": "33dc7a3b",
   "metadata": {
    "ExecuteTime": {
     "end_time": "2023-09-25T01:17:04.603462Z",
     "start_time": "2023-09-25T01:16:28.176332Z"
    }
   },
   "outputs": [],
   "source": [
    "pTj1 = {label : np.array([]) for label in inputFiles}\n",
    "weights = {label : np.array([]) for label in inputFiles}\n",
    "met = {label : np.array([]) for label in inputFiles}\n",
    "njets = {label : np.array([]) for label in inputFiles}\n",
    "totalweight = {label : 0 for label in inputFiles}\n",
    "\n",
    "for label,inputFile in inputFiles.items():\n",
    "    \n",
    "    f = ROOT.TFile(inputFile, 'read')\n",
    "    tree = f.Get(\"Delphes\")\n",
    "    nevts = tree.GetEntries()\n",
    "    parameters[label]['Events'] = nevts\n",
    "    \n",
    "    for event in range(nevts):\n",
    "        \n",
    "        tree.GetEntry(event)\n",
    "\n",
    "        jets = tree.Jet\n",
    "        \n",
    "        \n",
    "        missingET = tree.MissingET.At(0)\n",
    "        electrons = tree.Electron\n",
    "        muons = tree.Electron\n",
    "        photons = tree.Photon\n",
    "        \n",
    "        # Filter electrons:\n",
    "        electronList = []\n",
    "        for iel in range(electrons.GetEntries()):\n",
    "            electron = electrons.At(iel)\n",
    "            \n",
    "            if electron.PT < pTmin_el: continue\n",
    "            if abs(electron.Eta) > etamax_el: continue\n",
    "                \n",
    "            electronList.append(electron)\n",
    "        \n",
    "        # Filter muons:\n",
    "        muonList = []\n",
    "        for imu in range(muons.GetEntries()):\n",
    "            muon = muons.At(imu)\n",
    "            \n",
    "            if muon.PT < pTmin_mu: continue\n",
    "            if abs(muon.Eta) > etamax_mu: continue\n",
    "                \n",
    "            muonList.append(muon)\n",
    "            \n",
    "        # Filter photons:\n",
    "        photonList = []\n",
    "        for ia in range(photons.GetEntries()):\n",
    "            photon = photons.At(ia)\n",
    "            \n",
    "            if photon.PT < pTmin_a: continue\n",
    "            if abs(photon.Eta) > etamax_a: continue\n",
    "                \n",
    "            photonList.append(photon)\n",
    "        \n",
    "        # Filter jets\n",
    "        jetList = []\n",
    "        bjetList = []\n",
    "        taujetList = []\n",
    "        for ijet in range(jets.GetEntries()):\n",
    "            jet = jets.At(ijet)\n",
    "            \n",
    "            if (jet.BTag) and (jet.PT > pTb_min) and (abs(jet.Eta) < etab_max):\n",
    "                bjetList.append(jet)\n",
    "            elif (jet.TauTag) and (jet.PT > pTtau_min) and (abs(jet.Eta) < etatau_max):\n",
    "                taujetList.append(jet)\n",
    "            elif (jet.PT > pTj1min) and (abs(jet.Eta) < etamax):\n",
    "                jetList.append(jet)\n",
    "        jetList = sorted(jetList, key= lambda j: j.PT, reverse= True)\n",
    "        \n",
    "        njets[label] = np.append(njets[label], jets.GetEntries())\n",
    "        \n",
    "        if len(jetList) > 0:\n",
    "            deltaPhi = np.abs(jetList[0].Phi-missingET.Phi)\n",
    "        else:\n",
    "            deltaPhi = 0.0\n",
    "            \n",
    "        # Apply cuts\n",
    "        # cut on MET at parton level\n",
    "        dmMET = tree.DMMissingET.At(0).MET\n",
    "        if dmMET < pTcut: continue\n",
    "        # veto electrons\n",
    "        if len(electronList) > nMax_el: continue\n",
    "        # veto muons\n",
    "        if len(muonList) > nMax_mu: continue\n",
    "        # veto tau jets\n",
    "        if len(taujetList) > nMax_b: continue\n",
    "        # veto photons\n",
    "        if len(photonList) > nMax_a: continue\n",
    "        # cut on delta phi\n",
    "        if deltaPhi < 0.5: continue\n",
    "        # jet cuts\n",
    "        if (len(jetList) < 1) or (jetList[0].PT < pTj1min): continue\n",
    "        if abs(jetList[0].Eta) > etamax: continue\n",
    "            \n",
    "        try:\n",
    "            weight = tree.Weight.At(1).Weight\n",
    "        except:\n",
    "            weight = tree.Weight.At(0).Weight\n",
    "            \n",
    "        totalweight[label] += weight\n",
    "            \n",
    "        \n",
    "        # Store relevant data        \n",
    "        njets[label] = np.append(njets[label],len(jets))\n",
    "        pTj1[label] = np.append(pTj1[label],jetList[0].PT)\n",
    "        weights[label] = np.append(weights[label],weight)\n",
    "        met[label] = np.append(met[label], dmMET)\n",
    "        \n",
    "        \n",
    "f.Close()\n",
    "        "
   ]
  },
  {
   "cell_type": "code",
   "execution_count": 8,
   "id": "db317cc7",
   "metadata": {
    "ExecuteTime": {
     "end_time": "2023-09-25T01:17:13.024975Z",
     "start_time": "2023-09-25T01:17:12.916010Z"
    },
    "scrolled": true
   },
   "outputs": [
    {
     "name": "stdout",
     "output_type": "stream",
     "text": [
      "zp_dm total cross-section = 4.412e-02 pb\n",
      "sd_dm total cross-section = 1.405e-02 pb\n"
     ]
    }
   ],
   "source": [
    "for label,w in totalweight.items():\n",
    "    print(label,'total cross-section = %1.3e pb' %w)\n",
    "colors = {label : sns.color_palette('deep', n_colors=16)[i] for i,label in enumerate(weights.keys())}    "
   ]
  },
  {
   "cell_type": "code",
   "execution_count": 9,
   "id": "dc75ccb3",
   "metadata": {
    "ExecuteTime": {
     "end_time": "2023-09-25T01:17:18.042347Z",
     "start_time": "2023-09-25T01:17:17.930250Z"
    }
   },
   "outputs": [],
   "source": [
    "## Filter CMS data\n",
    "\n",
    "modelFilter = { \n",
    " 'Datasetyear': 2017,\n",
    " 'Region': 'Signal',\n",
    " 'Fit': 'B-only'}\n",
    "\n",
    "\n",
    "dfModel = cmsData.loc[(cmsData[list(modelFilter)] == pd.Series(modelFilter)).all(axis=1)]"
   ]
  },
  {
   "cell_type": "code",
   "execution_count": 10,
   "id": "f3aacf10",
   "metadata": {
    "ExecuteTime": {
     "end_time": "2023-09-25T01:17:18.636484Z",
     "start_time": "2023-09-25T01:17:18.527693Z"
    }
   },
   "outputs": [],
   "source": [
    "totalBG = dfModel[dfModel['Process'] == 'TotalSM']\n",
    "dataCMS = dfModel[dfModel['Process'] == 'Data']"
   ]
  },
  {
   "cell_type": "code",
   "execution_count": 11,
   "id": "7fb2ff37",
   "metadata": {
    "ExecuteTime": {
     "end_time": "2023-09-25T01:17:19.275180Z",
     "start_time": "2023-09-25T01:17:19.165403Z"
    }
   },
   "outputs": [],
   "source": [
    "# Auxiliar function for plotting\n",
    "def getBins(dfModel,rightBin = 1400.):\n",
    "    \n",
    "    bins = {c : eval(c.split('_')[1]) for c in dfModel.columns if (\"bin_\" in c)}    \n",
    "    binCenter = (np.array(list(bins.values()))+np.diff(list(bins.values())+[rightBin])/2).tolist()    \n",
    "    binLeft = [bins[c] for c in bins]+[rightBin] \n",
    "    \n",
    "    return bins,binCenter,binLeft\n",
    "\n",
    "def getMETbins(dfSingle,bins):\n",
    "\n",
    "    data = {c : dfSingle[c].iloc[0] for c in bins}\n",
    "\n",
    "    return data\n"
   ]
  },
  {
   "cell_type": "code",
   "execution_count": 12,
   "id": "4f5785ac",
   "metadata": {
    "ExecuteTime": {
     "end_time": "2023-09-25T01:17:20.680843Z",
     "start_time": "2023-09-25T01:17:20.563678Z"
    }
   },
   "outputs": [],
   "source": [
    "bins,binCenter,binLeft = getBins(dataCMS)\n",
    "data = getMETbins(dataCMS,bins)\n",
    "ptCMS = np.array([data[c] for c in bins])\n",
    "sumBG = getMETbins(totalBG, bins)\n",
    "ptBG = np.array([sumBG[c] for c in bins])"
   ]
  },
  {
   "cell_type": "code",
   "execution_count": 47,
   "id": "3783d5c2",
   "metadata": {
    "ExecuteTime": {
     "end_time": "2023-09-25T01:20:39.791992Z",
     "start_time": "2023-09-25T01:20:39.653929Z"
    }
   },
   "outputs": [],
   "source": [
    "lum2017 = 41.5 #fb^-1\n",
    "binned = {}\n",
    "metBins = [250,  280,  310,  340,  370,  400,  430,  470,  510, 550,  590,  640,  690,  \n",
    "            740,  790,  840,  900,  960, 1020, 1090, 1160, 1250, 99999]\n",
    "for label, pt in pTj1.items():\n",
    "#     binned[label], bins2 = np.histogram(pt, bins=binLeft, weights=weights[label])\n",
    "    binned[label], bins2 = np.histogram(pt, bins=metBins, weights=weights[label]*1e3*lum2017)\n",
    "\n",
    "ptTotal = binned['zp_dm'] + binned['sd_dm'] + ptBG\n",
    "zp_bg = binned['zp_dm'] + ptBG"
   ]
  },
  {
   "cell_type": "code",
   "execution_count": 48,
   "id": "0171d37e",
   "metadata": {
    "ExecuteTime": {
     "end_time": "2023-09-25T01:20:40.413171Z",
     "start_time": "2023-09-25T01:20:40.300276Z"
    }
   },
   "outputs": [],
   "source": [
    "# legend\n",
    "legend = {\n",
    "          'Coupling' : 'Vector',\n",
    "          '$m_{Z^{\\prime}}$' : 2000.0,\n",
    "          '$m_{s}$' : 300.0,\n",
    "          '$g_{\\chi}$' : 2.0,\n",
    "          '$g_{q}$' : 0.1,\n",
    "          '$y_{\\chi}$' : 1.5,\n",
    "          '$\\sin\\\\alpha$' : 0.25\n",
    "           }\n",
    "textstr = '\\n'.join([r'%s = %s' %(k,v) for k,v in legend.items()])"
   ]
  },
  {
   "cell_type": "code",
   "execution_count": 49,
   "id": "4ca964b5",
   "metadata": {
    "ExecuteTime": {
     "end_time": "2023-09-25T01:20:41.940692Z",
     "start_time": "2023-09-25T01:20:40.556909Z"
    }
   },
   "outputs": [
    {
     "data": {
      "image/png": "[encoded data removed]",
      "text/plain": [
       "<Figure size 1000x600 with 1 Axes>"
      ]
     },
     "metadata": {},
     "output_type": "display_data"
    }
   ],
   "source": [
    "fig = plt.figure(figsize=(10,6))\n",
    "\n",
    "\n",
    "# plt.hist(binCenter, bins=metBins, weights=k*binned['zp_dm']*brZ, stacked=True, \n",
    "#          label=r'spin-1 mediator')\n",
    "plt.hist(binCenter, bins=binLeft, weights=ptBG, stacked=False, label=r'SM brackground')\n",
    "\n",
    "plt.hist(binCenter, bins=metBins, weights=binned['sd_dm']+binned['zp_dm'], stacked=False, label=r'DM production',\n",
    "        histtype='step', linewidth=2.0)\n",
    "# plt.hist(binCenter, bins=binLeft, weights=binned['zp_dm'], stacked=False, label=r'spin-1 mediator',\n",
    "#         histtype='step')\n",
    "\n",
    " \n",
    "plt.scatter(x=binCenter, y=ptCMS, s=30, color='black', label='data')\n",
    "    \n",
    "plt.yscale('log')\n",
    "# plt.ylim(1e4,1.8e5)\n",
    "plt.xlabel(r'$p^{miss}_T$ (GeV)')\n",
    "plt.ylabel(r'Events')\n",
    "plt.xlim(250,1400)\n",
    "plt.legend(loc='upper right', fontsize='x-small')\n",
    "\n",
    "plt.text(0.76,0.4,textstr,fontsize=15,bbox=dict(facecolor='white', edgecolor='black'),\n",
    "         transform = plt.gca().transAxes)\n",
    "\n",
    "# plt.savefig('../../Pictures/plot-pt.png')\n",
    "plt.show()"
   ]
  },
  {
   "cell_type": "code",
   "execution_count": 50,
   "id": "6b4c573a",
   "metadata": {
    "ExecuteTime": {
     "end_time": "2023-09-25T01:20:43.467699Z",
     "start_time": "2023-09-25T01:20:41.946424Z"
    }
   },
   "outputs": [
    {
     "data": {
      "image/png": "[encoded data removed]",
      "text/plain": [
       "<Figure size 1000x600 with 1 Axes>"
      ]
     },
     "metadata": {},
     "output_type": "display_data"
    }
   ],
   "source": [
    "fig = plt.figure(figsize=(10,6))\n",
    "\n",
    "\n",
    "plt.hist(binCenter, bins=binLeft, weights=ptTotal, stacked=True, label=r'spin-0 mediator')\n",
    "plt.hist(binCenter, bins=metBins, weights=zp_bg, stacked=True, label=r'spin-1 mediator')\n",
    "plt.hist(binCenter, bins=binLeft, weights=ptBG, stacked=True, label=r'SM brackground')\n",
    "\n",
    "\n",
    "plt.scatter(x=binCenter, y=ptCMS, s=30, color='black', label='data')\n",
    "    \n",
    "plt.yscale('log')\n",
    "# plt.ylim(1e4,1.8e5)\n",
    "plt.xlabel(r'$p^{miss}_T$ (GeV)')\n",
    "plt.ylabel(r'Events')\n",
    "plt.xlim(250,1400)\n",
    "plt.legend(loc='upper right', fontsize='x-small')\n",
    "\n",
    "plt.text(0.76,0.4,textstr,fontsize=15,bbox=dict(facecolor='white', edgecolor='black'),\n",
    "         transform = plt.gca().transAxes)\n",
    "\n",
    "# plt.savefig('../../Pictures/plot-pt.png')\n",
    "plt.show()"
   ]
  },
  {
   "cell_type": "code",
   "execution_count": 17,
   "id": "ffbb9314",
   "metadata": {
    "ExecuteTime": {
     "end_time": "2023-09-25T01:17:43.789978Z",
     "start_time": "2023-09-25T01:17:43.676266Z"
    }
   },
   "outputs": [
    {
     "data": {
      "text/plain": [
       "{'zp_dm': {'mZp': 2000.0,\n",
       "  'mDM': 65.0,\n",
       "  'mH2': 200.0,\n",
       "  'gq': 0.25,\n",
       "  'sTheta': 0.2,\n",
       "  'gx': 1.0,\n",
       "  'ychi': 1.0,\n",
       "  'Events': 50000},\n",
       " 'sd_dm': {'mZp': 2000.0,\n",
       "  'mDM': 65.0,\n",
       "  'mH2': 300.0,\n",
       "  'gq': 0.25,\n",
       "  'sTheta': 0.25,\n",
       "  'gx': 1.0,\n",
       "  'ychi': 1.5,\n",
       "  'Events': 50000}}"
      ]
     },
     "execution_count": 17,
     "metadata": {},
     "output_type": "execute_result"
    }
   ],
   "source": [
    "parameters"
   ]
  },
  {
   "cell_type": "code",
   "execution_count": 29,
   "id": "6ce7a9c5",
   "metadata": {
    "ExecuteTime": {
     "end_time": "2023-09-25T01:18:48.303461Z",
     "start_time": "2023-09-25T01:18:48.192786Z"
    }
   },
   "outputs": [
    {
     "data": {
      "text/plain": [
       "array([1.79706983e+05, 9.86551344e+04, 5.68056241e+04, 3.39787328e+04,\n",
       "       2.09701507e+04, 1.35211505e+04, 1.12534826e+04, 6.79988465e+03,\n",
       "       4.15185983e+03, 2.72153278e+03, 2.07162817e+03, 1.26826647e+03,\n",
       "       7.69343261e+02, 4.95096675e+02, 3.22358842e+02, 2.53331040e+02,\n",
       "       1.61316342e+02, 9.66066782e+01, 7.42650151e+01, 3.76833960e+01,\n",
       "       3.61588070e+01, 4.48577021e+01])"
      ]
     },
     "execution_count": 29,
     "metadata": {},
     "output_type": "execute_result"
    }
   ],
   "source": [
    "ptTotal"
   ]
  },
  {
   "cell_type": "code",
   "execution_count": 31,
   "id": "3a732525",
   "metadata": {
    "ExecuteTime": {
     "end_time": "2023-09-25T01:19:09.663870Z",
     "start_time": "2023-09-25T01:19:09.555750Z"
    }
   },
   "outputs": [
    {
     "data": {
      "text/plain": [
       "array([1.7617e+05, 9.6067e+04, 5.4789e+04, 3.2767e+04, 2.0209e+04,\n",
       "       1.2910e+04, 1.0653e+04, 6.4870e+03, 3.9550e+03, 2.5870e+03,\n",
       "       1.9570e+03, 1.1510e+03, 7.2100e+02, 4.5500e+02, 2.9800e+02,\n",
       "       2.4500e+02, 1.4600e+02, 8.9000e+01, 6.5000e+01, 3.9000e+01,\n",
       "       3.5000e+01, 4.0000e+01])"
      ]
     },
     "execution_count": 31,
     "metadata": {},
     "output_type": "execute_result"
    }
   ],
   "source": [
    "ptCMS"
   ]
  },
  {
   "cell_type": "code",
   "execution_count": 32,
   "id": "ae6d7dc8",
   "metadata": {
    "ExecuteTime": {
     "end_time": "2023-09-25T01:19:16.183415Z",
     "start_time": "2023-09-25T01:19:16.075584Z"
    }
   },
   "outputs": [
    {
     "data": {
      "text/plain": [
       "array([1.75930551e+05, 9.59358322e+04, 5.51122318e+04, 3.28897262e+04,\n",
       "       2.02389957e+04, 1.30250721e+04, 1.08018979e+04, 6.54246101e+03,\n",
       "       3.99742185e+03, 2.59873191e+03, 1.98309425e+03, 1.21607181e+03,\n",
       "       7.36558242e+02, 4.76244887e+02, 3.09177084e+02, 2.44957734e+02,\n",
       "       1.55480968e+02, 9.31338819e+01, 7.25766531e+01, 3.67620807e+01,\n",
       "       3.52707098e+01, 4.39656136e+01])"
      ]
     },
     "execution_count": 32,
     "metadata": {},
     "output_type": "execute_result"
    }
   ],
   "source": [
    "zp_bg"
   ]
  },
  {
   "cell_type": "code",
   "execution_count": 51,
   "id": "a91ac18e",
   "metadata": {
    "ExecuteTime": {
     "end_time": "2023-09-25T01:21:00.490101Z",
     "start_time": "2023-09-25T01:21:00.374471Z"
    }
   },
   "outputs": [
    {
     "data": {
      "text/plain": [
       "{'zp_dm': array([958.28979492, 599.37329102, 367.29541016, ..., 190.24624634,\n",
       "        429.01535034, 500.57049561]),\n",
       " 'sd_dm': array([340.27658081, 303.70571899, 189.32795715, ..., 217.27171326,\n",
       "        240.19462585, 157.89477539])}"
      ]
     },
     "execution_count": 51,
     "metadata": {},
     "output_type": "execute_result"
    }
   ],
   "source": [
    "met"
   ]
  },
  {
   "cell_type": "code",
   "execution_count": 52,
   "id": "b6b3e474",
   "metadata": {
    "ExecuteTime": {
     "end_time": "2023-09-25T01:21:21.977152Z",
     "start_time": "2023-09-25T01:21:21.860009Z"
    }
   },
   "outputs": [
    {
     "data": {
      "text/plain": [
       "{'zp_dm': array([451.77261353, 596.58331299, 208.50453186, ..., 248.85379028,\n",
       "        408.94519043, 458.08404541]),\n",
       " 'sd_dm': array([268.10543823, 302.93823242, 195.61813354, ..., 218.4407196 ,\n",
       "        260.48181152, 381.90063477])}"
      ]
     },
     "execution_count": 52,
     "metadata": {},
     "output_type": "execute_result"
    }
   ],
   "source": [
    "pTj1"
   ]
  },
  {
   "cell_type": "code",
   "execution_count": null,
   "id": "3993d119",
   "metadata": {},
   "outputs": [],
   "source": []
  }
 ],
 "metadata": {
  "kernelspec": {
   "display_name": "Python 3 (ipykernel)",
   "language": "python",
   "name": "python3"
  },
  "language_info": {
   "codemirror_mode": {
    "name": "ipython",
    "version": 3
   },
   "file_extension": ".py",
   "mimetype": "text/x-python",
   "name": "python",
   "nbconvert_exporter": "python",
   "pygments_lexer": "ipython3",
   "version": "3.10.12"
  }
 },
 "nbformat": 4,
 "nbformat_minor": 5
}
