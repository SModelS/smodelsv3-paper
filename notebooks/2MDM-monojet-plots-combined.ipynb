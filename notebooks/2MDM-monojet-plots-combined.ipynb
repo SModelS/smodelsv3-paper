{
 "cells": [
  {
   "attachments": {},
   "cell_type": "markdown",
   "metadata": {},
   "source": [
    "# Plots for the 2MDM analysis"
   ]
  },
  {
   "cell_type": "code",
   "execution_count": 7,
   "metadata": {
    "ExecuteTime": {
     "end_time": "2024-01-31T14:45:31.167350Z",
     "start_time": "2024-01-31T14:45:30.326673Z"
    },
    "execution": {
     "iopub.execute_input": "2024-08-27T14:35:26.692002Z",
     "iopub.status.busy": "2024-08-27T14:35:26.691332Z",
     "iopub.status.idle": "2024-08-27T14:35:28.407435Z",
     "shell.execute_reply": "2024-08-27T14:35:28.405857Z"
    }
   },
   "outputs": [],
   "source": [
    "import warnings\n",
    "warnings.filterwarnings(\"ignore\", message=\"numpy.dtype size changed\")\n",
    "import numpy as np\n",
    "import pandas as pd\n",
    "import matplotlib.pyplot as plt\n",
    "from auxPlots import columnsDict, colorDict, defaultPars\n",
    "from scipy.interpolate import griddata\n",
    "import itertools\n",
    "\n",
    "pd.option_context('display.max_columns', None)\n",
    "pd.option_context('display.max_rows', None)\n",
    "\n",
    "pd.options.mode.chained_assignment = None #Disable copy warnings\n",
    "plt.rcParams.update(defaultPars) #Figure resolution"
   ]
  },
  {
   "attachments": {},
   "cell_type": "markdown",
   "metadata": {},
   "source": [
    "#### Get data in pcl format and print all columns names"
   ]
  },
  {
   "cell_type": "code",
   "execution_count": 12,
   "metadata": {
    "ExecuteTime": {
     "end_time": "2024-01-31T14:45:32.917617Z",
     "start_time": "2024-01-31T14:45:31.229063Z"
    },
    "execution": {
     "iopub.execute_input": "2024-08-27T14:35:28.413981Z",
     "iopub.status.busy": "2024-08-27T14:35:28.413329Z",
     "iopub.status.idle": "2024-08-27T14:35:28.966445Z",
     "shell.execute_reply": "2024-08-27T14:35:28.964612Z"
    },
    "scrolled": true
   },
   "outputs": [
    {
     "name": "stdout",
     "output_type": "stream",
     "text": [
      "['maxcond', 'theory prediction (fb)', 'upper limit (fb)', 'expected upper limit (fb)', 'TxNames', 'Mass (GeV)', 'AnalysisID', 'DataSetID', 'AnalysisSqrts (TeV)', 'lumi (fb-1)', 'dataType', 'r', 'r_expected', 'Width (GeV)', 'nll', 'nll_min', 'nll_SM', 'Total xsec for missing topologies (fb)', 'Total xsec for missing topologies with displaced decays (fb)', 'Total xsec for missing topologies with prompt decays (fb)', 'Total xsec for topologies outside the grid (fb)', 'mChi', 'mS', 'mZp', 'mass.9000002', 'mass.9000003', 'mass.9000004', 'mass.9000005', 'width.9000002', 'width.9000003', 'width.9000004', 'width.9000005', 'width.9000006', 'width.9900026', 'width.9900032', 'gchi', 'gq', 'sina', 'extpar.4', 'xsec8TeV(fb).9900032', 'xsec8TeV(fb).9900026', 'xsec13TeV(fb).9900032', 'xsec13TeV(fb).9900026', 'BRs.sd.W-,W+', 'BRs.sd.higgs,higgs', 'BRs.sd.Z,Z', 'BRs.sd.chi,chi', 'BRs.sd.ta+,ta-', 'BRs.zp.chi,chi', 'BRs.zp.c,c', 'BRs.zp.q,q', 'BRs.zp.b,b', 'BRs.zp.t-,t+', 'BRs.sd.t-,t+', 'totalxsec13TeV(fb)', 'totalxsec8TeV(fb)']\n"
     ]
    }
   ],
   "source": [
    "#Merge with SModelS DataFrame\n",
    "pclFile = '../data/smodels_results.pcl'\n",
    "dataDF = pd.read_pickle(pclFile)\n",
    "dataDF.rename(columns=columnsDict,inplace=True)\n",
    "dropCols = [c for c in dataDF.columns if ('Output' in c or 'weight' in c)]\n",
    "dataDF.drop(columns=dropCols,inplace=True)\n",
    "print(dataDF.columns.values.tolist()) #Print all columns names"
   ]
  },
  {
   "cell_type": "markdown",
   "metadata": {},
   "source": [
    "### Remove results with gq = 0.1 and gchi = 0.6"
   ]
  },
  {
   "cell_type": "code",
   "execution_count": 13,
   "metadata": {
    "execution": {
     "iopub.execute_input": "2024-08-27T14:35:29.065967Z",
     "iopub.status.busy": "2024-08-27T14:35:29.065434Z",
     "iopub.status.idle": "2024-08-27T14:35:29.156926Z",
     "shell.execute_reply": "2024-08-27T14:35:29.155072Z"
    }
   },
   "outputs": [],
   "source": [
    "dataDF = dataDF[~((dataDF['gchi'] == 0.6) & (dataDF['gq'] == 0.1))]"
   ]
  },
  {
   "cell_type": "markdown",
   "metadata": {},
   "source": [
    "### Select combined analysis"
   ]
  },
  {
   "cell_type": "code",
   "execution_count": 15,
   "metadata": {},
   "outputs": [
    {
     "name": "stdout",
     "output_type": "stream",
     "text": [
      "8732\n"
     ]
    }
   ],
   "source": [
    "combinedDF = dataDF[dataDF['AnalysisID'] == 'ATLAS-SUSY-2018-22-multibin,CMS-EXO-20-004']\n",
    "# Sort by r, so highest value comes first\n",
    "combinedDF = combinedDF.sort_values(by='r',axis=0,ascending=False)\n",
    "# Keep only the strongest result for the combined analysis (first entry)\n",
    "# (this step is only necessary if there is more than one result for the combined analysis, which should not happen)\n",
    "combinedDF = combinedDF.groupby(level='filename').head(1)\n",
    "print(len(combinedDF))\n"
   ]
  },
  {
   "cell_type": "markdown",
   "metadata": {},
   "source": [
    "### Group Combined Results by couplings"
   ]
  },
  {
   "cell_type": "code",
   "execution_count": 16,
   "metadata": {
    "execution": {
     "iopub.execute_input": "2024-08-27T14:35:29.319721Z",
     "iopub.status.busy": "2024-08-27T14:35:29.319023Z",
     "iopub.status.idle": "2024-08-27T14:35:29.327876Z",
     "shell.execute_reply": "2024-08-27T14:35:29.326105Z"
    }
   },
   "outputs": [],
   "source": [
    "combinedGroups = combinedDF.groupby(by=['gchi','gq'])"
   ]
  },
  {
   "cell_type": "markdown",
   "metadata": {},
   "source": [
    "#### Create legends for plots"
   ]
  },
  {
   "cell_type": "code",
   "execution_count": 17,
   "metadata": {
    "execution": {
     "iopub.execute_input": "2024-08-27T14:35:29.335099Z",
     "iopub.status.busy": "2024-08-27T14:35:29.334509Z",
     "iopub.status.idle": "2024-08-27T14:35:29.368700Z",
     "shell.execute_reply": "2024-08-27T14:35:29.367027Z"
    }
   },
   "outputs": [],
   "source": [
    "gqLegend = {}\n",
    "couplingsTuples = [gTuple for gTuple,_ in sorted(combinedGroups, key = lambda x: sum(x[0]), reverse=True)]\n",
    "\n",
    "colors = [colorDict['ATLAS-SUSY-2018-22-multibin,CMS-EXO-20-004'],'cadetblue','skyblue']\n",
    "# colors += list(sns.color_palette(\"Blues\",len(couplingsTuples)+2,reverse=True).as_hex())[:len(couplingsTuples)-1]\n",
    "# colors += sns.dark_palette(\"#69d\", 10,reverse=True).as_hex()[0:1]+ sns.dark_palette(\"#69d\", 10,reverse=True).as_hex()[4:5]\n",
    "\n",
    "linestyles = ['solid','dotted','dashed']\n",
    "# gqcolorsMono = dict(zip(couplingsTuples,['#ece7f2','#a6bddb','#2b8cbe']))\n",
    "gqcolorsMono = dict(zip(couplingsTuples,colors))\n",
    "gqstylesMono = dict(zip(couplingsTuples,linestyles))\n",
    "for (gchi,gq), color in gqcolorsMono.items():\n",
    "    if abs(gchi-np.sqrt(2)) < 0.001:\n",
    "        label = r'$g_{\\chi} = \\sqrt{2}, g_{q} = %1.2f$' %(gq)\n",
    "    else:\n",
    "        label = r'$g_{\\chi} = %1.0f, g_{q} = %1.2f$' %(gchi,gq)\n",
    "    # l = mpatches.Patch(color=color, label=label)\n",
    "    gqLegend[(gchi,gq)] = label"
   ]
  },
  {
   "attachments": {},
   "cell_type": "markdown",
   "metadata": {},
   "source": [
    "### Plot only excluded points for a selected $g_{q}, g_{\\chi}$ pair"
   ]
  },
  {
   "cell_type": "code",
   "execution_count": 19,
   "metadata": {
    "execution": {
     "iopub.execute_input": "2024-08-27T14:35:29.375669Z",
     "iopub.status.busy": "2024-08-27T14:35:29.375129Z",
     "iopub.status.idle": "2024-08-27T14:35:43.405454Z",
     "shell.execute_reply": "2024-08-27T14:35:43.403318Z"
    }
   },
   "outputs": [
    {
     "data": {
      "image/png": "[encoded data removed]",
      "text/plain": [
       "<Figure size 500x400 with 1 Axes>"
      ]
     },
     "metadata": {},
     "output_type": "display_data"
    }
   ],
   "source": [
    "legends = {}\n",
    "for gTuple, gDF in sorted(combinedGroups, key = lambda x: sum(x[0]), reverse=True):\n",
    "\n",
    "    rData = gDF['r']\n",
    "    x = gDF['mZp']\n",
    "    y = gDF['mChi']\n",
    "    pts = np.array(list(itertools.product(np.linspace(200.,4100.,300),np.linspace(0.,2000.,300))))\n",
    "    rPts = griddata(list(zip(x,y)),rData,pts)\n",
    "    pts = pts[~np.isnan(rPts)]\n",
    "    rPts = rPts[~np.isnan(rPts)]\n",
    "    cs = plt.tricontour(pts[:,0],pts[:,1],rPts,levels=[1.0], \n",
    "                        colors=gqcolorsMono[gTuple],linewidths=2.0,\n",
    "                        linestyles=gqstylesMono[gTuple])\n",
    "\n",
    "    legends[gqLegend[gTuple]] = cs.legend_elements()[0][0]\n",
    "\n",
    "plt.axline((1, 1), slope=1/2, linestyle='--', color='gray')\n",
    "\n",
    "plt.title(r'SModelS v3.0.0', loc='left')\n",
    "plt.title(r'2MDM model', loc='right')\n",
    "\n",
    "plt.ylim(100, 800) \n",
    "plt.xlim(250, 2000)\n",
    "\n",
    "plt.text(0.1,0.9,r'$Z^\\prime \\to \\chi \\chi$',\n",
    "            bbox=dict(facecolor='white', edgecolor='black'),\n",
    "            transform = plt.gca().transAxes)\n",
    "\n",
    "\n",
    "plt.xlabel(r'$m_{Z^{\\prime}}$ (GeV)')\n",
    "plt.ylabel(r'$m_{\\chi}$ (GeV)')\n",
    "plt.legend(handles = legends.values(), labels=legends.keys(), loc='upper left',  handlelength=3,\n",
    "           bbox_to_anchor=(0.01,0.87))\n",
    "\n",
    "plt.tight_layout()\n",
    "plt.savefig('./figures/exclusions_2mdm_monojet_curves.png')\n",
    "plt.show()"
   ]
  }
 ],
 "metadata": {
  "kernelspec": {
   "display_name": "Python 3 (ipykernel)",
   "language": "python",
   "name": "python3"
  },
  "language_info": {
   "codemirror_mode": {
    "name": "ipython",
    "version": 3
   },
   "file_extension": ".py",
   "mimetype": "text/x-python",
   "name": "python",
   "nbconvert_exporter": "python",
   "pygments_lexer": "ipython3",
   "version": "3.12.3"
  }
 },
 "nbformat": 4,
 "nbformat_minor": 2
}
