{
 "cells": [
  {
   "attachments": {},
   "cell_type": "markdown",
   "metadata": {},
   "source": [
    "# Plots for the 2MDM analysis"
   ]
  },
  {
   "cell_type": "code",
   "execution_count": 68,
   "metadata": {
    "ExecuteTime": {
     "end_time": "2024-01-31T14:45:31.167350Z",
     "start_time": "2024-01-31T14:45:30.326673Z"
    }
   },
   "outputs": [
    {
     "name": "stderr",
     "output_type": "stream",
     "text": [
      "/var/folders/b3/l10x2d9503j4vrszk86wqw040000gn/T/ipykernel_97952/1200496628.py:36: MatplotlibDeprecationWarning: The get_cmap function was deprecated in Matplotlib 3.7 and will be removed two minor releases later. Use ``matplotlib.colormaps[name]`` or ``matplotlib.colormaps.get_cmap(obj)`` instead.\n",
      "  cm = plt.cm.get_cmap('RdYlBu')\n"
     ]
    }
   ],
   "source": [
    "import warnings\n",
    "warnings.filterwarnings(\"ignore\", message=\"numpy.dtype size changed\")\n",
    "import numpy as np\n",
    "import pandas as pd\n",
    "import glob,imp,os,shutil\n",
    "from pandas import json_normalize\n",
    "\n",
    "import pyslha\n",
    "import matplotlib as mpl\n",
    "import matplotlib.pyplot as plt\n",
    "from matplotlib.colors import LogNorm\n",
    "import matplotlib.patches as mpatches\n",
    "from collections import OrderedDict\n",
    "import seaborn as sns\n",
    "from scipy.interpolate import LinearNDInterpolator,interp2d, griddata\n",
    "from itertools import product\n",
    "from IPython.display import display, Markdown\n",
    "\n",
    "pd.option_context('display.max_columns', -1)\n",
    "\n",
    "pd.options.mode.chained_assignment = None #Disable copy warnings\n",
    "# plt.style.use('fivethirtyeight') #Set style\n",
    "# mpl.rcParams.update({'figure.figsize' : (15,10)})  #Set general plotting options\n",
    "plt.rcParams.update({\n",
    "    \"text.usetex\": True,\n",
    "    \"font.family\": \"sans-serif\",\n",
    "    \"font.sans-serif\": [\"Helvetica\"]})\n",
    "\n",
    "plt.rcParams.update({\"savefig.dpi\" : 300}) #Figure resolution\n",
    "\n",
    "\n",
    "#Define plotting style:\n",
    "sns.set() #Set style\n",
    "sns.set_style('ticks',{'font.family':'Times New Roman', 'font.serif':'Times New Roman'})\n",
    "sns.set_context('paper', font_scale=1.8)\n",
    "cm = plt.cm.get_cmap('RdYlBu')"
   ]
  },
  {
   "attachments": {},
   "cell_type": "markdown",
   "metadata": {},
   "source": [
    "#### Convert ID labels"
   ]
  },
  {
   "cell_type": "code",
   "execution_count": 2,
   "metadata": {
    "ExecuteTime": {
     "end_time": "2024-01-31T14:45:31.172069Z",
     "start_time": "2024-01-31T14:45:31.169110Z"
    }
   },
   "outputs": [],
   "source": [
    "processDict = {'ATLAS-SUSY-2018-22-multibin' : 'ATLAS-SUSY-2018-22'}\n",
    "def convertLabel(label):\n",
    "    newlabel = label[:]\n",
    "    #Replace txnames by process\n",
    "    for txlabel,proc in processDict.items():\n",
    "        newlabel = newlabel.replace(txlabel,proc) \n",
    "    return newlabel"
   ]
  },
  {
   "attachments": {},
   "cell_type": "markdown",
   "metadata": {},
   "source": [
    "#### Get data in pcl format and print all columns names"
   ]
  },
  {
   "cell_type": "code",
   "execution_count": 3,
   "metadata": {
    "ExecuteTime": {
     "end_time": "2024-01-31T14:45:32.917617Z",
     "start_time": "2024-01-31T14:45:31.229063Z"
    },
    "scrolled": true
   },
   "outputs": [
    {
     "name": "stdout",
     "output_type": "stream",
     "text": [
      "['filename', 'mass.9000006', 'mass.9900026', 'mass.9900032', 'mass.9000002', 'mass.9000003', 'mass.9000004', 'mass.9000005', 'width.9000002', 'width.9000003', 'width.9000004', 'width.9000005', 'width.9000006', 'width.9900026', 'width.9900032', 'extpar.1', 'extpar.2', 'extpar.3', 'extpar.4', 'xsec8TeV(fb).9900032', 'xsec8TeV(fb).9900026', 'xsec13TeV(fb).9900032', 'xsec13TeV(fb).9900026', 'BRs.sd.W-,W+', 'BRs.sd.higgs,higgs', 'BRs.sd.Z,Z', 'BRs.sd.t-,t+', 'BRs.sd.chi,chi', 'BRs.zp.chi,chi', 'BRs.zp.c,c', 'BRs.zp.q,q', 'BRs.zp.b,b', 'BRs.zp.t-,t+', 'BRs.sd.ta+,ta-', 'totalxsec13TeV(fb)', 'totalxsec8TeV(fb)', 'CombinedRes', 'Total xsec for missing topologies (fb)', 'Total xsec for missing topologies with displaced decays (fb)', 'Total xsec for missing topologies with prompt decays (fb)', 'Total xsec for topologies outside the grid (fb)', 'OutputStatus.sigmacut', 'OutputStatus.minmassgap', 'OutputStatus.maxcond', 'OutputStatus.ncpus', 'OutputStatus.model', 'OutputStatus.promptwidth', 'OutputStatus.stablewidth', 'OutputStatus.eraseprompt', 'OutputStatus.checkinput', 'OutputStatus.doinvisible', 'OutputStatus.docompress', 'OutputStatus.computestatistics', 'OutputStatus.testcoverage', 'OutputStatus.combinesrs', 'OutputStatus.combineanas', 'OutputStatus.reportallsrs', 'OutputStatus.experimentalfeatures', 'OutputStatus.file status', 'OutputStatus.decomposition status', 'OutputStatus.warnings', 'OutputStatus.input file', 'OutputStatus.database version', 'OutputStatus.smodels version', 'ExptRes.result0.maxcond', 'ExptRes.result0.theory prediction (fb)', 'ExptRes.result0.upper limit (fb)', 'ExptRes.result0.expected upper limit (fb)', 'ExptRes.result0.TxNames', 'ExptRes.result0.Mass (GeV)', 'ExptRes.result0.AnalysisID', 'ExptRes.result0.DataSetID', 'ExptRes.result0.AnalysisSqrts (TeV)', 'ExptRes.result0.lumi (fb-1)', 'ExptRes.result0.dataType', 'ExptRes.result0.r', 'ExptRes.result0.r_expected', 'ExptRes.result0.Width (GeV)', 'ExptRes.result1.maxcond', 'ExptRes.result1.theory prediction (fb)', 'ExptRes.result1.upper limit (fb)', 'ExptRes.result1.expected upper limit (fb)', 'ExptRes.result1.TxNames', 'ExptRes.result1.Mass (GeV)', 'ExptRes.result1.AnalysisID', 'ExptRes.result1.DataSetID', 'ExptRes.result1.AnalysisSqrts (TeV)', 'ExptRes.result1.lumi (fb-1)', 'ExptRes.result1.dataType', 'ExptRes.result1.r', 'ExptRes.result1.r_expected', 'ExptRes.result1.Width (GeV)', 'ExptRes.result1.nll', 'ExptRes.result1.nll_min', 'ExptRes.result1.nll_SM', 'ExptRes.result2.maxcond', 'ExptRes.result2.theory prediction (fb)', 'ExptRes.result2.upper limit (fb)', 'ExptRes.result2.expected upper limit (fb)', 'ExptRes.result2.TxNames', 'ExptRes.result2.Mass (GeV)', 'ExptRes.result2.AnalysisID', 'ExptRes.result2.DataSetID', 'ExptRes.result2.AnalysisSqrts (TeV)', 'ExptRes.result2.lumi (fb-1)', 'ExptRes.result2.dataType', 'ExptRes.result2.r', 'ExptRes.result2.r_expected', 'ExptRes.result2.Width (GeV)', 'ExptRes.result2.nll', 'ExptRes.result2.nll_min', 'ExptRes.result2.nll_SM', 'ExptRes.result3.maxcond', 'ExptRes.result3.theory prediction (fb)', 'ExptRes.result3.upper limit (fb)', 'ExptRes.result3.expected upper limit (fb)', 'ExptRes.result3.TxNames', 'ExptRes.result3.Mass (GeV)', 'ExptRes.result3.AnalysisID', 'ExptRes.result3.DataSetID', 'ExptRes.result3.AnalysisSqrts (TeV)', 'ExptRes.result3.lumi (fb-1)', 'ExptRes.result3.dataType', 'ExptRes.result3.r', 'ExptRes.result3.r_expected', 'ExptRes.result3.Width (GeV)', 'ExptRes.result3.nll', 'ExptRes.result3.nll_min', 'ExptRes.result3.nll_SM', 'ExptRes.result4.maxcond', 'ExptRes.result4.theory prediction (fb)', 'ExptRes.result4.upper limit (fb)', 'ExptRes.result4.expected upper limit (fb)', 'ExptRes.result4.TxNames', 'ExptRes.result4.Mass (GeV)', 'ExptRes.result4.AnalysisID', 'ExptRes.result4.DataSetID', 'ExptRes.result4.AnalysisSqrts (TeV)', 'ExptRes.result4.lumi (fb-1)', 'ExptRes.result4.dataType', 'ExptRes.result4.r', 'ExptRes.result4.r_expected', 'ExptRes.result4.Width (GeV)', 'ExptRes.result4.nll', 'ExptRes.result4.nll_min', 'ExptRes.result4.nll_SM', 'ExptRes.result5.maxcond', 'ExptRes.result5.theory prediction (fb)', 'ExptRes.result5.upper limit (fb)', 'ExptRes.result5.expected upper limit (fb)', 'ExptRes.result5.TxNames', 'ExptRes.result5.Mass (GeV)', 'ExptRes.result5.AnalysisID', 'ExptRes.result5.DataSetID', 'ExptRes.result5.AnalysisSqrts (TeV)', 'ExptRes.result5.lumi (fb-1)', 'ExptRes.result5.dataType', 'ExptRes.result5.r', 'ExptRes.result5.r_expected', 'ExptRes.result5.Width (GeV)', 'ExptRes.result0.nll', 'ExptRes.result0.nll_min', 'ExptRes.result0.nll_SM', 'ExptRes.result5.nll', 'ExptRes.result5.nll_min', 'ExptRes.result5.nll_SM', 'ExptRes.result6.maxcond', 'ExptRes.result6.theory prediction (fb)', 'ExptRes.result6.upper limit (fb)', 'ExptRes.result6.expected upper limit (fb)', 'ExptRes.result6.TxNames', 'ExptRes.result6.Mass (GeV)', 'ExptRes.result6.AnalysisID', 'ExptRes.result6.DataSetID', 'ExptRes.result6.AnalysisSqrts (TeV)', 'ExptRes.result6.lumi (fb-1)', 'ExptRes.result6.dataType', 'ExptRes.result6.r', 'ExptRes.result6.r_expected', 'ExptRes.result6.Width (GeV)', 'ExptRes.result6.nll', 'ExptRes.result6.nll_min', 'ExptRes.result6.nll_SM', 'ExptRes.result7.maxcond', 'ExptRes.result7.theory prediction (fb)', 'ExptRes.result7.upper limit (fb)', 'ExptRes.result7.expected upper limit (fb)', 'ExptRes.result7.TxNames', 'ExptRes.result7.Mass (GeV)', 'ExptRes.result7.AnalysisID', 'ExptRes.result7.DataSetID', 'ExptRes.result7.AnalysisSqrts (TeV)', 'ExptRes.result7.lumi (fb-1)', 'ExptRes.result7.dataType', 'ExptRes.result7.r', 'ExptRes.result7.r_expected', 'ExptRes.result7.Width (GeV)', 'ExptRes.result7.nll', 'ExptRes.result7.nll_min', 'ExptRes.result7.nll_SM', 'ExptRes.result8.maxcond', 'ExptRes.result8.theory prediction (fb)', 'ExptRes.result8.upper limit (fb)', 'ExptRes.result8.expected upper limit (fb)', 'ExptRes.result8.TxNames', 'ExptRes.result8.Mass (GeV)', 'ExptRes.result8.AnalysisID', 'ExptRes.result8.DataSetID', 'ExptRes.result8.AnalysisSqrts (TeV)', 'ExptRes.result8.lumi (fb-1)', 'ExptRes.result8.dataType', 'ExptRes.result8.r', 'ExptRes.result8.r_expected', 'ExptRes.result8.Width (GeV)', 'ExptRes.result8.nll', 'ExptRes.result8.nll_min', 'ExptRes.result8.nll_SM']\n"
     ]
    }
   ],
   "source": [
    "#Merge with SModelS DataFrame\n",
    "pclFiles = ['../scan/smodels_results_final.pcl']\n",
    "dfs = [pd.read_pickle(i) for i in pclFiles]\n",
    "dataDF = pd.concat(dfs, ignore_index=True)\n",
    "print(dataDF.columns.values.tolist()) #Print all columns names"
   ]
  },
  {
   "cell_type": "code",
   "execution_count": 4,
   "metadata": {},
   "outputs": [],
   "source": [
    "# create dataframe for combined data with necessary info\n",
    "dataCombined = dataDF.to_dict('series')\n",
    "dataCombined = dataCombined['CombinedRes'][~dataCombined['CombinedRes'].isna()]"
   ]
  },
  {
   "cell_type": "code",
   "execution_count": 5,
   "metadata": {},
   "outputs": [],
   "source": [
    "dfs1 = []\n",
    "initialDF = dataDF[~dataDF['CombinedRes'].isna()]\n",
    "for i, l in enumerate(dataCombined):\n",
    "    df_row = l[0]\n",
    "    df_row['filename'] = initialDF['filename'].iloc[i]\n",
    "    df_row['mass.9900032'] = initialDF['mass.9900032'].iloc[i]\n",
    "    df_row['mass.9000006'] = initialDF['mass.9000006'].iloc[i]\n",
    "    df_row['extpar.1'] = initialDF['extpar.1'].iloc[i]\n",
    "    df_row['extpar.2'] = initialDF['extpar.2'].iloc[i]\n",
    "    df_row['extpar.3'] = initialDF['extpar.3'].iloc[i]\n",
    "    dfs1.append(df_row)\n",
    "# dataDF_combined = pd.concat(dfs1, ignore_index=True)"
   ]
  },
  {
   "cell_type": "code",
   "execution_count": 6,
   "metadata": {},
   "outputs": [],
   "source": [
    "dataDF_combined = pd.DataFrame(dfs1)"
   ]
  },
  {
   "attachments": {},
   "cell_type": "markdown",
   "metadata": {},
   "source": [
    "#### Set r = 0 for points with no results "
   ]
  },
  {
   "cell_type": "code",
   "execution_count": 7,
   "metadata": {
    "ExecuteTime": {
     "end_time": "2024-01-31T14:45:33.253371Z",
     "start_time": "2024-01-31T14:45:32.919681Z"
    }
   },
   "outputs": [],
   "source": [
    "#Set points without results with r == 0\n",
    "dataDF.fillna(value={c : 0 for c in dataDF.columns if c.endswith('.r')}, inplace=True)\n",
    "#Sort points according to r value:\n",
    "dataDF = dataDF.sort_values(by=['ExptRes.result0.r'],ascending=False)"
   ]
  },
  {
   "attachments": {},
   "cell_type": "markdown",
   "metadata": {},
   "source": [
    "#### Define exclusions"
   ]
  },
  {
   "cell_type": "code",
   "execution_count": 8,
   "metadata": {
    "ExecuteTime": {
     "end_time": "2024-01-31T14:45:33.616011Z",
     "start_time": "2024-01-31T14:45:33.610622Z"
    }
   },
   "outputs": [],
   "source": [
    "#Add simple flag for excluded points:\n",
    "dataDF['excludedLHC'] = dataDF['ExptRes.result0.r'] > 1.0"
   ]
  },
  {
   "attachments": {},
   "cell_type": "markdown",
   "metadata": {},
   "source": [
    "### Get points excluded:"
   ]
  },
  {
   "cell_type": "code",
   "execution_count": 9,
   "metadata": {
    "ExecuteTime": {
     "end_time": "2024-01-31T14:45:34.533840Z",
     "start_time": "2024-01-31T14:45:34.427775Z"
    }
   },
   "outputs": [
    {
     "name": "stdout",
     "output_type": "stream",
     "text": [
      "Total number of points = 17991\n",
      "Total excluded (LHC) = 8937\n",
      "Total allowed = 9054\n",
      "\n"
     ]
    }
   ],
   "source": [
    "excluded = dataDF[dataDF['excludedLHC'] == True]\n",
    "\n",
    "allowed = dataDF[(dataDF['excludedLHC'] == False)]\n",
    "\n",
    "\n",
    "print('Total number of points = %i' %len(dataDF))\n",
    "print('Total excluded (LHC) = %i'%(len(excluded)))\n",
    "print('Total allowed = %i\\n'%(len(allowed)))\n",
    "\n",
    "# print('Total excluded (r > %1.2f) = %i'%(rscale,len(excludedSC)))\n",
    "# print('Total allowed (r > %1.2f) = %i'%(rscale,len(allowedSC)))\n"
   ]
  },
  {
   "attachments": {},
   "cell_type": "markdown",
   "metadata": {},
   "source": [
    "### Get all analyses in one column"
   ]
  },
  {
   "cell_type": "code",
   "execution_count": 10,
   "metadata": {
    "ExecuteTime": {
     "end_time": "2024-01-31T14:45:39.301539Z",
     "start_time": "2024-01-31T14:45:39.291289Z"
    },
    "scrolled": true
   },
   "outputs": [
    {
     "name": "stdout",
     "output_type": "stream",
     "text": [
      "['ExptRes.result0.AnalysisID', 'ExptRes.result1.AnalysisID', 'ExptRes.result2.AnalysisID', 'ExptRes.result3.AnalysisID', 'ExptRes.result4.AnalysisID', 'ExptRes.result5.AnalysisID', 'ExptRes.result6.AnalysisID', 'ExptRes.result7.AnalysisID', 'ExptRes.result8.AnalysisID']\n"
     ]
    }
   ],
   "source": [
    "idCols = [c for c in dataDF.columns if 'AnalysisID' in c]\n",
    "txCols = [c for c in dataDF.columns if 'TxNames' in c]\n",
    "print(idCols)"
   ]
  },
  {
   "cell_type": "code",
   "execution_count": 11,
   "metadata": {
    "ExecuteTime": {
     "end_time": "2024-01-31T14:45:39.998163Z",
     "start_time": "2024-01-31T14:45:39.778319Z"
    }
   },
   "outputs": [],
   "source": [
    "ana, tx = [], []\n",
    "for c in idCols:\n",
    "    for i in dataDF[c].dropna().unique():\n",
    "        ana.append(i)\n",
    "        \n",
    "for c in txCols:\n",
    "    for txlist in dataDF[c].dropna():\n",
    "        for i in txlist:\n",
    "            tx.append(i)"
   ]
  },
  {
   "cell_type": "code",
   "execution_count": 12,
   "metadata": {
    "ExecuteTime": {
     "end_time": "2024-01-31T14:45:41.342608Z",
     "start_time": "2024-01-31T14:45:41.317039Z"
    }
   },
   "outputs": [],
   "source": [
    "txnames = pd.Series(tx).drop_duplicates().tolist()\n",
    "analysis = pd.Series(ana).drop_duplicates().tolist()"
   ]
  },
  {
   "cell_type": "code",
   "execution_count": 13,
   "metadata": {
    "ExecuteTime": {
     "end_time": "2024-01-31T14:45:43.411884Z",
     "start_time": "2024-01-31T14:45:43.387161Z"
    }
   },
   "outputs": [
    {
     "data": {
      "text/plain": [
       "['TRV1', 'TRS1', 'TRV1jj', 'TRV1bb', 'TRV1qq', 'TRV1tt']"
      ]
     },
     "execution_count": 13,
     "metadata": {},
     "output_type": "execute_result"
    }
   ],
   "source": [
    "txnames"
   ]
  },
  {
   "cell_type": "code",
   "execution_count": 14,
   "metadata": {
    "ExecuteTime": {
     "end_time": "2024-01-31T14:48:07.015211Z",
     "start_time": "2024-01-31T14:45:43.826265Z"
    }
   },
   "outputs": [],
   "source": [
    "filteredDF = []\n",
    "# anaID = analysis\n",
    "# txID = txnames\n",
    "for irow,row in dataDF.iterrows():\n",
    "    for anaID in analysis:\n",
    "        for txID in txnames:\n",
    "            resCols = [idc for idc in idCols if (row[idc] == anaID and (row[idc.replace('AnalysisID','TxNames')] == [txID]\n",
    "                                                                       or row[idc.replace('AnalysisID','TxNames')] == ['TRS1', 'TRV1']))]\n",
    "            if not resCols:\n",
    "                continue\n",
    "            resCol = resCols[0].rsplit('.',1)[0]\n",
    "            newrow = {c.replace(resCol,'ExptRes.result') : row[c] for c in dataDF.columns if (('ExptRes' not in c) or (resCol in c))}\n",
    "            filteredDF.append(newrow)  "
   ]
  },
  {
   "cell_type": "code",
   "execution_count": 41,
   "metadata": {
    "ExecuteTime": {
     "end_time": "2024-01-31T14:48:13.001560Z",
     "start_time": "2024-01-31T14:48:07.016931Z"
    }
   },
   "outputs": [],
   "source": [
    "newDF = pd.DataFrame.from_dict(filteredDF)"
   ]
  },
  {
   "cell_type": "code",
   "execution_count": 42,
   "metadata": {
    "ExecuteTime": {
     "end_time": "2024-01-31T14:48:13.045310Z",
     "start_time": "2024-01-31T14:48:13.003520Z"
    },
    "scrolled": false
   },
   "outputs": [
    {
     "data": {
      "text/html": [
       "<div>\n",
       "<style scoped>\n",
       "    .dataframe tbody tr th:only-of-type {\n",
       "        vertical-align: middle;\n",
       "    }\n",
       "\n",
       "    .dataframe tbody tr th {\n",
       "        vertical-align: top;\n",
       "    }\n",
       "\n",
       "    .dataframe thead th {\n",
       "        text-align: right;\n",
       "    }\n",
       "</style>\n",
       "<table border=\"1\" class=\"dataframe\">\n",
       "  <thead>\n",
       "    <tr style=\"text-align: right;\">\n",
       "      <th></th>\n",
       "      <th>ExptRes.result.AnalysisID</th>\n",
       "      <th>ExptRes.result.TxNames</th>\n",
       "      <th>ExptRes.result.r</th>\n",
       "    </tr>\n",
       "  </thead>\n",
       "  <tbody>\n",
       "    <tr>\n",
       "      <th>0</th>\n",
       "      <td>ATLAS-SUSY-2018-22-multibin</td>\n",
       "      <td>[TRV1]</td>\n",
       "      <td>46.542400</td>\n",
       "    </tr>\n",
       "    <tr>\n",
       "      <th>1</th>\n",
       "      <td>ATLAS-EXOT-2018-06</td>\n",
       "      <td>[TRV1]</td>\n",
       "      <td>39.096060</td>\n",
       "    </tr>\n",
       "    <tr>\n",
       "      <th>2</th>\n",
       "      <td>ATLAS-EXOT-2018-06</td>\n",
       "      <td>[TRS1]</td>\n",
       "      <td>0.039025</td>\n",
       "    </tr>\n",
       "    <tr>\n",
       "      <th>3</th>\n",
       "      <td>CMS-EXO-20-004</td>\n",
       "      <td>[TRV1]</td>\n",
       "      <td>34.450300</td>\n",
       "    </tr>\n",
       "    <tr>\n",
       "      <th>4</th>\n",
       "      <td>ATLAS-SUSY-2018-22</td>\n",
       "      <td>[TRV1]</td>\n",
       "      <td>16.672780</td>\n",
       "    </tr>\n",
       "    <tr>\n",
       "      <th>...</th>\n",
       "      <td>...</td>\n",
       "      <td>...</td>\n",
       "      <td>...</td>\n",
       "    </tr>\n",
       "    <tr>\n",
       "      <th>125392</th>\n",
       "      <td>CMS-EXO-20-004</td>\n",
       "      <td>[TRV1]</td>\n",
       "      <td>0.000534</td>\n",
       "    </tr>\n",
       "    <tr>\n",
       "      <th>125393</th>\n",
       "      <td>CMS-EXO-20-004</td>\n",
       "      <td>[TRV1]</td>\n",
       "      <td>0.000231</td>\n",
       "    </tr>\n",
       "    <tr>\n",
       "      <th>125394</th>\n",
       "      <td>CMS-EXO-20-004</td>\n",
       "      <td>[TRV1]</td>\n",
       "      <td>0.000062</td>\n",
       "    </tr>\n",
       "    <tr>\n",
       "      <th>125395</th>\n",
       "      <td>CMS-EXO-20-004</td>\n",
       "      <td>[TRV1]</td>\n",
       "      <td>0.000042</td>\n",
       "    </tr>\n",
       "    <tr>\n",
       "      <th>125396</th>\n",
       "      <td>CMS-EXO-20-004</td>\n",
       "      <td>[TRV1]</td>\n",
       "      <td>0.000007</td>\n",
       "    </tr>\n",
       "  </tbody>\n",
       "</table>\n",
       "<p>125397 rows × 3 columns</p>\n",
       "</div>"
      ],
      "text/plain": [
       "          ExptRes.result.AnalysisID ExptRes.result.TxNames  ExptRes.result.r\n",
       "0       ATLAS-SUSY-2018-22-multibin                 [TRV1]         46.542400\n",
       "1                ATLAS-EXOT-2018-06                 [TRV1]         39.096060\n",
       "2                ATLAS-EXOT-2018-06                 [TRS1]          0.039025\n",
       "3                    CMS-EXO-20-004                 [TRV1]         34.450300\n",
       "4                ATLAS-SUSY-2018-22                 [TRV1]         16.672780\n",
       "...                             ...                    ...               ...\n",
       "125392               CMS-EXO-20-004                 [TRV1]          0.000534\n",
       "125393               CMS-EXO-20-004                 [TRV1]          0.000231\n",
       "125394               CMS-EXO-20-004                 [TRV1]          0.000062\n",
       "125395               CMS-EXO-20-004                 [TRV1]          0.000042\n",
       "125396               CMS-EXO-20-004                 [TRV1]          0.000007\n",
       "\n",
       "[125397 rows x 3 columns]"
      ]
     },
     "execution_count": 42,
     "metadata": {},
     "output_type": "execute_result"
    }
   ],
   "source": [
    "newDF[['ExptRes.result.AnalysisID','ExptRes.result.TxNames','ExptRes.result.r']]"
   ]
  },
  {
   "cell_type": "code",
   "execution_count": 43,
   "metadata": {},
   "outputs": [],
   "source": [
    "# filter couplings\n",
    "gq = 0.25\n",
    "gchi = 1.414214\n",
    "sina = 0.25\n",
    "\n",
    "newDF = newDF[(newDF['extpar.1'] == gchi) & (newDF['extpar.2'] == gq) & (newDF['extpar.3'] == sina)]"
   ]
  },
  {
   "cell_type": "code",
   "execution_count": 44,
   "metadata": {
    "ExecuteTime": {
     "end_time": "2024-01-31T14:48:35.773121Z",
     "start_time": "2024-01-31T14:48:13.050299Z"
    }
   },
   "outputs": [],
   "source": [
    "newDF['excluded'] = newDF['ExptRes.result.r'] > 1.0\n",
    "excluded = newDF[newDF['excluded'] == True]\n",
    "anas = excluded['ExptRes.result.AnalysisID'].value_counts()\n",
    "anas.sort_values(inplace=True,ascending=False)"
   ]
  },
  {
   "cell_type": "code",
   "execution_count": 45,
   "metadata": {
    "ExecuteTime": {
     "end_time": "2024-01-31T14:48:36.433741Z",
     "start_time": "2024-01-31T14:48:36.419180Z"
    }
   },
   "outputs": [
    {
     "data": {
      "text/plain": [
       "array(['ATLAS-SUSY-2018-22-multibin', 'ATLAS-EXOT-2018-06',\n",
       "       'CMS-EXO-20-004', 'ATLAS-SUSY-2018-22', 'CMS-EXO-19-012'],\n",
       "      dtype=object)"
      ]
     },
     "execution_count": 45,
     "metadata": {},
     "output_type": "execute_result"
    }
   ],
   "source": [
    "excluded['ExptRes.result.AnalysisID'].unique()"
   ]
  },
  {
   "attachments": {},
   "cell_type": "markdown",
   "metadata": {},
   "source": [
    "#### Create legend for plots for excluded points"
   ]
  },
  {
   "cell_type": "code",
   "execution_count": 54,
   "metadata": {
    "ExecuteTime": {
     "end_time": "2024-01-31T14:50:02.834599Z",
     "start_time": "2024-01-31T14:50:02.819369Z"
    }
   },
   "outputs": [],
   "source": [
    "prop_cycle = plt.rcParams['axes.prop_cycle']\n",
    "colors = prop_cycle.by_key()['color']"
   ]
  },
  {
   "cell_type": "code",
   "execution_count": 62,
   "metadata": {
    "ExecuteTime": {
     "end_time": "2024-01-31T14:50:03.251524Z",
     "start_time": "2024-01-31T14:50:03.000777Z"
    }
   },
   "outputs": [],
   "source": [
    "colorDict = {'ATLAS-SUSY-2018-22-multibin,CMS-EXO-20-004': np.array(colors[0]).reshape(-1,3),\n",
    "            'ATLAS-SUSY-2018-22-multibin':  np.array(colors[1]).reshape(-1,3),\n",
    "            'CMS-EXO-20-004':  np.array(colors[2]).reshape(-1,3),\n",
    "            'ATLAS-EXOT-2018-06':np.array(colors[3]).reshape(-1,3),\n",
    "            'CMS-EXO-19-012':  np.array(colors[9]).reshape(-1,3),}"
   ]
  },
  {
   "cell_type": "code",
   "execution_count": 63,
   "metadata": {
    "ExecuteTime": {
     "end_time": "2024-01-31T14:50:04.782005Z",
     "start_time": "2024-01-31T14:50:04.766370Z"
    }
   },
   "outputs": [],
   "source": [
    "legend = []\n",
    "for ana, color in colorDict.items():\n",
    "    l = mpatches.Patch(color=color, label=convertLabel(ana))\n",
    "    legend.append(l)"
   ]
  },
  {
   "attachments": {},
   "cell_type": "markdown",
   "metadata": {},
   "source": [
    "### Plot only excluded points for a selected $g_{q}, g_{\\chi}$ pair"
   ]
  },
  {
   "cell_type": "code",
   "execution_count": 67,
   "metadata": {},
   "outputs": [
    {
     "name": "stdout",
     "output_type": "stream",
     "text": [
      "CMS-EXO-19-012\n",
      "ATLAS-EXOT-2018-06\n"
     ]
    },
    {
     "data": {
      "image/png": "[encoded data removed]",
      "text/plain": [
       "<Figure size 1000x800 with 1 Axes>"
      ]
     },
     "metadata": {},
     "output_type": "display_data"
    }
   ],
   "source": [
    "cm = plt.colormaps['Spectral_r']\n",
    "plt.figure(figsize=(10,8))\n",
    "# plt.figure(figsize=(10,8))\n",
    "\n",
    "gq = 0.25\n",
    "gchi = 1.414214\n",
    "sina = 0.25\n",
    "\n",
    "dataAll = dataDF_combined[(dataDF_combined['extpar.1'] == gchi) \n",
    "                          & (dataDF_combined['extpar.2'] == gq) & (dataDF_combined['extpar.3'] == sina)]\n",
    "\n",
    "\n",
    "x = dataAll['mass.9900032']\n",
    "y = dataAll['mass.9000006']\n",
    "c = dataAll['r']\n",
    "\n",
    "# sc = plt.scatter(x,y,c=c,s=40,cmap=cm, vmin=0.8,vmax=1.2)\n",
    "\n",
    "\n",
    "rData = dataAll['r']\n",
    "pts = np.array([y for y in product(np.linspace(200.,4100.,300),np.linspace(0.,2000.,300))])\n",
    "rPts = griddata(list(zip(dataAll['mass.9900032'],dataAll['mass.9000006'])),rData,pts)\n",
    "pts = pts[~np.isnan(rPts)]\n",
    "rPts = rPts[~np.isnan(rPts)]\n",
    "cs_comb = plt.tricontour(pts[:,0],pts[:,1],rPts,levels=[1.0], linewidths=2.0, colors=colorDict['ATLAS-SUSY-2018-22-multibin,CMS-EXO-20-004'])\n",
    "plt.tricontourf(pts[:,0],pts[:,1], rPts, levels=[1.0, max(rPts)], alpha=0.7, colors=colorDict['ATLAS-SUSY-2018-22-multibin,CMS-EXO-20-004'])\n",
    "\n",
    "anas = ['CMS-EXO-19-012', 'ATLAS-EXOT-2018-06']\n",
    "for label in anas:\n",
    "    # if 'CMS-EXO-19-012' not in label: continue\n",
    "    print(label)\n",
    "    data = newDF[(newDF['ExptRes.result.AnalysisID']==label)]\n",
    "    data = data.sort_values(['filename', 'ExptRes.result.r']).drop_duplicates(['filename'], keep='last')\n",
    "    rData = data['ExptRes.result.r']\n",
    "    if len(rData) == 0: continue\n",
    "    pts = np.array([y for y in product(np.linspace(200.,4100.,300),np.linspace(0.,2000.,300))])\n",
    "    rPts = griddata(list(zip(data['mass.9900032'],data['mass.9000006'])),rData,pts)\n",
    "    pts = pts[~np.isnan(rPts)]\n",
    "    rPts = rPts[~np.isnan(rPts)]\n",
    "    cs = plt.tricontour(pts[:,0],pts[:,1],rPts,levels=[1.0], colors=colorDict[label], linewidths=2.0)\n",
    "    plt.tricontourf(pts[:,0],pts[:,1], rPts, levels=[1.0, max(rPts)], alpha=0.7, colors=colorDict[label])\n",
    "\n",
    "    \n",
    "\n",
    "    \n",
    "plt.axline((1, 1), slope=1/2, linestyle='--', color='gray')\n",
    "plt.legend(handles=[legend[0], legend[3], legend[-1]], fontsize=20, loc='upper left')\n",
    "\n",
    "# cb = plt.colorbar(sc)\n",
    "# cb.ax.tick_params(labelsize=25)\n",
    "# cb.set_label(label=r'$r$',size=25)\n",
    "\n",
    "# plt.hlines(402, 260,4000, colors='black')\n",
    "# plt.vlines(2200, 0, 2000)\n",
    "# plt.vlines(2400, 0, 2000)\n",
    "\n",
    "\n",
    "plt.xlabel(r'$m_{Z^{\\prime}}$ (GeV)', fontsize=25)\n",
    "plt.ylabel(r'$m_{\\chi}$ (GeV)', fontsize=25)\n",
    "plt.text(0.02,0.5,r'$g_{q} = %1.2f$, $g_{\\chi} = \\sqrt{2}$' % (gq),fontsize=20,\n",
    "         bbox=dict(facecolor='white', edgecolor='black'),transform = plt.gca().transAxes)\n",
    "\n",
    "# plt.text(900,1330,r'$j = u, d, c, s, b$',fontsize=18)\n",
    "# plt.savefig('exclusions_2mdm_all.png')\n",
    "plt.title(r'SModelS v3.0.0', loc='left', fontsize=25)\n",
    "plt.title(r'2MDM model', loc='right', fontsize=25)\n",
    "\n",
    "plt.yticks(fontsize=25)\n",
    "plt.xticks(fontsize=25)\n",
    "plt.tight_layout()\n",
    "plt.xlim(250,3000)\n",
    "plt.ylim(60, 1490)\n",
    "\n",
    "plt.grid()\n",
    "plt.tight_layout()\n",
    "\n",
    "plt.savefig('./figures/monojet-dijet-default-couplings.png')\n",
    "plt.show()"
   ]
  },
  {
   "cell_type": "code",
   "execution_count": null,
   "metadata": {},
   "outputs": [],
   "source": []
  }
 ],
 "metadata": {
  "kernelspec": {
   "display_name": "Python 3 (ipykernel)",
   "language": "python",
   "name": "python3"
  },
  "language_info": {
   "codemirror_mode": {
    "name": "ipython",
    "version": 3
   },
   "file_extension": ".py",
   "mimetype": "text/x-python",
   "name": "python",
   "nbconvert_exporter": "python",
   "pygments_lexer": "ipython3",
   "version": "3.9.13"
  }
 },
 "nbformat": 4,
 "nbformat_minor": 2
}
