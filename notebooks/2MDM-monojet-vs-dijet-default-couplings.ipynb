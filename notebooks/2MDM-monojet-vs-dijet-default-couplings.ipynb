{
 "cells": [
  {
   "attachments": {},
   "cell_type": "markdown",
   "metadata": {},
   "source": [
    "# Plots for the 2MDM analysis"
   ]
  },
  {
   "cell_type": "code",
   "execution_count": 1,
   "metadata": {
    "ExecuteTime": {
     "end_time": "2024-01-31T14:45:31.167350Z",
     "start_time": "2024-01-31T14:45:30.326673Z"
    }
   },
   "outputs": [
    {
     "name": "stderr",
     "output_type": "stream",
     "text": [
      "/var/folders/b3/l10x2d9503j4vrszk86wqw040000gn/T/ipykernel_95260/1200496628.py:5: DeprecationWarning: the imp module is deprecated in favour of importlib; see the module's documentation for alternative uses\n",
      "  import glob,imp,os,shutil\n",
      "/var/folders/b3/l10x2d9503j4vrszk86wqw040000gn/T/ipykernel_95260/1200496628.py:36: MatplotlibDeprecationWarning: The get_cmap function was deprecated in Matplotlib 3.7 and will be removed two minor releases later. Use ``matplotlib.colormaps[name]`` or ``matplotlib.colormaps.get_cmap(obj)`` instead.\n",
      "  cm = plt.cm.get_cmap('RdYlBu')\n"
     ]
    }
   ],
   "source": [
    "import warnings\n",
    "warnings.filterwarnings(\"ignore\", message=\"numpy.dtype size changed\")\n",
    "import numpy as np\n",
    "import pandas as pd\n",
    "import glob,imp,os,shutil\n",
    "from pandas import json_normalize\n",
    "\n",
    "import pyslha\n",
    "import matplotlib as mpl\n",
    "import matplotlib.pyplot as plt\n",
    "from matplotlib.colors import LogNorm\n",
    "import matplotlib.patches as mpatches\n",
    "from collections import OrderedDict\n",
    "import seaborn as sns\n",
    "from scipy.interpolate import LinearNDInterpolator,interp2d, griddata\n",
    "from itertools import product\n",
    "from IPython.display import display, Markdown\n",
    "\n",
    "pd.option_context('display.max_columns', -1)\n",
    "\n",
    "pd.options.mode.chained_assignment = None #Disable copy warnings\n",
    "# plt.style.use('fivethirtyeight') #Set style\n",
    "# mpl.rcParams.update({'figure.figsize' : (15,10)})  #Set general plotting options\n",
    "plt.rcParams.update({\n",
    "    \"text.usetex\": True,\n",
    "    \"font.family\": \"sans-serif\",\n",
    "    \"font.sans-serif\": [\"Helvetica\"]})\n",
    "\n",
    "plt.rcParams.update({\"savefig.dpi\" : 300}) #Figure resolution\n",
    "\n",
    "\n",
    "#Define plotting style:\n",
    "sns.set() #Set style\n",
    "sns.set_style('ticks',{'font.family':'Times New Roman', 'font.serif':'Times New Roman'})\n",
    "sns.set_context('paper', font_scale=1.8)\n",
    "cm = plt.cm.get_cmap('RdYlBu')"
   ]
  },
  {
   "attachments": {},
   "cell_type": "markdown",
   "metadata": {},
   "source": [
    "#### Convert ID labels"
   ]
  },
  {
   "cell_type": "code",
   "execution_count": 2,
   "metadata": {
    "ExecuteTime": {
     "end_time": "2024-01-31T14:45:31.172069Z",
     "start_time": "2024-01-31T14:45:31.169110Z"
    }
   },
   "outputs": [],
   "source": [
    "processDict = {'ATLAS-SUSY-2018-22-multibin' : 'ATLAS-SUSY-2018-22'}\n",
    "def convertLabel(label):\n",
    "    newlabel = label[:]\n",
    "    #Replace txnames by process\n",
    "    for txlabel,proc in processDict.items():\n",
    "        newlabel = newlabel.replace(txlabel,proc) \n",
    "    return newlabel"
   ]
  },
  {
   "attachments": {},
   "cell_type": "markdown",
   "metadata": {},
   "source": [
    "#### Get data in pcl format and print all columns names"
   ]
  },
  {
   "cell_type": "code",
   "execution_count": 3,
   "metadata": {
    "ExecuteTime": {
     "end_time": "2024-01-31T14:45:32.917617Z",
     "start_time": "2024-01-31T14:45:31.229063Z"
    },
    "scrolled": true
   },
   "outputs": [
    {
     "name": "stdout",
     "output_type": "stream",
     "text": [
      "['filename', 'mass.9000006', 'mass.9900032', 'mass.9000002', 'mass.9000003', 'mass.9000004', 'mass.9000005', 'mass.9900026', 'width.9000002', 'width.9000003', 'width.9000004', 'width.9000005', 'width.9000006', 'width.9900026', 'width.9900032', 'extpar.1', 'extpar.2', 'extpar.3', 'extpar.4', 'extpar.5', 'extpar.6', 'extpar.7', 'xsec8TeV(fb).9900032', 'xsec8TeV(fb).9900026', 'xsec13TeV(fb).9900032', 'xsec13TeV(fb).9900026', 'BRs.sd.W-,W+', 'BRs.sd.higgs,higgs', 'BRs.sd.Z,Z', 'BRs.sd.t-,t+', 'BRs.zp.chi,chi', 'BRs.zp.b,b', 'BRs.zp.c,c', 'BRs.zp.q,q', 'BRs.zp.t-,t+', 'BRs.sd.chi,chi', 'BRs.sd.ta+,ta-', 'totalxsec13TeV(fb)', 'totalxsec8TeV(fb)', 'Total xsec for missing topologies (fb)', 'Total xsec for missing topologies with displaced decays (fb)', 'Total xsec for missing topologies with prompt decays (fb)', 'Total xsec for topologies outside the grid (fb)', 'OutputStatus.sigmacut', 'OutputStatus.minmassgap', 'OutputStatus.maxcond', 'OutputStatus.ncpus', 'OutputStatus.model', 'OutputStatus.promptwidth', 'OutputStatus.stablewidth', 'OutputStatus.eraseprompt', 'OutputStatus.checkinput', 'OutputStatus.doinvisible', 'OutputStatus.docompress', 'OutputStatus.computestatistics', 'OutputStatus.testcoverage', 'OutputStatus.combinesrs', 'OutputStatus.reportallsrs', 'OutputStatus.experimentalfeatures', 'OutputStatus.file status', 'OutputStatus.decomposition status', 'OutputStatus.warnings', 'OutputStatus.input file', 'OutputStatus.database version', 'OutputStatus.smodels version', 'ExptRes.result0.maxcond', 'ExptRes.result0.theory prediction (fb)', 'ExptRes.result0.upper limit (fb)', 'ExptRes.result0.expected upper limit (fb)', 'ExptRes.result0.TxNames', 'ExptRes.result0.Mass (GeV)', 'ExptRes.result0.AnalysisID', 'ExptRes.result0.DataSetID', 'ExptRes.result0.AnalysisSqrts (TeV)', 'ExptRes.result0.lumi (fb-1)', 'ExptRes.result0.dataType', 'ExptRes.result0.r', 'ExptRes.result0.r_expected', 'ExptRes.result0.Width (GeV)']\n"
     ]
    }
   ],
   "source": [
    "#Merge with SModelS DataFrame\n",
    "pclFiles = ['../scan/data/pcl_files/smodels_results_dijets_cms_couplings.pcl']\n",
    "dfs = [pd.read_pickle(i) for i in pclFiles]\n",
    "dataDF = pd.concat(dfs, ignore_index=True)\n",
    "print(dataDF.columns.values.tolist()) #Print all columns names"
   ]
  },
  {
   "cell_type": "code",
   "execution_count": 4,
   "metadata": {},
   "outputs": [],
   "source": [
    "# Separate the combined data from the rest\n",
    "pclFiles_comb = ['../scan/data/pcl_files/smodels_results_monojet_cms_couplings_combined.pcl']\n",
    "dfs = [pd.read_pickle(i) for i in pclFiles_comb]\n",
    "dataDF_comb = pd.concat(dfs, ignore_index=True)\n",
    "dataCombined = dataDF_comb.dropna(subset=['ExptRes.result0.r', 'ExptRes.result1.r', 'ExptRes.result2.r'])\n",
    "dfs1 = []\n",
    "for irow, row in dataCombined.iterrows():\n",
    "    df_row = pd.DataFrame.from_dict(row['CombinedRes'])\n",
    "    df_row['filename'] = row['filename']\n",
    "    df_row['mass.9900032'] = row['mass.9900032']\n",
    "    df_row['mass.9000006'] = row['mass.9000006']\n",
    "    dfs1.append(df_row)\n",
    "        # dfs1.append(pd.DataFrame.from_dict(i))\n",
    "dataDF_combined = pd.concat(dfs1, ignore_index=True)"
   ]
  },
  {
   "attachments": {},
   "cell_type": "markdown",
   "metadata": {},
   "source": [
    "#### Set r = 0 for points with no results "
   ]
  },
  {
   "cell_type": "code",
   "execution_count": 5,
   "metadata": {
    "ExecuteTime": {
     "end_time": "2024-01-31T14:45:33.253371Z",
     "start_time": "2024-01-31T14:45:32.919681Z"
    }
   },
   "outputs": [],
   "source": [
    "#Set points without results with r == 0\n",
    "dataDF.fillna(value={c : 0 for c in dataDF.columns if c.endswith('.r')}, inplace=True)\n",
    "#Sort points according to r value:\n",
    "dataDF = dataDF.sort_values(by=['ExptRes.result0.r'],ascending=False)"
   ]
  },
  {
   "attachments": {},
   "cell_type": "markdown",
   "metadata": {},
   "source": [
    "#### Define exclusions"
   ]
  },
  {
   "cell_type": "code",
   "execution_count": 6,
   "metadata": {
    "ExecuteTime": {
     "end_time": "2024-01-31T14:45:33.616011Z",
     "start_time": "2024-01-31T14:45:33.610622Z"
    }
   },
   "outputs": [],
   "source": [
    "#Add simple flag for excluded points:\n",
    "dataDF['excludedLHC'] = dataDF['ExptRes.result0.r'] > 1.0"
   ]
  },
  {
   "attachments": {},
   "cell_type": "markdown",
   "metadata": {},
   "source": [
    "### Get points excluded:"
   ]
  },
  {
   "cell_type": "code",
   "execution_count": 7,
   "metadata": {
    "ExecuteTime": {
     "end_time": "2024-01-31T14:45:34.533840Z",
     "start_time": "2024-01-31T14:45:34.427775Z"
    }
   },
   "outputs": [
    {
     "name": "stdout",
     "output_type": "stream",
     "text": [
      "Total number of points = 3000\n",
      "Total excluded (LHC) = 921\n",
      "Total allowed = 2079\n",
      "\n"
     ]
    }
   ],
   "source": [
    "excluded = dataDF[dataDF['excludedLHC'] == True]\n",
    "\n",
    "allowed = dataDF[(dataDF['excludedLHC'] == False)]\n",
    "\n",
    "\n",
    "print('Total number of points = %i' %len(dataDF))\n",
    "print('Total excluded (LHC) = %i'%(len(excluded)))\n",
    "print('Total allowed = %i\\n'%(len(allowed)))\n",
    "\n",
    "# print('Total excluded (r > %1.2f) = %i'%(rscale,len(excludedSC)))\n",
    "# print('Total allowed (r > %1.2f) = %i'%(rscale,len(allowedSC)))\n"
   ]
  },
  {
   "attachments": {},
   "cell_type": "markdown",
   "metadata": {},
   "source": [
    "### Get all analyses in one column"
   ]
  },
  {
   "cell_type": "code",
   "execution_count": 8,
   "metadata": {
    "ExecuteTime": {
     "end_time": "2024-01-31T14:45:39.301539Z",
     "start_time": "2024-01-31T14:45:39.291289Z"
    },
    "scrolled": true
   },
   "outputs": [
    {
     "name": "stdout",
     "output_type": "stream",
     "text": [
      "['ExptRes.result0.AnalysisID']\n"
     ]
    }
   ],
   "source": [
    "idCols = [c for c in dataDF.columns if 'AnalysisID' in c]\n",
    "txCols = [c for c in dataDF.columns if 'TxNames' in c]\n",
    "print(idCols)"
   ]
  },
  {
   "cell_type": "code",
   "execution_count": 9,
   "metadata": {
    "ExecuteTime": {
     "end_time": "2024-01-31T14:45:39.998163Z",
     "start_time": "2024-01-31T14:45:39.778319Z"
    }
   },
   "outputs": [],
   "source": [
    "ana, tx = [], []\n",
    "for c in idCols:\n",
    "    for i in dataDF[c].dropna().unique():\n",
    "        ana.append(i)\n",
    "        \n",
    "for c in txCols:\n",
    "    for txlist in dataDF[c].dropna():\n",
    "        for i in txlist:\n",
    "            tx.append(i)"
   ]
  },
  {
   "cell_type": "code",
   "execution_count": 10,
   "metadata": {
    "ExecuteTime": {
     "end_time": "2024-01-31T14:45:41.342608Z",
     "start_time": "2024-01-31T14:45:41.317039Z"
    }
   },
   "outputs": [],
   "source": [
    "txnames = pd.Series(tx).drop_duplicates().tolist()\n",
    "analysis = pd.Series(ana).drop_duplicates().tolist()"
   ]
  },
  {
   "cell_type": "code",
   "execution_count": 11,
   "metadata": {
    "ExecuteTime": {
     "end_time": "2024-01-31T14:45:43.411884Z",
     "start_time": "2024-01-31T14:45:43.387161Z"
    }
   },
   "outputs": [
    {
     "data": {
      "text/plain": [
       "['TRV1jj']"
      ]
     },
     "execution_count": 11,
     "metadata": {},
     "output_type": "execute_result"
    }
   ],
   "source": [
    "txnames"
   ]
  },
  {
   "cell_type": "code",
   "execution_count": 12,
   "metadata": {
    "ExecuteTime": {
     "end_time": "2024-01-31T14:48:07.015211Z",
     "start_time": "2024-01-31T14:45:43.826265Z"
    }
   },
   "outputs": [],
   "source": [
    "filteredDF = []\n",
    "# anaID = analysis\n",
    "# txID = txnames\n",
    "for irow,row in dataDF.iterrows():\n",
    "    for anaID in analysis:\n",
    "        for txID in txnames:\n",
    "            resCols = [idc for idc in idCols if (row[idc] == anaID and (row[idc.replace('AnalysisID','TxNames')] == [txID]\n",
    "                                                                       or row[idc.replace('AnalysisID','TxNames')] == ['TRS1', 'TRV1']))]\n",
    "            if not resCols:\n",
    "                continue\n",
    "            resCol = resCols[0].rsplit('.',1)[0]\n",
    "            newrow = {c.replace(resCol,'ExptRes.result') : row[c] for c in dataDF.columns if (('ExptRes' not in c) or (resCol in c))}\n",
    "            filteredDF.append(newrow)  "
   ]
  },
  {
   "cell_type": "code",
   "execution_count": 13,
   "metadata": {
    "ExecuteTime": {
     "end_time": "2024-01-31T14:48:13.001560Z",
     "start_time": "2024-01-31T14:48:07.016931Z"
    }
   },
   "outputs": [],
   "source": [
    "newDF = pd.DataFrame.from_dict(filteredDF)"
   ]
  },
  {
   "cell_type": "code",
   "execution_count": 14,
   "metadata": {
    "ExecuteTime": {
     "end_time": "2024-01-31T14:48:13.045310Z",
     "start_time": "2024-01-31T14:48:13.003520Z"
    },
    "scrolled": false
   },
   "outputs": [
    {
     "data": {
      "text/html": [
       "<div>\n",
       "<style scoped>\n",
       "    .dataframe tbody tr th:only-of-type {\n",
       "        vertical-align: middle;\n",
       "    }\n",
       "\n",
       "    .dataframe tbody tr th {\n",
       "        vertical-align: top;\n",
       "    }\n",
       "\n",
       "    .dataframe thead th {\n",
       "        text-align: right;\n",
       "    }\n",
       "</style>\n",
       "<table border=\"1\" class=\"dataframe\">\n",
       "  <thead>\n",
       "    <tr style=\"text-align: right;\">\n",
       "      <th></th>\n",
       "      <th>ExptRes.result.AnalysisID</th>\n",
       "      <th>ExptRes.result.TxNames</th>\n",
       "      <th>ExptRes.result.r</th>\n",
       "    </tr>\n",
       "  </thead>\n",
       "  <tbody>\n",
       "    <tr>\n",
       "      <th>0</th>\n",
       "      <td>CMS-EXO-19-012</td>\n",
       "      <td>[TRV1jj]</td>\n",
       "      <td>6.022513</td>\n",
       "    </tr>\n",
       "    <tr>\n",
       "      <th>1</th>\n",
       "      <td>CMS-EXO-19-012</td>\n",
       "      <td>[TRV1jj]</td>\n",
       "      <td>5.970104</td>\n",
       "    </tr>\n",
       "    <tr>\n",
       "      <th>2</th>\n",
       "      <td>CMS-EXO-19-012</td>\n",
       "      <td>[TRV1jj]</td>\n",
       "      <td>5.873583</td>\n",
       "    </tr>\n",
       "    <tr>\n",
       "      <th>3</th>\n",
       "      <td>CMS-EXO-19-012</td>\n",
       "      <td>[TRV1jj]</td>\n",
       "      <td>5.847848</td>\n",
       "    </tr>\n",
       "    <tr>\n",
       "      <th>4</th>\n",
       "      <td>CMS-EXO-19-012</td>\n",
       "      <td>[TRV1jj]</td>\n",
       "      <td>5.644372</td>\n",
       "    </tr>\n",
       "    <tr>\n",
       "      <th>...</th>\n",
       "      <td>...</td>\n",
       "      <td>...</td>\n",
       "      <td>...</td>\n",
       "    </tr>\n",
       "    <tr>\n",
       "      <th>1333</th>\n",
       "      <td>CMS-EXO-19-012</td>\n",
       "      <td>[TRV1jj]</td>\n",
       "      <td>0.375730</td>\n",
       "    </tr>\n",
       "    <tr>\n",
       "      <th>1334</th>\n",
       "      <td>CMS-EXO-19-012</td>\n",
       "      <td>[TRV1jj]</td>\n",
       "      <td>0.375466</td>\n",
       "    </tr>\n",
       "    <tr>\n",
       "      <th>1335</th>\n",
       "      <td>CMS-EXO-19-012</td>\n",
       "      <td>[TRV1jj]</td>\n",
       "      <td>0.375084</td>\n",
       "    </tr>\n",
       "    <tr>\n",
       "      <th>1336</th>\n",
       "      <td>CMS-EXO-19-012</td>\n",
       "      <td>[TRV1jj]</td>\n",
       "      <td>0.373345</td>\n",
       "    </tr>\n",
       "    <tr>\n",
       "      <th>1337</th>\n",
       "      <td>CMS-EXO-19-012</td>\n",
       "      <td>[TRV1jj]</td>\n",
       "      <td>0.371808</td>\n",
       "    </tr>\n",
       "  </tbody>\n",
       "</table>\n",
       "<p>1338 rows × 3 columns</p>\n",
       "</div>"
      ],
      "text/plain": [
       "     ExptRes.result.AnalysisID ExptRes.result.TxNames  ExptRes.result.r\n",
       "0               CMS-EXO-19-012               [TRV1jj]          6.022513\n",
       "1               CMS-EXO-19-012               [TRV1jj]          5.970104\n",
       "2               CMS-EXO-19-012               [TRV1jj]          5.873583\n",
       "3               CMS-EXO-19-012               [TRV1jj]          5.847848\n",
       "4               CMS-EXO-19-012               [TRV1jj]          5.644372\n",
       "...                        ...                    ...               ...\n",
       "1333            CMS-EXO-19-012               [TRV1jj]          0.375730\n",
       "1334            CMS-EXO-19-012               [TRV1jj]          0.375466\n",
       "1335            CMS-EXO-19-012               [TRV1jj]          0.375084\n",
       "1336            CMS-EXO-19-012               [TRV1jj]          0.373345\n",
       "1337            CMS-EXO-19-012               [TRV1jj]          0.371808\n",
       "\n",
       "[1338 rows x 3 columns]"
      ]
     },
     "execution_count": 14,
     "metadata": {},
     "output_type": "execute_result"
    }
   ],
   "source": [
    "newDF[['ExptRes.result.AnalysisID','ExptRes.result.TxNames','ExptRes.result.r']]"
   ]
  },
  {
   "cell_type": "code",
   "execution_count": 15,
   "metadata": {
    "ExecuteTime": {
     "end_time": "2024-01-31T14:48:35.773121Z",
     "start_time": "2024-01-31T14:48:13.050299Z"
    }
   },
   "outputs": [],
   "source": [
    "newDF['excluded'] = newDF['ExptRes.result.r'] > 1.0\n",
    "excluded = newDF[newDF['excluded'] == True]\n",
    "anas = excluded['ExptRes.result.AnalysisID'].value_counts()\n",
    "anas.sort_values(inplace=True,ascending=False)"
   ]
  },
  {
   "cell_type": "code",
   "execution_count": 16,
   "metadata": {
    "ExecuteTime": {
     "end_time": "2024-01-31T14:48:36.433741Z",
     "start_time": "2024-01-31T14:48:36.419180Z"
    }
   },
   "outputs": [
    {
     "data": {
      "text/plain": [
       "array(['CMS-EXO-19-012'], dtype=object)"
      ]
     },
     "execution_count": 16,
     "metadata": {},
     "output_type": "execute_result"
    }
   ],
   "source": [
    "excluded['ExptRes.result.AnalysisID'].unique()"
   ]
  },
  {
   "attachments": {},
   "cell_type": "markdown",
   "metadata": {},
   "source": [
    "#### Create legend for plots for excluded points"
   ]
  },
  {
   "cell_type": "code",
   "execution_count": 18,
   "metadata": {
    "ExecuteTime": {
     "end_time": "2024-01-31T14:50:02.834599Z",
     "start_time": "2024-01-31T14:50:02.819369Z"
    }
   },
   "outputs": [],
   "source": [
    "colors = sns.color_palette(\"hls\",len(excluded['ExptRes.result.AnalysisID'].unique()))\n"
   ]
  },
  {
   "cell_type": "code",
   "execution_count": 19,
   "metadata": {
    "ExecuteTime": {
     "end_time": "2024-01-31T14:50:03.251524Z",
     "start_time": "2024-01-31T14:50:03.000777Z"
    }
   },
   "outputs": [],
   "source": [
    "colorDict = {}\n",
    "\n",
    "for i, l in enumerate(excluded['ExptRes.result.AnalysisID'].unique()):\n",
    "    colorDict[l] = 'purple'"
   ]
  },
  {
   "cell_type": "code",
   "execution_count": 20,
   "metadata": {},
   "outputs": [],
   "source": [
    "colorDict[dataDF_combined['AnalysisID'].unique()[0]] = np.array(sns.color_palette(\"hls\",7)[-1]).reshape(-1,3)"
   ]
  },
  {
   "cell_type": "code",
   "execution_count": 21,
   "metadata": {
    "ExecuteTime": {
     "end_time": "2024-01-31T14:50:04.782005Z",
     "start_time": "2024-01-31T14:50:04.766370Z"
    }
   },
   "outputs": [],
   "source": [
    "legend = []\n",
    "for ana, color in colorDict.items():\n",
    "    l = mpatches.Patch(color=color, label=convertLabel(ana))\n",
    "    legend.append(l)"
   ]
  },
  {
   "attachments": {},
   "cell_type": "markdown",
   "metadata": {},
   "source": [
    "### Plot only excluded points for a selected $g_{q}, g_{\\chi}$ pair"
   ]
  },
  {
   "cell_type": "code",
   "execution_count": 23,
   "metadata": {},
   "outputs": [
    {
     "name": "stdout",
     "output_type": "stream",
     "text": [
      "CMS-EXO-19-012\n"
     ]
    },
    {
     "data": {
      "image/png": "[encoded data removed]",
      "text/plain": [
       "<Figure size 1000x800 with 1 Axes>"
      ]
     },
     "metadata": {},
     "output_type": "display_data"
    }
   ],
   "source": [
    "cm = plt.colormaps['Spectral_r']\n",
    "plt.figure(figsize=(10,8))\n",
    "# plt.figure(figsize=(10,8))\n",
    "\n",
    "gqv = 0.25\n",
    "gchi = 1.414214\n",
    "\n",
    "dataAll = dataDF_combined\n",
    "\n",
    "x = dataAll['mass.9900032']\n",
    "y = dataAll['mass.9000006']\n",
    "c = dataAll['r']\n",
    "\n",
    "# sc = plt.scatter(x,y,c=c,s=40,cmap=cm, vmin=0.8,vmax=1.2)\n",
    "\n",
    "\n",
    "rData = dataAll['r']\n",
    "pts = np.array([y for y in product(np.linspace(200.,4100.,300),np.linspace(0.,2000.,300))])\n",
    "rPts = griddata(list(zip(dataAll['mass.9900032'],dataAll['mass.9000006'])),rData,pts)\n",
    "pts = pts[~np.isnan(rPts)]\n",
    "rPts = rPts[~np.isnan(rPts)]\n",
    "cs_comb = plt.tricontour(pts[:,0],pts[:,1],rPts,levels=[1.0], linewidths=2.0, colors=colorDict['ATLAS-SUSY-2018-22-multibin,CMS-EXO-20-004'])\n",
    "plt.tricontourf(pts[:,0],pts[:,1], rPts, levels=[1.0, max(rPts)], alpha=0.7, colors=colorDict['ATLAS-SUSY-2018-22-multibin,CMS-EXO-20-004'])\n",
    "\n",
    "\n",
    "for label in excluded['ExptRes.result.AnalysisID'].unique():\n",
    "    # if 'ATLAS-SUSY-2018-22 ' in label: continue\n",
    "    print(label)\n",
    "    data = newDF[(newDF['extpar.1']==gchi)&(newDF['extpar.2']==gqv) & (newDF['ExptRes.result.AnalysisID']==label)]\n",
    "    rData = data['ExptRes.result.r']\n",
    "    pts = np.array([y for y in product(np.linspace(200.,4100.,300),np.linspace(0.,2000.,300))])\n",
    "    rPts = griddata(list(zip(data['mass.9900032'],data['mass.9000006'])),rData,pts)\n",
    "    pts = pts[~np.isnan(rPts)]\n",
    "    rPts = rPts[~np.isnan(rPts)]\n",
    "    cs = plt.tricontour(pts[:,0],pts[:,1],rPts,levels=[1.0], colors=colorDict[label], linewidths=2.0)\n",
    "    plt.tricontourf(pts[:,0],pts[:,1], rPts, levels=[1.0, max(rPts)], alpha=0.7, colors='purple')\n",
    "\n",
    "    \n",
    "\n",
    "    \n",
    "plt.axline((1, 1), slope=1/2, linestyle='--', color='gray')\n",
    "plt.legend(handles=[legend[0], legend[1]], fontsize=20, loc='upper left')\n",
    "\n",
    "# cb = plt.colorbar(sc)\n",
    "# cb.ax.tick_params(labelsize=25)\n",
    "# cb.set_label(label=r'$r$',size=25)\n",
    "\n",
    "# plt.hlines(402, 260,4000, colors='black')\n",
    "# plt.vlines(2200, 0, 2000)\n",
    "# plt.vlines(2400, 0, 2000)\n",
    "\n",
    "\n",
    "plt.xlabel(r'$m_{Z^{\\prime}}$ (GeV)', fontsize=25)\n",
    "plt.ylabel(r'$m_{\\chi}$ (GeV)', fontsize=25)\n",
    "plt.text(0.02,0.5,r'$g_{q} = %1.2f$, $g_{\\chi} = \\sqrt{2}$' % (gqv),fontsize=20,\n",
    "         bbox=dict(facecolor='white', edgecolor='black'),transform = plt.gca().transAxes)\n",
    "\n",
    "# plt.text(900,1330,r'$j = u, d, c, s, b$',fontsize=18)\n",
    "# plt.savefig('exclusions_2mdm_all.png')\n",
    "plt.title(r'SModelS v3.0.0', loc='left', fontsize=25)\n",
    "plt.title(r'2MDM model', loc='right', fontsize=25)\n",
    "\n",
    "plt.yticks(fontsize=25)\n",
    "plt.xticks(fontsize=25)\n",
    "plt.tight_layout()\n",
    "plt.xlim(250,3000)\n",
    "plt.ylim(60, 1490)\n",
    "\n",
    "plt.grid()\n",
    "plt.tight_layout()\n",
    "\n",
    "# plt.savefig('./figures/monojet-dijet-default-couplings.png')\n",
    "plt.show()"
   ]
  },
  {
   "cell_type": "code",
   "execution_count": null,
   "metadata": {},
   "outputs": [],
   "source": []
  }
 ],
 "metadata": {
  "kernelspec": {
   "display_name": "Python 3 (ipykernel)",
   "language": "python",
   "name": "python3"
  },
  "language_info": {
   "codemirror_mode": {
    "name": "ipython",
    "version": 3
   },
   "file_extension": ".py",
   "mimetype": "text/x-python",
   "name": "python",
   "nbconvert_exporter": "python",
   "pygments_lexer": "ipython3",
   "version": "3.9.13"
  }
 },
 "nbformat": 4,
 "nbformat_minor": 2
}
