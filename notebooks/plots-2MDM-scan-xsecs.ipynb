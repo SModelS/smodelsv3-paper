{
 "cells": [
  {
   "attachments": {},
   "cell_type": "markdown",
   "metadata": {},
   "source": [
    "# Plots for the 2MDM analysis"
   ]
  },
  {
   "cell_type": "code",
   "execution_count": 2,
   "metadata": {
    "ExecuteTime": {
     "end_time": "2024-01-31T14:45:31.167350Z",
     "start_time": "2024-01-31T14:45:30.326673Z"
    }
   },
   "outputs": [],
   "source": [
    "import warnings\n",
    "warnings.filterwarnings(\"ignore\", message=\"numpy.dtype size changed\")\n",
    "import numpy as np\n",
    "import pandas as pd\n",
    "from pandas import json_normalize\n",
    "\n",
    "import matplotlib.pyplot as plt\n",
    "from matplotlib.colors import LogNorm\n",
    "from collections import OrderedDict\n",
    "import seaborn as sns\n",
    "from scipy.interpolate import LinearNDInterpolator,interp2d, griddata\n",
    "from itertools import product\n",
    "from IPython.display import display, Markdown\n",
    "\n",
    "pd.option_context('display.max_columns', -1)\n",
    "\n",
    "pd.options.mode.chained_assignment = None #Disable copy warnings\n",
    "# plt.style.use('fivethirtyeight') #Set style\n",
    "# mpl.rcParams.update({'figure.figsize' : (15,10)})  #Set general plotting options\n",
    "plt.rcParams.update({\n",
    "    \"text.usetex\": True,\n",
    "    \"font.family\": \"sans-serif\",\n",
    "    \"font.sans-serif\": [\"Helvetica\"]})\n",
    "\n",
    "plt.rcParams.update({\"savefig.dpi\" : 300}) #Figure resolution\n",
    "\n",
    "\n",
    "#Define plotting style:\n",
    "sns.set_style('ticks',{'font.family':'Times New Roman', 'font.serif':'Times New Roman'})\n",
    "sns.set_context('paper', font_scale=1.8)\n",
    "cm = plt.cm.get_cmap('RdYlBu')"
   ]
  },
  {
   "attachments": {},
   "cell_type": "markdown",
   "metadata": {},
   "source": [
    "### Scan over $\\alpha$ "
   ]
  },
  {
   "cell_type": "code",
   "execution_count": 4,
   "metadata": {
    "ExecuteTime": {
     "end_time": "2023-12-01T15:43:19.743088Z",
     "start_time": "2023-12-01T15:43:17.489911Z"
    },
    "scrolled": false
   },
   "outputs": [],
   "source": [
    "pclFiles = {'sd': '../scan/data/pcl_files/smodels_results_scan_alpha.pcl',\n",
    "            'zp': '../scan/data/pcl_files/smodels_results_dijets_mchi-fixed.pcl'}\n",
    "\n",
    "dataDF = pd.DataFrame()\n",
    "for label, f in pclFiles.items():\n",
    "    df = pd.read_pickle(f)\n",
    "    df['process'] = label\n",
    "    dataDF = pd.concat((dataDF, df))"
   ]
  },
  {
   "cell_type": "code",
   "execution_count": 7,
   "metadata": {
    "ExecuteTime": {
     "end_time": "2023-12-01T15:43:20.447828Z",
     "start_time": "2023-12-01T15:43:20.311819Z"
    }
   },
   "outputs": [],
   "source": [
    "#Set points without results with r == 0\n",
    "dataDF.fillna(value={c : 0 for c in dataDF.columns if c.endswith('.r')}, inplace=True)\n",
    "#Sort points according to r value:\n",
    "dataDF = dataDF.sort_values(by=['ExptRes.result0.r'],ascending=False)"
   ]
  },
  {
   "cell_type": "code",
   "execution_count": 5,
   "metadata": {},
   "outputs": [
    {
     "data": {
      "text/html": [
       "<div>\n",
       "<style scoped>\n",
       "    .dataframe tbody tr th:only-of-type {\n",
       "        vertical-align: middle;\n",
       "    }\n",
       "\n",
       "    .dataframe tbody tr th {\n",
       "        vertical-align: top;\n",
       "    }\n",
       "\n",
       "    .dataframe thead th {\n",
       "        text-align: right;\n",
       "    }\n",
       "</style>\n",
       "<table border=\"1\" class=\"dataframe\">\n",
       "  <thead>\n",
       "    <tr style=\"text-align: right;\">\n",
       "      <th></th>\n",
       "      <th>mass.9900026</th>\n",
       "      <th>mass.9900032</th>\n",
       "      <th>extpar.6</th>\n",
       "      <th>xsec13TeV(fb).9900026</th>\n",
       "    </tr>\n",
       "  </thead>\n",
       "  <tbody>\n",
       "    <tr>\n",
       "      <th>0</th>\n",
       "      <td>397.3991</td>\n",
       "      <td>2000.0000</td>\n",
       "      <td>0.981692</td>\n",
       "      <td>3589.400</td>\n",
       "    </tr>\n",
       "    <tr>\n",
       "      <th>1</th>\n",
       "      <td>393.3978</td>\n",
       "      <td>2000.0000</td>\n",
       "      <td>0.851186</td>\n",
       "      <td>2749.100</td>\n",
       "    </tr>\n",
       "    <tr>\n",
       "      <th>2</th>\n",
       "      <td>275.0917</td>\n",
       "      <td>2000.0000</td>\n",
       "      <td>0.399244</td>\n",
       "      <td>679.650</td>\n",
       "    </tr>\n",
       "    <tr>\n",
       "      <th>3</th>\n",
       "      <td>546.9156</td>\n",
       "      <td>2000.0000</td>\n",
       "      <td>0.998258</td>\n",
       "      <td>1204.500</td>\n",
       "    </tr>\n",
       "    <tr>\n",
       "      <th>4</th>\n",
       "      <td>236.4121</td>\n",
       "      <td>2000.0000</td>\n",
       "      <td>0.825527</td>\n",
       "      <td>3706.600</td>\n",
       "    </tr>\n",
       "    <tr>\n",
       "      <th>...</th>\n",
       "      <td>...</td>\n",
       "      <td>...</td>\n",
       "      <td>...</td>\n",
       "      <td>...</td>\n",
       "    </tr>\n",
       "    <tr>\n",
       "      <th>5995</th>\n",
       "      <td>707.4191</td>\n",
       "      <td>1414.8380</td>\n",
       "      <td>0.250000</td>\n",
       "      <td>21.739</td>\n",
       "    </tr>\n",
       "    <tr>\n",
       "      <th>5996</th>\n",
       "      <td>403.6345</td>\n",
       "      <td>807.2691</td>\n",
       "      <td>0.250000</td>\n",
       "      <td>225.320</td>\n",
       "    </tr>\n",
       "    <tr>\n",
       "      <th>5997</th>\n",
       "      <td>874.1581</td>\n",
       "      <td>1748.3160</td>\n",
       "      <td>0.250000</td>\n",
       "      <td>6.885</td>\n",
       "    </tr>\n",
       "    <tr>\n",
       "      <th>5998</th>\n",
       "      <td>451.1437</td>\n",
       "      <td>902.2874</td>\n",
       "      <td>0.250000</td>\n",
       "      <td>162.540</td>\n",
       "    </tr>\n",
       "    <tr>\n",
       "      <th>5999</th>\n",
       "      <td>374.8550</td>\n",
       "      <td>749.7099</td>\n",
       "      <td>0.250000</td>\n",
       "      <td>255.200</td>\n",
       "    </tr>\n",
       "  </tbody>\n",
       "</table>\n",
       "<p>9000 rows × 4 columns</p>\n",
       "</div>"
      ],
      "text/plain": [
       "      mass.9900026  mass.9900032  extpar.6  xsec13TeV(fb).9900026\n",
       "0         397.3991     2000.0000  0.981692               3589.400\n",
       "1         393.3978     2000.0000  0.851186               2749.100\n",
       "2         275.0917     2000.0000  0.399244                679.650\n",
       "3         546.9156     2000.0000  0.998258               1204.500\n",
       "4         236.4121     2000.0000  0.825527               3706.600\n",
       "...            ...           ...       ...                    ...\n",
       "5995      707.4191     1414.8380  0.250000                 21.739\n",
       "5996      403.6345      807.2691  0.250000                225.320\n",
       "5997      874.1581     1748.3160  0.250000                  6.885\n",
       "5998      451.1437      902.2874  0.250000                162.540\n",
       "5999      374.8550      749.7099  0.250000                255.200\n",
       "\n",
       "[9000 rows x 4 columns]"
      ]
     },
     "execution_count": 5,
     "metadata": {},
     "output_type": "execute_result"
    }
   ],
   "source": [
    "dataDF[['mass.9900026','mass.9900032','extpar.6', 'xsec13TeV(fb).9900026']]"
   ]
  },
  {
   "cell_type": "code",
   "execution_count": 31,
   "metadata": {},
   "outputs": [
    {
     "data": {
      "image/png": "[encoded data removed]",
      "text/plain": [
       "<Figure size 640x480 with 1 Axes>"
      ]
     },
     "metadata": {},
     "output_type": "display_data"
    }
   ],
   "source": [
    "gq = 0.01\n",
    "salpha = 0.3\n",
    "\n",
    "# df_rest = dataDF[(dataDF['extpar.6'] < 0.27) & (dataDF['extpar.6'] > 0.24)]\n",
    "x_s = np.array(dataDF['mass.9900026'])\n",
    "y_s = np.array(dataDF['xsec13TeV(fb).9900026']*((salpha/dataDF['extpar.6'])**2)/1e3)\n",
    "y_s = y_s[np.argsort(x_s)]\n",
    "x_s = x_s[np.argsort(x_s)]\n",
    "plt.plot(x_s,y_s,linewidth=3,label=r'$p p \\to S$',c='darkred',linestyle='dashed')\n",
    "\n",
    "x_zp = np.array(dataDF['mass.9900032'])\n",
    "y_zp = np.array(dataDF['xsec13TeV(fb).9900032']*((gq/dataDF['extpar.2'])**2)/1e3)\n",
    "y_zp = y_zp[np.argsort(x_zp)]\n",
    "x_zp = x_zp[np.argsort(x_zp)]\n",
    "plt.plot(x_zp,y_zp,linewidth=3,label=r'$p p \\to Z^\\prime$',c='steelblue')\n",
    "\n",
    "plt.yscale('log')\n",
    "plt.legend()\n",
    "plt.xlim(200.,1500.0)\n",
    "plt.ylim(1e-3,5)\n",
    "\n",
    "textstr = '\\n'.join((\n",
    "    r'$g_q =$ %1.2f' %gq, \n",
    "    r'$\\sin\\alpha =$ %1.1f' %salpha))\n",
    "plt.text(0.1,0.2,textstr,fontsize=14,bbox=dict(facecolor='none', edgecolor='black'),\n",
    "         transform = plt.gca().transAxes)\n",
    "\n",
    "plt.ylabel(r'$\\sigma$ (pb)')\n",
    "plt.xlabel(r'$m_{S/Z^\\prime}$ (GeV)')\n",
    "plt.title(r'$\\sqrt{s} = 13$ TeV')\n",
    "plt.savefig('2mdm_xsecs.png')\n",
    "plt.show()"
   ]
  },
  {
   "cell_type": "code",
   "execution_count": null,
   "metadata": {},
   "outputs": [],
   "source": []
  }
 ],
 "metadata": {
  "kernelspec": {
   "display_name": "Python 3 (ipykernel)",
   "language": "python",
   "name": "python3"
  },
  "language_info": {
   "codemirror_mode": {
    "name": "ipython",
    "version": 3
   },
   "file_extension": ".py",
   "mimetype": "text/x-python",
   "name": "python",
   "nbconvert_exporter": "python",
   "pygments_lexer": "ipython3",
   "version": "3.12.3"
  }
 },
 "nbformat": 4,
 "nbformat_minor": 2
}
