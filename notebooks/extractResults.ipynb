{
 "cells": [
  {
   "attachments": {},
   "cell_type": "markdown",
   "metadata": {},
   "source": [
    "### Read SLHA, SModelS output and store the data in a pandas DataFrame"
   ]
  },
  {
   "cell_type": "code",
   "execution_count": 1,
   "metadata": {
    "ExecuteTime": {
     "end_time": "2024-01-26T12:07:45.675249Z",
     "start_time": "2024-01-26T12:07:45.404407Z"
    },
    "scrolled": true
   },
   "outputs": [
    {
     "name": "stderr",
     "output_type": "stream",
     "text": [
      "/var/folders/b3/l10x2d9503j4vrszk86wqw040000gn/T/ipykernel_42863/2096552851.py:5: DeprecationWarning: the imp module is deprecated in favour of importlib; see the module's documentation for alternative uses\n",
      "  import glob,imp,os,sys\n"
     ]
    }
   ],
   "source": [
    "import warnings\n",
    "warnings.filterwarnings(\"ignore\", message=\"numpy.dtype size changed\")\n",
    "import numpy as np\n",
    "import pandas as pd\n",
    "import glob,imp,os,sys\n",
    "from pandas import json_normalize\n",
    "import pyslha\n",
    "from smodels.share.models.mssm import BSMList\n",
    "from smodels.share.models.SMparticles import SMList\n",
    "from smodels.base.model import Model\n",
    "from smodels.particlesLoader import getParticlesFromSLHA\n",
    "\n",
    "pd.options.mode.chained_assignment = None #Disable copy warnings"
   ]
  },
  {
   "cell_type": "code",
   "execution_count": 2,
   "metadata": {
    "ExecuteTime": {
     "end_time": "2024-01-26T12:07:45.852904Z",
     "start_time": "2024-01-26T12:07:45.676838Z"
    }
   },
   "outputs": [
    {
     "name": "stdout",
     "output_type": "stream",
     "text": [
      "[gha, gha~, ghz, ghz~, ghwp, ghwp~, ghwm, ghwm~, ghg, ghg~, zp, ghzp, ghzp~, sd, chi]\n"
     ]
    }
   ],
   "source": [
    "BSMlist = getParticlesFromSLHA('../2mdm_example.slha')\n",
    "model = Model(BSMparticles=BSMlist, SMparticles=SMList)\n",
    "print(BSMlist)"
   ]
  },
  {
   "cell_type": "code",
   "execution_count": 3,
   "metadata": {
    "ExecuteTime": {
     "end_time": "2024-01-26T12:07:46.127272Z",
     "start_time": "2024-01-26T12:07:45.855555Z"
    }
   },
   "outputs": [],
   "source": [
    "slhaFolder = '../data/slha_files/slha_files_cms_couplings'\n",
    "smodelsFolder = '~/smodels-develop/smodels_results_monojet_atlas'\n",
    "parametersSmodels = '../../parameters_2mdm.ini'"
   ]
  },
  {
   "cell_type": "code",
   "execution_count": 5,
   "metadata": {
    "ExecuteTime": {
     "end_time": "2024-01-26T00:53:06.818129Z",
     "start_time": "2024-01-26T00:53:06.256767Z"
    }
   },
   "outputs": [],
   "source": [
    "#Convert Experimental Results list to a dictionary\n",
    "data = []\n",
    "removeFromDict = ['topologies outside the grid',\"missing topologies\",\n",
    "                  \"missing topologies with displaced decays\", 'missing topologies with prompt decays',\n",
    "                 \"Asymmetric Branches\",\"Outside Grid\",\"Missed Topologies\",\"Long Cascades\"]\n",
    "for f in glob.glob(smodelsFolder+'/*.py'):\n",
    "    with open(f,'r') as ff:\n",
    "        dataF = ff.read()\n",
    "    dataF = dataF.replace('inf','-1')\n",
    "    dataF = dataF.replace('None', '-1')\n",
    "    with open(f.replace('.py','_fix.py'),'w') as ff:\n",
    "        ff.write(dataF)\n",
    "    f = f.replace('.py','_fix.py')\n",
    "    smodelsDict = imp.load_source(f.replace('.py',''),f).smodelsOutput\n",
    "    for rmKey in removeFromDict:\n",
    "        if rmKey in smodelsDict:\n",
    "            smodelsDict.pop(rmKey)\n",
    "    if 'ExptRes' in smodelsDict:\n",
    "        for res in smodelsDict['ExptRes']:\n",
    "#             if res['r'] == None:\n",
    "#                 res['r'] = np.nan\n",
    "            if 'TxNames weights (fb)' in res:\n",
    "                res.pop('TxNames weights (fb)')  \n",
    "        expList = sorted(smodelsDict['ExptRes'], key=lambda pt: pt['r'],reverse=True)\n",
    "        expDict = dict([['result%i'%i,val] for i,val in enumerate(expList)])\n",
    "        smodelsDict['ExptRes'] = expDict\n",
    "    slhaFile = f.split('/')[-1][:-7]\n",
    "    dataDict = {'filename' : os.path.basename(slhaFile)}\n",
    "    dataDict.update(smodelsDict)\n",
    "    data.append(dataDict)"
   ]
  },
  {
   "cell_type": "code",
   "execution_count": 6,
   "metadata": {
    "ExecuteTime": {
     "end_time": "2024-01-26T00:53:06.823795Z",
     "start_time": "2024-01-26T00:53:06.819788Z"
    }
   },
   "outputs": [
    {
     "name": "stdout",
     "output_type": "stream",
     "text": [
      "3000\n"
     ]
    }
   ],
   "source": [
    "print(len(data))"
   ]
  },
  {
   "cell_type": "code",
   "execution_count": 7,
   "metadata": {
    "ExecuteTime": {
     "end_time": "2024-01-26T00:53:07.168273Z",
     "start_time": "2024-01-26T00:53:06.827844Z"
    }
   },
   "outputs": [],
   "source": [
    "#Convert data to flat DataFrame:\n",
    "smodelsDF = json_normalize(data)"
   ]
  },
  {
   "cell_type": "code",
   "execution_count": 8,
   "metadata": {
    "ExecuteTime": {
     "end_time": "2024-01-26T00:53:11.235055Z",
     "start_time": "2024-01-26T00:53:07.386195Z"
    }
   },
   "outputs": [],
   "source": [
    "#Get SLHA data:\n",
    "slhaData = []\n",
    "for f in smodelsDF['filename']:\n",
    "    slhaFile = os.path.join(slhaFolder,f)\n",
    "    slha = pyslha.readSLHAFile(slhaFile)\n",
    "    massDict = dict([[str(key),abs(val)] for key,val in slha.blocks['MASS'].items() if key >= 52])\n",
    "    extparDict = dict([[str(key),val] for key,val in slha.blocks['ZPRIME'].items()])\n",
    "    extparDict.update(dict([[str(key+len(extparDict)),val] for key,val in slha.blocks['BLINPUTS'].items()]))\n",
    "    \n",
    "    widthDict = dict([[str(key),val.totalwidth] for key,val in slha.decays.items() if key >= 52])\n",
    "    BRsDict = {}\n",
    "    for pdg,val in slha.decays.items():\n",
    "#         if not abs(pdg) in [1000024,1000023]:\n",
    "#             continue\n",
    "        initialState = model.getParticlesWith(pdg=pdg)[0].label            \n",
    "        BRsDict[initialState] = {}\n",
    "        for dec in val.decays:\n",
    "            if dec.br < 0.01: continue            \n",
    "            finalState = ','.join([model.getParticlesWith(pdg=pid)[0].label for pid in sorted(dec.ids)])\n",
    "            BRsDict[initialState][finalState] = dec.br\n",
    "    xsec8TeV = dict([ [str(proc.pidsfinal).replace('[','').replace(']','').replace(',','_').replace(' ',''),\n",
    "                   max([x.value for x in proc.get_xsecs(sqrts=8000)])*1000] \n",
    "                 for proc in slha.xsections.values()  if proc.get_xsecs(sqrts=8000)])\n",
    "    xsec13TeV = dict([ [str(proc.pidsfinal).replace('[','').replace(']','').replace(',','_').replace(' ',''),\n",
    "                   max([x.value for x in proc.get_xsecs(sqrts=13000)])*1000] \n",
    "                 for proc in slha.xsections.values()  if proc.get_xsecs(sqrts=13000)])    \n",
    "    slhaDict = {'filename' : f, 'mass' : massDict, 'width' : widthDict, 'extpar' : extparDict, \n",
    "                'xsec8TeV(fb)' : xsec8TeV, 'xsec13TeV(fb)' : xsec13TeV, 'BRs' : BRsDict}\n",
    "    slhaData.append(slhaDict)"
   ]
  },
  {
   "cell_type": "code",
   "execution_count": 9,
   "metadata": {
    "scrolled": true
   },
   "outputs": [
    {
     "data": {
      "text/plain": [
       "3000"
      ]
     },
     "execution_count": 9,
     "metadata": {},
     "output_type": "execute_result"
    }
   ],
   "source": [
    "len(slhaData)"
   ]
  },
  {
   "cell_type": "code",
   "execution_count": 10,
   "metadata": {
    "ExecuteTime": {
     "end_time": "2024-01-26T00:53:11.271339Z",
     "start_time": "2024-01-26T00:53:11.236588Z"
    }
   },
   "outputs": [],
   "source": [
    "#Convert to DataFrame\n",
    "slhaDF = json_normalize(slhaData)\n",
    "#Add total cross-sections:\n",
    "xsecs13 = [x for x in list(slhaDF) if 'xsec13TeV' in x]\n",
    "xsecs8 = [x for x in list(slhaDF) if 'xsec8TeV' in x]\n",
    "slhaDF['totalxsec13TeV(fb)'] = slhaDF[xsecs13].sum(axis=1)\n",
    "slhaDF['totalxsec8TeV(fb)'] = slhaDF[xsecs8].sum(axis=1)"
   ]
  },
  {
   "cell_type": "code",
   "execution_count": 11,
   "metadata": {
    "ExecuteTime": {
     "end_time": "2024-01-26T00:53:11.567012Z",
     "start_time": "2024-01-26T00:53:11.273225Z"
    }
   },
   "outputs": [],
   "source": [
    "#Merge with SModelS DataFrame\n",
    "dataDF = slhaDF.merge(smodelsDF,how='inner')"
   ]
  },
  {
   "cell_type": "code",
   "execution_count": 12,
   "metadata": {
    "ExecuteTime": {
     "end_time": "2024-01-26T00:53:11.794329Z",
     "start_time": "2024-01-26T00:53:11.570788Z"
    }
   },
   "outputs": [
    {
     "name": "stdout",
     "output_type": "stream",
     "text": [
      "Final number of data points: 3000\n"
     ]
    }
   ],
   "source": [
    "print('Final number of data points:',dataDF.shape[0])\n",
    "#print(dataDF2.columns.values.tolist()) #Print all columns names"
   ]
  },
  {
   "cell_type": "code",
   "execution_count": 13,
   "metadata": {
    "ExecuteTime": {
     "end_time": "2024-01-26T00:53:12.115960Z",
     "start_time": "2024-01-26T00:53:11.801123Z"
    }
   },
   "outputs": [
    {
     "data": {
      "text/html": [
       "<div>\n",
       "<style scoped>\n",
       "    .dataframe tbody tr th:only-of-type {\n",
       "        vertical-align: middle;\n",
       "    }\n",
       "\n",
       "    .dataframe tbody tr th {\n",
       "        vertical-align: top;\n",
       "    }\n",
       "\n",
       "    .dataframe thead th {\n",
       "        text-align: right;\n",
       "    }\n",
       "</style>\n",
       "<table border=\"1\" class=\"dataframe\">\n",
       "  <thead>\n",
       "    <tr style=\"text-align: right;\">\n",
       "      <th></th>\n",
       "      <th>filename</th>\n",
       "      <th>mass.9000006</th>\n",
       "      <th>mass.9900032</th>\n",
       "      <th>mass.9000002</th>\n",
       "      <th>mass.9000003</th>\n",
       "      <th>mass.9000004</th>\n",
       "      <th>mass.9000005</th>\n",
       "      <th>mass.9900026</th>\n",
       "      <th>width.9000002</th>\n",
       "      <th>width.9000003</th>\n",
       "      <th>...</th>\n",
       "      <th>ExptRes.result1.DataSetID</th>\n",
       "      <th>ExptRes.result1.AnalysisSqrts (TeV)</th>\n",
       "      <th>ExptRes.result1.lumi (fb-1)</th>\n",
       "      <th>ExptRes.result1.dataType</th>\n",
       "      <th>ExptRes.result1.r</th>\n",
       "      <th>ExptRes.result1.r_expected</th>\n",
       "      <th>ExptRes.result1.Width (GeV)</th>\n",
       "      <th>ExptRes.result1.nll</th>\n",
       "      <th>ExptRes.result1.nll_min</th>\n",
       "      <th>ExptRes.result1.nll_SM</th>\n",
       "    </tr>\n",
       "  </thead>\n",
       "  <tbody>\n",
       "    <tr>\n",
       "      <th>0</th>\n",
       "      <td>scan__f8y3i2s.slha</td>\n",
       "      <td>914.8673</td>\n",
       "      <td>2784.059</td>\n",
       "      <td>91.1876</td>\n",
       "      <td>79.82436</td>\n",
       "      <td>79.82436</td>\n",
       "      <td>1500.0</td>\n",
       "      <td>1392.0290</td>\n",
       "      <td>2.4952</td>\n",
       "      <td>2.085</td>\n",
       "      <td>...</td>\n",
       "      <td>SR2j_2200</td>\n",
       "      <td>13.0</td>\n",
       "      <td>139.0</td>\n",
       "      <td>efficiencyMap</td>\n",
       "      <td>0.066171</td>\n",
       "      <td>0.064852</td>\n",
       "      <td>[(zp, 114.6981), (chi, stable)]</td>\n",
       "      <td>9.226668</td>\n",
       "      <td>9.200812</td>\n",
       "      <td>9.200812</td>\n",
       "    </tr>\n",
       "    <tr>\n",
       "      <th>1</th>\n",
       "      <td>scan_4ypoffuz.slha</td>\n",
       "      <td>376.0053</td>\n",
       "      <td>1650.381</td>\n",
       "      <td>91.1876</td>\n",
       "      <td>79.82436</td>\n",
       "      <td>79.82436</td>\n",
       "      <td>1500.0</td>\n",
       "      <td>825.1907</td>\n",
       "      <td>2.4952</td>\n",
       "      <td>2.085</td>\n",
       "      <td>...</td>\n",
       "      <td>SR2j_2200</td>\n",
       "      <td>13.0</td>\n",
       "      <td>139.0</td>\n",
       "      <td>efficiencyMap</td>\n",
       "      <td>0.855924</td>\n",
       "      <td>0.838864</td>\n",
       "      <td>[(zp, 80.12207), (chi, stable)]</td>\n",
       "      <td>10.663010</td>\n",
       "      <td>9.200812</td>\n",
       "      <td>9.200812</td>\n",
       "    </tr>\n",
       "    <tr>\n",
       "      <th>2</th>\n",
       "      <td>scan_6e4fbdz2.slha</td>\n",
       "      <td>528.3607</td>\n",
       "      <td>1105.230</td>\n",
       "      <td>91.1876</td>\n",
       "      <td>79.82436</td>\n",
       "      <td>79.82436</td>\n",
       "      <td>1500.0</td>\n",
       "      <td>552.6151</td>\n",
       "      <td>2.4952</td>\n",
       "      <td>2.085</td>\n",
       "      <td>...</td>\n",
       "      <td>SR2j_2200</td>\n",
       "      <td>13.0</td>\n",
       "      <td>139.0</td>\n",
       "      <td>efficiencyMap</td>\n",
       "      <td>0.152012</td>\n",
       "      <td>0.148983</td>\n",
       "      <td>[(zp, 33.69929), (chi, stable)]</td>\n",
       "      <td>9.282072</td>\n",
       "      <td>9.200812</td>\n",
       "      <td>9.200812</td>\n",
       "    </tr>\n",
       "    <tr>\n",
       "      <th>3</th>\n",
       "      <td>scan_ben6551g.slha</td>\n",
       "      <td>344.9137</td>\n",
       "      <td>1478.293</td>\n",
       "      <td>91.1876</td>\n",
       "      <td>79.82436</td>\n",
       "      <td>79.82436</td>\n",
       "      <td>1500.0</td>\n",
       "      <td>739.1467</td>\n",
       "      <td>2.4952</td>\n",
       "      <td>2.085</td>\n",
       "      <td>...</td>\n",
       "      <td>SR2j_2200</td>\n",
       "      <td>13.0</td>\n",
       "      <td>139.0</td>\n",
       "      <td>efficiencyMap</td>\n",
       "      <td>1.156362</td>\n",
       "      <td>1.133313</td>\n",
       "      <td>[(zp, 71.23618), (chi, stable)]</td>\n",
       "      <td>11.752070</td>\n",
       "      <td>9.200812</td>\n",
       "      <td>9.200812</td>\n",
       "    </tr>\n",
       "    <tr>\n",
       "      <th>4</th>\n",
       "      <td>scan_91h9ls2y.slha</td>\n",
       "      <td>185.8823</td>\n",
       "      <td>1588.865</td>\n",
       "      <td>91.1876</td>\n",
       "      <td>79.82436</td>\n",
       "      <td>79.82436</td>\n",
       "      <td>1500.0</td>\n",
       "      <td>794.4326</td>\n",
       "      <td>2.4952</td>\n",
       "      <td>2.085</td>\n",
       "      <td>...</td>\n",
       "      <td>SR2j_2200</td>\n",
       "      <td>13.0</td>\n",
       "      <td>139.0</td>\n",
       "      <td>efficiencyMap</td>\n",
       "      <td>1.078187</td>\n",
       "      <td>1.056696</td>\n",
       "      <td>[(zp, 86.14029), (chi, stable)]</td>\n",
       "      <td>11.440080</td>\n",
       "      <td>9.200812</td>\n",
       "      <td>9.200812</td>\n",
       "    </tr>\n",
       "    <tr>\n",
       "      <th>...</th>\n",
       "      <td>...</td>\n",
       "      <td>...</td>\n",
       "      <td>...</td>\n",
       "      <td>...</td>\n",
       "      <td>...</td>\n",
       "      <td>...</td>\n",
       "      <td>...</td>\n",
       "      <td>...</td>\n",
       "      <td>...</td>\n",
       "      <td>...</td>\n",
       "      <td>...</td>\n",
       "      <td>...</td>\n",
       "      <td>...</td>\n",
       "      <td>...</td>\n",
       "      <td>...</td>\n",
       "      <td>...</td>\n",
       "      <td>...</td>\n",
       "      <td>...</td>\n",
       "      <td>...</td>\n",
       "      <td>...</td>\n",
       "      <td>...</td>\n",
       "    </tr>\n",
       "    <tr>\n",
       "      <th>2995</th>\n",
       "      <td>scan_7gxn69ok.slha</td>\n",
       "      <td>938.8013</td>\n",
       "      <td>2957.996</td>\n",
       "      <td>91.1876</td>\n",
       "      <td>79.82436</td>\n",
       "      <td>79.82436</td>\n",
       "      <td>1500.0</td>\n",
       "      <td>1478.9980</td>\n",
       "      <td>2.4952</td>\n",
       "      <td>2.085</td>\n",
       "      <td>...</td>\n",
       "      <td>SR2j_2200</td>\n",
       "      <td>13.0</td>\n",
       "      <td>139.0</td>\n",
       "      <td>efficiencyMap</td>\n",
       "      <td>0.037718</td>\n",
       "      <td>0.036966</td>\n",
       "      <td>[(zp, 124.4713), (chi, stable)]</td>\n",
       "      <td>9.213751</td>\n",
       "      <td>9.200812</td>\n",
       "      <td>9.200812</td>\n",
       "    </tr>\n",
       "    <tr>\n",
       "      <th>2996</th>\n",
       "      <td>scan_ei8486su.slha</td>\n",
       "      <td>390.7652</td>\n",
       "      <td>2343.078</td>\n",
       "      <td>91.1876</td>\n",
       "      <td>79.82436</td>\n",
       "      <td>79.82436</td>\n",
       "      <td>1500.0</td>\n",
       "      <td>1171.5390</td>\n",
       "      <td>2.4952</td>\n",
       "      <td>2.085</td>\n",
       "      <td>...</td>\n",
       "      <td>SR2j_2200</td>\n",
       "      <td>13.0</td>\n",
       "      <td>139.0</td>\n",
       "      <td>efficiencyMap</td>\n",
       "      <td>0.236524</td>\n",
       "      <td>0.231810</td>\n",
       "      <td>[(zp, 121.9931), (chi, stable)]</td>\n",
       "      <td>9.360703</td>\n",
       "      <td>9.200812</td>\n",
       "      <td>9.200812</td>\n",
       "    </tr>\n",
       "    <tr>\n",
       "      <th>2997</th>\n",
       "      <td>scan_ry02bqa7.slha</td>\n",
       "      <td>1042.5760</td>\n",
       "      <td>2285.083</td>\n",
       "      <td>91.1876</td>\n",
       "      <td>79.82436</td>\n",
       "      <td>79.82436</td>\n",
       "      <td>1500.0</td>\n",
       "      <td>1142.5420</td>\n",
       "      <td>2.4952</td>\n",
       "      <td>2.085</td>\n",
       "      <td>...</td>\n",
       "      <td>SR2j_2200</td>\n",
       "      <td>13.0</td>\n",
       "      <td>139.0</td>\n",
       "      <td>efficiencyMap</td>\n",
       "      <td>0.038768</td>\n",
       "      <td>0.037996</td>\n",
       "      <td>[(zp, 72.3372), (chi, stable)]</td>\n",
       "      <td>9.214180</td>\n",
       "      <td>9.200812</td>\n",
       "      <td>9.200812</td>\n",
       "    </tr>\n",
       "    <tr>\n",
       "      <th>2998</th>\n",
       "      <td>scan_f7mw_9sh.slha</td>\n",
       "      <td>929.7981</td>\n",
       "      <td>2308.938</td>\n",
       "      <td>91.1876</td>\n",
       "      <td>79.82436</td>\n",
       "      <td>79.82436</td>\n",
       "      <td>1500.0</td>\n",
       "      <td>1154.4690</td>\n",
       "      <td>2.4952</td>\n",
       "      <td>2.085</td>\n",
       "      <td>...</td>\n",
       "      <td>SR2j_2200</td>\n",
       "      <td>13.0</td>\n",
       "      <td>139.0</td>\n",
       "      <td>efficiencyMap</td>\n",
       "      <td>0.096758</td>\n",
       "      <td>0.094830</td>\n",
       "      <td>[(zp, 81.65528), (chi, stable)]</td>\n",
       "      <td>9.243580</td>\n",
       "      <td>9.200812</td>\n",
       "      <td>9.200812</td>\n",
       "    </tr>\n",
       "    <tr>\n",
       "      <th>2999</th>\n",
       "      <td>scan_koi04pub.slha</td>\n",
       "      <td>340.6047</td>\n",
       "      <td>1240.928</td>\n",
       "      <td>91.1876</td>\n",
       "      <td>79.82436</td>\n",
       "      <td>79.82436</td>\n",
       "      <td>1500.0</td>\n",
       "      <td>620.4639</td>\n",
       "      <td>2.4952</td>\n",
       "      <td>2.085</td>\n",
       "      <td>...</td>\n",
       "      <td>SR2j_2200</td>\n",
       "      <td>13.0</td>\n",
       "      <td>139.0</td>\n",
       "      <td>efficiencyMap</td>\n",
       "      <td>1.623871</td>\n",
       "      <td>1.591505</td>\n",
       "      <td>[(zp, 56.23954), (chi, stable)]</td>\n",
       "      <td>14.035900</td>\n",
       "      <td>9.200812</td>\n",
       "      <td>9.200812</td>\n",
       "    </tr>\n",
       "  </tbody>\n",
       "</table>\n",
       "<p>3000 rows × 99 columns</p>\n",
       "</div>"
      ],
      "text/plain": [
       "                filename  mass.9000006  mass.9900032  mass.9000002   \n",
       "0     scan__f8y3i2s.slha      914.8673      2784.059       91.1876  \\\n",
       "1     scan_4ypoffuz.slha      376.0053      1650.381       91.1876   \n",
       "2     scan_6e4fbdz2.slha      528.3607      1105.230       91.1876   \n",
       "3     scan_ben6551g.slha      344.9137      1478.293       91.1876   \n",
       "4     scan_91h9ls2y.slha      185.8823      1588.865       91.1876   \n",
       "...                  ...           ...           ...           ...   \n",
       "2995  scan_7gxn69ok.slha      938.8013      2957.996       91.1876   \n",
       "2996  scan_ei8486su.slha      390.7652      2343.078       91.1876   \n",
       "2997  scan_ry02bqa7.slha     1042.5760      2285.083       91.1876   \n",
       "2998  scan_f7mw_9sh.slha      929.7981      2308.938       91.1876   \n",
       "2999  scan_koi04pub.slha      340.6047      1240.928       91.1876   \n",
       "\n",
       "      mass.9000003  mass.9000004  mass.9000005  mass.9900026  width.9000002   \n",
       "0         79.82436      79.82436        1500.0     1392.0290         2.4952  \\\n",
       "1         79.82436      79.82436        1500.0      825.1907         2.4952   \n",
       "2         79.82436      79.82436        1500.0      552.6151         2.4952   \n",
       "3         79.82436      79.82436        1500.0      739.1467         2.4952   \n",
       "4         79.82436      79.82436        1500.0      794.4326         2.4952   \n",
       "...            ...           ...           ...           ...            ...   \n",
       "2995      79.82436      79.82436        1500.0     1478.9980         2.4952   \n",
       "2996      79.82436      79.82436        1500.0     1171.5390         2.4952   \n",
       "2997      79.82436      79.82436        1500.0     1142.5420         2.4952   \n",
       "2998      79.82436      79.82436        1500.0     1154.4690         2.4952   \n",
       "2999      79.82436      79.82436        1500.0      620.4639         2.4952   \n",
       "\n",
       "      width.9000003  ...  ExptRes.result1.DataSetID   \n",
       "0             2.085  ...                  SR2j_2200  \\\n",
       "1             2.085  ...                  SR2j_2200   \n",
       "2             2.085  ...                  SR2j_2200   \n",
       "3             2.085  ...                  SR2j_2200   \n",
       "4             2.085  ...                  SR2j_2200   \n",
       "...             ...  ...                        ...   \n",
       "2995          2.085  ...                  SR2j_2200   \n",
       "2996          2.085  ...                  SR2j_2200   \n",
       "2997          2.085  ...                  SR2j_2200   \n",
       "2998          2.085  ...                  SR2j_2200   \n",
       "2999          2.085  ...                  SR2j_2200   \n",
       "\n",
       "      ExptRes.result1.AnalysisSqrts (TeV)  ExptRes.result1.lumi (fb-1)   \n",
       "0                                    13.0                        139.0  \\\n",
       "1                                    13.0                        139.0   \n",
       "2                                    13.0                        139.0   \n",
       "3                                    13.0                        139.0   \n",
       "4                                    13.0                        139.0   \n",
       "...                                   ...                          ...   \n",
       "2995                                 13.0                        139.0   \n",
       "2996                                 13.0                        139.0   \n",
       "2997                                 13.0                        139.0   \n",
       "2998                                 13.0                        139.0   \n",
       "2999                                 13.0                        139.0   \n",
       "\n",
       "      ExptRes.result1.dataType  ExptRes.result1.r  ExptRes.result1.r_expected   \n",
       "0                efficiencyMap           0.066171                    0.064852  \\\n",
       "1                efficiencyMap           0.855924                    0.838864   \n",
       "2                efficiencyMap           0.152012                    0.148983   \n",
       "3                efficiencyMap           1.156362                    1.133313   \n",
       "4                efficiencyMap           1.078187                    1.056696   \n",
       "...                        ...                ...                         ...   \n",
       "2995             efficiencyMap           0.037718                    0.036966   \n",
       "2996             efficiencyMap           0.236524                    0.231810   \n",
       "2997             efficiencyMap           0.038768                    0.037996   \n",
       "2998             efficiencyMap           0.096758                    0.094830   \n",
       "2999             efficiencyMap           1.623871                    1.591505   \n",
       "\n",
       "          ExptRes.result1.Width (GeV)  ExptRes.result1.nll   \n",
       "0     [(zp, 114.6981), (chi, stable)]             9.226668  \\\n",
       "1     [(zp, 80.12207), (chi, stable)]            10.663010   \n",
       "2     [(zp, 33.69929), (chi, stable)]             9.282072   \n",
       "3     [(zp, 71.23618), (chi, stable)]            11.752070   \n",
       "4     [(zp, 86.14029), (chi, stable)]            11.440080   \n",
       "...                               ...                  ...   \n",
       "2995  [(zp, 124.4713), (chi, stable)]             9.213751   \n",
       "2996  [(zp, 121.9931), (chi, stable)]             9.360703   \n",
       "2997   [(zp, 72.3372), (chi, stable)]             9.214180   \n",
       "2998  [(zp, 81.65528), (chi, stable)]             9.243580   \n",
       "2999  [(zp, 56.23954), (chi, stable)]            14.035900   \n",
       "\n",
       "      ExptRes.result1.nll_min  ExptRes.result1.nll_SM  \n",
       "0                    9.200812                9.200812  \n",
       "1                    9.200812                9.200812  \n",
       "2                    9.200812                9.200812  \n",
       "3                    9.200812                9.200812  \n",
       "4                    9.200812                9.200812  \n",
       "...                       ...                     ...  \n",
       "2995                 9.200812                9.200812  \n",
       "2996                 9.200812                9.200812  \n",
       "2997                 9.200812                9.200812  \n",
       "2998                 9.200812                9.200812  \n",
       "2999                 9.200812                9.200812  \n",
       "\n",
       "[3000 rows x 99 columns]"
      ]
     },
     "execution_count": 13,
     "metadata": {},
     "output_type": "execute_result"
    }
   ],
   "source": [
    "dataDF"
   ]
  },
  {
   "cell_type": "code",
   "execution_count": 14,
   "metadata": {
    "ExecuteTime": {
     "end_time": "2024-01-26T00:53:12.312635Z",
     "start_time": "2024-01-26T00:53:12.117621Z"
    }
   },
   "outputs": [],
   "source": [
    "#Save DataFrame to pickle file:\n",
    "dataDF.to_pickle('../data/pcl_files/smodels_results_monojet_atlas_multibin.pcl')"
   ]
  },
  {
   "cell_type": "code",
   "execution_count": null,
   "metadata": {},
   "outputs": [],
   "source": []
  }
 ],
 "metadata": {
  "kernelspec": {
   "display_name": "Python 3 (ipykernel)",
   "language": "python",
   "name": "python3"
  },
  "language_info": {
   "codemirror_mode": {
    "name": "ipython",
    "version": 3
   },
   "file_extension": ".py",
   "mimetype": "text/x-python",
   "name": "python",
   "nbconvert_exporter": "python",
   "pygments_lexer": "ipython3",
   "version": "3.9.13"
  }
 },
 "nbformat": 4,
 "nbformat_minor": 2
}
