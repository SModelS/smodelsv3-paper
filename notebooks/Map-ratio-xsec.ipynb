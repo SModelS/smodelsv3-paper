{
 "cells": [
  {
   "cell_type": "code",
   "execution_count": null,
   "id": "4c346874",
   "metadata": {
    "ExecuteTime": {
     "start_time": "2023-09-13T21:30:50.123Z"
    }
   },
   "outputs": [],
   "source": [
    "import sys,os,glob,copy\n",
    "sys.path.append('../')\n",
    "import numpy as np\n",
    "from numpy.linalg import norm\n",
    "import pandas as pd\n",
    "from matplotlib import pyplot as plt\n",
    "import seaborn as sns\n",
    "from scipy.interpolate import LinearNDInterpolator,interp2d\n",
    "import scipy\n",
    "import matplotlib as mpl\n",
    "import sympy as sp\n",
    "from matplotlib.colors import LogNorm\n",
    "from IPython.display import display, Markdown\n",
    "from collections import OrderedDict\n",
    "import pylhe\n",
    "import glob\n",
    "import pyslha\n",
    "import ROOT\n",
    "import xml.etree.ElementTree as ET\n",
    "\n",
    "\n",
    "plt.rcParams.update({\n",
    "    \"text.usetex\": True,\n",
    "    \"font.family\": \"sans-serif\",\n",
    "    \"font.sans-serif\": [\"Helvetica\"]})\n",
    "\n",
    "plt.rcParams.update({\"savefig.dpi\" : 300}) #Figure resolution\n",
    "\n",
    "\n",
    "#Define plotting style:\n",
    "sns.set() #Set style\n",
    "sns.set_style('ticks',{'font.family':'Times New Roman', 'font.serif':'Times New Roman'})\n",
    "sns.set_context('paper', font_scale=1.8)\n",
    "cm = plt.cm.get_cmap('RdYlBu')"
   ]
  },
  {
   "cell_type": "code",
   "execution_count": null,
   "id": "f7a18657",
   "metadata": {
    "ExecuteTime": {
     "start_time": "2023-09-13T21:30:50.127Z"
    }
   },
   "outputs": [],
   "source": [
    "# Get data from MG5 runs\n",
    "pclFiles = {'pp->zp': '../data/2mdm_zp_jet.pcl',\n",
    "            'pp->sd': '../data/2mdm_sd_jet.pcl'}\n",
    "\n",
    "df = [pd.read_pickle(f) for l, f in pclFiles.items()]\n",
    "\n",
    "df[1]['process'] = 'pp->sd'\n",
    "df[1] = df[1].drop(columns=['$m_{med}$'])\n",
    "df[1] = df[1].rename(columns={'$m_{s}$': '$m_{med}$'})\n",
    "    \n",
    "for d in df:\n",
    "    d = d.sort_values(['$m_{med}$', '$\\sin\\\\theta$', '$g_{q}$'],inplace=True, \n",
    "                     ascending=[True, True, True])"
   ]
  },
  {
   "cell_type": "code",
   "execution_count": null,
   "id": "ba2832d4",
   "metadata": {
    "ExecuteTime": {
     "start_time": "2023-09-13T21:30:50.131Z"
    }
   },
   "outputs": [],
   "source": [
    "data = pd.DataFrame()\n",
    "for d in df:\n",
    "    data = pd.concat((data,d))"
   ]
  },
  {
   "cell_type": "code",
   "execution_count": null,
   "id": "3fb3b8f9",
   "metadata": {
    "ExecuteTime": {
     "start_time": "2023-09-13T21:30:50.133Z"
    }
   },
   "outputs": [],
   "source": [
    "BRdata = pd.read_pickle('../data/BRdata.pcl')"
   ]
  },
  {
   "cell_type": "code",
   "execution_count": null,
   "id": "3980545a",
   "metadata": {
    "ExecuteTime": {
     "start_time": "2023-09-13T21:30:50.135Z"
    }
   },
   "outputs": [],
   "source": [
    "dataS = data[data['process'] == 'pp->sd']\n",
    "dataZ = data[data['process'] == 'pp->zp']\n",
    "brS = BRdata[BRdata['Mediator'] == '$S_{d}$']\n",
    "brZ = BRdata[BRdata['Mediator'] == '$Z^{\\prime}$']"
   ]
  },
  {
   "cell_type": "code",
   "execution_count": null,
   "id": "4f053f82",
   "metadata": {
    "ExecuteTime": {
     "start_time": "2023-09-13T21:30:50.137Z"
    }
   },
   "outputs": [],
   "source": [
    "col = ['$m_{med}$', '$y_{\\\\chi}$', '$\\\\sin\\\\theta$']\n",
    "\n",
    "keys = list(dataS[col].columns.values)\n",
    "i1 = dataS.set_index(keys).index\n",
    "i2 = brS.set_index(keys).index\n",
    "brS = brS[i2.isin(i1)]\n",
    "\n",
    "col = ['$m_{med}$', '$g_{\\\\chi}$', '$g_{q}$']\n",
    "\n",
    "keys = list(dataZ[col].columns.values)\n",
    "i1 = dataZ.set_index(keys).index\n",
    "i2 = brZ.set_index(keys).index\n",
    "brZ = brZ[i2.isin(i1)]\n",
    "\n",
    "print(len(dataS), len(brS), len(dataZ), len(brZ))"
   ]
  },
  {
   "cell_type": "code",
   "execution_count": null,
   "id": "28308a6a",
   "metadata": {
    "ExecuteTime": {
     "start_time": "2023-09-13T21:30:50.139Z"
    }
   },
   "outputs": [],
   "source": [
    "# Filter models\n",
    "\n",
    "filter1 = {'$y_{\\\\chi}$': 1.0,\n",
    "           '$\\\\sin\\\\theta$': 0.2\n",
    "          }\n",
    "filter2 = {'$g_{\\\\chi}$': 1.0,\n",
    "           '$g_{q}$': 0.1\n",
    "          }\n",
    "str1 = '\\n'.join([r'%s = %s' %(k,v) for k,v in filter1.items()])\n",
    "str2 = '\\n'.join([r'%s = %s' %(k,v) for k,v in filter2.items()])\n",
    "textstr = str1+'\\n'+str2"
   ]
  },
  {
   "cell_type": "code",
   "execution_count": null,
   "id": "8a85752b",
   "metadata": {
    "ExecuteTime": {
     "start_time": "2023-09-13T21:30:50.140Z"
    }
   },
   "outputs": [],
   "source": [
    "dataS = dataS.loc[(dataS[list(filter1)] == pd.Series(filter1)).all(axis=1)]\n",
    "brS = brS.loc[(brS[list(filter1)] == pd.Series(filter1)).all(axis=1)]\n",
    "\n",
    "dataZ = dataZ.loc[(dataZ[list(filter2)] == pd.Series(filter2)).all(axis=1)]\n",
    "brZ = brZ.loc[(brZ[list(filter2)] == pd.Series(filter2)).all(axis=1)]\n"
   ]
  },
  {
   "cell_type": "code",
   "execution_count": null,
   "id": "3b4260f1",
   "metadata": {
    "ExecuteTime": {
     "start_time": "2023-09-13T21:30:50.142Z"
    }
   },
   "outputs": [],
   "source": [
    "xsecs = pd.DataFrame(columns=['$m_{s}$', '$m_{Zp}$'])\n",
    "for mzp in dataZ['$m_{med}$']:\n",
    "    for ms in dataS['$m_{med}$']:\n",
    "        xsecs.loc[len(xsecs)] = [ms, mzp]"
   ]
  },
  {
   "cell_type": "code",
   "execution_count": null,
   "id": "a9d0ab23",
   "metadata": {
    "ExecuteTime": {
     "start_time": "2023-09-13T21:30:50.143Z"
    },
    "scrolled": false
   },
   "outputs": [],
   "source": [
    "vals, valscut = [], []\n",
    "for mzp in dataZ['$m_{med}$']:\n",
    "    for ms in dataS['$m_{med}$']:\n",
    "        \n",
    "        xsecS = float(dataS[dataS['$m_{med}$'] == ms]['x-sec (pb)'])\n",
    "        xsecZp = float(dataZ[dataZ['$m_{med}$'] == mzp]['x-sec (pb)'])\n",
    "        vals.append(xsecS/xsecZp)\n",
    "        \n",
    "        xsecScut = float(dataS[dataS['$m_{med}$'] == ms]['x-sec pT-250 (pb)'])\n",
    "        xsecZpcut = float(dataZ[dataZ['$m_{med}$'] == mzp]['x-sec pT-250 (pb)'])\n",
    "        valscut.append(xsecScut/xsecZpcut)"
   ]
  },
  {
   "cell_type": "code",
   "execution_count": null,
   "id": "efe3f18c",
   "metadata": {
    "ExecuteTime": {
     "start_time": "2023-09-13T21:30:50.144Z"
    }
   },
   "outputs": [],
   "source": [
    "xsecs['$\\sigma_{S} / \\sigma_{Zp} (cut)$'] = valscut\n",
    "xsecs['$\\sigma_{S} / \\sigma_{Zp}$'] = vals"
   ]
  },
  {
   "cell_type": "code",
   "execution_count": null,
   "id": "d86516f6",
   "metadata": {
    "ExecuteTime": {
     "start_time": "2023-09-13T21:30:50.147Z"
    }
   },
   "outputs": [],
   "source": [
    "# Plot results\n",
    "plt.figure(figsize=(8,6))\n",
    "plt.scatter(x=xsecs['$m_{Zp}$'], y=xsecs['$m_{s}$'], vmin=0.75, vmax=1.25,\n",
    "            cmap=plt.cm.get_cmap('Reds'), c=xsecs['$\\\\sigma_{S} / \\\\sigma_{Zp} (cut)$'], s=100)\n",
    "\n",
    "cbar=plt.colorbar(label=r'$\\sigma_{s} / \\sigma_{Z^{\\prime}}$')\n",
    "\n",
    "plt.xlabel(r'$m_{Z^{\\prime}}$ (GeV)')\n",
    "plt.ylabel(r'$m_{s}$ (GeV)')\n",
    "\n",
    "plt.text(0.07,0.75,textstr,fontsize=15,bbox=dict(facecolor='none', edgecolor='black'),\n",
    "         transform = plt.gca().transAxes)\n",
    "plt.minorticks_on()\n",
    "plt.show()"
   ]
  },
  {
   "cell_type": "code",
   "execution_count": null,
   "id": "5f220000",
   "metadata": {
    "ExecuteTime": {
     "start_time": "2023-09-13T21:30:50.149Z"
    }
   },
   "outputs": [],
   "source": [
    "from itertools import product\n",
    "from scipy.interpolate import LinearNDInterpolator,interp2d, griddata\n",
    "\n",
    "\n",
    "pts = np.array([x for x in product(np.linspace(0.,3000.,100),np.linspace(0.,1400.,100))])\n",
    "ratios = griddata(list(zip(xsecs['$m_{Zp}$'],xsecs['$m_{s}$'])),\n",
    "                  np.array(xsecs['$\\\\sigma_{S} / \\\\sigma_{Zp} (cut)$']),pts)"
   ]
  },
  {
   "cell_type": "code",
   "execution_count": null,
   "id": "a964d1f8",
   "metadata": {
    "ExecuteTime": {
     "start_time": "2023-09-13T21:30:50.150Z"
    }
   },
   "outputs": [],
   "source": [
    "plt.figure(figsize=(8,6))\n",
    "\n",
    "plt.scatter(x=pts[:,0], y=pts[:,1], vmin=0.75, vmax =1.25, c=ratios, cmap=plt.cm.get_cmap('Reds'))\n",
    "\n",
    "cbar=plt.colorbar(label=r'$\\sigma_{s} / \\sigma_{Z^{\\prime}}$')\n",
    "\n",
    "plt.text(0.07,0.75,textstr,fontsize=15,bbox=dict(facecolor='none', edgecolor='black'),\n",
    "         transform = plt.gca().transAxes)\n",
    "\n",
    "plt.xlabel(r'$m_{Z^{\\prime}}$ (GeV)')\n",
    "plt.ylabel(r'$m_{s}$ (GeV)')\n",
    "plt.show()"
   ]
  },
  {
   "cell_type": "code",
   "execution_count": null,
   "id": "5c01b45e",
   "metadata": {},
   "outputs": [],
   "source": []
  }
 ],
 "metadata": {
  "kernelspec": {
   "display_name": "Python 3 (ipykernel)",
   "language": "python",
   "name": "python3"
  },
  "language_info": {
   "codemirror_mode": {
    "name": "ipython",
    "version": 3
   },
   "file_extension": ".py",
   "mimetype": "text/x-python",
   "name": "python",
   "nbconvert_exporter": "python",
   "pygments_lexer": "ipython3",
   "version": "3.10.12"
  }
 },
 "nbformat": 4,
 "nbformat_minor": 5
}
