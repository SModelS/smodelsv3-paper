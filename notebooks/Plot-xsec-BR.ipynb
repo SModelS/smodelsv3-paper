{
 "cells": [
  {
   "cell_type": "code",
   "execution_count": 1,
   "id": "4c346874",
   "metadata": {
    "ExecuteTime": {
     "end_time": "2023-09-19T23:57:21.471532Z",
     "start_time": "2023-09-19T23:57:19.213977Z"
    }
   },
   "outputs": [
    {
     "name": "stdout",
     "output_type": "stream",
     "text": [
      "Welcome to JupyROOT 6.26/10\n"
     ]
    }
   ],
   "source": [
    "import sys,os,glob,copy\n",
    "sys.path.append('../')\n",
    "import numpy as np\n",
    "from numpy.linalg import norm\n",
    "import pandas as pd\n",
    "from matplotlib import pyplot as plt\n",
    "import seaborn as sns\n",
    "from scipy.interpolate import LinearNDInterpolator,interp2d\n",
    "import scipy\n",
    "import matplotlib as mpl\n",
    "import sympy as sp\n",
    "from matplotlib.colors import LogNorm\n",
    "from IPython.display import display, Markdown\n",
    "from collections import OrderedDict\n",
    "import pylhe\n",
    "import glob\n",
    "import pyslha\n",
    "import ROOT\n",
    "import xml.etree.ElementTree as ET\n",
    "\n",
    "\n",
    "plt.rcParams.update({\n",
    "    \"text.usetex\": True,\n",
    "    \"font.family\": \"sans-serif\",\n",
    "    \"font.sans-serif\": [\"Helvetica\"]})\n",
    "\n",
    "plt.rcParams.update({\"savefig.dpi\" : 300}) #Figure resolution\n",
    "\n",
    "\n",
    "#Define plotting style:\n",
    "sns.set() #Set style\n",
    "sns.set_style('ticks',{'font.family':'Times New Roman', 'font.serif':'Times New Roman'})\n",
    "sns.set_context('paper', font_scale=1.8)\n",
    "cm = plt.cm.get_cmap('RdYlBu')"
   ]
  },
  {
   "cell_type": "code",
   "execution_count": 2,
   "id": "f7a18657",
   "metadata": {
    "ExecuteTime": {
     "end_time": "2023-09-19T23:57:21.589268Z",
     "start_time": "2023-09-19T23:57:21.473370Z"
    }
   },
   "outputs": [],
   "source": [
    "# Get data from MG5 runs\n",
    "pclFiles = {'pp->zp': '../data/2mdm_zp_jet.pcl',\n",
    "            'pp->sd': '../data/2mdm_sd_jet.pcl'}\n",
    "\n",
    "df = [pd.read_pickle(f) for l, f in pclFiles.items()]\n",
    "\n",
    "for i, label in enumerate(pclFiles.keys()):\n",
    "    df[i]['process'] = label\n",
    "    \n",
    "    if label == 'pp->zp':\n",
    "        df[i] = df[i].drop(columns=['$m_{s}$'])\n",
    "        df[i] = df[i].rename(columns={'$m_{Z^{\\prime}}$': '$m_{med}$'})\n",
    "        \n",
    "    elif label == 'pp->sd':\n",
    "        df[i] = df[i].drop(columns=['$m_{Z^{\\prime}}$'])\n",
    "        df[i] = df[i].rename(columns={'$m_{s}$': '$m_{med}$'})\n",
    "    \n",
    "for d in df:\n",
    "    d = d.sort_values(['process', '$m_{med}$', '$\\sin\\\\theta$', '$g_{q}$'],inplace=True, \n",
    "                     ascending=[True, True, True, True])"
   ]
  },
  {
   "cell_type": "code",
   "execution_count": 3,
   "id": "ba2832d4",
   "metadata": {
    "ExecuteTime": {
     "end_time": "2023-09-19T23:57:21.898771Z",
     "start_time": "2023-09-19T23:57:21.590531Z"
    }
   },
   "outputs": [],
   "source": [
    "data = pd.DataFrame()\n",
    "for d in df:\n",
    "    data = pd.concat((data,d))"
   ]
  },
  {
   "cell_type": "code",
   "execution_count": 4,
   "id": "014d001c",
   "metadata": {
    "ExecuteTime": {
     "end_time": "2023-09-19T23:57:22.206890Z",
     "start_time": "2023-09-19T23:57:21.908048Z"
    }
   },
   "outputs": [],
   "source": [
    "BRdata = pd.read_pickle('../data/BRdata.pcl')"
   ]
  },
  {
   "cell_type": "code",
   "execution_count": 5,
   "id": "1eab5bfe",
   "metadata": {
    "ExecuteTime": {
     "end_time": "2023-09-19T23:57:22.351830Z",
     "start_time": "2023-09-19T23:57:22.212594Z"
    }
   },
   "outputs": [],
   "source": [
    "dataS = data[data['process'] == 'pp->sd']\n",
    "dataZ = data[data['process'] == 'pp->zp']\n",
    "brS = BRdata[BRdata['Mediator'] == '$S_{d}$']\n",
    "brZ = BRdata[BRdata['Mediator'] == '$Z^{\\prime}$']"
   ]
  },
  {
   "cell_type": "code",
   "execution_count": 6,
   "id": "59e80e5d",
   "metadata": {
    "ExecuteTime": {
     "end_time": "2023-09-19T23:57:22.594563Z",
     "start_time": "2023-09-19T23:57:22.357936Z"
    }
   },
   "outputs": [],
   "source": [
    "col = ['$m_{med}$', '$\\\\sin\\\\theta$']\n",
    "\n",
    "keys = list(dataS[col].columns.values)\n",
    "i1 = dataS.set_index(keys).index\n",
    "i2 = brS.set_index(keys).index\n",
    "brS = brS[i2.isin(i1)]\n",
    "\n",
    "col = ['$m_{med}$', '$g_{q}$']\n",
    "\n",
    "keys = list(dataZ[col].columns.values)\n",
    "i1 = dataZ.set_index(keys).index\n",
    "i2 = brZ.set_index(keys).index\n",
    "brZ = brZ[i2.isin(i1)]"
   ]
  },
  {
   "cell_type": "code",
   "execution_count": 7,
   "id": "28308a6a",
   "metadata": {
    "ExecuteTime": {
     "end_time": "2023-09-19T23:57:22.972927Z",
     "start_time": "2023-09-19T23:57:22.599868Z"
    }
   },
   "outputs": [
    {
     "name": "stdout",
     "output_type": "stream",
     "text": [
      "14 14 26 26\n"
     ]
    }
   ],
   "source": [
    "# Filter models\n",
    "\n",
    "filter1 = {'$y_{\\\\chi}$': 1.5}\n",
    "filter2 = {'$g_{\\\\chi}$': 2.0}\n",
    "filter3 = {'$\\\\sin\\\\theta$': 0.2}\n",
    "filter4 = {'$g_{q}$': 0.25}\n",
    "\n",
    "str1 = '\\n'.join([r'%s = %s' %(k,v) for k,v in filter1.items()])\n",
    "str2 = '\\n'.join([r'%s = %s' %(k,v) for k,v in filter2.items()])\n",
    "str3 = '\\n'.join([r'%s = %s' %(k,v) for k,v in filter3.items()])\n",
    "str4 = '\\n'.join([r'%s = %s' %(k,v) for k,v in filter4.items()])\n",
    "textstr = '\\n'.join([str1]+[str2]+[str3]+[str4])\n",
    "\n",
    "dataS = dataS.loc[(dataS[list(filter3)] == pd.Series(filter3)).all(axis=1)]\n",
    "brS = brS.loc[(brS[list(filter1)] == pd.Series(filter1)).all(axis=1)]\n",
    "brS = brS.loc[(brS[list(filter3)] == pd.Series(filter3)).all(axis=1)]\n",
    "\n",
    "dataZ = dataZ.loc[(dataZ[list(filter4)] == pd.Series(filter4)).all(axis=1)]\n",
    "brZ = brZ.loc[(brZ[list(filter2)] == pd.Series(filter2)).all(axis=1)]\n",
    "brZ = brZ.loc[(brZ[list(filter4)] == pd.Series(filter4)).all(axis=1)]\n",
    "\n",
    "print(len(dataS), len(brS), len(dataZ), len(brZ))"
   ]
  },
  {
   "cell_type": "code",
   "execution_count": 8,
   "id": "a8d381ec",
   "metadata": {
    "ExecuteTime": {
     "end_time": "2023-09-19T23:57:23.173019Z",
     "start_time": "2023-09-19T23:57:22.980643Z"
    }
   },
   "outputs": [],
   "source": [
    "colors = {label : sns.color_palette('deep', n_colors=16)[i] for i,label in enumerate(pclFiles.keys())}    "
   ]
  },
  {
   "cell_type": "code",
   "execution_count": 9,
   "id": "018025db",
   "metadata": {
    "ExecuteTime": {
     "end_time": "2023-09-19T23:57:24.426256Z",
     "start_time": "2023-09-19T23:57:23.178789Z"
    }
   },
   "outputs": [
    {
     "data": {
      "image/png": "[encoded data removed]",
      "text/plain": [
       "<Figure size 800x600 with 1 Axes>"
      ]
     },
     "metadata": {},
     "output_type": "display_data"
    }
   ],
   "source": [
    "# plot cross-section\n",
    "plt.figure(figsize=(8,6))\n",
    "\n",
    "plt.plot(dataS['$m_{med}$'], dataS['x-sec pT-250 (pb)'], label=r'$\\sigma(pp -> s)$', \n",
    "         color=colors['pp->sd'], alpha=0.5, marker='+', linestyle='')\n",
    "\n",
    "\n",
    "plt.plot(dataS['$m_{med}$'], np.array(dataS['x-sec pT-250 (pb)'])*np.array(brS['$BR(med>\\\\chi\\\\chi)$']),\n",
    "         label=r'$\\sigma(pp -> s) \\times BR(s -> \\chi \\chi) $', color=colors['pp->sd'], marker='+', linestyle='')\n",
    "\n",
    "\n",
    "plt.plot(dataZ['$m_{med}$'], dataZ['x-sec pT-250 (pb)'], label=r'$\\sigma(pp -> Z^{\\prime})$', \n",
    "         color=colors['pp->zp'], alpha=0.5, marker='+', linestyle='')\n",
    "\n",
    "\n",
    "plt.plot(dataZ['$m_{med}$'], np.array(dataZ['x-sec pT-250 (pb)'])*np.array(brZ['$BR(med>\\\\chi\\\\chi)$']),\n",
    "         label=r'$\\sigma(pp -> Z^{\\prime}) \\times BR(Z^{\\prime} -> \\chi \\chi) $', color=colors['pp->zp'], \n",
    "         marker='+', linestyle='')\n",
    "\n",
    "    \n",
    "plt.hlines(0.003, xmin=0.0, xmax=3100, linestyles='--', alpha=0.2, color='gray')\n",
    "plt.yscale('log')\n",
    "\n",
    "plt.title('Cross-sections for production of mediators')\n",
    "plt.xlabel(r'$mass$ (GeV)')\n",
    "plt.ylabel(r'$\\sigma$ (pb)')\n",
    "\n",
    "plt.text(0.78,0.2,textstr,fontsize=14,bbox=dict(facecolor='white', edgecolor='black'),\n",
    "         transform = plt.gca().transAxes)\n",
    "plt.xlim(0.0, 3100)\n",
    "plt.grid(which='major')\n",
    "\n",
    "plt.legend(fontsize=12, loc='upper right')\n",
    "\n",
    "plt.show()"
   ]
  },
  {
   "cell_type": "code",
   "execution_count": 10,
   "id": "7f446b62",
   "metadata": {
    "ExecuteTime": {
     "end_time": "2023-09-19T23:57:24.554204Z",
     "start_time": "2023-09-19T23:57:24.442582Z"
    }
   },
   "outputs": [
    {
     "name": "stdout",
     "output_type": "stream",
     "text": [
      "200.0 0.002848240998833983\n",
      "300.0 0.002131600294075236\n",
      "400.0 0.0021317462709879147\n",
      "500.0 0.0013978885581853481\n",
      "600.0 0.000809515532797452\n",
      "700.0 0.00041890137646357804\n",
      "800.0 0.00022117092055600227\n",
      "900.0 0.00011594652785839248\n",
      "1000.0 6.284553664658055e-05\n",
      "1100.0 3.585695445771015e-05\n",
      "1200.0 1.9555679018280688e-05\n",
      "1300.0 1.1628038764739553e-05\n",
      "1400.0 6.583691758009919e-06\n",
      "1500.0 3.8608883413925054e-06\n"
     ]
    }
   ],
   "source": [
    "prod = np.array(dataS['x-sec pT-250 (pb)'])*np.array(brS['$BR(med>\\\\chi\\\\chi)$'])\n",
    "for i, m in enumerate(dataS['$m_{med}$']):\n",
    "    print(m, prod[i])"
   ]
  },
  {
   "cell_type": "code",
   "execution_count": 11,
   "id": "ebb45390",
   "metadata": {
    "ExecuteTime": {
     "end_time": "2023-09-19T23:57:24.941671Z",
     "start_time": "2023-09-19T23:57:24.555863Z"
    }
   },
   "outputs": [
    {
     "name": "stdout",
     "output_type": "stream",
     "text": [
      "500.0 3.1510723870845534\n",
      "600.0 2.0468296698104034\n",
      "700.0 1.3190695107497752\n",
      "800.0 0.9292953926779304\n",
      "900.0 0.6483927175019821\n",
      "1000.0 0.4588935792364004\n",
      "1100.0 0.32953654280302364\n",
      "1200.0 0.23430417581010943\n",
      "1300.0 0.18237001760199167\n",
      "1400.0 0.1323728446879612\n",
      "1500.0 0.10135506999224399\n",
      "1600.0 0.07590179626104125\n",
      "1700.0 0.05872901899895421\n",
      "1800.0 0.04365308218281102\n",
      "1900.0 0.03400031853104419\n",
      "2000.0 0.026281605569653463\n",
      "2100.0 0.019731711142740405\n",
      "2200.0 0.015869813748921446\n",
      "2300.0 0.012835847384641415\n",
      "2400.0 0.00974108103877659\n",
      "2500.0 0.0074454950902897886\n",
      "2600.0 0.006163856420237088\n",
      "2700.0 0.004670596918481747\n",
      "2800.0 0.003692388201786726\n",
      "2900.0 0.002935522582974575\n",
      "3000.0 0.002323588078905316\n"
     ]
    }
   ],
   "source": [
    "prod = np.array(dataZ['x-sec pT-250 (pb)'])*np.array(brZ['$BR(med>\\\\chi\\\\chi)$'])\n",
    "for i, m in enumerate(dataZ['$m_{med}$']):\n",
    "    print(m, prod[i])"
   ]
  },
  {
   "cell_type": "code",
   "execution_count": null,
   "id": "8bca8454",
   "metadata": {},
   "outputs": [],
   "source": []
  }
 ],
 "metadata": {
  "kernelspec": {
   "display_name": "Python 3 (ipykernel)",
   "language": "python",
   "name": "python3"
  },
  "language_info": {
   "codemirror_mode": {
    "name": "ipython",
    "version": 3
   },
   "file_extension": ".py",
   "mimetype": "text/x-python",
   "name": "python",
   "nbconvert_exporter": "python",
   "pygments_lexer": "ipython3",
   "version": "3.10.12"
  }
 },
 "nbformat": 4,
 "nbformat_minor": 5
}
