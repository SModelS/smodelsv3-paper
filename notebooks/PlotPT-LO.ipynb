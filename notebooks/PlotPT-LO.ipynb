{
 "cells": [
  {
   "cell_type": "code",
   "execution_count": 1,
   "id": "b83cc91d",
   "metadata": {
    "ExecuteTime": {
     "end_time": "2023-09-23T11:51:23.979311Z",
     "start_time": "2023-09-23T11:51:18.702417Z"
    }
   },
   "outputs": [
    {
     "name": "stdout",
     "output_type": "stream",
     "text": [
      "Welcome to JupyROOT 6.26/10\n"
     ]
    }
   ],
   "source": [
    "import sys,os,glob,copy\n",
    "sys.path.append('../')\n",
    "import numpy as np\n",
    "from numpy.linalg import norm\n",
    "import pandas as pd\n",
    "from matplotlib import pyplot as plt\n",
    "import seaborn as sns\n",
    "from scipy.interpolate import LinearNDInterpolator,interp2d\n",
    "import matplotlib as mpl\n",
    "from matplotlib.colors import LogNorm\n",
    "from IPython.display import display, Markdown\n",
    "from collections import OrderedDict\n",
    "import pylhe\n",
    "import glob\n",
    "import pyslha\n",
    "\n",
    "delphesDir = os.path.abspath(\"../../MG5/Delphes/\")\n",
    "os.environ['ROOT_INCLUDE_PATH'] = os.path.join(delphesDir,\"external\")\n",
    "\n",
    "import ROOT\n",
    "import xml.etree.ElementTree as ET\n",
    "\n",
    "\n",
    "ROOT.gSystem.Load(os.path.join(delphesDir,\"libDelphes.so\"))\n",
    "\n",
    "ROOT.gInterpreter.Declare('#include \"classes/SortableObject.h\"')\n",
    "ROOT.gInterpreter.Declare('#include \"classes/DelphesClasses.h\"')\n",
    "ROOT.gInterpreter.Declare('#include \"external/ExRootAnalysis/ExRootTreeReader.h\"')\n",
    "\n",
    "plt.rcParams.update({\n",
    "    \"text.usetex\": True,\n",
    "    \"font.family\": \"sans-serif\",\n",
    "    \"font.sans-serif\": [\"Helvetica\"]})\n",
    "\n",
    "plt.rcParams.update({\"savefig.dpi\" : 300}) #Figure resolution\n",
    "\n",
    "\n",
    "#Define plotting style:\n",
    "sns.set() #Set style\n",
    "sns.set_style('ticks',{'font.family':'Times New Roman', 'font.serif':'Times New Roman'})\n",
    "sns.set_context('paper', font_scale=1.8)\n",
    "cm = plt.cm.get_cmap('RdYlBu')"
   ]
  },
  {
   "cell_type": "markdown",
   "id": "a109ab9b",
   "metadata": {},
   "source": [
    "# Set Delphes output files"
   ]
  },
  {
   "cell_type": "code",
   "execution_count": 17,
   "id": "0e6acedf",
   "metadata": {
    "ExecuteTime": {
     "end_time": "2023-09-23T11:52:36.789763Z",
     "start_time": "2023-09-23T11:52:36.673901Z"
    }
   },
   "outputs": [],
   "source": [
    "inputFiles = {'zp_dm': '../Tests/2mdm_spin1/Events/run_01/zp_2000_delphes_events.root',\n",
    "              'sd_dm': '../Tests/2mdm_spin0/Events/run_12/sd_700_delphes_events.root'}\n",
    "\n",
    "cmsData = pd.read_pickle('../data/DMsimp_spin-1_Monojet_DF.pcl')\n",
    "cmsData.rename(columns = {'$m_{med}$':'$M_{med}$', '$m_{DM}$':'$m_{\\chi}$', '$g_{DM}$':'$g_{\\chi}$'}, \n",
    "                inplace=True)"
   ]
  },
  {
   "cell_type": "markdown",
   "id": "593a9922",
   "metadata": {},
   "source": [
    "# Load model parameters"
   ]
  },
  {
   "cell_type": "code",
   "execution_count": 18,
   "id": "e0bddf06",
   "metadata": {
    "ExecuteTime": {
     "end_time": "2023-09-23T11:52:37.402075Z",
     "start_time": "2023-09-23T11:52:37.249975Z"
    }
   },
   "outputs": [
    {
     "name": "stdout",
     "output_type": "stream",
     "text": [
      "zp_dm : mZp = 2000.00 GeV, mH2 = 200.00 GeV, mDM = 65.00 GeV\n",
      "sd_dm : mZp = 2000.00 GeV, mH2 = 700.00 GeV, mDM = 65.00 GeV\n"
     ]
    }
   ],
   "source": [
    "parameters = {}\n",
    "for label,file in inputFiles.items():\n",
    "    banner = sorted(glob.glob(os.path.dirname(file)+'/*banner.txt'),key=os.path.getmtime,reverse=True)\n",
    "    if len(banner) == 0:\n",
    "        print('Banner not found for %s' %label)\n",
    "    elif len(banner) > 1:        \n",
    "        print('\\n%i banner files found for %s. Using %s' \n",
    "              %(len(banner),label,os.path.basename(banner[0])))\n",
    "    banner = banner[0]\n",
    "    xtree = ET.parse(banner)\n",
    "    xroot = xtree.getroot()\n",
    "    slha = xroot.find('header').find('slha').text\n",
    "    pars = pyslha.readSLHA(slha)\n",
    "    \n",
    "    \n",
    "    if 9900032 in pars.blocks['MASS']:\n",
    "        model = '2mdm'        \n",
    "        mZp = pars.blocks['MASS'][9900032] # Z prime mass\n",
    "        \n",
    "    elif 55 in pars.blocks['MASS']:\n",
    "        model = 'dmsimp'\n",
    "        mZp = pars.blocks['MASS'][55] # Z prime mass\n",
    "        \n",
    "    \n",
    "    if model == '2mdm':\n",
    "        mS = pars.blocks['BLINPUTS'][2] # dark Higgs (S) mass\n",
    "        mChi = pars.blocks['MASS'][9000006] # DM mass\n",
    "        sTheta = pars.blocks['BLINPUTS'][3] # sin theta\n",
    "        ychi = pars.blocks['FRBLOCK'][1] # coupling of S to DM\n",
    "        gchi = pars.blocks['ZPRIME'][1] # coupling of mediators to DM\n",
    "        gq = pars.blocks['ZPRIME'][2] # coupling of mediators to SM\n",
    "    elif model == 'dmsimp':\n",
    "        mS = np.nan # dark Higgs mass\n",
    "        mChi = pars.blocks['MASS'][52] # DM mass\n",
    "        sTheta = 0\n",
    "        gchi = pars.blocks['DMINPUTS'][2] # coupling of mediators to DM\n",
    "        gq = pars.blocks['DMINPUTS'][6] # coupling of mediators to SM  \n",
    "        \n",
    "\n",
    "    \n",
    "        \n",
    "    parameters[label] = {'mZp' : mZp, 'mDM' : mChi, 'mH2' : mS,\n",
    "                         'gq' : gq, 'sTheta' : sTheta, 'gx' : gchi, 'ychi' : ychi}\n",
    "    print(label,': mZp = %1.2f GeV, mH2 = %1.2f GeV, mDM = %1.2f GeV' %(mZp,mS,mChi))"
   ]
  },
  {
   "cell_type": "markdown",
   "id": "d986e5d9",
   "metadata": {},
   "source": [
    "# Load events, apply cuts, and store info"
   ]
  },
  {
   "cell_type": "code",
   "execution_count": 19,
   "id": "c78cedbe",
   "metadata": {
    "ExecuteTime": {
     "end_time": "2023-09-23T11:52:37.754865Z",
     "start_time": "2023-09-23T11:52:37.645331Z"
    }
   },
   "outputs": [],
   "source": [
    "# ## Cuts\n",
    "## MET\n",
    "pTcut = 150.\n",
    "## jets\n",
    "pTj1min = 100.\n",
    "pTjmin = 20.\n",
    "etamax = 2.4\n",
    "## MET\n",
    "minMET = 250.\n",
    "## Electrons\n",
    "pTmin_el = 10.\n",
    "etamax_el = 2.5\n",
    "nMax_el = 0\n",
    "## Photons\n",
    "pTmin_a = 15.\n",
    "etamax_a = 2.5\n",
    "nMax_a = 0\n",
    "## Muons\n",
    "pTmin_mu = 10.\n",
    "etamax_mu = 2.4\n",
    "nMax_mu = 0\n",
    "## Tau jets\n",
    "nMax_tau = 0\n",
    "etatau_max = 2.3\n",
    "pTtau_min = 18.0\n",
    "## b jets\n",
    "nMax_b = 0\n",
    "etab_max = 2.4\n",
    "pTb_min = 20.0"
   ]
  },
  {
   "cell_type": "code",
   "execution_count": 20,
   "id": "33dc7a3b",
   "metadata": {
    "ExecuteTime": {
     "end_time": "2023-09-23T11:53:13.169979Z",
     "start_time": "2023-09-23T11:52:37.872134Z"
    }
   },
   "outputs": [],
   "source": [
    "pTj1 = {label : np.array([]) for label in inputFiles}\n",
    "weights = {label : np.array([]) for label in inputFiles}\n",
    "met = {label : np.array([]) for label in inputFiles}\n",
    "njets = {label : np.array([]) for label in inputFiles}\n",
    "totalweight = {label : 0 for label in inputFiles}\n",
    "\n",
    "for label,inputFile in inputFiles.items():\n",
    "    \n",
    "    f = ROOT.TFile(inputFile, 'read')\n",
    "    tree = f.Get(\"Delphes\")\n",
    "    nevts = tree.GetEntries()\n",
    "    parameters[label]['Events'] = nevts\n",
    "    \n",
    "    for event in range(nevts):\n",
    "        \n",
    "        tree.GetEntry(event)\n",
    "\n",
    "        jets = tree.Jet\n",
    "        \n",
    "        try:\n",
    "            weight = tree.Weight.At(1).Weight\n",
    "        except:\n",
    "            weight = tree.Weight.At(0).Weight\n",
    "            \n",
    "        totalweight[label] += weight\n",
    "        \n",
    "        missingET = tree.MissingET.At(0)\n",
    "        electrons = tree.Electron\n",
    "        muons = tree.Electron\n",
    "        photons = tree.Photon\n",
    "        \n",
    "        # Filter electrons:\n",
    "        electronList = []\n",
    "        for iel in range(electrons.GetEntries()):\n",
    "            electron = electrons.At(iel)\n",
    "            \n",
    "            if electron.PT < pTmin_el: continue\n",
    "            if abs(electron.Eta) > etamax_el: continue\n",
    "                \n",
    "            electronList.append(electron)\n",
    "        \n",
    "        # Filter muons:\n",
    "        muonList = []\n",
    "        for imu in range(muons.GetEntries()):\n",
    "            muon = muons.At(imu)\n",
    "            \n",
    "            if muon.PT < pTmin_mu: continue\n",
    "            if abs(muon.Eta) > etamax_mu: continue\n",
    "                \n",
    "            muonList.append(muon)\n",
    "            \n",
    "        # Filter photons:\n",
    "        photonList = []\n",
    "        for ia in range(photons.GetEntries()):\n",
    "            photon = photons.At(ia)\n",
    "            \n",
    "            if photon.PT < pTmin_a: continue\n",
    "            if abs(photon.Eta) > etamax_a: continue\n",
    "                \n",
    "            photonList.append(photon)\n",
    "        \n",
    "        # Filter jets\n",
    "        jetList = []\n",
    "        bjetList = []\n",
    "        taujetList = []\n",
    "        for ijet in range(jets.GetEntries()):\n",
    "            jet = jets.At(ijet)\n",
    "            \n",
    "            if (jet.BTag) and (jet.PT > pTb_min) and (abs(jet.Eta) < etab_max):\n",
    "                bjetList.append(jet)\n",
    "            elif (jet.TauTag) and (jet.PT > pTtau_min) and (abs(jet.Eta) < etatau_max):\n",
    "                taujetList.append(jet)\n",
    "            elif (jet.PT > pTj1min) and (abs(jet.Eta) < etamax):\n",
    "                jetList.append(jet)\n",
    "        jetList = sorted(jetList, key= lambda j: j.PT, reverse= True)\n",
    "        \n",
    "        njets[label] = np.append(njets[label], jets.GetEntries())\n",
    "        \n",
    "        if len(jetList) > 0:\n",
    "            deltaPhi = np.abs(jetList[0].Phi-missingET.Phi)\n",
    "        else:\n",
    "            deltaPhi = 0.0\n",
    "            \n",
    "        # Apply cuts\n",
    "        # cut on MET at parton level\n",
    "        dmMET = tree.DMMissingET.At(0).MET\n",
    "        if dmMET < pTcut: continue\n",
    "        # veto electrons\n",
    "        if len(electronList) > nMax_el: continue\n",
    "        # veto muons\n",
    "        if len(muonList) > nMax_mu: continue\n",
    "        # veto tau jets\n",
    "        if len(taujetList) > nMax_b: continue\n",
    "        # veto photons\n",
    "        if len(photonList) > nMax_a: continue\n",
    "        # cut on delta phi\n",
    "        if deltaPhi < 0.5: continue\n",
    "        # jet cuts\n",
    "        if (len(jetList) < 1) or (jetList[0].PT < pTj1min): continue\n",
    "        if abs(jetList[0].Eta) > etamax: continue\n",
    "            \n",
    "        \n",
    "        # Store relevant data        \n",
    "        njets[label] = np.append(njets[label],len(jets))\n",
    "        pTj1[label] = np.append(pTj1[label],jetList[0].PT)\n",
    "        weights[label] = np.append(weights[label],weight)\n",
    "        met[label] = np.append(met[label], dmMET)\n",
    "        \n",
    "        \n",
    "f.Close()\n",
    "        "
   ]
  },
  {
   "cell_type": "code",
   "execution_count": 21,
   "id": "05aeda82",
   "metadata": {
    "ExecuteTime": {
     "end_time": "2023-09-23T11:53:13.289686Z",
     "start_time": "2023-09-23T11:53:13.173870Z"
    }
   },
   "outputs": [
    {
     "data": {
      "text/plain": [
       "{'zp_dm': array([958.28979492, 599.37329102, 367.29541016, ..., 190.24624634,\n",
       "        429.01535034, 500.57049561]),\n",
       " 'sd_dm': array([459.84597778, 378.63705444, 369.37835693, ..., 431.32635498,\n",
       "        316.07540894, 326.74612427])}"
      ]
     },
     "execution_count": 21,
     "metadata": {},
     "output_type": "execute_result"
    }
   ],
   "source": [
    "met"
   ]
  },
  {
   "cell_type": "code",
   "execution_count": 22,
   "id": "db317cc7",
   "metadata": {
    "ExecuteTime": {
     "end_time": "2023-09-23T11:53:13.537281Z",
     "start_time": "2023-09-23T11:53:13.293033Z"
    },
    "scrolled": true
   },
   "outputs": [
    {
     "name": "stdout",
     "output_type": "stream",
     "text": [
      "zp_dm total cross-section = 1.382e-01 pb\n",
      "sd_dm total cross-section = 2.684e-03 pb\n"
     ]
    }
   ],
   "source": [
    "for label,w in totalweight.items():\n",
    "    print(label,'total cross-section = %1.3e pb' %w)\n",
    "colors = {label : sns.color_palette('deep', n_colors=16)[i] for i,label in enumerate(weights.keys())}    "
   ]
  },
  {
   "cell_type": "code",
   "execution_count": 23,
   "id": "dc75ccb3",
   "metadata": {
    "ExecuteTime": {
     "end_time": "2023-09-23T11:53:13.804127Z",
     "start_time": "2023-09-23T11:53:13.541655Z"
    }
   },
   "outputs": [],
   "source": [
    "## Filter CMS data\n",
    "\n",
    "modelFilter = { \n",
    " 'Coupling' : 'Vector',\n",
    " '$M_{med}$' : 2500.0,\n",
    " '$m_{\\chi}$' : 1.0,\n",
    " '$g_{\\chi}$' : 1.0,\n",
    " '$g_{q}$' : 0.25}\n",
    "\n",
    "\n",
    "dfModel = cmsData.loc[(cmsData[list(modelFilter)] == pd.Series(modelFilter)).all(axis=1)]\n",
    "dfModel = dfModel[dfModel['Data-takingperiod'] == 2017]"
   ]
  },
  {
   "cell_type": "code",
   "execution_count": 24,
   "id": "7fb2ff37",
   "metadata": {
    "ExecuteTime": {
     "end_time": "2023-09-23T11:53:13.959449Z",
     "start_time": "2023-09-23T11:53:13.807601Z"
    }
   },
   "outputs": [],
   "source": [
    "# Auxiliar function for plotting\n",
    "def getBins(dfModel,rightBin = 1400.):\n",
    "    \n",
    "    bins = {c : eval(c.split('_')[1]) for c in dfModel.columns if (\"bin_\" in c and not 'Error' in c)}\n",
    "    binsError = {c : eval(c.split('_')[1]) for c in dfModel.columns if (\"bin_\" in c and 'ErrorPlus' in c)}    \n",
    "    binCenter = (np.array(list(bins.values()))+np.diff(list(bins.values())+[rightBin])/2).tolist()    \n",
    "    binLeft = [bins[c] for c in bins]+[rightBin] \n",
    "    \n",
    "    return bins,binsError,binCenter,binLeft\n",
    "\n",
    "def getMETbins(dfSingle,bins,binsError):\n",
    "\n",
    "    data = {c : dfSingle[c].iloc[0] for c in bins}\n",
    "    dataError = {c : dfSingle[c].iloc[0] for c in binsError}\n",
    "\n",
    "    return data,dataError\n"
   ]
  },
  {
   "cell_type": "code",
   "execution_count": 25,
   "id": "4f5785ac",
   "metadata": {
    "ExecuteTime": {
     "end_time": "2023-09-23T11:53:14.180487Z",
     "start_time": "2023-09-23T11:53:13.962902Z"
    }
   },
   "outputs": [],
   "source": [
    "bins,binsError,binCenter,binLeft = getBins(dfModel)\n",
    "data, dataError = getMETbins(dfModel,bins,binsError)\n",
    "ptCMS = np.array([data[c] for c in bins])"
   ]
  },
  {
   "cell_type": "code",
   "execution_count": 26,
   "id": "3783d5c2",
   "metadata": {
    "ExecuteTime": {
     "end_time": "2023-09-23T11:53:14.363727Z",
     "start_time": "2023-09-23T11:53:14.184078Z"
    }
   },
   "outputs": [],
   "source": [
    "lum2017 = 41.5 #fb^-1\n",
    "binned = {}\n",
    "metBins = [250,  280,  310,  340,  370,  400,  430,  470,  510, 550,  590,  640,  690,  \n",
    "            740,  790,  840,  900,  960, 1020, 1090, 1160, 1250, 99999]\n",
    "for label, pt in pTj1.items():\n",
    "#     binned[label], bins2 = np.histogram(pt, bins=binLeft, weights=weights[label])\n",
    "    binned[label], bins2 = np.histogram(pt, bins=metBins, weights=weights[label]*1e3*lum2017)\n",
    "k=1\n",
    "brZ = 0.639069\n",
    "brS = 0.9018403\n",
    "ptTotal = binned['zp_dm'] + binned['sd_dm']\n"
   ]
  },
  {
   "cell_type": "code",
   "execution_count": 27,
   "id": "0171d37e",
   "metadata": {
    "ExecuteTime": {
     "end_time": "2023-09-23T11:53:14.630567Z",
     "start_time": "2023-09-23T11:53:14.367213Z"
    }
   },
   "outputs": [],
   "source": [
    "# legend\n",
    "legend = {\n",
    "          'Coupling' : 'Vector',\n",
    "          '$m_{Z^{\\prime}}$' : 2500.0,\n",
    "          '$m_{s}$' : 300.0,\n",
    "          '$g_{\\chi}$' : 1.0,\n",
    "          '$g_{q}$' : 0.1,\n",
    "          '$y_{\\chi}$' : 1.5,\n",
    "          '$\\sin\\\\alpha$' : 0.2\n",
    "           }\n",
    "textstr = '\\n'.join([r'%s = %s' %(k,v) for k,v in legend.items()])"
   ]
  },
  {
   "cell_type": "code",
   "execution_count": 28,
   "id": "4ca964b5",
   "metadata": {
    "ExecuteTime": {
     "end_time": "2023-09-23T11:53:15.930828Z",
     "start_time": "2023-09-23T11:53:14.634004Z"
    }
   },
   "outputs": [
    {
     "data": {
      "image/png": "[encoded data removed]",
      "text/plain": [
       "<Figure size 1000x600 with 1 Axes>"
      ]
     },
     "metadata": {},
     "output_type": "display_data"
    }
   ],
   "source": [
    "fig = plt.figure(figsize=(10,6))\n",
    "\n",
    "plt.hist(binCenter, bins=metBins, weights=ptTotal, stacked=True, \n",
    "         label=r'spin-0 mediator')\n",
    "# plt.hist(binCenter, bins=binLeft, weights=binned['y1_dm'], stacked=False, label='y1_dm')\n",
    "plt.hist(binCenter, bins=metBins, weights=k*binned['zp_dm'], stacked=True, \n",
    "         label=r'spin-1 mediator')\n",
    " \n",
    "plt.scatter(x=binCenter, y=ptCMS, s=30, color='black', label='CMS')\n",
    "    \n",
    "plt.yscale('log')\n",
    "# plt.ylim(1e0,3e2)\n",
    "plt.xlabel(r'$p_T(j_1)$ (GeV)')\n",
    "plt.ylabel(r'Events')\n",
    "plt.xlim(250,1400)\n",
    "plt.legend(loc='upper right', fontsize='x-small')\n",
    "\n",
    "plt.text(0.76,0.4,textstr,fontsize=15,bbox=dict(facecolor='white', edgecolor='black'),\n",
    "         transform = plt.gca().transAxes)\n",
    "\n",
    "# plt.savefig('../../Pictures/plot-pt.png')\n",
    "plt.show()"
   ]
  }
 ],
 "metadata": {
  "kernelspec": {
   "display_name": "Python 3 (ipykernel)",
   "language": "python",
   "name": "python3"
  },
  "language_info": {
   "codemirror_mode": {
    "name": "ipython",
    "version": 3
   },
   "file_extension": ".py",
   "mimetype": "text/x-python",
   "name": "python",
   "nbconvert_exporter": "python",
   "pygments_lexer": "ipython3",
   "version": "3.10.12"
  }
 },
 "nbformat": 4,
 "nbformat_minor": 5
}
