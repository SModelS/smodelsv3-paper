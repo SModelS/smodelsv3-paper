{
 "cells": [
  {
   "cell_type": "code",
   "execution_count": 26,
   "id": "b83cc91d",
   "metadata": {
    "ExecuteTime": {
     "end_time": "2023-09-21T22:58:30.603485Z",
     "start_time": "2023-09-21T22:58:30.161321Z"
    }
   },
   "outputs": [],
   "source": [
    "import sys,os,glob,copy\n",
    "sys.path.append('../')\n",
    "import numpy as np\n",
    "from numpy.linalg import norm\n",
    "import pandas as pd\n",
    "from matplotlib import pyplot as plt\n",
    "import seaborn as sns\n",
    "from scipy.interpolate import LinearNDInterpolator,interp2d\n",
    "import matplotlib as mpl\n",
    "from matplotlib.colors import LogNorm\n",
    "from IPython.display import display, Markdown\n",
    "from collections import OrderedDict\n",
    "import pylhe\n",
    "import glob\n",
    "import pyslha\n",
    "\n",
    "delphesDir = os.path.abspath(\"../../MG5/Delphes/\")\n",
    "os.environ['ROOT_INCLUDE_PATH'] = os.path.join(delphesDir,\"external\")\n",
    "\n",
    "import ROOT\n",
    "import xml.etree.ElementTree as ET\n",
    "\n",
    "\n",
    "ROOT.gSystem.Load(os.path.join(delphesDir,\"libDelphes.so\"))\n",
    "\n",
    "ROOT.gInterpreter.Declare('#include \"classes/SortableObject.h\"')\n",
    "ROOT.gInterpreter.Declare('#include \"classes/DelphesClasses.h\"')\n",
    "ROOT.gInterpreter.Declare('#include \"external/ExRootAnalysis/ExRootTreeReader.h\"')\n",
    "\n",
    "plt.rcParams.update({\n",
    "    \"text.usetex\": True,\n",
    "    \"font.family\": \"sans-serif\",\n",
    "    \"font.sans-serif\": [\"Helvetica\"]})\n",
    "\n",
    "plt.rcParams.update({\"savefig.dpi\" : 300}) #Figure resolution\n",
    "\n",
    "\n",
    "#Define plotting style:\n",
    "sns.set() #Set style\n",
    "sns.set_style('ticks',{'font.family':'Times New Roman', 'font.serif':'Times New Roman'})\n",
    "sns.set_context('paper', font_scale=1.8)\n",
    "cm = plt.cm.get_cmap('RdYlBu')"
   ]
  },
  {
   "cell_type": "markdown",
   "id": "a109ab9b",
   "metadata": {},
   "source": [
    "# Set Delphes output files"
   ]
  },
  {
   "cell_type": "code",
   "execution_count": 27,
   "id": "0e6acedf",
   "metadata": {
    "ExecuteTime": {
     "end_time": "2023-09-21T22:58:32.161242Z",
     "start_time": "2023-09-21T22:58:31.563622Z"
    }
   },
   "outputs": [],
   "source": [
    "inputFiles = {'zp_dm': '../Tests/spin1/Events/run_02/zp_2000_delphes_events.root'}\n",
    "\n",
    "cmsData = pd.read_pickle('../data/DMsimp_spin-1_Monojet_DF.pcl')\n",
    "cmsData.rename(columns = {'$m_{med}$':'$M_{med}$', '$m_{DM}$':'$m_{\\chi}$', '$g_{DM}$':'$g_{\\chi}$'}, \n",
    "                inplace=True)"
   ]
  },
  {
   "cell_type": "markdown",
   "id": "593a9922",
   "metadata": {},
   "source": [
    "# Load model parameters"
   ]
  },
  {
   "cell_type": "code",
   "execution_count": 28,
   "id": "e0bddf06",
   "metadata": {
    "ExecuteTime": {
     "end_time": "2023-09-21T22:58:32.960853Z",
     "start_time": "2023-09-21T22:58:32.824618Z"
    }
   },
   "outputs": [
    {
     "name": "stdout",
     "output_type": "stream",
     "text": [
      "zp_dm : mZp = 2000.00 GeV, mH2 = 200.00 GeV, mDM = 65.00 GeV\n"
     ]
    }
   ],
   "source": [
    "parameters = {}\n",
    "for label,file in inputFiles.items():\n",
    "    banner = sorted(glob.glob(os.path.dirname(file)+'/*banner.txt'),key=os.path.getmtime,reverse=True)\n",
    "    if len(banner) == 0:\n",
    "        print('Banner not found for %s' %label)\n",
    "    elif len(banner) > 1:        \n",
    "        print('\\n%i banner files found for %s. Using %s' \n",
    "              %(len(banner),label,os.path.basename(banner[0])))\n",
    "    banner = banner[0]\n",
    "    xtree = ET.parse(banner)\n",
    "    xroot = xtree.getroot()\n",
    "    slha = xroot.find('header').find('slha').text\n",
    "    pars = pyslha.readSLHA(slha)\n",
    "    \n",
    "    \n",
    "    if 9900032 in pars.blocks['MASS']:\n",
    "        model = '2mdm'        \n",
    "        mZp = pars.blocks['MASS'][9900032] # Z prime mass\n",
    "        \n",
    "    elif 55 in pars.blocks['MASS']:\n",
    "        model = 'dmsimp'\n",
    "        mZp = pars.blocks['MASS'][55] # Z prime mass\n",
    "        \n",
    "    \n",
    "    if model == '2mdm':\n",
    "        mS = pars.blocks['BLINPUTS'][2] # dark Higgs (S) mass\n",
    "        mChi = pars.blocks['MASS'][9000006] # DM mass\n",
    "        sTheta = pars.blocks['BLINPUTS'][3] # sin theta\n",
    "        ychi = pars.blocks['FRBLOCK'][1] # coupling of S to DM\n",
    "        gchi = pars.blocks['ZPRIME'][1] # coupling of mediators to DM\n",
    "        gq = pars.blocks['ZPRIME'][2] # coupling of mediators to SM\n",
    "    elif model == 'dmsimp':\n",
    "        mS = np.nan # dark Higgs mass\n",
    "        mChi = pars.blocks['MASS'][52] # DM mass\n",
    "        sTheta = 0\n",
    "        gchi = pars.blocks['DMINPUTS'][2] # coupling of mediators to DM\n",
    "        gq = pars.blocks['DMINPUTS'][6] # coupling of mediators to SM  \n",
    "        \n",
    "\n",
    "    \n",
    "        \n",
    "    parameters[label] = {'mZp' : mZp, 'mDM' : mChi, 'mH2' : mS,\n",
    "                         'gq' : gq, 'sTheta' : sTheta, 'gx' : gchi, 'ychi' : ychi}\n",
    "    print(label,': mZp = %1.2f GeV, mH2 = %1.2f GeV, mDM = %1.2f GeV' %(mZp,mS,mChi))"
   ]
  },
  {
   "cell_type": "markdown",
   "id": "d986e5d9",
   "metadata": {},
   "source": [
    "# Load events, apply cuts, and store info"
   ]
  },
  {
   "cell_type": "code",
   "execution_count": 29,
   "id": "c78cedbe",
   "metadata": {
    "ExecuteTime": {
     "end_time": "2023-09-21T22:58:36.419352Z",
     "start_time": "2023-09-21T22:58:36.304816Z"
    }
   },
   "outputs": [],
   "source": [
    "## jets\n",
    "pTj1min = 100.\n",
    "pTjmin = 20.\n",
    "etamax = 2.4\n",
    "## MET\n",
    "minMET = 250.\n",
    "## Electrons\n",
    "pTmin_el = 10.\n",
    "etamax_el = 2.5\n",
    "nMax_el = 0\n",
    "## Muons\n",
    "pTmin_mu = 10.\n",
    "etamax_mu = 2.4\n",
    "nMax_mu = 0"
   ]
  },
  {
   "cell_type": "code",
   "execution_count": 31,
   "id": "33dc7a3b",
   "metadata": {
    "ExecuteTime": {
     "end_time": "2023-09-21T23:00:53.326738Z",
     "start_time": "2023-09-21T22:58:45.237561Z"
    }
   },
   "outputs": [],
   "source": [
    "pTj1 = {label : np.array([]) for label in inputFiles}\n",
    "weights = {label : np.array([]) for label in inputFiles}\n",
    "met = {label : np.array([]) for label in inputFiles}\n",
    "dmPT = {label : np.array([]) for label in inputFiles}\n",
    "njets = {label : np.array([]) for label in inputFiles}\n",
    "totalweight = {label : 0 for label in inputFiles}\n",
    "negweight = {label : np.array([]) for label in inputFiles}\n",
    "\n",
    "for label,inputFile in inputFiles.items():\n",
    "    \n",
    "    f = ROOT.TFile(inputFile, 'read')\n",
    "    tree = f.Get(\"Delphes\")\n",
    "    nevts = tree.GetEntries()\n",
    "    parameters[label]['Events'] = nevts\n",
    "    \n",
    "    for event in range(nevts):\n",
    "        \n",
    "        tree.GetEntry(event)\n",
    "\n",
    "        particles = tree.Particle\n",
    "        \n",
    "        # Get DM particle (generator/parton level)\n",
    "        dmList = []\n",
    "        for ip in range(particles.GetEntries()):\n",
    "            p = particles.At(ip)\n",
    "            \n",
    "            if abs(p.PID) != 9000006: continue\n",
    "            if p.Status != 1: continue\n",
    "                \n",
    "            dmList.append(p)\n",
    "            \n",
    "        # Skip events that do not have two dm particles as final state \n",
    "        if len(dmList) != 2: continue\n",
    "            \n",
    "        jets = tree.Jet\n",
    "        weight = tree.Event.At(0).Weight\n",
    "        weight = weight/nevts\n",
    "        totalweight[label] += weight\n",
    "        \n",
    "        missingET = tree.MissingET.At(0)\n",
    "        electrons = tree.Electron\n",
    "        muons = tree.Electron\n",
    "        \n",
    "        # Filter electrons:\n",
    "        electronList = []\n",
    "        for iel in range(electrons.GetEntries()):\n",
    "            electron = electrons.At(iel)\n",
    "            \n",
    "            if electron.PT < pTmin_el: continue\n",
    "            if abs(electron.Eta) > etamax_el: continue\n",
    "                \n",
    "            electronList.append(electron)\n",
    "        \n",
    "        # Filter muons:\n",
    "        muonList = []\n",
    "        for imu in range(muons.GetEntries()):\n",
    "            muon = muons.At(imu)\n",
    "            if muon.PT < pTmin_mu:\n",
    "                continue\n",
    "            if abs(muon.Eta) > etamax_mu:\n",
    "                continue\n",
    "            muonList.append(muon)\n",
    "        \n",
    "        # Filter jets\n",
    "        jetList = []\n",
    "        for ijet in range(jets.GetEntries()):\n",
    "            jet = jets.At(ijet)\n",
    "            \n",
    "            if jet.PT < pTj1min: continue\n",
    "            if abs(jet.Eta) > etamax: continue\n",
    "                \n",
    "            jetList.append(jet)\n",
    "        jetList = sorted(jetList, key= lambda j: j.PT, reverse= True)\n",
    "        \n",
    "        njets[label] = np.append(njets[label], jets.GetEntries())\n",
    "        \n",
    "        if len(jetList) > 0:\n",
    "            deltaPhi = np.abs(jetList[0].Phi-missingET.Phi)\n",
    "        else:\n",
    "            deltaPhi = 0.0\n",
    "            \n",
    "        # Apply cuts\n",
    "        # veto electrons\n",
    "        if len(electronList) > nMax_el: continue\n",
    "        # veto muons\n",
    "        if len(muonList) > nMax_mu: continue\n",
    "        # veto 0 jets events\n",
    "        if len(jetList) < 1 or jetList[0].PT < pTjmin: continue\n",
    "        # cut on MET\n",
    "        if missingET.MET < minMET: continue\n",
    "        # cut on delta phi\n",
    "        if deltaPhi < 0.5: continue\n",
    "        \n",
    "        dmPT[label] = np.append(dmPT[label], np.sqrt((dmList[0].Px + dmList[1].Px)**2\n",
    "                                                     + (dmList[0].Py + dmList[1].Py)**2))\n",
    "        \n",
    "        # Store relevant data        \n",
    "        njets[label] = np.append(njets[label],len(jets))\n",
    "        pTj1[label] = np.append(pTj1[label],jetList[0].PT)\n",
    "        weights[label] = np.append(weights[label],weight)\n",
    "        met[label] = np.append(met[label],missingET.MET)\n",
    "        \n",
    "        \n",
    "f.Close()\n",
    "        "
   ]
  },
  {
   "cell_type": "code",
   "execution_count": 32,
   "id": "05aeda82",
   "metadata": {
    "ExecuteTime": {
     "end_time": "2023-09-21T23:00:53.443372Z",
     "start_time": "2023-09-21T23:00:53.332577Z"
    }
   },
   "outputs": [
    {
     "data": {
      "text/plain": [
       "{'zp_dm': array([4., 4., 3., ..., 6., 4., 4.])}"
      ]
     },
     "execution_count": 32,
     "metadata": {},
     "output_type": "execute_result"
    }
   ],
   "source": [
    "njets"
   ]
  },
  {
   "cell_type": "code",
   "execution_count": 8,
   "id": "46ce1325",
   "metadata": {
    "ExecuteTime": {
     "end_time": "2023-09-20T21:16:14.083951Z",
     "start_time": "2023-09-20T21:16:13.973806Z"
    }
   },
   "outputs": [
    {
     "name": "stdout",
     "output_type": "stream",
     "text": [
      "sd_dm Fraction of negative events: 0.05%\n",
      "zp_dm Fraction of negative events: 7.43%\n"
     ]
    }
   ],
   "source": [
    "for label in weights:\n",
    "    frac = np.array(len(negweight[label]))/nevents[label]*100\n",
    "    print(label, 'Fraction of negative events: %1.2f%%' \n",
    "          %frac)"
   ]
  },
  {
   "cell_type": "code",
   "execution_count": 33,
   "id": "db317cc7",
   "metadata": {
    "ExecuteTime": {
     "end_time": "2023-09-22T00:23:36.787645Z",
     "start_time": "2023-09-22T00:23:36.673894Z"
    },
    "scrolled": true
   },
   "outputs": [
    {
     "name": "stdout",
     "output_type": "stream",
     "text": [
      "zp_dm total cross-section = 9.548e-02 pb\n"
     ]
    }
   ],
   "source": [
    "for label,w in totalweight.items():\n",
    "    print(label,'total cross-section = %1.3e pb' %w)\n",
    "colors = {label : sns.color_palette('deep', n_colors=16)[i] for i,label in enumerate(weights.keys())}    "
   ]
  },
  {
   "cell_type": "code",
   "execution_count": 34,
   "id": "dc75ccb3",
   "metadata": {
    "ExecuteTime": {
     "end_time": "2023-09-22T00:23:49.877035Z",
     "start_time": "2023-09-22T00:23:49.761125Z"
    }
   },
   "outputs": [],
   "source": [
    "## Filter CMS data\n",
    "\n",
    "modelFilter = { \n",
    " 'Coupling' : 'Vector',\n",
    " '$M_{med}$' : 2500.0,\n",
    " '$m_{\\chi}$' : 1.0,\n",
    " '$g_{\\chi}$' : 1.0,\n",
    " '$g_{q}$' : 0.25}\n",
    "\n",
    "\n",
    "dfModel = cmsData.loc[(cmsData[list(modelFilter)] == pd.Series(modelFilter)).all(axis=1)]\n",
    "dfModel = dfModel[dfModel['Data-takingperiod'] == 2017]"
   ]
  },
  {
   "cell_type": "code",
   "execution_count": 35,
   "id": "7fb2ff37",
   "metadata": {
    "ExecuteTime": {
     "end_time": "2023-09-22T00:23:50.872483Z",
     "start_time": "2023-09-22T00:23:50.760388Z"
    }
   },
   "outputs": [],
   "source": [
    "# Auxiliar function for plotting\n",
    "def getBins(dfModel,rightBin = 1400.):\n",
    "    \n",
    "    bins = {c : eval(c.split('_')[1]) for c in dfModel.columns if (\"bin_\" in c and not 'Error' in c)}\n",
    "    binsError = {c : eval(c.split('_')[1]) for c in dfModel.columns if (\"bin_\" in c and 'ErrorPlus' in c)}    \n",
    "    binCenter = (np.array(list(bins.values()))+np.diff(list(bins.values())+[rightBin])/2).tolist()    \n",
    "    binLeft = [bins[c] for c in bins]+[rightBin] \n",
    "    \n",
    "    return bins,binsError,binCenter,binLeft\n",
    "\n",
    "def getMETbins(dfSingle,bins,binsError):\n",
    "\n",
    "    data = {c : dfSingle[c].iloc[0] for c in bins}\n",
    "    dataError = {c : dfSingle[c].iloc[0] for c in binsError}\n",
    "\n",
    "    return data,dataError\n"
   ]
  },
  {
   "cell_type": "code",
   "execution_count": 36,
   "id": "4f5785ac",
   "metadata": {
    "ExecuteTime": {
     "end_time": "2023-09-22T00:23:51.289702Z",
     "start_time": "2023-09-22T00:23:51.129756Z"
    }
   },
   "outputs": [],
   "source": [
    "bins,binsError,binCenter,binLeft = getBins(dfModel)\n",
    "data, dataError = getMETbins(dfModel,bins,binsError)\n",
    "ptCMS = np.array([data[c] for c in bins])"
   ]
  },
  {
   "cell_type": "code",
   "execution_count": 37,
   "id": "3783d5c2",
   "metadata": {
    "ExecuteTime": {
     "end_time": "2023-09-22T00:23:51.663767Z",
     "start_time": "2023-09-22T00:23:51.541017Z"
    }
   },
   "outputs": [],
   "source": [
    "lum2017 = 41.5 #fb^-1\n",
    "binned = {}\n",
    "metBins = [250,  280,  310,  340,  370,  400,  430,  470,  510, 550,  590,  640,  690,  \n",
    "            740,  790,  840,  900,  960, 1020, 1090, 1160, 1250, 99999]\n",
    "for label, pt in pTj1.items():\n",
    "#     binned[label], bins2 = np.histogram(pt, bins=binLeft, weights=weights[label])\n",
    "    binned[label], bins2 = np.histogram(pt, bins=metBins, weights=weights[label]*1e3*lum2017)\n",
    "k=1\n",
    "brZ = 0.639069\n",
    "brS = 0.9018403\n",
    "# ptTotal = k*binned['zp_dm']*brZ + binned['sd_dm']*brS\n"
   ]
  },
  {
   "cell_type": "code",
   "execution_count": 38,
   "id": "0171d37e",
   "metadata": {
    "ExecuteTime": {
     "end_time": "2023-09-22T00:23:52.210551Z",
     "start_time": "2023-09-22T00:23:52.097100Z"
    }
   },
   "outputs": [],
   "source": [
    "# legend\n",
    "legend = {\n",
    "          'Coupling' : 'Vector',\n",
    "          '$m_{Z^{\\prime}}$' : 2500.0,\n",
    "          '$m_{s}$' : 300.0,\n",
    "          '$g_{\\chi}$' : 1.0,\n",
    "          '$g_{q}$' : 0.1,\n",
    "          '$y_{\\chi}$' : 1.5,\n",
    "          '$\\sin\\\\alpha$' : 0.2\n",
    "           }\n",
    "textstr = '\\n'.join([r'%s = %s' %(k,v) for k,v in legend.items()])"
   ]
  },
  {
   "cell_type": "code",
   "execution_count": 39,
   "id": "4ca964b5",
   "metadata": {
    "ExecuteTime": {
     "end_time": "2023-09-22T00:23:53.467859Z",
     "start_time": "2023-09-22T00:23:52.621790Z"
    }
   },
   "outputs": [
    {
     "data": {
      "image/png": "[encoded data removed]",
      "text/plain": [
       "<Figure size 1000x600 with 1 Axes>"
      ]
     },
     "metadata": {},
     "output_type": "display_data"
    }
   ],
   "source": [
    "fig = plt.figure(figsize=(10,6))\n",
    "\n",
    "# plt.hist(binCenter, bins=metBins, weights=ptTotal, stacked=True, \n",
    "#          label=r'spin-0 mediator')\n",
    "# plt.hist(binCenter, bins=binLeft, weights=binned['y1_dm'], stacked=False, label='y1_dm')\n",
    "plt.hist(binCenter, bins=metBins, weights=k*binned['zp_dm'], stacked=True, \n",
    "         label=r'spin-1 mediator')\n",
    " \n",
    "# plt.scatter(x=binCenter, y=ptCMS, s=30, color='black', label='CMS')\n",
    "    \n",
    "plt.yscale('log')\n",
    "# plt.ylim(1e0,3e2)\n",
    "plt.xlabel(r'$p_T(j_1)$ (GeV)')\n",
    "plt.ylabel(r'Events')\n",
    "plt.xlim(250,1400)\n",
    "plt.legend(loc='upper right', fontsize='x-small')\n",
    "\n",
    "plt.text(0.76,0.4,textstr,fontsize=15,bbox=dict(facecolor='white', edgecolor='black'),\n",
    "         transform = plt.gca().transAxes)\n",
    "\n",
    "# plt.savefig('../../Pictures/plot-pt.png')\n",
    "plt.show()"
   ]
  },
  {
   "cell_type": "code",
   "execution_count": 16,
   "id": "fb569283",
   "metadata": {
    "ExecuteTime": {
     "end_time": "2023-09-20T18:00:47.953912Z",
     "start_time": "2023-09-20T18:00:47.835123Z"
    }
   },
   "outputs": [
    {
     "data": {
      "text/plain": [
       "{'sd_dm': {'mZp': 2500.0,\n",
       "  'mDM': 65.0,\n",
       "  'mH2': 300.0,\n",
       "  'gq': 0.25,\n",
       "  'sTheta': 0.2,\n",
       "  'gx': 1.0,\n",
       "  'ychi': 1.5,\n",
       "  'Events': 50000},\n",
       " 'zp_dm': {'mZp': 2500.0,\n",
       "  'mDM': 65.0,\n",
       "  'mH2': 300.0,\n",
       "  'gq': 0.1,\n",
       "  'sTheta': 0.1,\n",
       "  'gx': 1.0,\n",
       "  'ychi': 1.0,\n",
       "  'Events': 50000}}"
      ]
     },
     "execution_count": 16,
     "metadata": {},
     "output_type": "execute_result"
    }
   ],
   "source": [
    "parameters"
   ]
  },
  {
   "cell_type": "code",
   "execution_count": 17,
   "id": "d67516e4",
   "metadata": {
    "ExecuteTime": {
     "end_time": "2023-09-20T18:00:48.163040Z",
     "start_time": "2023-09-20T18:00:47.958901Z"
    }
   },
   "outputs": [
    {
     "data": {
      "text/plain": [
       "array([36.56286549, 25.65462197, 18.54995395, 13.29017005, 10.05167894,\n",
       "        7.01503715,  6.94613204,  5.13298496,  3.45483401,  2.69742254,\n",
       "        2.35507136,  1.80440911,  1.34656451,  0.99028596,  0.77041506,\n",
       "        0.64837285,  0.50012755,  0.40837843,  0.32767133,  0.25102376,\n",
       "        0.22475668,  0.49498139])"
      ]
     },
     "execution_count": 17,
     "metadata": {},
     "output_type": "execute_result"
    }
   ],
   "source": [
    "ptTotal"
   ]
  },
  {
   "cell_type": "code",
   "execution_count": 18,
   "id": "5340d99e",
   "metadata": {
    "ExecuteTime": {
     "end_time": "2023-09-20T18:00:48.336156Z",
     "start_time": "2023-09-20T18:00:48.170338Z"
    }
   },
   "outputs": [
    {
     "data": {
      "text/plain": [
       "{'sd_dm': array([3.12105546e+01, 2.07814529e+01, 1.43966611e+01, 9.70251951e+00,\n",
       "        6.82214958e+00, 4.43069700e+00, 3.86865156e+00, 2.59392661e+00,\n",
       "        1.55108085e+00, 1.04202390e+00, 7.80569128e-01, 5.08152749e-01,\n",
       "        2.94399484e-01, 1.78572323e-01, 1.09770688e-01, 7.74430055e-02,\n",
       "        5.19134787e-02, 3.52049581e-02, 2.47762380e-02, 1.31734413e-02,\n",
       "        8.15546842e-03, 9.81252557e-03]),\n",
       " 'zp_dm': array([13.16904679, 10.81740824,  8.71027193,  7.10415768,  6.10135919,\n",
       "         4.72446016,  5.40978543,  4.37148008,  3.21719062,  2.75038124,\n",
       "         2.58363755,  2.1064024 ,  1.69162201,  1.29757858,  1.05062119,\n",
       "         0.90527255,  0.70932855,  0.5893404 ,  0.47776862,  0.37420595,\n",
       "         0.3401851 ,  0.76068791])}"
      ]
     },
     "execution_count": 18,
     "metadata": {},
     "output_type": "execute_result"
    }
   ],
   "source": [
    "binned"
   ]
  },
  {
   "cell_type": "code",
   "execution_count": 19,
   "id": "fdbca138",
   "metadata": {
    "ExecuteTime": {
     "end_time": "2023-09-20T18:00:48.500103Z",
     "start_time": "2023-09-20T18:00:48.343833Z"
    }
   },
   "outputs": [
    {
     "data": {
      "text/plain": [
       "array([1.5187712 , 1.215872  , 0.958336  , 0.765312  , 0.6294784 ,\n",
       "       0.5105408 , 0.549888  , 0.4141056 , 0.3277312 , 0.2722304 ,\n",
       "       0.25577728, 0.20217344, 0.157824  , 0.12037888, 0.1049728 ,\n",
       "       0.09248768, 0.0684032 , 0.05011456, 0.03921664, 0.02623232,\n",
       "       0.0349312 , 0.06708992])"
      ]
     },
     "execution_count": 19,
     "metadata": {},
     "output_type": "execute_result"
    }
   ],
   "source": [
    "ptCMS*0.0256"
   ]
  },
  {
   "cell_type": "code",
   "execution_count": 20,
   "id": "37a4dc8d",
   "metadata": {
    "ExecuteTime": {
     "end_time": "2023-09-20T18:00:48.730696Z",
     "start_time": "2023-09-20T18:00:48.507052Z"
    }
   },
   "outputs": [
    {
     "data": {
      "text/plain": [
       "array([0.14185665, 0.14555364, 0.1486968 , 0.15186643, 0.15857455,\n",
       "       0.15139428, 0.16095094, 0.17270508, 0.16060044, 0.16528902,\n",
       "       0.16525604, 0.17045312, 0.17535494, 0.17634822, 0.16374087,\n",
       "       0.16013386, 0.1696519 , 0.19239333, 0.19931269, 0.23337896,\n",
       "       0.15932704, 0.18549703])"
      ]
     },
     "execution_count": 20,
     "metadata": {},
     "output_type": "execute_result"
    }
   ],
   "source": [
    "binned['zp_dm']*brZ/ptCMS"
   ]
  },
  {
   "cell_type": "code",
   "execution_count": 21,
   "id": "0799e5e6",
   "metadata": {
    "ExecuteTime": {
     "end_time": "2023-09-20T18:00:48.890102Z",
     "start_time": "2023-09-20T18:00:48.736844Z"
    }
   },
   "outputs": [
    {
     "data": {
      "text/plain": [
       "0.570275521466718"
      ]
     },
     "execution_count": 21,
     "metadata": {},
     "output_type": "execute_result"
    }
   ],
   "source": [
    "sum(binned['zp_dm']*brZ)/sum(binned['sd_dm']*brS)"
   ]
  },
  {
   "cell_type": "code",
   "execution_count": null,
   "id": "55eceaad",
   "metadata": {},
   "outputs": [],
   "source": []
  }
 ],
 "metadata": {
  "kernelspec": {
   "display_name": "Python 3 (ipykernel)",
   "language": "python",
   "name": "python3"
  },
  "language_info": {
   "codemirror_mode": {
    "name": "ipython",
    "version": 3
   },
   "file_extension": ".py",
   "mimetype": "text/x-python",
   "name": "python",
   "nbconvert_exporter": "python",
   "pygments_lexer": "ipython3",
   "version": "3.10.12"
  }
 },
 "nbformat": 4,
 "nbformat_minor": 5
}
