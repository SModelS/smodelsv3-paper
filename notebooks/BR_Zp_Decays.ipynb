{
 "cells": [
  {
   "cell_type": "code",
   "execution_count": 79,
   "metadata": {},
   "outputs": [],
   "source": [
    "import numpy as np\n",
    "import pandas as pd\n",
    "import matplotlib as mpl\n",
    "import matplotlib.pyplot as plt\n",
    "import mplhep\n",
    "from mplhep import *\n",
    "linestyle_str = [\n",
    "('solid', 'solid'), # Same as (0, ()) or '-'\n",
    "('dotted', '.'),# Same as (0, (1, 1)) or '.'\n",
    "('dashed', '--'),   # Same as '--'\n",
    "('dashdot', '-.')]  # Same as '-.'\n",
    "from matplotlib.pyplot import *\n",
    "import matplotlib as mpl\n",
    "plt.rc('text', usetex=True)\n",
    "plt.rc('font', family='Times New Roman')\n",
    "from  matplotlib import *\n",
    "mpl.rcParams['figure.figsize'] = (10,6)\n",
    "import sympy as sy\n",
    "#sy.init_printing()\n",
    "from sympy import *\n",
    "from numpy import sqrt, pi\n",
    "%matplotlib inline"
   ]
  },
  {
   "cell_type": "code",
   "execution_count": 89,
   "metadata": {},
   "outputs": [],
   "source": [
    "gchi, MZp, gqV, gqL, gqR, Me, MMU, MTA, MU, MC, MT, MD, MS, MB, Mchi, Mq, X, gqA, gqV, cw = sy.symbols('gchi MZp gqV gqL gqR ME MMU Mta Mu Mc Mt Md MS Mb Mchi Mq X gqA gqV cw', real=True)\n",
    "gZp = 1 \n",
    "gsd = -2*gchi\n",
    "#xev = MZp/(2*gchi)\n",
    "gqA = 0\n",
    "ychi = 1\n",
    "MU = 0.00255\n",
    "MC = 1.27\n",
    "MT = 172\n",
    "MD = 0.00504\n",
    "MS = 0.101\n",
    "MB = 4.7\n",
    "Mchi= 65\n",
    "gchi = 0.5\n",
    "gqA = 0\n",
    "MZp_list = list(range(500, 4000, 100))\n",
    "gqV_list = [0.3]\n",
    "gqL = (gqV_list[0] + gqA)/2\n",
    "gqR = (gqV_list[0] - gqA)/2\n",
    "#MZp_list\n"
   ]
  },
  {
   "cell_type": "code",
   "execution_count": 90,
   "metadata": {},
   "outputs": [],
   "source": [
    "def BRZp(MZp__list, gqV__list):\n",
    "    BRqq= []\n",
    "    BRXdXd = []\n",
    "    Zpqq_values = []\n",
    "    ZpXdXd_values = []\n",
    "    ZptotalW_values = []\n",
    "    Zpbb = simplify(simplify(((-48*gqA**2*MB**2 + 48*gqA*gqL*gZp*MB**2 - 48*gqA*gqR*gZp*MB**2 - 6*gqL**2*gZp**2*MB**2 + 36*gqL*gqR*gZp**2*MB**2 - 6*gqR**2*gZp**2*MB**2 + 12*gqA**2*MZp**2 - 12*gqA*gqL*gZp*MZp**2 + 12*gqA*gqR*gZp*MZp**2 + 6*gqL**2*gZp**2*MZp**2 + 6*gqR**2*gZp**2*MZp**2)*sy.sqrt(-4*MB**2*MZp**2 + MZp**4))/(48*sy.pi*(MZp)**3)\n",
    "                        ).subs(MB**2, X *MZp**2)).subs(X, MB**2 /MZp**2)\n",
    "    Zpcc =simplify(simplify( (gZp**2*(gqA**2*(1 - (4*MC**2)/MZp**2) + gqV**2*(1 + (2*MC**2)/MZp**2))*sy.sqrt((1 - (4*MC**2)/MZp**2)*MZp**4))/(16*sy.sqrt(MZp**2)*sy.pi) \n",
    "                             ).subs(MC**2, X *MZp**2)).subs(X, MC**2 /MZp**2)\n",
    "    Zpdd = simplify(simplify( ((-48*gqA**2*MD**2 + 48*gqA*gqL*gZp*MD**2 - 48*gqA*gqR*gZp*MD**2 - 6*gqL**2*gZp**2*MD**2 + 36*gqL*gqR*gZp**2*MD**2 - 6*gqR**2*gZp**2*MD**2 + 12*gqA**2*MZp**2 - 12*gqA*gqL*gZp*MZp**2 + 12*gqA*gqR*gZp*MZp**2 + 6*gqL**2*gZp**2*MZp**2 + 6*gqR**2*gZp**2*MZp**2)*sy.sqrt(-4*MD**2*MZp**2 + MZp**4))/(48*sy.pi*(MZp)**3)\n",
    "                        ).subs(MD**2, X *MZp**2)).subs(X, MD**2 /MZp**2)\n",
    "    Zpss = simplify(simplify( ((-48*gqA**2*MS**2 + 48*gqA*gqL*gZp*MS**2 - 48*gqA*gqR*gZp*MS**2 - 6*gqL**2*gZp**2*MS**2 + 36*gqL*gqR*gZp**2*MS**2 - 6*gqR**2*gZp**2*MS**2 + 12*gqA**2*MZp**2 - 12*gqA*gqL*gZp*MZp**2 + 12*gqA*gqR*gZp*MZp**2 + 6*gqL**2*gZp**2*MZp**2 + 6*gqR**2*gZp**2*MZp**2)*sy.sqrt(-4*MS**2*MZp**2 + MZp**4))/(48*sy.pi*(MZp)**3)\n",
    "                        ).subs(MS**2, X *MZp**2)).subs(X, MS**2 /MZp**2)\n",
    "    Zptt = simplify(simplify( (gZp**2*(gqA**2*(1 - (4*MT**2)/MZp**2) + gqV**2*(1 + (2*MT**2)/MZp**2))*sy.sqrt((1 - (4*MT**2)/MZp**2)*MZp**4))/(16*sy.sqrt(MZp**2)*sy.pi)\n",
    "                             ).subs(MT**2, X *MZp**2)).subs(X, MT**2 /MZp**2)\n",
    "    Zpuu = simplify(simplify(  (gZp**2*(gqA**2*(1 - (4*MU**2)/MZp**2) + gqV**2*(1 + (2*MU**2)/MZp**2))*sy.sqrt((1 - (4*MU**2)/MZp**2)*MZp**4))/(16*sy.sqrt(MZp**2)*sy.pi)\n",
    "                              ).subs(MU**2, X *MZp**2)).subs(X, MU**2 /MZp**2)\n",
    "    ZpXdXd = simplify(simplify( ((-16*gchi**2*Mchi**2 + 4*gchi**2*MZp**2)*sy.sqrt(-4*Mchi**2*MZp**2 + MZp**4))/(96*sy.pi*(MZp)**3)\n",
    "                        ).subs(Mchi**2, X *MZp**2)).subs(X, Mchi**2 /MZp**2)\n",
    "    Zpqq = Zpbb + Zpcc + Zpdd + Zpss + Zptt + Zpuu\n",
    "    ZptotalW = Zpbb + Zpcc + Zpdd + Zpss + Zptt + Zpuu + ZpXdXd   \n",
    "    \n",
    "    for MZp_value in MZp_list:\n",
    "        for gqV_value in gqV_list:\n",
    "            Zpqq_value = Zpqq.subs({MZp: MZp_value, gqV: gqV_value}).evalf()\n",
    "            ZptotalW_value = ZptotalW.subs({MZp: MZp_value, gqV: gqV_value}).evalf()\n",
    "            ZpXdXd_value = ZpXdXd.subs({MZp: MZp_value}).evalf()\n",
    "            Zpqq_values.append(Zpqq_value)\n",
    "            ZptotalW_values.append(ZptotalW_value)\n",
    "            ZpXdXd_values.append(ZpXdXd_value)\n",
    "            BRqq.append((Zpqq_value / ZptotalW_value).evalf())\n",
    "            BRXdXd.append((ZpXdXd_value / ZptotalW_value).evalf())\n",
    "    return BRqq, BRXdXd, Zpqq_values, ZptotalW_values, ZpXdXd_values\n",
    "BRqq_list, BRXdXd_list, Zpqq_list, ZptotalW_list, ZpXdXd_list = BRZp(MZp, gqV)\n",
    "#BRqq_list\n",
    "#Zpqq_list\n",
    "#ZptotalW_list\n",
    "#ZpXdXd_list\n",
    "#BRXdXd_list\n"
   ]
  },
  {
   "cell_type": "code",
   "execution_count": 85,
   "metadata": {},
   "outputs": [
    {
     "data": {
      "image/png": "[encoded data removed]",
      "text/plain": [
       "<Figure size 720x432 with 1 Axes>"
      ]
     },
     "metadata": {
      "needs_background": "light"
     },
     "output_type": "display_data"
    }
   ],
   "source": [
    "plt.figure(figsize=(10,6))\n",
    "plt.plot(MZp_list, BRqq_list, label=r'BR($Z^{\\prime} \\rightarrow q\\bar{q}$)', color='blue', linestyle='solid')\n",
    "plt.xlabel(r'$M_{Z^{\\prime}}$ [GeV]')\n",
    "plt.ylabel(r'BR($Z^{\\prime} \\rightarrow q\\bar{q}$)')\n",
    "plt.legend()\n",
    "plt.show()\n"
   ]
  },
  {
   "cell_type": "code",
   "execution_count": 88,
   "metadata": {},
   "outputs": [
    {
     "data": {
      "image/png": "[encoded data removed]",
      "text/plain": [
       "<Figure size 432x288 with 1 Axes>"
      ]
     },
     "metadata": {
      "needs_background": "light"
     },
     "output_type": "display_data"
    }
   ],
   "source": [
    "plt.plot(MZp_list, BRXdXd_list, label=r'BR($Z^{\\prime} \\rightarrow \\chi \\chi$)', color='magenta', linestyle='solid')\n",
    "plt.xlabel(r'$M_{Z^{\\prime}}$ [GeV]')\n",
    "plt.ylabel(r'BR($Z^{\\prime} \\rightarrow \\chi \\chi$)')\n",
    "plt.legend()\n",
    "plt.show()"
   ]
  }
 ],
 "metadata": {
  "kernelspec": {
   "display_name": "Python 3 (ipykernel)",
   "language": "python",
   "name": "python3"
  },
  "language_info": {
   "codemirror_mode": {
    "name": "ipython",
    "version": 3
   },
   "file_extension": ".py",
   "mimetype": "text/x-python",
   "name": "python",
   "nbconvert_exporter": "python",
   "pygments_lexer": "ipython3",
   "version": "3.10.12"
  }
 },
 "nbformat": 4,
 "nbformat_minor": 2
}
