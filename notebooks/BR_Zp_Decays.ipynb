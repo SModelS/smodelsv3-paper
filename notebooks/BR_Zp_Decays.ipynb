{
 "cells": [
  {
   "cell_type": "code",
   "execution_count": 1,
   "metadata": {},
   "outputs": [],
   "source": [
    "import numpy as np\n",
    "import pandas as pd\n",
    "import matplotlib as mpl\n",
    "import matplotlib.pyplot as plt\n",
    "import mplhep\n",
    "from mplhep import *\n",
    "linestyle_str = [\n",
    "('solid', 'solid'), # Same as (0, ()) or '-'\n",
    "('dotted', '.'),# Same as (0, (1, 1)) or '.'\n",
    "('dashed', '--'),   # Same as '--'\n",
    "('dashdot', '-.')]  # Same as '-.'\n",
    "from matplotlib.pyplot import *\n",
    "import matplotlib as mpl\n",
    "plt.rc('text', usetex=True)\n",
    "plt.rc('font', family='Times New Roman')\n",
    "from  matplotlib import *\n",
    "mpl.rcParams['figure.figsize'] = (10,6)\n",
    "import sympy as sy\n",
    "#sy.init_printing()\n",
    "from sympy import *\n",
    "from numpy import sqrt, pi\n",
    "%matplotlib inline"
   ]
  },
  {
   "cell_type": "code",
   "execution_count": 2,
   "metadata": {},
   "outputs": [],
   "source": [
    "gchi, MZp, gqV, gqL, gqR, Me, MMU, MTA, MU, MC, MT, MD, MS, MB, Mchi, Mq, X, gqA, gqV, cw = sy.symbols('gchi MZp gqV gqL gqR ME MMU Mta Mu Mc Mt Md MS Mb Mchi Mq X gqA gqV cw', real=True)\n",
    "gZp = 1 \n",
    "gsd = -2*gchi\n",
    "#xev = MZp/(2*gchi)"
   ]
  },
  {
   "cell_type": "code",
   "execution_count": 3,
   "metadata": {},
   "outputs": [],
   "source": [
    "def Zpuu(MZp, gqA, gqV):\n",
    "    gqL = gqV + gqA\n",
    "    gqR = gqV - gqA\n",
    "    Zpuu =  simplify(simplify( (gZp**2*(gqA**2*(1 - (4*MU**2)/MZp**2) + gqV**2*(1 + (2*MU**2)/MZp**2))*sy.sqrt((1 - (4*MU**2)/MZp**2)*MZp**4))/(16*sy.sqrt(MZp**2)*sy.pi)\n",
    "                              ).subs(MU**2, X *MZp**2)).subs(X, MU**2 /MZp**2)\n",
    "    return Zpuu \n",
    "            \n",
    "def Zpcc(MZp, gqA, gqV):\n",
    "    gqL = gqV + gqA\n",
    "    gqR = gqV - gqA    \n",
    "    Zpcc = simplify(simplify((gZp**2*(gqA**2*(1 - (4*MC**2)/MZp**2) + gqV**2*(1 + (2*MC**2)/MZp**2))*sy.sqrt((1 - (4*MC**2)/MZp**2)*MZp**4))/(16*sy.sqrt(MZp**2)*sy.pi) \n",
    "                             ).subs(MC**2, X *MZp**2)).subs(X, MC**2 /MZp**2)\n",
    "    return Zpcc\n",
    "\n",
    "def Zptt(MZp, gqA, gqV):\n",
    "    gqL = gqV + gqA\n",
    "    gqR = gqV - gqA    \n",
    "    Zptt = simplify(simplify( (gZp**2*(gqA**2*(1 - (4*MT**2)/MZp**2) + gqV**2*(1 + (2*MT**2)/MZp**2))*sy.sqrt((1 - (4*MT**2)/MZp**2)*MZp**4))/(16*sy.sqrt(MZp**2)*sy.pi)).subs(MT**2, X *MZp**2)).subs(X, MT**2 /MZp**2)\n",
    "    return Zptt\n",
    "\n",
    "def Zpdd(MZp, gqA, gqV):\n",
    "    gqL = gqV + gqA\n",
    "    gqR = gqV - gqA    \n",
    "    Zpdd = simplify(simplify( ((-48*gqA**2*MD**2 + 48*gqA*gqL*gZp*MD**2 - 48*gqA*gqR*gZp*MD**2 - 6*gqL**2*gZp**2*MD**2 + 36*gqL*gqR*gZp**2*MD**2 - 6*gqR**2*gZp**2*MD**2 + 12*gqA**2*MZp**2 - 12*gqA*gqL*gZp*MZp**2 + 12*gqA*gqR*gZp*MZp**2 + 6*gqL**2*gZp**2*MZp**2 + 6*gqR**2*gZp**2*MZp**2)*sy.sqrt(-4*MD**2*MZp**2 + MZp**4))/(48*sy.pi*(MZp)**3)\n",
    "                        ).subs(MD**2, X *MZp**2)).subs(X, MD**2 /MZp**2)\n",
    "    return Zpdd\n",
    "\n",
    "def Zpss(MZp, gqA, gqV):\n",
    "    gqL = gqV + gqA\n",
    "    gqR = gqV - gqA    \n",
    "    Zpss = simplify(simplify( ((-48*gqA**2*MS**2 + 48*gqA*gqL*gZp*MS**2 - 48*gqA*gqR*gZp*MS**2 - 6*gqL**2*gZp**2*MS**2 + 36*gqL*gqR*gZp**2*MS**2 - 6*gqR**2*gZp**2*MS**2 + 12*gqA**2*MZp**2 - 12*gqA*gqL*gZp*MZp**2 + 12*gqA*gqR*gZp*MZp**2 + 6*gqL**2*gZp**2*MZp**2 + 6*gqR**2*gZp**2*MZp**2)*sy.sqrt(-4*MS**2*MZp**2 + MZp**4))/(48*sy.pi*(MZp)**3)\n",
    "                        ).subs(MS**2, X *MZp**2)).subs(X, MS**2 /MZp**2)\n",
    "    return Zpss\n",
    "\n",
    "def Zpbb(MZp, gqA, gqV):\n",
    "    gqL = gqV + gqA\n",
    "    gqR = gqV - gqA    \n",
    "    Zpbb = simplify(simplify( ((-48*gqA**2*MB**2 + 48*gqA*gqL*gZp*MB**2 - 48*gqA*gqR*gZp*MB**2 - 6*gqL**2*gZp**2*MB**2 + 36*gqL*gqR*gZp**2*MB**2 - 6*gqR**2*gZp**2*MB**2 + 12*gqA**2*MZp**2 - 12*gqA*gqL*gZp*MZp**2 + 12*gqA*gqR*gZp*MZp**2 + 6*gqL**2*gZp**2*MZp**2 + 6*gqR**2*gZp**2*MZp**2)*sy.sqrt(-4*MB**2*MZp**2 + MZp**4))/(48*sy.pi*(MZp)**3)\n",
    "                        ).subs(MB**2, X *MZp**2)).subs(X, MB**2 /MZp**2)\n",
    "    return Zpbb\n",
    "\n",
    "def ZpXX(MZp, gchi, Mchi):\n",
    "    ZpXX = simplify(simplify(((-16*gchi**2*Mchi**2 + 4*gchi**2*MZp**2)*sy.sqrt(-4*Mchi**2*MZp**2 + MZp**4))/(96*sy.pi*(MZp)**3)\n",
    "                        ).subs(Mchi**2, X *MZp**2)).subs(X, Mchi**2 /MZp**2)\n",
    "    return ZpXX\n",
    "\n",
    "def Zpqq(MZp, gqA, gqV):\n",
    "    Zpqq =  simplify(Zpuu(MZp, gqA, gqV) + Zpcc(MZp,gqA, gqV) + Zptt(MZp, gqA, gqV) + Zpdd(MZp,gqA, gqV) + Zpss(MZp, gqA, gqV)+ Zpbb(MZp,gqA, gqV))\n",
    "    return Zpqq\n",
    "\n",
    "def Zpallall(MZp, gqA, gqV, Mchi):\n",
    "    Zpallall =  simplify(Zpqq(MZp, gqA, gqV) + ZpXX(MZp, gchi, Mchi))\n",
    "    return Zpallall\n",
    "\n",
    "# BRs\n",
    "def BR_Zp_qq(MZp, gchi, gqA, gqV,Mchi): \n",
    "    return simplify(Zpqq(MZp, gqA, gqV) / (Zpallall(MZp, gqA, gqV, Mchi)))\n",
    "\n",
    "def BR_Zp_XX(MZp, gchi, gqA, gqV,Mchi):\n",
    "    return simplify(ZpXX(MZp, gchi, Mchi) / (Zpallall(MZp, gqA, gqV, Mchi)))"
   ]
  },
  {
   "cell_type": "code",
   "execution_count": 9,
   "metadata": {},
   "outputs": [
    {
     "data": {
      "text/latex": [
       "$\\displaystyle \\frac{MZp gchi^{2} \\left(1 - \\frac{4 Mchi^{2}}{MZp^{2}}\\right)^{\\frac{3}{2}}}{24 \\pi}$"
      ],
      "text/plain": [
       "MZp*gchi**2*(1 - 4*Mchi**2/MZp**2)**(3/2)/(24*pi)"
      ]
     },
     "execution_count": 9,
     "metadata": {},
     "output_type": "execute_result"
    }
   ],
   "source": [
    "ZpXX(MZp, gchi, Mchi)"
   ]
  },
  {
   "cell_type": "code",
   "execution_count": 10,
   "metadata": {},
   "outputs": [],
   "source": [
    "#gqA =0"
   ]
  },
  {
   "cell_type": "code",
   "execution_count": 11,
   "metadata": {},
   "outputs": [
    {
     "data": {
      "text/latex": [
       "$\\displaystyle \\frac{MZp gqV^{2} \\sqrt{1 - \\frac{4 \\mathrm{M}^{2}}{MZp^{2}}} \\cdot \\left(1 + \\frac{2 \\mathrm{M}^{2}}{MZp^{2}}\\right)}{4 \\pi}$"
      ],
      "text/plain": [
       "MZp*gqV**2*sqrt(1 - 4*Mu**2/MZp**2)*(1 + 2*Mu**2/MZp**2)/(4*pi)"
      ]
     },
     "execution_count": 11,
     "metadata": {},
     "output_type": "execute_result"
    }
   ],
   "source": [
    "Zpuu(MZp, gqA, gqV)\n"
   ]
  },
  {
   "cell_type": "raw",
   "metadata": {},
   "source": [
    "#Zpbb(MZp, gq)\n",
    "#print(r'\\Gamma(Z^{\\prime} \\to b b )= ', latex(Zpbb(MZp, gq)))\n",
    "#print(r'\\Gamma(Z^{\\prime} \\to c c )= ', latex(Zpcc(MZp, gq)))\n",
    "#print(r'\\Gamma(Z^{\\prime} \\to t t )= ', latex(Zptt(MZp, gq)))\n",
    "#print(r'\\Gamma(Z^{\\prime} \\to u u )= ', latex(Zpuu(MZp, gq)))\n",
    "#print(r'\\Gamma(Z^{\\prime} \\to d d )= ', latex(Zpdd(MZp, gq)))\n",
    "print(r'\\Gamma(Z^{\\prime} \\to s s )= ', latex(Zpss(MZp, gq)))\n",
    "print(r'Gamma(Z^{\\prime} \\to q q )= ', latex(Zpqq(MZp, gq)))\n",
    "print(r'\\Gamma(Z^{\\prime} \\to \\chi \\chi )= ', latex(ZpXX(MZp, gchi, Mchi)))\n",
    "print(r'BR (Z^{\\prime} \\to q q )= ', latex(BR_Zp_qq(MZp, gchi, gq, Mchi)))\n",
    "print(r'BR (Z^{\\prime} \\to \\chi \\chi )= ', latex(BR_Zp_XX(MZp, gchi, gq, Mchi)))\n",
    "#BR_Zp_XX(MZp, gchi, gq, Mchi)\n",
    "#BR_Zp_qq(MZp, gchi, gq, Mchi)"
   ]
  },
  {
   "cell_type": "code",
   "execution_count": 5,
   "metadata": {},
   "outputs": [],
   "source": [
    "MU = 0.00255\n",
    "MC = 1.27\n",
    "MT = 172\n",
    "MD = 0.00504\n",
    "MS = 0.101\n",
    "MB = 4.7"
   ]
  },
  {
   "cell_type": "code",
   "execution_count": 14,
   "metadata": {},
   "outputs": [
    {
     "name": "stdout",
     "output_type": "stream",
     "text": [
      "0.0263286881253851\n"
     ]
    }
   ],
   "source": [
    "Mchi= 200\n",
    "gchi = 0.5\n",
    "\n",
    "gqV= 0.5 \n",
    "gqA = 0\n",
    "MZp = 3000\n",
    "print(BR_Zp_XX(MZp, gchi, gqA, gqV,Mchi).evalf())\n"
   ]
  },
  {
   "cell_type": "code",
   "execution_count": 15,
   "metadata": {},
   "outputs": [
    {
     "data": {
      "text/plain": [
       "0.0039150759242447646"
      ]
     },
     "execution_count": 15,
     "metadata": {},
     "output_type": "execute_result"
    }
   ],
   "source": [
    "0.1487*0.0263286881253851\n",
    "\n"
   ]
  },
  {
   "cell_type": "code",
   "execution_count": 12,
   "metadata": {},
   "outputs": [
    {
     "name": "stdout",
     "output_type": "stream",
     "text": [
      "0.900583973735068\n"
     ]
    }
   ],
   "source": [
    "Mchi = 50\n",
    "MZp = 1500\n",
    "gqA = 0.1\n",
    "gqV = 0.5\n",
    "gchi = 1.0\n",
    "print(BR_Zp_qq(MZp, gchi, gqA, gqV,Mchi).evalf())\n"
   ]
  },
  {
   "cell_type": "code",
   "execution_count": 13,
   "metadata": {},
   "outputs": [
    {
     "data": {
      "text/plain": [
       "7.762133269622551"
      ]
     },
     "execution_count": 13,
     "metadata": {},
     "output_type": "execute_result"
    }
   ],
   "source": [
    "8.619*0.900583973735068\n",
    "\n"
   ]
  },
  {
   "cell_type": "code",
   "execution_count": 8,
   "metadata": {},
   "outputs": [
    {
     "data": {
      "image/png": "[encoded data removed]",
      "text/plain": [
       "<Figure size 1000x600 with 1 Axes>"
      ]
     },
     "metadata": {},
     "output_type": "display_data"
    }
   ],
   "source": [
    "MZp_values = [3750] #list(range(500, 4000, 500))\n",
    "Mchi = 50\n",
    "gqV_values = [0.5]\n",
    "plt.figure(figsize=(10,6))\n",
    "for gqV in gqV_values:\n",
    "    Gamma_values = [BR_Zp_qq(MZp, gchi, gqA, gqV,Mchi)  for MZp in MZp_values]\n",
    "    plt.plot(MZp_values, Gamma_values, label=f'$g_qV$ = {gqV}')\n",
    "    \n",
    "plt.xlabel(r'$M_{Z^{\\prime}}$ [GeV]')\n",
    "plt.ylabel(r'$\\Gamma(Z^{\\prime} \\to q q )$')\n",
    "plt.legend()\n",
    "plt.grid(True)\n",
    "plt.show()\n"
   ]
  },
  {
   "cell_type": "code",
   "execution_count": 9,
   "metadata": {},
   "outputs": [
    {
     "ename": "NameError",
     "evalue": "name 'gq_values' is not defined",
     "output_type": "error",
     "traceback": [
      "\u001b[0;31m---------------------------------------------------------------------------\u001b[0m",
      "\u001b[0;31mNameError\u001b[0m                                 Traceback (most recent call last)",
      "Cell \u001b[0;32mIn[9], line 15\u001b[0m\n\u001b[1;32m     13\u001b[0m MB \u001b[39m=\u001b[39m \u001b[39m4.7\u001b[39m\n\u001b[1;32m     14\u001b[0m plt\u001b[39m.\u001b[39mfigure(figsize\u001b[39m=\u001b[39m(\u001b[39m10\u001b[39m,\u001b[39m6\u001b[39m))\n\u001b[0;32m---> 15\u001b[0m \u001b[39mfor\u001b[39;00m gq \u001b[39min\u001b[39;00m gq_values:\n\u001b[1;32m     16\u001b[0m     BR_values \u001b[39m=\u001b[39m [BR_Zp_XX(MZp, gchi_values, gq, Mchi_values) \u001b[39mfor\u001b[39;00m MZp \u001b[39min\u001b[39;00m MZp_values]\n\u001b[1;32m     17\u001b[0m     plt\u001b[39m.\u001b[39mplot(MZp_values, BR_values, label\u001b[39m=\u001b[39m\u001b[39mf\u001b[39m\u001b[39m'\u001b[39m\u001b[39m$g_q$ = \u001b[39m\u001b[39m{\u001b[39;00mgq\u001b[39m}\u001b[39;00m\u001b[39m'\u001b[39m)\n",
      "\u001b[0;31mNameError\u001b[0m: name 'gq_values' is not defined"
     ]
    },
    {
     "data": {
      "text/plain": [
       "<Figure size 1000x600 with 0 Axes>"
      ]
     },
     "metadata": {},
     "output_type": "display_data"
    }
   ],
   "source": [
    "#MZp_values = list(range(500, 4000, 500))\n",
    "#MH2_values = list(range(250, 4000, 500))\n",
    "#Mchi_values = 140\n",
    "#gchi_values = 1\n",
    "#gq_values = [0.005,0.05, 0.1]\n",
    "#Sa_values = [0.005,0.05, 0.1, 0.5]\n",
    "ychi = 1\n",
    "MU = 0.00255\n",
    "MC = 1.27\n",
    "MT = 172\n",
    "MD = 0.00504\n",
    "MS = 0.101\n",
    "MB = 4.7\n",
    "plt.figure(figsize=(10,6))\n",
    "for gq in gq_values:\n",
    "    BR_values = [BR_Zp_XX(MZp, gchi_values, gq, Mchi_values) for MZp in MZp_values]\n",
    "    plt.plot(MZp_values, BR_values, label=f'$g_q$ = {gq}')\n",
    "plt.xlabel(r'$M_{Z^{\\prime}}$ [GeV]')\n",
    "plt.ylabel(r'BR($Z^{\\prime} \\to \\chi \\chi)$')\n",
    "plt.legend()\n",
    "plt.grid(True)\n",
    "plt.show()\n"
   ]
  },
  {
   "cell_type": "code",
   "execution_count": null,
   "metadata": {},
   "outputs": [],
   "source": [
    "Mchi = 50\n",
    "((-16*gchi**2*Mchi**2 + 4*gchi**2*MZp**2)*sy.sqrt(-4*Mchi**2*MZp**2 + MZp**4))/(96*sy.pi*(MZp)**3)"
   ]
  }
 ],
 "metadata": {
  "kernelspec": {
   "display_name": "Python 3 (ipykernel)",
   "language": "python",
   "name": "python3"
  },
  "language_info": {
   "codemirror_mode": {
    "name": "ipython",
    "version": 3
   },
   "file_extension": ".py",
   "mimetype": "text/x-python",
   "name": "python",
   "nbconvert_exporter": "python",
   "pygments_lexer": "ipython3",
   "version": "3.10.12"
  }
 },
 "nbformat": 4,
 "nbformat_minor": 2
}
