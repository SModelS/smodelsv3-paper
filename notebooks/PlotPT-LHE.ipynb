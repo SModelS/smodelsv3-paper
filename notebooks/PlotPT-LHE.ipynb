{
 "cells": [
  {
   "cell_type": "code",
   "execution_count": 1,
   "id": "b83cc91d",
   "metadata": {
    "ExecuteTime": {
     "end_time": "2023-09-19T23:41:52.964994Z",
     "start_time": "2023-09-19T23:41:50.716824Z"
    }
   },
   "outputs": [
    {
     "name": "stdout",
     "output_type": "stream",
     "text": [
      "Welcome to JupyROOT 6.26/10\n"
     ]
    }
   ],
   "source": [
    "import sys,os,glob,copy\n",
    "sys.path.append('../')\n",
    "import numpy as np\n",
    "from numpy.linalg import norm\n",
    "import pandas as pd\n",
    "from matplotlib import pyplot as plt\n",
    "import seaborn as sns\n",
    "from scipy.interpolate import LinearNDInterpolator,interp2d\n",
    "import scipy\n",
    "import matplotlib as mpl\n",
    "from matplotlib.colors import LogNorm\n",
    "from IPython.display import display, Markdown\n",
    "from collections import OrderedDict\n",
    "import pylhe\n",
    "import glob\n",
    "import pyslha\n",
    "import ROOT\n",
    "import xml.etree.ElementTree as ET\n",
    "\n",
    "\n",
    "plt.rcParams.update({\n",
    "    \"text.usetex\": True,\n",
    "    \"font.family\": \"sans-serif\",\n",
    "    \"font.sans-serif\": [\"Helvetica\"]})\n",
    "\n",
    "plt.rcParams.update({\"savefig.dpi\" : 300}) #Figure resolution\n",
    "\n",
    "\n",
    "#Define plotting style:\n",
    "sns.set() #Set style\n",
    "sns.set_style('ticks',{'font.family':'Times New Roman', 'font.serif':'Times New Roman'})\n",
    "sns.set_context('paper', font_scale=1.8)\n",
    "cm = plt.cm.get_cmap('RdYlBu')"
   ]
  },
  {
   "cell_type": "code",
   "execution_count": 2,
   "id": "7b0692f2",
   "metadata": {
    "ExecuteTime": {
     "end_time": "2023-09-19T23:41:53.073726Z",
     "start_time": "2023-09-19T23:41:52.966859Z"
    }
   },
   "outputs": [],
   "source": [
    "def readNumEvents(file):\n",
    "    \"\"\"\n",
    "    Moderately efficent way to get the number of events stored in file.\n",
    "    \"\"\"\n",
    "    \n",
    "    with pylhe._extract_fileobj(file) as fileobj:\n",
    "        nevts = sum(element.tag == \"event\" for event, element in ET.iterparse(fileobj, events=[\"end\"]))\n",
    "    return nevts"
   ]
  },
  {
   "cell_type": "code",
   "execution_count": 3,
   "id": "22d678c9",
   "metadata": {
    "ExecuteTime": {
     "end_time": "2023-09-19T23:41:53.490915Z",
     "start_time": "2023-09-19T23:41:53.075022Z"
    }
   },
   "outputs": [],
   "source": [
    "# inputFiles = {'zp_dm': '/home/camila/MG5/2mdm_spin1/Events/run_01/unweighted_events.lhe.gz',\n",
    "#               'mixed_couplings': '/home/camila/MG5/dmsimp_test4/Events/run_03/unweighted_events.lhe.gz'\n",
    "#               }\n",
    "\n",
    "inputFiles = {'sd_dm': '/home/camila/MG5/2mdm_spin0_sd/Events/run_04/unweighted_events.lhe.gz',\n",
    "              'zp_dm': '/home/camila/MG5/2mdm_spin1_zp/Events/run_04/unweighted_events.lhe.gz'\n",
    "              }\n",
    "\n",
    "\n",
    "# inputFiles = {'zp_prod': '/home/camila/MG5/2mdm_nlo_spin1_zp/Events/run_05/unweighted_events.lhe.gz',\n",
    "#               'sd_prod': '/home/camila/MG5/2mdm_nlo_spin0_sd/Events/run_02/unweighted_events.lhe.gz'\n",
    "#               }\n",
    "\n",
    "cmsData = pd.read_pickle('../data/DMsimp_spin-1_Monojet_DF.pcl')\n",
    "cmsData.rename(columns = {'$m_{med}$':'$M_{med}$', '$m_{DM}$':'$m_{\\chi}$', '$g_{DM}$':'$g_{\\chi}$'}, \n",
    "                inplace=True)"
   ]
  },
  {
   "cell_type": "code",
   "execution_count": 4,
   "id": "4b4c17b7",
   "metadata": {
    "ExecuteTime": {
     "end_time": "2023-09-19T23:41:55.986407Z",
     "start_time": "2023-09-19T23:41:53.498861Z"
    }
   },
   "outputs": [],
   "source": [
    "events = {}\n",
    "nevents = {}\n",
    "for label,f in inputFiles.items():   \n",
    "    events[label] = pylhe.read_lhe_with_attributes(f)\n",
    "    nevents[label] = readNumEvents(f)\n"
   ]
  },
  {
   "cell_type": "code",
   "execution_count": 5,
   "id": "e0bddf06",
   "metadata": {
    "ExecuteTime": {
     "end_time": "2023-09-19T23:41:56.124997Z",
     "start_time": "2023-09-19T23:41:55.990268Z"
    }
   },
   "outputs": [
    {
     "name": "stdout",
     "output_type": "stream",
     "text": [
      "sd_dm : mZp = 2500.00 GeV, mH2 = 300.00 GeV, mDM = 65.00 GeV\n",
      "zp_dm : mZp = 2500.00 GeV, mH2 = 300.00 GeV, mDM = 65.00 GeV\n"
     ]
    }
   ],
   "source": [
    "parameters = {}\n",
    "for label,file in inputFiles.items():\n",
    "    banner = sorted(glob.glob(os.path.dirname(file)+'/*banner.txt'),key=os.path.getmtime,reverse=True)\n",
    "    if len(banner) == 0:\n",
    "        print('Banner not found for %s' %label)\n",
    "    elif len(banner) > 1:        \n",
    "        print('\\n%i banner files found for %s. Using %s' \n",
    "              %(len(banner),label,os.path.basename(banner[0])))\n",
    "    banner = banner[0]\n",
    "    xtree = ET.parse(banner)\n",
    "    xroot = xtree.getroot()\n",
    "    slha = xroot.find('header').find('slha').text\n",
    "    pars = pyslha.readSLHA(slha)\n",
    "    \n",
    "    \n",
    "    if 9900032 in pars.blocks['MASS']:\n",
    "        model = '2mdm'        \n",
    "        mZp = pars.blocks['MASS'][9900032] # Z prime mass\n",
    "        \n",
    "    elif 55 in pars.blocks['MASS']:\n",
    "        model = 'dmsimp'\n",
    "        mZp = pars.blocks['MASS'][55] # Z prime mass\n",
    "        \n",
    "    \n",
    "    if model == '2mdm':\n",
    "        mS = pars.blocks['BLINPUTS'][2] # dark Higgs (S) mass\n",
    "        mChi = pars.blocks['MASS'][9000006] # DM mass\n",
    "        sTheta = pars.blocks['BLINPUTS'][3] # sin theta\n",
    "        ychi = pars.blocks['FRBLOCK'][1] # coupling of S to DM\n",
    "        gchi = pars.blocks['ZPRIME'][1] # coupling of mediators to DM\n",
    "        gq = pars.blocks['ZPRIME'][2] # coupling of mediators to SM\n",
    "    elif model == 'dmsimp':\n",
    "        mS = np.nan # dark Higgs mass\n",
    "        mChi = pars.blocks['MASS'][52] # DM mass\n",
    "        sTheta = 0\n",
    "        gchi = pars.blocks['DMINPUTS'][2] # coupling of mediators to DM\n",
    "        gq = pars.blocks['DMINPUTS'][6] # coupling of mediators to SM  \n",
    "        \n",
    "\n",
    "    \n",
    "        \n",
    "    parameters[label] = {'mZp' : mZp, 'mDM' : mChi, 'mH2' : mS,\n",
    "                         'gq' : gq, 'sTheta' : sTheta, 'gx' : gchi, 'ychi' : ychi}\n",
    "    print(label,': mZp = %1.2f GeV, mH2 = %1.2f GeV, mDM = %1.2f GeV' %(mZp,mS,mChi))"
   ]
  },
  {
   "cell_type": "code",
   "execution_count": 6,
   "id": "c78cedbe",
   "metadata": {
    "ExecuteTime": {
     "end_time": "2023-09-19T23:41:56.486409Z",
     "start_time": "2023-09-19T23:41:56.126233Z"
    }
   },
   "outputs": [],
   "source": [
    "## jets\n",
    "pTj1min = 100.\n",
    "pTjmin = 20.\n",
    "etamax = 2.4\n",
    "## MET\n",
    "minMET = 250."
   ]
  },
  {
   "cell_type": "code",
   "execution_count": 7,
   "id": "33dc7a3b",
   "metadata": {
    "ExecuteTime": {
     "end_time": "2023-09-19T23:42:05.824156Z",
     "start_time": "2023-09-19T23:41:56.492132Z"
    }
   },
   "outputs": [],
   "source": [
    "pTj1 = {label : np.array([]) for label in inputFiles}\n",
    "weights = {label : np.array([]) for label in inputFiles}\n",
    "met = {label : np.array([]) for label in inputFiles}\n",
    "njets = {label : np.array([]) for label in inputFiles}\n",
    "totalweight = {label : 0 for label in inputFiles}\n",
    "negweight = {label : np.array([]) for label in inputFiles}\n",
    "\n",
    "for label,evts in events.items():\n",
    "   \n",
    "    nevts = nevents[label]\n",
    "    parameters[label]['Events'] = nevts\n",
    "    \n",
    "    for event in evts:\n",
    "\n",
    "        particles = event.particles\n",
    "       \n",
    "        jets = [p for p in particles if abs(p.id) in [1,2,3,4,5,21] and p.status == 1]\n",
    "        dm = [p for p in particles if abs(p.id) in [9000006, 52, 55, 9900026, 9900032] and p.status == 1]\n",
    "        med = [p for p in particles if abs(p.id) in [55, 9900026, 9900032] and p.status == 1]\n",
    "        \n",
    "        if (len(dm) != 2) and (len(med) != 1):\n",
    "            continue\n",
    "            \n",
    "        # Filter jets\n",
    "        jetList = []\n",
    "        for j in jets:\n",
    "            pT = np.sqrt(j.px**2+j.py**2)\n",
    "            p = np.sqrt(j.px**2+j.py**2+j.pz**2)\n",
    "            pL = j.pz\n",
    "            eta = 0.5*np.log((p+pL)/(p-pL))\n",
    "            \n",
    "            if pT < pTjmin:\n",
    "                continue\n",
    "            if np.abs(eta) > etamax:\n",
    "                continue\n",
    "            jetList.append(j)\n",
    "        jetList = sorted(jetList, key = lambda j: np.sqrt(j.px**2+j.py**2), reverse=True)          \n",
    "\n",
    "        # Compute MET\n",
    "        if len(dm) == 2:\n",
    "            MET = np.sqrt((dm[0].px+dm[1].px)**2 + (dm[0].py+dm[1].py)**2)\n",
    "        elif len(med) == 1:\n",
    "            MET = np.sqrt((med[0].px)**2 + (med[0].py)**2)\n",
    "        \n",
    "        if len(jetList) == 0:\n",
    "            continue\n",
    "        \n",
    "        pT1 = np.sqrt(jetList[0].px**2+jetList[0].py**2)\n",
    "        if MET < minMET:\n",
    "            continue\n",
    "        if pT1 < pTj1min:\n",
    "            continue\n",
    "#         if deltaPhi < 0.5:\n",
    "#             continue\n",
    "\n",
    "        weight = event.eventinfo.weight/nevts\n",
    "            \n",
    "        if weight < 0:\n",
    "            negw = weight\n",
    "            negweight[label] += negw\n",
    "            negweight[label] = np.append(negweight[label], negw)\n",
    "            continue\n",
    "            \n",
    "        totalweight[label] += weight\n",
    "        \n",
    "        # Store relevant data        \n",
    "        njets[label] = np.append(njets[label],len(jets))\n",
    "        pTj1[label] = np.append(pTj1[label],pT1)\n",
    "        weights[label] = np.append(weights[label],weight)\n",
    "        met[label] = np.append(met[label],MET)\n",
    "        "
   ]
  },
  {
   "cell_type": "code",
   "execution_count": 8,
   "id": "46ce1325",
   "metadata": {
    "ExecuteTime": {
     "end_time": "2023-09-19T23:42:05.934406Z",
     "start_time": "2023-09-19T23:42:05.828341Z"
    }
   },
   "outputs": [
    {
     "name": "stdout",
     "output_type": "stream",
     "text": [
      "sd_dm Fraction of negative events: 0.05%\n",
      "zp_dm Fraction of negative events: 7.42%\n"
     ]
    }
   ],
   "source": [
    "for label in weights:\n",
    "    frac = np.array(len(negweight[label]))/nevents[label]*100\n",
    "    print(label, 'Fraction of negative events: %1.2f%%' \n",
    "          %frac)"
   ]
  },
  {
   "cell_type": "code",
   "execution_count": 9,
   "id": "db317cc7",
   "metadata": {
    "ExecuteTime": {
     "end_time": "2023-09-19T23:42:06.189955Z",
     "start_time": "2023-09-19T23:42:05.935991Z"
    },
    "scrolled": true
   },
   "outputs": [
    {
     "name": "stdout",
     "output_type": "stream",
     "text": [
      "sd_dm total cross-section = 2.373e-03 pb\n",
      "zp_dm total cross-section = 1.197e-02 pb\n"
     ]
    }
   ],
   "source": [
    "for label,w in totalweight.items():\n",
    "    print(label,'total cross-section = %1.3e pb' %w)\n",
    "colors = {label : sns.color_palette('deep', n_colors=16)[i] for i,label in enumerate(weights.keys())}    "
   ]
  },
  {
   "cell_type": "code",
   "execution_count": 10,
   "id": "dc75ccb3",
   "metadata": {
    "ExecuteTime": {
     "end_time": "2023-09-19T23:42:06.407066Z",
     "start_time": "2023-09-19T23:42:06.200628Z"
    }
   },
   "outputs": [],
   "source": [
    "## Filter CMS data\n",
    "\n",
    "modelFilter = { \n",
    " 'Coupling' : 'Vector',\n",
    " '$M_{med}$' : 2500.0,\n",
    " '$m_{\\chi}$' : 1.0,\n",
    " '$g_{\\chi}$' : 1.0,\n",
    " '$g_{q}$' : 0.25}\n",
    "\n",
    "\n",
    "dfModel = cmsData.loc[(cmsData[list(modelFilter)] == pd.Series(modelFilter)).all(axis=1)]\n",
    "dfModel = dfModel[dfModel['Data-takingperiod'] == 2017]"
   ]
  },
  {
   "cell_type": "code",
   "execution_count": 11,
   "id": "7fb2ff37",
   "metadata": {
    "ExecuteTime": {
     "end_time": "2023-09-19T23:42:06.615972Z",
     "start_time": "2023-09-19T23:42:06.413250Z"
    }
   },
   "outputs": [],
   "source": [
    "# Auxiliar function for plotting\n",
    "def getBins(dfModel,rightBin = 1400.):\n",
    "    \n",
    "    bins = {c : eval(c.split('_')[1]) for c in dfModel.columns if (\"bin_\" in c and not 'Error' in c)}\n",
    "    binsError = {c : eval(c.split('_')[1]) for c in dfModel.columns if (\"bin_\" in c and 'ErrorPlus' in c)}    \n",
    "    binCenter = (np.array(list(bins.values()))+np.diff(list(bins.values())+[rightBin])/2).tolist()    \n",
    "    binLeft = [bins[c] for c in bins]+[rightBin] \n",
    "    \n",
    "    return bins,binsError,binCenter,binLeft\n",
    "\n",
    "def getMETbins(dfSingle,bins,binsError):\n",
    "\n",
    "    data = {c : dfSingle[c].iloc[0] for c in bins}\n",
    "    dataError = {c : dfSingle[c].iloc[0] for c in binsError}\n",
    "\n",
    "    return data,dataError\n"
   ]
  },
  {
   "cell_type": "code",
   "execution_count": 12,
   "id": "4f5785ac",
   "metadata": {
    "ExecuteTime": {
     "end_time": "2023-09-19T23:42:06.873552Z",
     "start_time": "2023-09-19T23:42:06.622791Z"
    }
   },
   "outputs": [],
   "source": [
    "bins,binsError,binCenter,binLeft = getBins(dfModel)\n",
    "data, dataError = getMETbins(dfModel,bins,binsError)\n",
    "ptCMS = np.array([data[c] for c in bins])"
   ]
  },
  {
   "cell_type": "code",
   "execution_count": 17,
   "id": "3783d5c2",
   "metadata": {
    "ExecuteTime": {
     "end_time": "2023-09-19T23:44:18.473044Z",
     "start_time": "2023-09-19T23:44:18.348226Z"
    }
   },
   "outputs": [],
   "source": [
    "lum2017 = 41.5 #fb^-1\n",
    "binned = {}\n",
    "metBins = [250,  280,  310,  340,  370,  400,  430,  470,  510, 550,  590,  640,  690,  \n",
    "            740,  790,  840,  900,  960, 1020, 1090, 1160, 1250, 99999]\n",
    "for label, pt in pTj1.items():\n",
    "#     binned[label], bins2 = np.histogram(pt, bins=binLeft, weights=weights[label])\n",
    "    binned[label], bins2 = np.histogram(pt, bins=metBins, weights=weights[label]*1e3*lum2017)\n",
    "k=1\n",
    "brZ = 0.639069\n",
    "brS = 0.9018403\n",
    "ptTotal = k*binned['zp_dm']*brZ + binned['sd_dm']*brS\n"
   ]
  },
  {
   "cell_type": "code",
   "execution_count": 18,
   "id": "63c9c909",
   "metadata": {
    "ExecuteTime": {
     "end_time": "2023-09-19T23:44:19.254067Z",
     "start_time": "2023-09-19T23:44:19.131654Z"
    }
   },
   "outputs": [],
   "source": [
    "# legend\n",
    "legend = {\n",
    "          'Coupling' : 'Vector',\n",
    "          '$m_{Z^{\\prime}}$' : 2500.0,\n",
    "          '$m_{S}$' : 300.0,\n",
    "          '$g_{\\chi}$' : 1.0,\n",
    "          '$g_{q}$' : 0.25,\n",
    "          '$y_{\\chi}$' : 1.5,\n",
    "          '$\\sin\\\\alpha$' : 0.2\n",
    "           }\n",
    "textstr = '\\n'.join([r'%s = %s' %(k,v) for k,v in legend.items()])"
   ]
  },
  {
   "cell_type": "code",
   "execution_count": 19,
   "id": "4ca964b5",
   "metadata": {
    "ExecuteTime": {
     "end_time": "2023-09-19T23:44:20.361395Z",
     "start_time": "2023-09-19T23:44:19.384338Z"
    }
   },
   "outputs": [
    {
     "data": {
      "image/png": "[encoded data removed]",
      "text/plain": [
       "<Figure size 1000x600 with 1 Axes>"
      ]
     },
     "metadata": {},
     "output_type": "display_data"
    }
   ],
   "source": [
    "fig = plt.figure(figsize=(10,6))\n",
    "\n",
    "plt.hist(binCenter, bins=metBins, weights=ptTotal, stacked=True, \n",
    "         label=r'spin-0 mediator')\n",
    "# plt.hist(binCenter, bins=binLeft, weights=binned['y1_dm'], stacked=False, label='y1_dm')\n",
    "plt.hist(binCenter, bins=metBins, weights=k*binned['zp_dm']*brZ, stacked=True, \n",
    "         label=r'spin-1 mediator')\n",
    " \n",
    "plt.scatter(x=binCenter, y=ptCMS, s=30, color='black', label='CMS')\n",
    "    \n",
    "plt.yscale('log')\n",
    "plt.ylim(1e0,3e2)\n",
    "plt.xlabel(r'$p_T(j_1)$ (GeV)')\n",
    "plt.ylabel(r'Events')\n",
    "plt.xlim(250,1400)\n",
    "plt.legend(loc='upper right', fontsize='x-small')\n",
    "\n",
    "plt.text(0.76,0.4,textstr,fontsize=15,bbox=dict(facecolor='white', edgecolor='black'),\n",
    "         transform = plt.gca().transAxes)\n",
    "\n",
    "plt.savefig('../../Pictures/plot-pt.png')\n",
    "plt.show()"
   ]
  },
  {
   "cell_type": "code",
   "execution_count": 16,
   "id": "376db231",
   "metadata": {
    "ExecuteTime": {
     "end_time": "2023-09-19T23:42:08.429194Z",
     "start_time": "2023-09-19T23:42:08.310930Z"
    }
   },
   "outputs": [
    {
     "data": {
      "text/plain": [
       "{'sd_dm': {'mZp': 2500.0,\n",
       "  'mDM': 65.0,\n",
       "  'mH2': 300.0,\n",
       "  'gq': 0.25,\n",
       "  'sTheta': 0.2,\n",
       "  'gx': 1.0,\n",
       "  'ychi': 1.5,\n",
       "  'Events': 50000},\n",
       " 'zp_dm': {'mZp': 2500.0,\n",
       "  'mDM': 65.0,\n",
       "  'mH2': 300.0,\n",
       "  'gq': 0.25,\n",
       "  'sTheta': 0.1,\n",
       "  'gx': 2.0,\n",
       "  'ychi': 1.0,\n",
       "  'Events': 50000}}"
      ]
     },
     "execution_count": 16,
     "metadata": {},
     "output_type": "execute_result"
    }
   ],
   "source": [
    "parameters"
   ]
  },
  {
   "cell_type": "code",
   "execution_count": 20,
   "id": "0ddd3d8b",
   "metadata": {
    "ExecuteTime": {
     "end_time": "2023-09-19T23:44:57.141438Z",
     "start_time": "2023-09-19T23:44:57.018596Z"
    }
   },
   "outputs": [
    {
     "data": {
      "text/plain": [
       "array([82.18105443, 60.77833562, 48.26618533, 36.70967077, 30.5930711 ,\n",
       "       24.06094905, 25.02582825, 19.04538727, 14.94522253, 11.00735342,\n",
       "       11.65958921,  8.89243751,  6.45710829,  5.37460356,  4.03680044,\n",
       "        3.97453288,  2.9477509 ,  2.28588141,  2.03220858,  1.47153327,\n",
       "        1.38694581,  3.03154792])"
      ]
     },
     "execution_count": 20,
     "metadata": {},
     "output_type": "execute_result"
    }
   ],
   "source": [
    "ptTotal"
   ]
  },
  {
   "cell_type": "code",
   "execution_count": 21,
   "id": "4f95cbbd",
   "metadata": {
    "ExecuteTime": {
     "end_time": "2023-09-19T23:45:08.557345Z",
     "start_time": "2023-09-19T23:45:08.442103Z"
    }
   },
   "outputs": [
    {
     "data": {
      "text/plain": [
       "{'sd_dm': array([3.12105546e+01, 2.07814529e+01, 1.43966611e+01, 9.70251951e+00,\n",
       "        6.82214958e+00, 4.43069700e+00, 3.86865156e+00, 2.59392661e+00,\n",
       "        1.55108085e+00, 1.04202390e+00, 7.80569128e-01, 5.08152749e-01,\n",
       "        2.94399484e-01, 1.78572323e-01, 1.09770688e-01, 7.74430055e-02,\n",
       "        5.19134787e-02, 3.52049581e-02, 2.47762380e-02, 1.31734413e-02,\n",
       "        8.15546842e-03, 9.81252557e-03]),\n",
       " 'zp_dm': array([84.55130589, 65.77816154, 55.20952534, 43.75043644, 38.244042  ,\n",
       "        31.39749844, 33.70046485, 26.14127694, 21.1970778 , 15.75356381,\n",
       "        17.14312619, 13.19758099,  9.6884796 ,  8.15805468,  6.16178348,\n",
       "         6.10996881,  4.53931146,  3.52721249,  3.14498805,  2.28403025,\n",
       "         2.15875105,  4.72984699])}"
      ]
     },
     "execution_count": 21,
     "metadata": {},
     "output_type": "execute_result"
    }
   ],
   "source": [
    "binned"
   ]
  },
  {
   "cell_type": "code",
   "execution_count": null,
   "id": "d8fdfbe4",
   "metadata": {},
   "outputs": [],
   "source": []
  }
 ],
 "metadata": {
  "kernelspec": {
   "display_name": "Python 3 (ipykernel)",
   "language": "python",
   "name": "python3"
  },
  "language_info": {
   "codemirror_mode": {
    "name": "ipython",
    "version": 3
   },
   "file_extension": ".py",
   "mimetype": "text/x-python",
   "name": "python",
   "nbconvert_exporter": "python",
   "pygments_lexer": "ipython3",
   "version": "3.10.12"
  }
 },
 "nbformat": 4,
 "nbformat_minor": 5
}
