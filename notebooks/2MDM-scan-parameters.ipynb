{
 "cells": [
  {
   "attachments": {},
   "cell_type": "markdown",
   "metadata": {},
   "source": [
    "# Plots for the 2MDM analysis"
   ]
  },
  {
   "cell_type": "code",
   "execution_count": 1,
   "metadata": {
    "ExecuteTime": {
     "end_time": "2024-01-31T14:45:31.167350Z",
     "start_time": "2024-01-31T14:45:30.326673Z"
    },
    "execution": {
     "iopub.execute_input": "2024-08-27T14:36:52.017684Z",
     "iopub.status.busy": "2024-08-27T14:36:52.016894Z",
     "iopub.status.idle": "2024-08-27T14:36:55.007079Z",
     "shell.execute_reply": "2024-08-27T14:36:55.004279Z"
    }
   },
   "outputs": [],
   "source": [
    "import warnings\n",
    "warnings.filterwarnings(\"ignore\", message=\"numpy.dtype size changed\")\n",
    "import numpy as np\n",
    "import pandas as pd\n",
    "\n",
    "import matplotlib.pyplot as plt\n",
    "import matplotlib.patches as mpatches\n",
    "import seaborn as sns\n",
    "\n",
    "pd.option_context('display.max_columns', -1)\n",
    "\n",
    "pd.options.mode.chained_assignment = None #Disable copy warnings\n",
    "# plt.style.use('fivethirtyeight') #Set style\n",
    "# mpl.rcParams.update({'figure.figsize' : (15,10)})  #Set general plotting options\n",
    "plt.rcParams.update({\n",
    "    \"text.usetex\": True,\n",
    "    \"font.family\": \"sans-serif\",\n",
    "    \"font.sans-serif\": [\"Helvetica\"]})\n",
    "\n",
    "plt.rcParams.update({\"savefig.dpi\" : 300}) #Figure resolution\n",
    "\n",
    "\n",
    "#Define plotting style:\n",
    "sns.set_style('ticks',{'font.family':'Times New Roman', 'font.serif':'Times New Roman'})\n",
    "sns.set_context('paper', font_scale=2.2)\n",
    "cm = plt.colormaps['RdYlBu']"
   ]
  },
  {
   "attachments": {},
   "cell_type": "markdown",
   "metadata": {},
   "source": [
    "#### Get data in pcl format and print all columns names"
   ]
  },
  {
   "cell_type": "code",
   "execution_count": 9,
   "metadata": {
    "ExecuteTime": {
     "end_time": "2024-01-31T14:45:32.917617Z",
     "start_time": "2024-01-31T14:45:31.229063Z"
    },
    "execution": {
     "iopub.execute_input": "2024-08-27T14:36:55.016593Z",
     "iopub.status.busy": "2024-08-27T14:36:55.015585Z",
     "iopub.status.idle": "2024-08-27T14:36:55.821807Z",
     "shell.execute_reply": "2024-08-27T14:36:55.819103Z"
    },
    "scrolled": true
   },
   "outputs": [
    {
     "name": "stdout",
     "output_type": "stream",
     "text": [
      "21000\n"
     ]
    }
   ],
   "source": [
    "#Merge with SModelS DataFrame\n",
    "pclFile = '../data/smodels_results.pcl'\n",
    "dataDF = pd.read_pickle(pclFile)\n",
    "# Keep just one entry per filename (ignore multiplicity due to experimental results)\n",
    "dataDF = dataDF.groupby(level='filename').head(1)\n",
    "print(len(dataDF))"
   ]
  },
  {
   "cell_type": "code",
   "execution_count": 10,
   "metadata": {
    "execution": {
     "iopub.execute_input": "2024-08-27T14:36:55.971431Z",
     "iopub.status.busy": "2024-08-27T14:36:55.970185Z",
     "iopub.status.idle": "2024-08-27T14:36:56.005977Z",
     "shell.execute_reply": "2024-08-27T14:36:56.003207Z"
    }
   },
   "outputs": [
    {
     "data": {
      "text/plain": [
       "['maxcond',\n",
       " 'theory prediction (fb)',\n",
       " 'upper limit (fb)',\n",
       " 'expected upper limit (fb)',\n",
       " 'TxNames',\n",
       " 'Mass (GeV)',\n",
       " 'AnalysisID',\n",
       " 'DataSetID',\n",
       " 'AnalysisSqrts (TeV)',\n",
       " 'lumi (fb-1)',\n",
       " 'dataType',\n",
       " 'r',\n",
       " 'r_expected',\n",
       " 'Width (GeV)',\n",
       " 'TxNames weights (fb)',\n",
       " 'nll',\n",
       " 'nll_min',\n",
       " 'nll_SM',\n",
       " 'Total xsec for missing topologies (fb)',\n",
       " 'Total xsec for missing topologies with displaced decays (fb)',\n",
       " 'Total xsec for missing topologies with prompt decays (fb)',\n",
       " 'Total xsec for topologies outside the grid (fb)',\n",
       " 'mass.9000006',\n",
       " 'mass.9900026',\n",
       " 'mass.9900032',\n",
       " 'mass.9000002',\n",
       " 'mass.9000003',\n",
       " 'mass.9000004',\n",
       " 'mass.9000005',\n",
       " 'width.9000002',\n",
       " 'width.9000003',\n",
       " 'width.9000004',\n",
       " 'width.9000005',\n",
       " 'width.9000006',\n",
       " 'width.9900026',\n",
       " 'width.9900032',\n",
       " 'extpar.1',\n",
       " 'extpar.2',\n",
       " 'extpar.3',\n",
       " 'extpar.4',\n",
       " 'xsec8TeV(fb).9900032',\n",
       " 'xsec8TeV(fb).9900026',\n",
       " 'xsec13TeV(fb).9900032',\n",
       " 'xsec13TeV(fb).9900026',\n",
       " 'BRs.sd.W-,W+',\n",
       " 'BRs.sd.higgs,higgs',\n",
       " 'BRs.sd.Z,Z',\n",
       " 'BRs.sd.chi,chi',\n",
       " 'BRs.sd.ta+,ta-',\n",
       " 'BRs.zp.chi,chi',\n",
       " 'BRs.zp.c,c',\n",
       " 'BRs.zp.q,q',\n",
       " 'BRs.zp.b,b',\n",
       " 'BRs.zp.t-,t+',\n",
       " 'BRs.sd.t-,t+',\n",
       " 'totalxsec13TeV(fb)',\n",
       " 'totalxsec8TeV(fb)']"
      ]
     },
     "execution_count": 10,
     "metadata": {},
     "output_type": "execute_result"
    }
   ],
   "source": [
    "list(dataDF.columns)"
   ]
  },
  {
   "cell_type": "code",
   "execution_count": 11,
   "metadata": {
    "execution": {
     "iopub.execute_input": "2024-08-27T14:36:56.016837Z",
     "iopub.status.busy": "2024-08-27T14:36:56.015629Z",
     "iopub.status.idle": "2024-08-27T14:36:56.092929Z",
     "shell.execute_reply": "2024-08-27T14:36:56.089869Z"
    }
   },
   "outputs": [],
   "source": [
    "# Get scan parameters:\n",
    "scanPars = pd.DataFrame()\n",
    "renameDict = {'Omegah^2' : 'Omegah2', 'mass#9000006' : 'mChi', 'mass#9900032' : 'mZp', 'mass#9900026' : 'mS'}\n",
    "scanPars['mChi'] = dataDF['mass.9000006']\n",
    "scanPars['mZp'] = dataDF['mass.9900032']\n",
    "scanPars['mS'] = dataDF['mass.9900026']\n",
    "scanPars['gchi'] = dataDF['extpar.1']\n",
    "scanPars['gq'] = dataDF['extpar.2']\n",
    "scanPars['sina'] = dataDF['extpar.3']\n",
    "scanPars.sort_values(by=['sina','gq','gchi','mZp','mChi'],inplace=True)"
   ]
  },
  {
   "cell_type": "markdown",
   "metadata": {},
   "source": [
    "### Print Scan parameters"
   ]
  },
  {
   "cell_type": "code",
   "execution_count": 12,
   "metadata": {
    "execution": {
     "iopub.execute_input": "2024-08-27T14:36:56.104267Z",
     "iopub.status.busy": "2024-08-27T14:36:56.102270Z",
     "iopub.status.idle": "2024-08-27T14:36:56.148853Z",
     "shell.execute_reply": "2024-08-27T14:36:56.146084Z"
    }
   },
   "outputs": [
    {
     "name": "stdout",
     "output_type": "stream",
     "text": [
      "gchi values = [1.414214 0.01     0.6      1.      ]\n",
      "gq values = [0.25 0.1  0.15]\n",
      "sina values = (2.534515e-05,0.5999432)\n",
      "mChi values = (65.0,1474.217)\n",
      "mZp values = (260.0,3000.0)\n",
      "mS values = (130.0,1500.0)\n"
     ]
    }
   ],
   "source": [
    "print(f'gchi values = {scanPars['gchi'].unique()}')\n",
    "print(f'gq values = {scanPars['gq'].unique()}')\n",
    "print(f'sina values = ({scanPars['sina'].unique().min()},{scanPars['sina'].unique().max()})')\n",
    "print(f'mChi values = ({scanPars['mChi'].unique().min()},{scanPars['mChi'].unique().max()})')\n",
    "print(f'mZp values = ({scanPars['mZp'].unique().min()},{scanPars['mZp'].unique().max()})')\n",
    "print(f'mS values = ({scanPars['mS'].unique().min()},{scanPars['mS'].unique().max()})')"
   ]
  },
  {
   "cell_type": "markdown",
   "metadata": {},
   "source": [
    "### Select scans with sina = 0.2"
   ]
  },
  {
   "cell_type": "code",
   "execution_count": 13,
   "metadata": {
    "execution": {
     "iopub.execute_input": "2024-08-27T14:36:56.162613Z",
     "iopub.status.busy": "2024-08-27T14:36:56.161826Z",
     "iopub.status.idle": "2024-08-27T14:36:56.179883Z",
     "shell.execute_reply": "2024-08-27T14:36:56.177509Z"
    }
   },
   "outputs": [
    {
     "name": "stdout",
     "output_type": "stream",
     "text": [
      "18000\n"
     ]
    }
   ],
   "source": [
    "scanPars_fixed = scanPars[scanPars['sina'] == 0.25]\n",
    "print(len(scanPars_fixed))"
   ]
  },
  {
   "cell_type": "code",
   "execution_count": 14,
   "metadata": {
    "execution": {
     "iopub.execute_input": "2024-08-27T14:36:56.195235Z",
     "iopub.status.busy": "2024-08-27T14:36:56.192624Z",
     "iopub.status.idle": "2024-08-27T14:36:56.207080Z",
     "shell.execute_reply": "2024-08-27T14:36:56.204152Z"
    }
   },
   "outputs": [],
   "source": [
    "couplings = scanPars_fixed.groupby(['gq','gchi'])"
   ]
  },
  {
   "cell_type": "code",
   "execution_count": 15,
   "metadata": {
    "execution": {
     "iopub.execute_input": "2024-08-27T14:36:56.221413Z",
     "iopub.status.busy": "2024-08-27T14:36:56.218613Z",
     "iopub.status.idle": "2024-08-27T14:36:56.282655Z",
     "shell.execute_reply": "2024-08-27T14:36:56.279958Z"
    }
   },
   "outputs": [
    {
     "data": {
      "text/html": [
       "<div>\n",
       "<style scoped>\n",
       "    .dataframe tbody tr th:only-of-type {\n",
       "        vertical-align: middle;\n",
       "    }\n",
       "\n",
       "    .dataframe tbody tr th {\n",
       "        vertical-align: top;\n",
       "    }\n",
       "\n",
       "    .dataframe thead th {\n",
       "        text-align: right;\n",
       "    }\n",
       "</style>\n",
       "<table border=\"1\" class=\"dataframe\">\n",
       "  <thead>\n",
       "    <tr style=\"text-align: right;\">\n",
       "      <th></th>\n",
       "      <th></th>\n",
       "      <th>mChi</th>\n",
       "      <th>mZp</th>\n",
       "      <th>mS</th>\n",
       "      <th>sina</th>\n",
       "    </tr>\n",
       "    <tr>\n",
       "      <th>gq</th>\n",
       "      <th>gchi</th>\n",
       "      <th></th>\n",
       "      <th></th>\n",
       "      <th></th>\n",
       "      <th></th>\n",
       "    </tr>\n",
       "  </thead>\n",
       "  <tbody>\n",
       "    <tr>\n",
       "      <th rowspan=\"2\" valign=\"top\">0.10</th>\n",
       "      <th>0.010000</th>\n",
       "      <td>3000</td>\n",
       "      <td>3000</td>\n",
       "      <td>3000</td>\n",
       "      <td>3000</td>\n",
       "    </tr>\n",
       "    <tr>\n",
       "      <th>0.600000</th>\n",
       "      <td>3000</td>\n",
       "      <td>3000</td>\n",
       "      <td>3000</td>\n",
       "      <td>3000</td>\n",
       "    </tr>\n",
       "    <tr>\n",
       "      <th rowspan=\"2\" valign=\"top\">0.15</th>\n",
       "      <th>0.010000</th>\n",
       "      <td>3000</td>\n",
       "      <td>3000</td>\n",
       "      <td>3000</td>\n",
       "      <td>3000</td>\n",
       "    </tr>\n",
       "    <tr>\n",
       "      <th>1.414214</th>\n",
       "      <td>3000</td>\n",
       "      <td>3000</td>\n",
       "      <td>3000</td>\n",
       "      <td>3000</td>\n",
       "    </tr>\n",
       "    <tr>\n",
       "      <th rowspan=\"2\" valign=\"top\">0.25</th>\n",
       "      <th>1.000000</th>\n",
       "      <td>3000</td>\n",
       "      <td>3000</td>\n",
       "      <td>3000</td>\n",
       "      <td>3000</td>\n",
       "    </tr>\n",
       "    <tr>\n",
       "      <th>1.414214</th>\n",
       "      <td>3000</td>\n",
       "      <td>3000</td>\n",
       "      <td>3000</td>\n",
       "      <td>3000</td>\n",
       "    </tr>\n",
       "  </tbody>\n",
       "</table>\n",
       "</div>"
      ],
      "text/plain": [
       "               mChi   mZp    mS  sina\n",
       "gq   gchi                            \n",
       "0.10 0.010000  3000  3000  3000  3000\n",
       "     0.600000  3000  3000  3000  3000\n",
       "0.15 0.010000  3000  3000  3000  3000\n",
       "     1.414214  3000  3000  3000  3000\n",
       "0.25 1.000000  3000  3000  3000  3000\n",
       "     1.414214  3000  3000  3000  3000"
      ]
     },
     "execution_count": 15,
     "metadata": {},
     "output_type": "execute_result"
    }
   ],
   "source": [
    "couplings.count()    "
   ]
  }
 ],
 "metadata": {
  "kernelspec": {
   "display_name": "Python 3 (ipykernel)",
   "language": "python",
   "name": "python3"
  },
  "language_info": {
   "codemirror_mode": {
    "name": "ipython",
    "version": 3
   },
   "file_extension": ".py",
   "mimetype": "text/x-python",
   "name": "python",
   "nbconvert_exporter": "python",
   "pygments_lexer": "ipython3",
   "version": "3.12.3"
  }
 },
 "nbformat": 4,
 "nbformat_minor": 2
}
