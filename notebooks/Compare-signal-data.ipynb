{
 "cells": [
  {
   "cell_type": "code",
   "execution_count": 1,
   "id": "b83cc91d",
   "metadata": {
    "ExecuteTime": {
     "end_time": "2023-09-26T19:13:48.197091Z",
     "start_time": "2023-09-26T19:13:37.259569Z"
    }
   },
   "outputs": [],
   "source": [
    "import sys,os,glob,copy\n",
    "sys.path.append('../')\n",
    "import numpy as np\n",
    "from numpy.linalg import norm\n",
    "import pandas as pd\n",
    "from matplotlib import pyplot as plt\n",
    "import seaborn as sns\n",
    "from scipy.interpolate import LinearNDInterpolator,interp2d\n",
    "import matplotlib as mpl\n",
    "from matplotlib.colors import LogNorm\n",
    "from IPython.display import display, Markdown\n",
    "import glob\n",
    "plt.rcParams.update({\n",
    "    \"text.usetex\": True,\n",
    "    \"font.family\": \"sans-serif\",\n",
    "    \"font.sans-serif\": [\"Helvetica\"]})\n",
    "\n",
    "plt.rcParams.update({\"savefig.dpi\" : 300}) #Figure resolution\n",
    "\n",
    "\n",
    "#Define plotting style:\n",
    "sns.set() #Set style\n",
    "sns.set_style('ticks',{'font.family':'Times New Roman', 'font.serif':'Times New Roman'})\n",
    "sns.set_context('paper', font_scale=1.8)\n",
    "cm = plt.cm.get_cmap('RdYlBu')\n",
    "\n",
    "\n",
    "pd.set_option('display.max_rows', 200)"
   ]
  },
  {
   "cell_type": "code",
   "execution_count": 2,
   "id": "22d678c9",
   "metadata": {
    "ExecuteTime": {
     "end_time": "2023-09-26T19:13:51.780991Z",
     "start_time": "2023-09-26T19:13:50.935087Z"
    }
   },
   "outputs": [],
   "source": [
    "inputFiles = {'spin-1': '../data/2mdm_spin1.pcl',\n",
    "              'spin-0': '../data/2mdm_spin0.pcl'}\n",
    "\n",
    "dmData = pd.DataFrame()\n",
    "for label, f in inputFiles.items():\n",
    "    df = pd.read_pickle(f)\n",
    "    df['Mediator'] = label\n",
    "    dmData = pd.concat((dmData, df))\n",
    "\n",
    "dmData.sort_values(['Mediator', '$m_{s}$', '$m_{Z^{\\prime}}$', '$\\sin\\\\alpha$', '$g_{q}$', '$g_{\\chi}$',\n",
    "                    '$y_{\\chi}$', '$m_{\\chi}$'], inplace=True, ascending=[False,True,True,True,True,True,True,True])\n",
    "cmsData = pd.read_pickle('../data/Data_CMS.pcl')\n",
    "BRdata = pd.read_pickle('../data/BRdata.pcl')"
   ]
  },
  {
   "cell_type": "code",
   "execution_count": 3,
   "id": "dc75ccb3",
   "metadata": {
    "ExecuteTime": {
     "end_time": "2023-09-26T19:13:51.894035Z",
     "start_time": "2023-09-26T19:13:51.782678Z"
    }
   },
   "outputs": [],
   "source": [
    "## Filter CMS data\n",
    "\n",
    "dataFilter = { \n",
    " 'Datasetyear': 2017,\n",
    " 'Region': 'Signal',\n",
    " 'Fit': 'B-only'}\n",
    "\n",
    "\n",
    "dfData = cmsData.loc[(cmsData[list(dataFilter)] == pd.Series(dataFilter)).all(axis=1)]\n",
    "\n",
    "## Filter DM data\n",
    "\n",
    "filter_spin0 = {\n",
    "    '$m_{s}$': 400.0,\n",
    "    '$m_{\\chi}$': 65.0,\n",
    "    '$y_{\\chi}$': 1.5,\n",
    "    '$\\sin\\\\alpha$': 0.25\n",
    "}\n",
    "filter_spin1 = {\n",
    "    '$m_{Z^{\\prime}}$': 2000.0,\n",
    "    '$g_{\\chi}$': 1.0,\n",
    "    '$g_{q}$': 0.25\n",
    "}\n",
    "\n",
    "df1, df2 = pd.DataFrame(), pd.DataFrame()\n",
    "for label in dmData['Mediator']:\n",
    "    if label == 'spin-0':\n",
    "        df1 = dmData.loc[(dmData[list(filter_spin0)] == pd.Series(filter_spin0)).all(axis=1)]\n",
    "    elif label == 'spin-1':\n",
    "        df2 = dmData.loc[(dmData[list(filter_spin1)] == pd.Series(filter_spin1)).all(axis=1)]\n",
    "        \n",
    "dfModel = pd.concat((df1, df2))"
   ]
  },
  {
   "cell_type": "code",
   "execution_count": 4,
   "id": "0fec144e",
   "metadata": {
    "ExecuteTime": {
     "end_time": "2023-09-26T19:14:11.577275Z",
     "start_time": "2023-09-26T19:13:51.895398Z"
    }
   },
   "outputs": [],
   "source": [
    "## Filter Branching ratio\n",
    "\n",
    "br_spin0 = {\n",
    "    'Mediator': 'spin-0',\n",
    "    '$m_{med}$': 400.0,\n",
    "    '$y_{\\chi}$': 1.5,\n",
    "    '$\\sin\\\\alpha$': 0.2\n",
    "}\n",
    "\n",
    "br_spin1 = {\n",
    "    'Mediator': 'spin-1',\n",
    "    '$m_{med}$': 2000.0,\n",
    "    '$g_{\\chi}$': 1.0,\n",
    "    '$g_{q}$': 0.25\n",
    "}\n",
    "br0, br1 = pd.DataFrame(), pd.DataFrame()\n",
    "for label in BRdata['Mediator']:\n",
    "    if label == 'spin-0':\n",
    "        br0 = BRdata.loc[(BRdata[list(br_spin0)] == pd.Series(br_spin0)).all(axis=1)]\n",
    "    elif label == 'spin-1':\n",
    "        br1 = BRdata.loc[(BRdata[list(br_spin1)] == pd.Series(br_spin1)).all(axis=1)]\n",
    "        \n",
    "br = pd.concat((br0,br1))"
   ]
  },
  {
   "cell_type": "code",
   "execution_count": 5,
   "id": "9f0a8613",
   "metadata": {
    "ExecuteTime": {
     "end_time": "2023-09-26T19:14:11.582535Z",
     "start_time": "2023-09-26T19:14:11.578852Z"
    }
   },
   "outputs": [],
   "source": [
    "# Auxiliar function for plotting\n",
    "def getBins(dfModel,rightBin = 1400.):\n",
    "    \n",
    "    bins = {c : eval(c.split('_')[1]) for c in dfModel.columns if (\"bin_\" in c)}    \n",
    "    binCenter = (np.array(list(bins.values()))+np.diff(list(bins.values())+[rightBin])/2).tolist()    \n",
    "    binLeft = [bins[c] for c in bins]+[rightBin] \n",
    "    \n",
    "    return bins,binCenter,binLeft\n",
    "\n",
    "def getMETbins(dfSingle,bins):\n",
    "\n",
    "    data = {c : dfSingle[c].iloc[0] for c in bins}\n",
    "\n",
    "    return data\n"
   ]
  },
  {
   "cell_type": "code",
   "execution_count": 6,
   "id": "d9a078f2",
   "metadata": {
    "ExecuteTime": {
     "end_time": "2023-09-26T19:14:17.231200Z",
     "start_time": "2023-09-26T19:14:11.583842Z"
    }
   },
   "outputs": [
    {
     "data": {
      "image/png": "[encoded data removed]",
      "text/plain": [
       "<Figure size 1000x600 with 1 Axes>"
      ]
     },
     "metadata": {},
     "output_type": "display_data"
    }
   ],
   "source": [
    "bins, binCenter, binLeft = getBins(dfData)\n",
    "\n",
    "fig = plt.figure(figsize=(10,6))\n",
    "for ds in dfData['Datasetyear'].unique():\n",
    "    dmDS = dfModel[dfModel['Data-takingperiod'] == ds]\n",
    "    \n",
    "    weights = {}\n",
    "    data = {}\n",
    "    for label in dmDS['Mediator']:\n",
    "        if label in ['spin-1', 'spin-0']:\n",
    "            dfSingle = dmDS[dmDS['Mediator'] == label]\n",
    "            d = getMETbins(dfSingle, bins)\n",
    "            data[label] = d\n",
    "            \n",
    "            weights[label] = np.array([data[label][c] for c in bins])/np.array(br[br['Mediator']==label]['$BR(med>\\\\chi\\\\chi)$'])\n",
    "            \n",
    "    colors = {label: sns.color_palette('deep')[i] for i, label in enumerate(data.keys())}\n",
    "    \n",
    "    dataCMS = {}\n",
    "    for label in dfData['Process']:\n",
    "        if label in ['TotalSM', 'Data']:\n",
    "            dfSingle = dfData[dfData['Process'] == label]\n",
    "            d = getMETbins(dfSingle, bins)\n",
    "            dataCMS[label] = d\n",
    "            \n",
    "    for label in dataCMS:\n",
    "        weights[label] = np.array([dataCMS[label][c] for c in bins])\n",
    "        if label == 'TotalSM':\n",
    "            plt.hist(binCenter, bins=binLeft, label=label, weights=weights[label], color='orange', alpha=0.5)\n",
    "        elif label == 'Data':\n",
    "            plt.scatter(x=binCenter, y=weights[label], s=30, color='black', label=label)\n",
    "    \n",
    "    for label in data:\n",
    "        plt.hist(binCenter, bins=binLeft, label=label, weights=weights[label], histtype='step', linewidth=2.0,\n",
    "                 color=colors[label])\n",
    "        \n",
    "plt.yscale('log')\n",
    "plt.ylim(1e0,1.8e5)\n",
    "plt.xlabel(r'$p^{miss}_T$ (GeV)')\n",
    "plt.ylabel(r'Events')\n",
    "plt.xlim(250,1400)\n",
    "plt.legend(loc='upper right', fontsize='x-small')\n",
    "\n",
    "plt.show()"
   ]
  },
  {
   "cell_type": "code",
   "execution_count": 7,
   "id": "f8520651",
   "metadata": {
    "ExecuteTime": {
     "end_time": "2023-09-26T19:14:17.948732Z",
     "start_time": "2023-09-26T19:14:17.233149Z"
    }
   },
   "outputs": [
    {
     "ename": "KeyError",
     "evalue": "'spin-1'",
     "output_type": "error",
     "traceback": [
      "\u001b[0;31m---------------------------------------------------------------------------\u001b[0m",
      "\u001b[0;31mKeyError\u001b[0m                                  Traceback (most recent call last)",
      "Cell \u001b[0;32mIn[7], line 3\u001b[0m\n\u001b[1;32m      1\u001b[0m fig \u001b[38;5;241m=\u001b[39m plt\u001b[38;5;241m.\u001b[39mfigure(figsize\u001b[38;5;241m=\u001b[39m(\u001b[38;5;241m10\u001b[39m,\u001b[38;5;241m6\u001b[39m))\n\u001b[0;32m----> 3\u001b[0m plt\u001b[38;5;241m.\u001b[39mhist(binCenter, bins\u001b[38;5;241m=\u001b[39mbinLeft, weights\u001b[38;5;241m=\u001b[39mweights[\u001b[38;5;124m'\u001b[39m\u001b[38;5;124mTotalSM\u001b[39m\u001b[38;5;124m'\u001b[39m]\u001b[38;5;241m+\u001b[39mweights[\u001b[38;5;124m'\u001b[39m\u001b[38;5;124mspin-0\u001b[39m\u001b[38;5;124m'\u001b[39m]\u001b[38;5;241m+\u001b[39m\u001b[43mweights\u001b[49m\u001b[43m[\u001b[49m\u001b[38;5;124;43m'\u001b[39;49m\u001b[38;5;124;43mspin-1\u001b[39;49m\u001b[38;5;124;43m'\u001b[39;49m\u001b[43m]\u001b[49m, label\u001b[38;5;241m=\u001b[39m\u001b[38;5;124m'\u001b[39m\u001b[38;5;124mspin-0\u001b[39m\u001b[38;5;124m'\u001b[39m, stacked\u001b[38;5;241m=\u001b[39m\u001b[38;5;28;01mTrue\u001b[39;00m)\n\u001b[1;32m      4\u001b[0m plt\u001b[38;5;241m.\u001b[39mhist(binCenter, bins\u001b[38;5;241m=\u001b[39mbinLeft, weights\u001b[38;5;241m=\u001b[39mweights[\u001b[38;5;124m'\u001b[39m\u001b[38;5;124mTotalSM\u001b[39m\u001b[38;5;124m'\u001b[39m]\u001b[38;5;241m+\u001b[39mweights[\u001b[38;5;124m'\u001b[39m\u001b[38;5;124mspin-1\u001b[39m\u001b[38;5;124m'\u001b[39m], label\u001b[38;5;241m=\u001b[39m\u001b[38;5;124m'\u001b[39m\u001b[38;5;124mspin-1\u001b[39m\u001b[38;5;124m'\u001b[39m, stacked\u001b[38;5;241m=\u001b[39m\u001b[38;5;28;01mTrue\u001b[39;00m)\n\u001b[1;32m      5\u001b[0m plt\u001b[38;5;241m.\u001b[39mhist(binCenter, bins\u001b[38;5;241m=\u001b[39mbinLeft, weights\u001b[38;5;241m=\u001b[39mweights[\u001b[38;5;124m'\u001b[39m\u001b[38;5;124mTotalSM\u001b[39m\u001b[38;5;124m'\u001b[39m], label\u001b[38;5;241m=\u001b[39m\u001b[38;5;124m'\u001b[39m\u001b[38;5;124mSM background\u001b[39m\u001b[38;5;124m'\u001b[39m, stacked\u001b[38;5;241m=\u001b[39m\u001b[38;5;28;01mTrue\u001b[39;00m)\n",
      "\u001b[0;31mKeyError\u001b[0m: 'spin-1'"
     ]
    },
    {
     "data": {
      "text/plain": [
       "<Figure size 1000x600 with 0 Axes>"
      ]
     },
     "metadata": {},
     "output_type": "display_data"
    }
   ],
   "source": [
    "fig = plt.figure(figsize=(10,6))\n",
    "\n",
    "plt.hist(binCenter, bins=binLeft, weights=weights['TotalSM']+weights['spin-0']+weights['spin-1'], label='spin-0', stacked=True)\n",
    "plt.hist(binCenter, bins=binLeft, weights=weights['TotalSM']+weights['spin-1'], label='spin-1', stacked=True)\n",
    "plt.hist(binCenter, bins=binLeft, weights=weights['TotalSM'], label='SM background', stacked=True)\n",
    "plt.scatter(x=binCenter, y=weights['Data'], label='Data', color='black')\n",
    "\n",
    "plt.yscale('log')\n",
    "# plt.ylim(1e4,1.8e5)\n",
    "plt.xlabel(r'$p^{miss}_T$ (GeV)')\n",
    "plt.ylabel(r'Events')\n",
    "plt.xlim(250,1400)\n",
    "plt.legend(loc='upper right', fontsize='x-small')\n",
    "\n",
    "plt.show()"
   ]
  },
  {
   "cell_type": "code",
   "execution_count": 23,
   "id": "a9606ddb",
   "metadata": {
    "ExecuteTime": {
     "end_time": "2023-09-25T18:53:48.215134Z",
     "start_time": "2023-09-25T18:53:48.191263Z"
    }
   },
   "outputs": [],
   "source": [
    "sys.path.append('../../MonoXSMS/CMS-EXO-20-004/statisticalTools/')\n",
    "from simplifiedLikelihoods import Data,UpperLimitComputer\n",
    "\n",
    "cmsYieldFile = '../../MonoXSMS/CMS-EXO-20-004/AuxInfo/CMS-EXO-20-004-data/HEPData-ins1894408-v2-csv/Simplifiedlikelihood:Yields(Monojet).csv'\n",
    "bgYields = np.genfromtxt(cmsYieldFile,delimiter=',',skip_header=5,\n",
    "                          skip_footer=67,names=True,dtype=None,encoding=None)\n",
    "\n",
    "dataYields = np.genfromtxt(cmsYieldFile,delimiter=',',skip_header=73,\n",
    "                           names=True,dtype=None,encoding=None)\n",
    "\n",
    "covarianceFile = '../../MonoXSMS/CMS-EXO-20-004/AuxInfo/CMS-EXO-20-004-data/HEPData-ins1894408-v2-csv/Simplifiedlikelihood:covariancematrix(Monojet).csv'\n",
    "cov = np.genfromtxt(covarianceFile,delimiter=',',skip_header=5,\n",
    "                           names=True,dtype=None,encoding='UTF-8')"
   ]
  },
  {
   "cell_type": "code",
   "execution_count": 11,
   "id": "06313242",
   "metadata": {
    "ExecuteTime": {
     "end_time": "2023-09-26T15:16:43.267502Z",
     "start_time": "2023-09-26T15:16:43.258128Z"
    }
   },
   "outputs": [
    {
     "data": {
      "text/plain": [
       "{'spin-0': array([6.02798705e+01, 4.27861267e+01, 3.01888242e+01, 2.20014304e+01,\n",
       "        1.73642546e+01, 1.20454913e+01, 9.30782647e+00, 5.44976441e+00,\n",
       "        3.63858122e+00, 2.23141187e+00, 1.57932321e+00, 1.05054016e+00,\n",
       "        4.58618962e-01, 2.84437988e-01, 2.23808063e-01, 1.97118353e-01,\n",
       "        1.02894793e-01, 7.50167797e-02, 4.20719182e-02, 2.91993925e-02,\n",
       "        1.55396342e-02, 3.97621718e-02]),\n",
       " 'spin-1': array([318.47791046, 270.39801947, 222.72906771, 181.63514377,\n",
       "        151.22564007, 126.15834647, 129.03492114, 110.54265537,\n",
       "        100.26917439,  73.55812384,  65.75027829,  52.18928339,\n",
       "         36.16265306,  28.35480751,  27.12198979,  16.43756957,\n",
       "         20.54696197,  15.20475185,   9.04066326,   6.57502783,\n",
       "          6.98596707,  10.68442022]),\n",
       " 'Data': array([1.7617e+05, 9.6067e+04, 5.4789e+04, 3.2767e+04, 2.0209e+04,\n",
       "        1.2910e+04, 1.0653e+04, 6.4870e+03, 3.9550e+03, 2.5870e+03,\n",
       "        1.9570e+03, 1.1510e+03, 7.2100e+02, 4.5500e+02, 2.9800e+02,\n",
       "        2.4500e+02, 1.4600e+02, 8.9000e+01, 6.5000e+01, 3.9000e+01,\n",
       "        3.5000e+01, 4.0000e+01]),\n",
       " 'TotalSM': array([1.7582e+05, 9.5834e+04, 5.5032e+04, 3.2818e+04, 2.0181e+04,\n",
       "        1.2977e+04, 1.0744e+04, 6.5019e+03, 3.9628e+03, 2.5677e+03,\n",
       "        1.9601e+03, 1.1892e+03, 7.2499e+02, 4.6213e+02, 2.9984e+02,\n",
       "        2.3814e+02, 1.4867e+02, 8.9222e+01, 6.9676e+01, 3.4467e+01,\n",
       "        3.2310e+01, 3.8836e+01])}"
      ]
     },
     "execution_count": 11,
     "metadata": {},
     "output_type": "execute_result"
    }
   ],
   "source": [
    "weights"
   ]
  },
  {
   "cell_type": "code",
   "execution_count": null,
   "id": "593ab132",
   "metadata": {},
   "outputs": [],
   "source": []
  }
 ],
 "metadata": {
  "kernelspec": {
   "display_name": "Python 3 (ipykernel)",
   "language": "python",
   "name": "python3"
  },
  "language_info": {
   "codemirror_mode": {
    "name": "ipython",
    "version": 3
   },
   "file_extension": ".py",
   "mimetype": "text/x-python",
   "name": "python",
   "nbconvert_exporter": "python",
   "pygments_lexer": "ipython3",
   "version": "3.10.12"
  }
 },
 "nbformat": 4,
 "nbformat_minor": 5
}
