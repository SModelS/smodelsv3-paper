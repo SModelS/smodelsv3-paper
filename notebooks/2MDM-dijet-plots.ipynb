{
 "cells": [
  {
   "attachments": {},
   "cell_type": "markdown",
   "metadata": {},
   "source": [
    "# Plots for the 2MDM analysis"
   ]
  },
  {
   "cell_type": "code",
   "execution_count": 1,
   "metadata": {
    "ExecuteTime": {
     "end_time": "2024-01-31T14:45:31.167350Z",
     "start_time": "2024-01-31T14:45:30.326673Z"
    }
   },
   "outputs": [
    {
     "name": "stderr",
     "output_type": "stream",
     "text": [
      "/var/folders/b3/l10x2d9503j4vrszk86wqw040000gn/T/ipykernel_64580/1200496628.py:5: DeprecationWarning: the imp module is deprecated in favour of importlib; see the module's documentation for alternative uses\n",
      "  import glob,imp,os,shutil\n",
      "/var/folders/b3/l10x2d9503j4vrszk86wqw040000gn/T/ipykernel_64580/1200496628.py:36: MatplotlibDeprecationWarning: The get_cmap function was deprecated in Matplotlib 3.7 and will be removed two minor releases later. Use ``matplotlib.colormaps[name]`` or ``matplotlib.colormaps.get_cmap(obj)`` instead.\n",
      "  cm = plt.cm.get_cmap('RdYlBu')\n"
     ]
    }
   ],
   "source": [
    "import warnings\n",
    "warnings.filterwarnings(\"ignore\", message=\"numpy.dtype size changed\")\n",
    "import numpy as np\n",
    "import pandas as pd\n",
    "import glob,imp,os,shutil\n",
    "from pandas import json_normalize\n",
    "\n",
    "import pyslha\n",
    "import matplotlib as mpl\n",
    "import matplotlib.pyplot as plt\n",
    "from matplotlib.colors import LogNorm\n",
    "import matplotlib.patches as mpatches\n",
    "from collections import OrderedDict\n",
    "import seaborn as sns\n",
    "from scipy.interpolate import LinearNDInterpolator,interp2d, griddata\n",
    "from itertools import product\n",
    "from IPython.display import display, Markdown\n",
    "\n",
    "pd.option_context('display.max_columns', -1)\n",
    "\n",
    "pd.options.mode.chained_assignment = None #Disable copy warnings\n",
    "# plt.style.use('fivethirtyeight') #Set style\n",
    "# mpl.rcParams.update({'figure.figsize' : (15,10)})  #Set general plotting options\n",
    "plt.rcParams.update({\n",
    "    \"text.usetex\": True,\n",
    "    \"font.family\": \"sans-serif\",\n",
    "    \"font.sans-serif\": [\"Helvetica\"]})\n",
    "\n",
    "plt.rcParams.update({\"savefig.dpi\" : 300}) #Figure resolution\n",
    "\n",
    "\n",
    "#Define plotting style:\n",
    "sns.set() #Set style\n",
    "sns.set_style('ticks',{'font.family':'Times New Roman', 'font.serif':'Times New Roman'})\n",
    "sns.set_context('paper', font_scale=1.8)\n",
    "cm = plt.cm.get_cmap('RdYlBu')"
   ]
  },
  {
   "attachments": {},
   "cell_type": "markdown",
   "metadata": {},
   "source": [
    "#### Get data in pcl format and print all columns names"
   ]
  },
  {
   "cell_type": "code",
   "execution_count": 2,
   "metadata": {
    "ExecuteTime": {
     "end_time": "2024-01-31T14:45:32.917617Z",
     "start_time": "2024-01-31T14:45:31.229063Z"
    },
    "scrolled": true
   },
   "outputs": [
    {
     "name": "stdout",
     "output_type": "stream",
     "text": [
      "['filename', 'mass.9000006', 'mass.9900026', 'mass.9900032', 'mass.9000002', 'mass.9000003', 'mass.9000004', 'mass.9000005', 'width.9000002', 'width.9000003', 'width.9000004', 'width.9000005', 'width.9000006', 'width.9900026', 'width.9900032', 'extpar.1', 'extpar.2', 'extpar.3', 'extpar.4', 'xsec8TeV(fb).9900032', 'xsec8TeV(fb).9900026', 'xsec13TeV(fb).9900032', 'xsec13TeV(fb).9900026', 'BRs.sd.W-,W+', 'BRs.sd.higgs,higgs', 'BRs.sd.Z,Z', 'BRs.sd.t-,t+', 'BRs.sd.chi,chi', 'BRs.zp.chi,chi', 'BRs.zp.c,c', 'BRs.zp.q,q', 'BRs.zp.b,b', 'BRs.zp.t-,t+', 'BRs.sd.ta+,ta-', 'totalxsec13TeV(fb)', 'totalxsec8TeV(fb)', 'CombinedRes', 'Total xsec for missing topologies (fb)', 'Total xsec for missing topologies with displaced decays (fb)', 'Total xsec for missing topologies with prompt decays (fb)', 'Total xsec for topologies outside the grid (fb)', 'OutputStatus.sigmacut', 'OutputStatus.minmassgap', 'OutputStatus.maxcond', 'OutputStatus.ncpus', 'OutputStatus.model', 'OutputStatus.promptwidth', 'OutputStatus.stablewidth', 'OutputStatus.eraseprompt', 'OutputStatus.checkinput', 'OutputStatus.doinvisible', 'OutputStatus.docompress', 'OutputStatus.computestatistics', 'OutputStatus.testcoverage', 'OutputStatus.combinesrs', 'OutputStatus.combineanas', 'OutputStatus.reportallsrs', 'OutputStatus.experimentalfeatures', 'OutputStatus.file status', 'OutputStatus.decomposition status', 'OutputStatus.warnings', 'OutputStatus.input file', 'OutputStatus.database version', 'OutputStatus.smodels version', 'ExptRes.result0.maxcond', 'ExptRes.result0.theory prediction (fb)', 'ExptRes.result0.upper limit (fb)', 'ExptRes.result0.expected upper limit (fb)', 'ExptRes.result0.TxNames', 'ExptRes.result0.Mass (GeV)', 'ExptRes.result0.AnalysisID', 'ExptRes.result0.DataSetID', 'ExptRes.result0.AnalysisSqrts (TeV)', 'ExptRes.result0.lumi (fb-1)', 'ExptRes.result0.dataType', 'ExptRes.result0.r', 'ExptRes.result0.r_expected', 'ExptRes.result0.Width (GeV)', 'ExptRes.result1.maxcond', 'ExptRes.result1.theory prediction (fb)', 'ExptRes.result1.upper limit (fb)', 'ExptRes.result1.expected upper limit (fb)', 'ExptRes.result1.TxNames', 'ExptRes.result1.Mass (GeV)', 'ExptRes.result1.AnalysisID', 'ExptRes.result1.DataSetID', 'ExptRes.result1.AnalysisSqrts (TeV)', 'ExptRes.result1.lumi (fb-1)', 'ExptRes.result1.dataType', 'ExptRes.result1.r', 'ExptRes.result1.r_expected', 'ExptRes.result1.Width (GeV)', 'ExptRes.result1.nll', 'ExptRes.result1.nll_min', 'ExptRes.result1.nll_SM', 'ExptRes.result2.maxcond', 'ExptRes.result2.theory prediction (fb)', 'ExptRes.result2.upper limit (fb)', 'ExptRes.result2.expected upper limit (fb)', 'ExptRes.result2.TxNames', 'ExptRes.result2.Mass (GeV)', 'ExptRes.result2.AnalysisID', 'ExptRes.result2.DataSetID', 'ExptRes.result2.AnalysisSqrts (TeV)', 'ExptRes.result2.lumi (fb-1)', 'ExptRes.result2.dataType', 'ExptRes.result2.r', 'ExptRes.result2.r_expected', 'ExptRes.result2.Width (GeV)', 'ExptRes.result2.nll', 'ExptRes.result2.nll_min', 'ExptRes.result2.nll_SM', 'ExptRes.result3.maxcond', 'ExptRes.result3.theory prediction (fb)', 'ExptRes.result3.upper limit (fb)', 'ExptRes.result3.expected upper limit (fb)', 'ExptRes.result3.TxNames', 'ExptRes.result3.Mass (GeV)', 'ExptRes.result3.AnalysisID', 'ExptRes.result3.DataSetID', 'ExptRes.result3.AnalysisSqrts (TeV)', 'ExptRes.result3.lumi (fb-1)', 'ExptRes.result3.dataType', 'ExptRes.result3.r', 'ExptRes.result3.r_expected', 'ExptRes.result3.Width (GeV)', 'ExptRes.result3.nll', 'ExptRes.result3.nll_min', 'ExptRes.result3.nll_SM', 'ExptRes.result4.maxcond', 'ExptRes.result4.theory prediction (fb)', 'ExptRes.result4.upper limit (fb)', 'ExptRes.result4.expected upper limit (fb)', 'ExptRes.result4.TxNames', 'ExptRes.result4.Mass (GeV)', 'ExptRes.result4.AnalysisID', 'ExptRes.result4.DataSetID', 'ExptRes.result4.AnalysisSqrts (TeV)', 'ExptRes.result4.lumi (fb-1)', 'ExptRes.result4.dataType', 'ExptRes.result4.r', 'ExptRes.result4.r_expected', 'ExptRes.result4.Width (GeV)', 'ExptRes.result4.nll', 'ExptRes.result4.nll_min', 'ExptRes.result4.nll_SM', 'ExptRes.result5.maxcond', 'ExptRes.result5.theory prediction (fb)', 'ExptRes.result5.upper limit (fb)', 'ExptRes.result5.expected upper limit (fb)', 'ExptRes.result5.TxNames', 'ExptRes.result5.Mass (GeV)', 'ExptRes.result5.AnalysisID', 'ExptRes.result5.DataSetID', 'ExptRes.result5.AnalysisSqrts (TeV)', 'ExptRes.result5.lumi (fb-1)', 'ExptRes.result5.dataType', 'ExptRes.result5.r', 'ExptRes.result5.r_expected', 'ExptRes.result5.Width (GeV)', 'ExptRes.result0.nll', 'ExptRes.result0.nll_min', 'ExptRes.result0.nll_SM', 'ExptRes.result5.nll', 'ExptRes.result5.nll_min', 'ExptRes.result5.nll_SM', 'ExptRes.result6.maxcond', 'ExptRes.result6.theory prediction (fb)', 'ExptRes.result6.upper limit (fb)', 'ExptRes.result6.expected upper limit (fb)', 'ExptRes.result6.TxNames', 'ExptRes.result6.Mass (GeV)', 'ExptRes.result6.AnalysisID', 'ExptRes.result6.DataSetID', 'ExptRes.result6.AnalysisSqrts (TeV)', 'ExptRes.result6.lumi (fb-1)', 'ExptRes.result6.dataType', 'ExptRes.result6.r', 'ExptRes.result6.r_expected', 'ExptRes.result6.Width (GeV)', 'ExptRes.result6.nll', 'ExptRes.result6.nll_min', 'ExptRes.result6.nll_SM', 'ExptRes.result7.maxcond', 'ExptRes.result7.theory prediction (fb)', 'ExptRes.result7.upper limit (fb)', 'ExptRes.result7.expected upper limit (fb)', 'ExptRes.result7.TxNames', 'ExptRes.result7.Mass (GeV)', 'ExptRes.result7.AnalysisID', 'ExptRes.result7.DataSetID', 'ExptRes.result7.AnalysisSqrts (TeV)', 'ExptRes.result7.lumi (fb-1)', 'ExptRes.result7.dataType', 'ExptRes.result7.r', 'ExptRes.result7.r_expected', 'ExptRes.result7.Width (GeV)', 'ExptRes.result7.nll', 'ExptRes.result7.nll_min', 'ExptRes.result7.nll_SM', 'ExptRes.result8.maxcond', 'ExptRes.result8.theory prediction (fb)', 'ExptRes.result8.upper limit (fb)', 'ExptRes.result8.expected upper limit (fb)', 'ExptRes.result8.TxNames', 'ExptRes.result8.Mass (GeV)', 'ExptRes.result8.AnalysisID', 'ExptRes.result8.DataSetID', 'ExptRes.result8.AnalysisSqrts (TeV)', 'ExptRes.result8.lumi (fb-1)', 'ExptRes.result8.dataType', 'ExptRes.result8.r', 'ExptRes.result8.r_expected', 'ExptRes.result8.Width (GeV)', 'ExptRes.result8.nll', 'ExptRes.result8.nll_min', 'ExptRes.result8.nll_SM']\n"
     ]
    }
   ],
   "source": [
    "#Merge with SModelS DataFrame\n",
    "# pclFiles = ['./smodels_results_slha_gchi_001.pcl', './smodels_results_48k.pcl']\n",
    "pclFiles = ['../scan/smodels_results_final.pcl']\n",
    "dfs = [pd.read_pickle(i) for i in pclFiles]\n",
    "dataDF = pd.concat(dfs, ignore_index=True)\n",
    "print(dataDF.columns.values.tolist()) #Print all columns names"
   ]
  },
  {
   "attachments": {},
   "cell_type": "markdown",
   "metadata": {},
   "source": [
    "#### Set r = 0 for points with no results "
   ]
  },
  {
   "cell_type": "code",
   "execution_count": 3,
   "metadata": {
    "ExecuteTime": {
     "end_time": "2024-01-31T14:45:33.253371Z",
     "start_time": "2024-01-31T14:45:32.919681Z"
    }
   },
   "outputs": [],
   "source": [
    "#Set points without results with r == 0\n",
    "dataDF.fillna(value={c : 0 for c in dataDF.columns if c.endswith('.r')}, inplace=True)\n",
    "#Sort points according to r value:\n",
    "dataDF = dataDF.sort_values(by=['ExptRes.result0.r'],ascending=False)"
   ]
  },
  {
   "attachments": {},
   "cell_type": "markdown",
   "metadata": {},
   "source": [
    "#### Define exclusions"
   ]
  },
  {
   "cell_type": "code",
   "execution_count": 4,
   "metadata": {
    "ExecuteTime": {
     "end_time": "2024-01-31T14:45:33.616011Z",
     "start_time": "2024-01-31T14:45:33.610622Z"
    }
   },
   "outputs": [],
   "source": [
    "#Add simple flag for excluded points:\n",
    "dataDF['excludedLHC'] = dataDF['ExptRes.result0.r'] > 1.0"
   ]
  },
  {
   "attachments": {},
   "cell_type": "markdown",
   "metadata": {},
   "source": [
    "### Get points excluded:"
   ]
  },
  {
   "cell_type": "code",
   "execution_count": 5,
   "metadata": {
    "ExecuteTime": {
     "end_time": "2024-01-31T14:45:34.533840Z",
     "start_time": "2024-01-31T14:45:34.427775Z"
    }
   },
   "outputs": [
    {
     "name": "stdout",
     "output_type": "stream",
     "text": [
      "Total number of points = 17991\n",
      "Total excluded (LHC) = 8937\n",
      "Total allowed = 9054\n",
      "\n"
     ]
    }
   ],
   "source": [
    "excluded = dataDF[dataDF['excludedLHC'] == True]\n",
    "\n",
    "allowed = dataDF[(dataDF['excludedLHC'] == False)]\n",
    "\n",
    "\n",
    "print('Total number of points = %i' %len(dataDF))\n",
    "print('Total excluded (LHC) = %i'%(len(excluded)))\n",
    "print('Total allowed = %i\\n'%(len(allowed)))\n",
    "\n",
    "# print('Total excluded (r > %1.2f) = %i'%(rscale,len(excludedSC)))\n",
    "# print('Total allowed (r > %1.2f) = %i'%(rscale,len(allowedSC)))\n"
   ]
  },
  {
   "attachments": {},
   "cell_type": "markdown",
   "metadata": {},
   "source": [
    "#### Filter couplings"
   ]
  },
  {
   "cell_type": "code",
   "execution_count": 11,
   "metadata": {},
   "outputs": [],
   "source": [
    "# gchi = extpar.1\n",
    "# gq = extpar.2\n",
    "# sina = extpar.3\n",
    "\n",
    "dataDF = dataDF[(dataDF['extpar.1'] == 0.01)&(dataDF['extpar.2'] == 0.1)]"
   ]
  },
  {
   "attachments": {},
   "cell_type": "markdown",
   "metadata": {},
   "source": [
    "### Get all analyses in one column"
   ]
  },
  {
   "cell_type": "code",
   "execution_count": 12,
   "metadata": {
    "ExecuteTime": {
     "end_time": "2024-01-31T14:45:39.301539Z",
     "start_time": "2024-01-31T14:45:39.291289Z"
    },
    "scrolled": true
   },
   "outputs": [
    {
     "name": "stdout",
     "output_type": "stream",
     "text": [
      "['ExptRes.result0.AnalysisID', 'ExptRes.result1.AnalysisID', 'ExptRes.result2.AnalysisID', 'ExptRes.result3.AnalysisID', 'ExptRes.result4.AnalysisID', 'ExptRes.result5.AnalysisID', 'ExptRes.result6.AnalysisID', 'ExptRes.result7.AnalysisID', 'ExptRes.result8.AnalysisID']\n"
     ]
    }
   ],
   "source": [
    "idCols = [c for c in dataDF.columns if 'AnalysisID' in c]\n",
    "txCols = [c for c in dataDF.columns if 'TxNames' in c]\n",
    "print(idCols)"
   ]
  },
  {
   "cell_type": "code",
   "execution_count": 13,
   "metadata": {
    "ExecuteTime": {
     "end_time": "2024-01-31T14:45:39.998163Z",
     "start_time": "2024-01-31T14:45:39.778319Z"
    }
   },
   "outputs": [],
   "source": [
    "ana, tx = [], []\n",
    "for c in idCols:\n",
    "    for i in dataDF[c].dropna().unique():\n",
    "        ana.append(i)\n",
    "        \n",
    "for c in txCols:\n",
    "    for txlist in dataDF[c].dropna():\n",
    "        for i in txlist:\n",
    "            tx.append(i)"
   ]
  },
  {
   "cell_type": "code",
   "execution_count": 14,
   "metadata": {
    "ExecuteTime": {
     "end_time": "2024-01-31T14:45:41.342608Z",
     "start_time": "2024-01-31T14:45:41.317039Z"
    }
   },
   "outputs": [],
   "source": [
    "txnames = pd.Series(tx).drop_duplicates().tolist()\n",
    "analysis = pd.Series(ana).drop_duplicates().tolist()"
   ]
  },
  {
   "cell_type": "code",
   "execution_count": 22,
   "metadata": {
    "ExecuteTime": {
     "end_time": "2024-01-31T14:48:07.015211Z",
     "start_time": "2024-01-31T14:45:43.826265Z"
    }
   },
   "outputs": [],
   "source": [
    "filteredDF = []\n",
    "# anaID = analysis\n",
    "# txID = txnames\n",
    "for irow,row in dataDF.iterrows():\n",
    "    for anaID in analysis:\n",
    "        for txID in txnames:\n",
    "            # resCols = [idc for idc in idCols if (row[idc] == anaID and (row[idc.replace('AnalysisID','TxNames')] == [txID]\n",
    "            #                                                            or row[idc.replace('AnalysisID','TxNames')] == ['TRS1', 'TRV1']))]\n",
    "            resCols = [idc for idc in idCols if (row[idc] == anaID)]\n",
    "            if not resCols:\n",
    "                continue\n",
    "            resCol = resCols[0].rsplit('.',1)[0]\n",
    "            newrow = {c.replace(resCol,'ExptRes.result') : row[c] for c in dataDF.columns if (('ExptRes' not in c) or (resCol in c))}\n",
    "            filteredDF.append(newrow)  "
   ]
  },
  {
   "cell_type": "code",
   "execution_count": 23,
   "metadata": {
    "ExecuteTime": {
     "end_time": "2024-01-31T14:48:13.001560Z",
     "start_time": "2024-01-31T14:48:07.016931Z"
    }
   },
   "outputs": [],
   "source": [
    "newDF = pd.DataFrame.from_dict(filteredDF)"
   ]
  },
  {
   "cell_type": "code",
   "execution_count": 24,
   "metadata": {
    "ExecuteTime": {
     "end_time": "2024-01-31T14:48:13.045310Z",
     "start_time": "2024-01-31T14:48:13.003520Z"
    },
    "scrolled": false
   },
   "outputs": [
    {
     "data": {
      "text/html": [
       "<div>\n",
       "<style scoped>\n",
       "    .dataframe tbody tr th:only-of-type {\n",
       "        vertical-align: middle;\n",
       "    }\n",
       "\n",
       "    .dataframe tbody tr th {\n",
       "        vertical-align: top;\n",
       "    }\n",
       "\n",
       "    .dataframe thead th {\n",
       "        text-align: right;\n",
       "    }\n",
       "</style>\n",
       "<table border=\"1\" class=\"dataframe\">\n",
       "  <thead>\n",
       "    <tr style=\"text-align: right;\">\n",
       "      <th></th>\n",
       "      <th>ExptRes.result.AnalysisID</th>\n",
       "      <th>ExptRes.result.TxNames</th>\n",
       "      <th>ExptRes.result.r</th>\n",
       "    </tr>\n",
       "  </thead>\n",
       "  <tbody>\n",
       "    <tr>\n",
       "      <th>0</th>\n",
       "      <td>ATLAS-EXOT-2019-03</td>\n",
       "      <td>[TRV1jj]</td>\n",
       "      <td>3.761222</td>\n",
       "    </tr>\n",
       "    <tr>\n",
       "      <th>1</th>\n",
       "      <td>ATLAS-EXOT-2019-03</td>\n",
       "      <td>[TRV1jj]</td>\n",
       "      <td>3.761222</td>\n",
       "    </tr>\n",
       "    <tr>\n",
       "      <th>2</th>\n",
       "      <td>ATLAS-EXOT-2019-03</td>\n",
       "      <td>[TRV1jj]</td>\n",
       "      <td>3.761222</td>\n",
       "    </tr>\n",
       "    <tr>\n",
       "      <th>3</th>\n",
       "      <td>ATLAS-EXOT-2019-03</td>\n",
       "      <td>[TRV1jj]</td>\n",
       "      <td>3.761222</td>\n",
       "    </tr>\n",
       "    <tr>\n",
       "      <th>4</th>\n",
       "      <td>ATLAS-EXOT-2013-11</td>\n",
       "      <td>[TRV1qq]</td>\n",
       "      <td>0.271383</td>\n",
       "    </tr>\n",
       "    <tr>\n",
       "      <th>...</th>\n",
       "      <td>...</td>\n",
       "      <td>...</td>\n",
       "      <td>...</td>\n",
       "    </tr>\n",
       "    <tr>\n",
       "      <th>39091</th>\n",
       "      <td>ATLAS-EXOT-2013-11</td>\n",
       "      <td>[TRV1qq]</td>\n",
       "      <td>0.393022</td>\n",
       "    </tr>\n",
       "    <tr>\n",
       "      <th>39092</th>\n",
       "      <td>CMS-EXO-16-057</td>\n",
       "      <td>[TRV1bb]</td>\n",
       "      <td>0.392241</td>\n",
       "    </tr>\n",
       "    <tr>\n",
       "      <th>39093</th>\n",
       "      <td>CMS-EXO-16-057</td>\n",
       "      <td>[TRV1bb]</td>\n",
       "      <td>0.392241</td>\n",
       "    </tr>\n",
       "    <tr>\n",
       "      <th>39094</th>\n",
       "      <td>CMS-EXO-16-057</td>\n",
       "      <td>[TRV1bb]</td>\n",
       "      <td>0.392241</td>\n",
       "    </tr>\n",
       "    <tr>\n",
       "      <th>39095</th>\n",
       "      <td>CMS-EXO-16-057</td>\n",
       "      <td>[TRV1bb]</td>\n",
       "      <td>0.392241</td>\n",
       "    </tr>\n",
       "  </tbody>\n",
       "</table>\n",
       "<p>39096 rows × 3 columns</p>\n",
       "</div>"
      ],
      "text/plain": [
       "      ExptRes.result.AnalysisID ExptRes.result.TxNames  ExptRes.result.r\n",
       "0            ATLAS-EXOT-2019-03               [TRV1jj]          3.761222\n",
       "1            ATLAS-EXOT-2019-03               [TRV1jj]          3.761222\n",
       "2            ATLAS-EXOT-2019-03               [TRV1jj]          3.761222\n",
       "3            ATLAS-EXOT-2019-03               [TRV1jj]          3.761222\n",
       "4            ATLAS-EXOT-2013-11               [TRV1qq]          0.271383\n",
       "...                         ...                    ...               ...\n",
       "39091        ATLAS-EXOT-2013-11               [TRV1qq]          0.393022\n",
       "39092            CMS-EXO-16-057               [TRV1bb]          0.392241\n",
       "39093            CMS-EXO-16-057               [TRV1bb]          0.392241\n",
       "39094            CMS-EXO-16-057               [TRV1bb]          0.392241\n",
       "39095            CMS-EXO-16-057               [TRV1bb]          0.392241\n",
       "\n",
       "[39096 rows x 3 columns]"
      ]
     },
     "execution_count": 24,
     "metadata": {},
     "output_type": "execute_result"
    }
   ],
   "source": [
    "newDF[['ExptRes.result.AnalysisID','ExptRes.result.TxNames','ExptRes.result.r']]"
   ]
  },
  {
   "cell_type": "code",
   "execution_count": 30,
   "metadata": {},
   "outputs": [],
   "source": [
    "# select only dijet resonances searches\n",
    "dijAnas = ['ATLAS-EXOT-2019-03', 'CMS-EXO-19-012', 'CMS-EXO-12-059', 'ATLAS-EXOT-2013-11']"
   ]
  },
  {
   "cell_type": "code",
   "execution_count": 33,
   "metadata": {},
   "outputs": [],
   "source": [
    "newDF = newDF[newDF['ExptRes.result.AnalysisID'].isin(dijAnas)]"
   ]
  },
  {
   "cell_type": "code",
   "execution_count": 34,
   "metadata": {
    "ExecuteTime": {
     "end_time": "2024-01-31T14:48:35.773121Z",
     "start_time": "2024-01-31T14:48:13.050299Z"
    }
   },
   "outputs": [],
   "source": [
    "newDF['excluded'] = newDF['ExptRes.result.r'] > 1.0\n",
    "excluded = newDF[newDF['excluded'] == True]\n",
    "anas = excluded['ExptRes.result.AnalysisID'].value_counts()\n",
    "anas.sort_values(inplace=True,ascending=False)\n"
   ]
  },
  {
   "cell_type": "code",
   "execution_count": 35,
   "metadata": {
    "ExecuteTime": {
     "end_time": "2024-01-31T14:48:36.433741Z",
     "start_time": "2024-01-31T14:48:36.419180Z"
    }
   },
   "outputs": [
    {
     "data": {
      "text/plain": [
       "array(['ATLAS-EXOT-2019-03', 'ATLAS-EXOT-2013-11', 'CMS-EXO-19-012'],\n",
       "      dtype=object)"
      ]
     },
     "execution_count": 35,
     "metadata": {},
     "output_type": "execute_result"
    }
   ],
   "source": [
    "excluded['ExptRes.result.AnalysisID'].unique()"
   ]
  },
  {
   "attachments": {},
   "cell_type": "markdown",
   "metadata": {},
   "source": [
    "#### Create legend for plots for excluded points"
   ]
  },
  {
   "cell_type": "code",
   "execution_count": 36,
   "metadata": {
    "ExecuteTime": {
     "end_time": "2024-01-31T14:50:02.834599Z",
     "start_time": "2024-01-31T14:50:02.819369Z"
    }
   },
   "outputs": [],
   "source": [
    "colors = sns.color_palette(\"Set1\",len(newDF['ExptRes.result.AnalysisID'].unique()))\n"
   ]
  },
  {
   "cell_type": "code",
   "execution_count": 37,
   "metadata": {
    "ExecuteTime": {
     "end_time": "2024-01-31T14:50:03.251524Z",
     "start_time": "2024-01-31T14:50:03.000777Z"
    }
   },
   "outputs": [],
   "source": [
    "colorDict = {}\n",
    "\n",
    "for i, l in enumerate(newDF['ExptRes.result.AnalysisID'].unique()):\n",
    "    colorDict[l] = np.array(colors[i]).reshape(-1,3)"
   ]
  },
  {
   "cell_type": "code",
   "execution_count": 38,
   "metadata": {
    "ExecuteTime": {
     "end_time": "2024-01-31T14:50:04.782005Z",
     "start_time": "2024-01-31T14:50:04.766370Z"
    }
   },
   "outputs": [],
   "source": [
    "legend = []\n",
    "for ana, color in colorDict.items():\n",
    "    l = mpatches.Patch(color=color, label=ana)\n",
    "    legend.append(l)"
   ]
  },
  {
   "attachments": {},
   "cell_type": "markdown",
   "metadata": {},
   "source": [
    "### Plot only excluded points for a selected $g_{q}, g_{\\chi}$ pair"
   ]
  },
  {
   "cell_type": "code",
   "execution_count": 39,
   "metadata": {
    "scrolled": true
   },
   "outputs": [
    {
     "data": {
      "text/plain": [
       "array([0.1])"
      ]
     },
     "execution_count": 39,
     "metadata": {},
     "output_type": "execute_result"
    }
   ],
   "source": [
    "newDF['extpar.2'].unique()"
   ]
  },
  {
   "cell_type": "code",
   "execution_count": 40,
   "metadata": {},
   "outputs": [
    {
     "data": {
      "text/plain": [
       "array([0.01])"
      ]
     },
     "execution_count": 40,
     "metadata": {},
     "output_type": "execute_result"
    }
   ],
   "source": [
    "newDF['extpar.1'].unique()"
   ]
  },
  {
   "cell_type": "code",
   "execution_count": 41,
   "metadata": {
    "ExecuteTime": {
     "end_time": "2024-01-31T14:48:49.949918Z",
     "start_time": "2024-01-31T14:48:41.008179Z"
    },
    "scrolled": false
   },
   "outputs": [
    {
     "data": {
      "image/png": "[encoded data removed]",
      "text/plain": [
       "<Figure size 1000x800 with 1 Axes>"
      ]
     },
     "metadata": {},
     "output_type": "display_data"
    }
   ],
   "source": [
    "cm = plt.colormaps.get_cmap('RdYlBu_r')\n",
    "plt.colormaps['RdYlBu_r']\n",
    "plt.figure(figsize=(10,8))\n",
    "\n",
    "gqv = 0.10\n",
    "gchi = 0.01\n",
    "\n",
    "\n",
    "for label in newDF['ExptRes.result.AnalysisID'].unique():\n",
    "#     if 'CMS-EXO-19-012' not in label: continue\n",
    "    data = newDF[newDF['ExptRes.result.AnalysisID']==label]\n",
    "    data = data[(data['extpar.1']==gchi)&(data['extpar.2']==gqv)].sort_values(['mass.9900032'])\n",
    "#     print(label)\n",
    "    \n",
    "    if len(data) == 0: continue\n",
    "    x = data['mass.9900032']\n",
    "    y = data['ExptRes.result.r']\n",
    "\n",
    "    pl = plt.plot(x, y, '-', lw=3., label=label, c=colorDict[label])\n",
    "    \n",
    "    # sc = plt.scatter(x,y,s=10, label=label, c=colorDict[label])\n",
    "\n",
    "data2 = newDF[(newDF['extpar.1']==gchi)&(newDF['extpar.2']==0.15)].sort_values(['mass.9900032'])\n",
    "\n",
    "for label in data2['ExptRes.result.AnalysisID'].unique():\n",
    "    if len(data2) == 0: continue\n",
    "    x = data2['mass.9900032']\n",
    "    y = data2['ExptRes.result.r']\n",
    "\n",
    "    pl2 = plt.plot(x, y, '--', lw=3., label=label+r' ($g_{q} = %1.2f$)' %(0.15), c=colorDict[label], alpha=0.5)\n",
    "\n",
    "    # sc2 = plt.scatter(x,y,s=10, label=label, c=colorDict[label], alpha=0.5, marker=',')\n",
    "    \n",
    "\n",
    "plt.hlines(1, 0, 3050, linestyles='--', color='black')\n",
    "plt.xlabel(r'$m_{Z^{\\prime}}$ (GeV)', fontsize=25)\n",
    "plt.ylabel(r'$r$', fontsize=25)\n",
    "plt.text(0.1,0.5,r'$g_{q} = %1.2f$' %(gqv),fontsize=20,\n",
    "         bbox=dict(facecolor='white', edgecolor='black'),transform = plt.gca().transAxes)\n",
    "\n",
    "plt.title(r'SModelS v3.0.0', loc='left', fontsize=25)\n",
    "plt.title(r'2MDM model', loc='right', fontsize=25)\n",
    "\n",
    "plt.xlim(0, 3050)\n",
    "plt.yticks(fontsize=25)\n",
    "plt.xticks(fontsize=25)\n",
    "\n",
    "plt.legend(loc='upper left', fontsize=20)\n",
    "plt.tight_layout()\n",
    "plt.grid()\n",
    "\n",
    "# plt.savefig('./figures/exclusions_2mdm_dijet.png')\n",
    "plt.show()\n"
   ]
  },
  {
   "cell_type": "code",
   "execution_count": 42,
   "metadata": {},
   "outputs": [
    {
     "data": {
      "text/html": [
       "<div>\n",
       "<style scoped>\n",
       "    .dataframe tbody tr th:only-of-type {\n",
       "        vertical-align: middle;\n",
       "    }\n",
       "\n",
       "    .dataframe tbody tr th {\n",
       "        vertical-align: top;\n",
       "    }\n",
       "\n",
       "    .dataframe thead th {\n",
       "        text-align: right;\n",
       "    }\n",
       "</style>\n",
       "<table border=\"1\" class=\"dataframe\">\n",
       "  <thead>\n",
       "    <tr style=\"text-align: right;\">\n",
       "      <th></th>\n",
       "      <th>filename</th>\n",
       "      <th>mass.9000006</th>\n",
       "      <th>mass.9900026</th>\n",
       "      <th>mass.9900032</th>\n",
       "      <th>mass.9000002</th>\n",
       "      <th>mass.9000003</th>\n",
       "      <th>mass.9000004</th>\n",
       "      <th>mass.9000005</th>\n",
       "      <th>width.9000002</th>\n",
       "      <th>width.9000003</th>\n",
       "      <th>...</th>\n",
       "      <th>ExptRes.result.lumi (fb-1)</th>\n",
       "      <th>ExptRes.result.dataType</th>\n",
       "      <th>ExptRes.result.r</th>\n",
       "      <th>ExptRes.result.r_expected</th>\n",
       "      <th>ExptRes.result.Width (GeV)</th>\n",
       "      <th>ExptRes.result.nll</th>\n",
       "      <th>ExptRes.result.nll_min</th>\n",
       "      <th>ExptRes.result.nll_SM</th>\n",
       "      <th>excludedLHC</th>\n",
       "      <th>excluded</th>\n",
       "    </tr>\n",
       "  </thead>\n",
       "  <tbody>\n",
       "    <tr>\n",
       "      <th>0</th>\n",
       "      <td>scan_3_4did2gds.slha</td>\n",
       "      <td>1600.0</td>\n",
       "      <td>834.4148</td>\n",
       "      <td>1668.8300</td>\n",
       "      <td>91.1876</td>\n",
       "      <td>79.82436</td>\n",
       "      <td>79.82436</td>\n",
       "      <td>1500.0</td>\n",
       "      <td>2.4952</td>\n",
       "      <td>2.085</td>\n",
       "      <td>...</td>\n",
       "      <td>139.0</td>\n",
       "      <td>upperLimit</td>\n",
       "      <td>3.761222</td>\n",
       "      <td>2.567173</td>\n",
       "      <td>[(zp, 7.9672)]</td>\n",
       "      <td>NaN</td>\n",
       "      <td>NaN</td>\n",
       "      <td>NaN</td>\n",
       "      <td>True</td>\n",
       "      <td>True</td>\n",
       "    </tr>\n",
       "    <tr>\n",
       "      <th>1</th>\n",
       "      <td>scan_3_4did2gds.slha</td>\n",
       "      <td>1600.0</td>\n",
       "      <td>834.4148</td>\n",
       "      <td>1668.8300</td>\n",
       "      <td>91.1876</td>\n",
       "      <td>79.82436</td>\n",
       "      <td>79.82436</td>\n",
       "      <td>1500.0</td>\n",
       "      <td>2.4952</td>\n",
       "      <td>2.085</td>\n",
       "      <td>...</td>\n",
       "      <td>139.0</td>\n",
       "      <td>upperLimit</td>\n",
       "      <td>3.761222</td>\n",
       "      <td>2.567173</td>\n",
       "      <td>[(zp, 7.9672)]</td>\n",
       "      <td>NaN</td>\n",
       "      <td>NaN</td>\n",
       "      <td>NaN</td>\n",
       "      <td>True</td>\n",
       "      <td>True</td>\n",
       "    </tr>\n",
       "    <tr>\n",
       "      <th>2</th>\n",
       "      <td>scan_3_4did2gds.slha</td>\n",
       "      <td>1600.0</td>\n",
       "      <td>834.4148</td>\n",
       "      <td>1668.8300</td>\n",
       "      <td>91.1876</td>\n",
       "      <td>79.82436</td>\n",
       "      <td>79.82436</td>\n",
       "      <td>1500.0</td>\n",
       "      <td>2.4952</td>\n",
       "      <td>2.085</td>\n",
       "      <td>...</td>\n",
       "      <td>139.0</td>\n",
       "      <td>upperLimit</td>\n",
       "      <td>3.761222</td>\n",
       "      <td>2.567173</td>\n",
       "      <td>[(zp, 7.9672)]</td>\n",
       "      <td>NaN</td>\n",
       "      <td>NaN</td>\n",
       "      <td>NaN</td>\n",
       "      <td>True</td>\n",
       "      <td>True</td>\n",
       "    </tr>\n",
       "    <tr>\n",
       "      <th>3</th>\n",
       "      <td>scan_3_4did2gds.slha</td>\n",
       "      <td>1600.0</td>\n",
       "      <td>834.4148</td>\n",
       "      <td>1668.8300</td>\n",
       "      <td>91.1876</td>\n",
       "      <td>79.82436</td>\n",
       "      <td>79.82436</td>\n",
       "      <td>1500.0</td>\n",
       "      <td>2.4952</td>\n",
       "      <td>2.085</td>\n",
       "      <td>...</td>\n",
       "      <td>139.0</td>\n",
       "      <td>upperLimit</td>\n",
       "      <td>3.761222</td>\n",
       "      <td>2.567173</td>\n",
       "      <td>[(zp, 7.9672)]</td>\n",
       "      <td>NaN</td>\n",
       "      <td>NaN</td>\n",
       "      <td>NaN</td>\n",
       "      <td>True</td>\n",
       "      <td>True</td>\n",
       "    </tr>\n",
       "    <tr>\n",
       "      <th>4</th>\n",
       "      <td>scan_3_4did2gds.slha</td>\n",
       "      <td>1600.0</td>\n",
       "      <td>834.4148</td>\n",
       "      <td>1668.8300</td>\n",
       "      <td>91.1876</td>\n",
       "      <td>79.82436</td>\n",
       "      <td>79.82436</td>\n",
       "      <td>1500.0</td>\n",
       "      <td>2.4952</td>\n",
       "      <td>2.085</td>\n",
       "      <td>...</td>\n",
       "      <td>20.3</td>\n",
       "      <td>upperLimit</td>\n",
       "      <td>0.271383</td>\n",
       "      <td>-1.000000</td>\n",
       "      <td>[(zp, 7.9672)]</td>\n",
       "      <td>NaN</td>\n",
       "      <td>NaN</td>\n",
       "      <td>NaN</td>\n",
       "      <td>True</td>\n",
       "      <td>False</td>\n",
       "    </tr>\n",
       "    <tr>\n",
       "      <th>...</th>\n",
       "      <td>...</td>\n",
       "      <td>...</td>\n",
       "      <td>...</td>\n",
       "      <td>...</td>\n",
       "      <td>...</td>\n",
       "      <td>...</td>\n",
       "      <td>...</td>\n",
       "      <td>...</td>\n",
       "      <td>...</td>\n",
       "      <td>...</td>\n",
       "      <td>...</td>\n",
       "      <td>...</td>\n",
       "      <td>...</td>\n",
       "      <td>...</td>\n",
       "      <td>...</td>\n",
       "      <td>...</td>\n",
       "      <td>...</td>\n",
       "      <td>...</td>\n",
       "      <td>...</td>\n",
       "      <td>...</td>\n",
       "      <td>...</td>\n",
       "    </tr>\n",
       "    <tr>\n",
       "      <th>39083</th>\n",
       "      <td>scan_3_31nc79a4.slha</td>\n",
       "      <td>1600.0</td>\n",
       "      <td>326.8890</td>\n",
       "      <td>653.7779</td>\n",
       "      <td>91.1876</td>\n",
       "      <td>79.82436</td>\n",
       "      <td>79.82436</td>\n",
       "      <td>1500.0</td>\n",
       "      <td>2.4952</td>\n",
       "      <td>2.085</td>\n",
       "      <td>...</td>\n",
       "      <td>20.3</td>\n",
       "      <td>upperLimit</td>\n",
       "      <td>0.393134</td>\n",
       "      <td>-1.000000</td>\n",
       "      <td>[(zp, 3.105)]</td>\n",
       "      <td>NaN</td>\n",
       "      <td>NaN</td>\n",
       "      <td>NaN</td>\n",
       "      <td>False</td>\n",
       "      <td>False</td>\n",
       "    </tr>\n",
       "    <tr>\n",
       "      <th>39088</th>\n",
       "      <td>scan_3_flfuydte.slha</td>\n",
       "      <td>1600.0</td>\n",
       "      <td>326.4321</td>\n",
       "      <td>652.8643</td>\n",
       "      <td>91.1876</td>\n",
       "      <td>79.82436</td>\n",
       "      <td>79.82436</td>\n",
       "      <td>1500.0</td>\n",
       "      <td>2.4952</td>\n",
       "      <td>2.085</td>\n",
       "      <td>...</td>\n",
       "      <td>20.3</td>\n",
       "      <td>upperLimit</td>\n",
       "      <td>0.393022</td>\n",
       "      <td>-1.000000</td>\n",
       "      <td>[(zp, 3.1005)]</td>\n",
       "      <td>NaN</td>\n",
       "      <td>NaN</td>\n",
       "      <td>NaN</td>\n",
       "      <td>False</td>\n",
       "      <td>False</td>\n",
       "    </tr>\n",
       "    <tr>\n",
       "      <th>39089</th>\n",
       "      <td>scan_3_flfuydte.slha</td>\n",
       "      <td>1600.0</td>\n",
       "      <td>326.4321</td>\n",
       "      <td>652.8643</td>\n",
       "      <td>91.1876</td>\n",
       "      <td>79.82436</td>\n",
       "      <td>79.82436</td>\n",
       "      <td>1500.0</td>\n",
       "      <td>2.4952</td>\n",
       "      <td>2.085</td>\n",
       "      <td>...</td>\n",
       "      <td>20.3</td>\n",
       "      <td>upperLimit</td>\n",
       "      <td>0.393022</td>\n",
       "      <td>-1.000000</td>\n",
       "      <td>[(zp, 3.1005)]</td>\n",
       "      <td>NaN</td>\n",
       "      <td>NaN</td>\n",
       "      <td>NaN</td>\n",
       "      <td>False</td>\n",
       "      <td>False</td>\n",
       "    </tr>\n",
       "    <tr>\n",
       "      <th>39090</th>\n",
       "      <td>scan_3_flfuydte.slha</td>\n",
       "      <td>1600.0</td>\n",
       "      <td>326.4321</td>\n",
       "      <td>652.8643</td>\n",
       "      <td>91.1876</td>\n",
       "      <td>79.82436</td>\n",
       "      <td>79.82436</td>\n",
       "      <td>1500.0</td>\n",
       "      <td>2.4952</td>\n",
       "      <td>2.085</td>\n",
       "      <td>...</td>\n",
       "      <td>20.3</td>\n",
       "      <td>upperLimit</td>\n",
       "      <td>0.393022</td>\n",
       "      <td>-1.000000</td>\n",
       "      <td>[(zp, 3.1005)]</td>\n",
       "      <td>NaN</td>\n",
       "      <td>NaN</td>\n",
       "      <td>NaN</td>\n",
       "      <td>False</td>\n",
       "      <td>False</td>\n",
       "    </tr>\n",
       "    <tr>\n",
       "      <th>39091</th>\n",
       "      <td>scan_3_flfuydte.slha</td>\n",
       "      <td>1600.0</td>\n",
       "      <td>326.4321</td>\n",
       "      <td>652.8643</td>\n",
       "      <td>91.1876</td>\n",
       "      <td>79.82436</td>\n",
       "      <td>79.82436</td>\n",
       "      <td>1500.0</td>\n",
       "      <td>2.4952</td>\n",
       "      <td>2.085</td>\n",
       "      <td>...</td>\n",
       "      <td>20.3</td>\n",
       "      <td>upperLimit</td>\n",
       "      <td>0.393022</td>\n",
       "      <td>-1.000000</td>\n",
       "      <td>[(zp, 3.1005)]</td>\n",
       "      <td>NaN</td>\n",
       "      <td>NaN</td>\n",
       "      <td>NaN</td>\n",
       "      <td>False</td>\n",
       "      <td>False</td>\n",
       "    </tr>\n",
       "  </tbody>\n",
       "</table>\n",
       "<p>24528 rows × 83 columns</p>\n",
       "</div>"
      ],
      "text/plain": [
       "                   filename  mass.9000006  mass.9900026  mass.9900032   \n",
       "0      scan_3_4did2gds.slha        1600.0      834.4148     1668.8300  \\\n",
       "1      scan_3_4did2gds.slha        1600.0      834.4148     1668.8300   \n",
       "2      scan_3_4did2gds.slha        1600.0      834.4148     1668.8300   \n",
       "3      scan_3_4did2gds.slha        1600.0      834.4148     1668.8300   \n",
       "4      scan_3_4did2gds.slha        1600.0      834.4148     1668.8300   \n",
       "...                     ...           ...           ...           ...   \n",
       "39083  scan_3_31nc79a4.slha        1600.0      326.8890      653.7779   \n",
       "39088  scan_3_flfuydte.slha        1600.0      326.4321      652.8643   \n",
       "39089  scan_3_flfuydte.slha        1600.0      326.4321      652.8643   \n",
       "39090  scan_3_flfuydte.slha        1600.0      326.4321      652.8643   \n",
       "39091  scan_3_flfuydte.slha        1600.0      326.4321      652.8643   \n",
       "\n",
       "       mass.9000002  mass.9000003  mass.9000004  mass.9000005  width.9000002   \n",
       "0           91.1876      79.82436      79.82436        1500.0         2.4952  \\\n",
       "1           91.1876      79.82436      79.82436        1500.0         2.4952   \n",
       "2           91.1876      79.82436      79.82436        1500.0         2.4952   \n",
       "3           91.1876      79.82436      79.82436        1500.0         2.4952   \n",
       "4           91.1876      79.82436      79.82436        1500.0         2.4952   \n",
       "...             ...           ...           ...           ...            ...   \n",
       "39083       91.1876      79.82436      79.82436        1500.0         2.4952   \n",
       "39088       91.1876      79.82436      79.82436        1500.0         2.4952   \n",
       "39089       91.1876      79.82436      79.82436        1500.0         2.4952   \n",
       "39090       91.1876      79.82436      79.82436        1500.0         2.4952   \n",
       "39091       91.1876      79.82436      79.82436        1500.0         2.4952   \n",
       "\n",
       "       width.9000003  ...  ExptRes.result.lumi (fb-1)   \n",
       "0              2.085  ...                       139.0  \\\n",
       "1              2.085  ...                       139.0   \n",
       "2              2.085  ...                       139.0   \n",
       "3              2.085  ...                       139.0   \n",
       "4              2.085  ...                        20.3   \n",
       "...              ...  ...                         ...   \n",
       "39083          2.085  ...                        20.3   \n",
       "39088          2.085  ...                        20.3   \n",
       "39089          2.085  ...                        20.3   \n",
       "39090          2.085  ...                        20.3   \n",
       "39091          2.085  ...                        20.3   \n",
       "\n",
       "       ExptRes.result.dataType  ExptRes.result.r  ExptRes.result.r_expected   \n",
       "0                   upperLimit          3.761222                   2.567173  \\\n",
       "1                   upperLimit          3.761222                   2.567173   \n",
       "2                   upperLimit          3.761222                   2.567173   \n",
       "3                   upperLimit          3.761222                   2.567173   \n",
       "4                   upperLimit          0.271383                  -1.000000   \n",
       "...                        ...               ...                        ...   \n",
       "39083               upperLimit          0.393134                  -1.000000   \n",
       "39088               upperLimit          0.393022                  -1.000000   \n",
       "39089               upperLimit          0.393022                  -1.000000   \n",
       "39090               upperLimit          0.393022                  -1.000000   \n",
       "39091               upperLimit          0.393022                  -1.000000   \n",
       "\n",
       "       ExptRes.result.Width (GeV)  ExptRes.result.nll  ExptRes.result.nll_min   \n",
       "0                  [(zp, 7.9672)]                 NaN                     NaN  \\\n",
       "1                  [(zp, 7.9672)]                 NaN                     NaN   \n",
       "2                  [(zp, 7.9672)]                 NaN                     NaN   \n",
       "3                  [(zp, 7.9672)]                 NaN                     NaN   \n",
       "4                  [(zp, 7.9672)]                 NaN                     NaN   \n",
       "...                           ...                 ...                     ...   \n",
       "39083               [(zp, 3.105)]                 NaN                     NaN   \n",
       "39088              [(zp, 3.1005)]                 NaN                     NaN   \n",
       "39089              [(zp, 3.1005)]                 NaN                     NaN   \n",
       "39090              [(zp, 3.1005)]                 NaN                     NaN   \n",
       "39091              [(zp, 3.1005)]                 NaN                     NaN   \n",
       "\n",
       "       ExptRes.result.nll_SM  excludedLHC  excluded  \n",
       "0                        NaN         True      True  \n",
       "1                        NaN         True      True  \n",
       "2                        NaN         True      True  \n",
       "3                        NaN         True      True  \n",
       "4                        NaN         True     False  \n",
       "...                      ...          ...       ...  \n",
       "39083                    NaN        False     False  \n",
       "39088                    NaN        False     False  \n",
       "39089                    NaN        False     False  \n",
       "39090                    NaN        False     False  \n",
       "39091                    NaN        False     False  \n",
       "\n",
       "[24528 rows x 83 columns]"
      ]
     },
     "execution_count": 42,
     "metadata": {},
     "output_type": "execute_result"
    }
   ],
   "source": [
    "newDF"
   ]
  },
  {
   "cell_type": "code",
   "execution_count": null,
   "metadata": {},
   "outputs": [],
   "source": []
  }
 ],
 "metadata": {
  "kernelspec": {
   "display_name": "Python 3 (ipykernel)",
   "language": "python",
   "name": "python3"
  },
  "language_info": {
   "codemirror_mode": {
    "name": "ipython",
    "version": 3
   },
   "file_extension": ".py",
   "mimetype": "text/x-python",
   "name": "python",
   "nbconvert_exporter": "python",
   "pygments_lexer": "ipython3",
   "version": "3.9.13"
  }
 },
 "nbformat": 4,
 "nbformat_minor": 2
}
