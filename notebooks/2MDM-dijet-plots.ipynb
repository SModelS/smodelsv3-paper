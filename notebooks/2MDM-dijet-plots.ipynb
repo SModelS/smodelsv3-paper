{
 "cells": [
  {
   "attachments": {},
   "cell_type": "markdown",
   "metadata": {},
   "source": [
    "# Plots for the 2MDM analysis"
   ]
  },
  {
   "cell_type": "code",
   "execution_count": 15,
   "metadata": {
    "ExecuteTime": {
     "end_time": "2024-01-31T14:45:31.167350Z",
     "start_time": "2024-01-31T14:45:30.326673Z"
    },
    "execution": {
     "iopub.execute_input": "2024-08-27T14:34:18.941714Z",
     "iopub.status.busy": "2024-08-27T14:34:18.940660Z",
     "iopub.status.idle": "2024-08-27T14:34:20.826264Z",
     "shell.execute_reply": "2024-08-27T14:34:20.824744Z"
    }
   },
   "outputs": [],
   "source": [
    "import warnings\n",
    "warnings.filterwarnings(\"ignore\", message=\"numpy.dtype size changed\")\n",
    "import numpy as np\n",
    "import pandas as pd\n",
    "import matplotlib.pyplot as plt\n",
    "import matplotlib.patches as mpatches\n",
    "from auxPlots import columnsDict, colorDict, defaultPars\n",
    "import itertools\n",
    "\n",
    "pd.option_context('display.max_columns', None)\n",
    "pd.option_context('display.max_rows', None)\n",
    "\n",
    "pd.options.mode.chained_assignment = None #Disable copy warnings\n",
    "plt.rcParams.update(defaultPars) #Figure resolution"
   ]
  },
  {
   "attachments": {},
   "cell_type": "markdown",
   "metadata": {},
   "source": [
    "#### Get data in pcl format and print all columns names"
   ]
  },
  {
   "cell_type": "code",
   "execution_count": 16,
   "metadata": {
    "ExecuteTime": {
     "end_time": "2024-01-31T14:45:32.917617Z",
     "start_time": "2024-01-31T14:45:31.229063Z"
    },
    "execution": {
     "iopub.execute_input": "2024-08-27T14:34:20.832990Z",
     "iopub.status.busy": "2024-08-27T14:34:20.832344Z",
     "iopub.status.idle": "2024-08-27T14:34:21.450614Z",
     "shell.execute_reply": "2024-08-27T14:34:21.448538Z"
    },
    "scrolled": true
   },
   "outputs": [
    {
     "name": "stdout",
     "output_type": "stream",
     "text": [
      "['filename', 'mChi', 'mS', 'mZp', 'mass.9000002', 'mass.9000003', 'mass.9000004', 'mass.9000005', 'width.9000002', 'width.9000003', 'width.9000004', 'width.9000005', 'width.9000006', 'width.9900026', 'width.9900032', 'gchi', 'gq', 'sina', 'extpar.4', 'xsec8TeV(fb).9900032', 'xsec8TeV(fb).9900026', 'xsec13TeV(fb).9900032', 'xsec13TeV(fb).9900026', 'BRs.sd.W-,W+', 'BRs.sd.higgs,higgs', 'BRs.sd.Z,Z', 'BRs.sd.t-,t+', 'BRs.sd.chi,chi', 'BRs.sd.ta+,ta-', 'BRs.zp.chi,chi', 'BRs.zp.c,c', 'BRs.zp.q,q', 'BRs.zp.b,b', 'BRs.zp.t-,t+', 'totalxsec13TeV(fb)', 'totalxsec8TeV(fb)', 'CombinedRes', 'Total xsec for missing topologies (fb)', 'Total xsec for missing topologies with displaced decays (fb)', 'Total xsec for missing topologies with prompt decays (fb)', 'Total xsec for topologies outside the grid (fb)', 'ExptRes.result0.maxcond', 'ExptRes.result0.theory prediction (fb)', 'ExptRes.result0.upper limit (fb)', 'ExptRes.result0.expected upper limit (fb)', 'ExptRes.result0.TxNames', 'ExptRes.result0.Mass (GeV)', 'ExptRes.result0.AnalysisID', 'ExptRes.result0.DataSetID', 'ExptRes.result0.AnalysisSqrts (TeV)', 'ExptRes.result0.lumi (fb-1)', 'ExptRes.result0.dataType', 'ExptRes.result0.r', 'ExptRes.result0.r_expected', 'ExptRes.result0.Width (GeV)', 'ExptRes.result1.maxcond', 'ExptRes.result1.theory prediction (fb)', 'ExptRes.result1.upper limit (fb)', 'ExptRes.result1.expected upper limit (fb)', 'ExptRes.result1.TxNames', 'ExptRes.result1.Mass (GeV)', 'ExptRes.result1.AnalysisID', 'ExptRes.result1.DataSetID', 'ExptRes.result1.AnalysisSqrts (TeV)', 'ExptRes.result1.lumi (fb-1)', 'ExptRes.result1.dataType', 'ExptRes.result1.r', 'ExptRes.result1.r_expected', 'ExptRes.result1.Width (GeV)', 'ExptRes.result1.nll', 'ExptRes.result1.nll_min', 'ExptRes.result1.nll_SM', 'ExptRes.result2.maxcond', 'ExptRes.result2.theory prediction (fb)', 'ExptRes.result2.upper limit (fb)', 'ExptRes.result2.expected upper limit (fb)', 'ExptRes.result2.TxNames', 'ExptRes.result2.Mass (GeV)', 'ExptRes.result2.AnalysisID', 'ExptRes.result2.DataSetID', 'ExptRes.result2.AnalysisSqrts (TeV)', 'ExptRes.result2.lumi (fb-1)', 'ExptRes.result2.dataType', 'ExptRes.result2.r', 'ExptRes.result2.r_expected', 'ExptRes.result2.Width (GeV)', 'ExptRes.result2.nll', 'ExptRes.result2.nll_min', 'ExptRes.result2.nll_SM', 'ExptRes.result3.maxcond', 'ExptRes.result3.theory prediction (fb)', 'ExptRes.result3.upper limit (fb)', 'ExptRes.result3.expected upper limit (fb)', 'ExptRes.result3.TxNames', 'ExptRes.result3.Mass (GeV)', 'ExptRes.result3.AnalysisID', 'ExptRes.result3.DataSetID', 'ExptRes.result3.AnalysisSqrts (TeV)', 'ExptRes.result3.lumi (fb-1)', 'ExptRes.result3.dataType', 'ExptRes.result3.r', 'ExptRes.result3.r_expected', 'ExptRes.result3.Width (GeV)', 'ExptRes.result3.nll', 'ExptRes.result3.nll_min', 'ExptRes.result3.nll_SM', 'ExptRes.result0.nll', 'ExptRes.result0.nll_min', 'ExptRes.result0.nll_SM', 'ExptRes.result4.maxcond', 'ExptRes.result4.theory prediction (fb)', 'ExptRes.result4.upper limit (fb)', 'ExptRes.result4.expected upper limit (fb)', 'ExptRes.result4.TxNames', 'ExptRes.result4.Mass (GeV)', 'ExptRes.result4.AnalysisID', 'ExptRes.result4.DataSetID', 'ExptRes.result4.AnalysisSqrts (TeV)', 'ExptRes.result4.lumi (fb-1)', 'ExptRes.result4.dataType', 'ExptRes.result4.r', 'ExptRes.result4.r_expected', 'ExptRes.result4.Width (GeV)', 'ExptRes.result4.nll', 'ExptRes.result4.nll_min', 'ExptRes.result4.nll_SM', 'ExptRes.result5.maxcond', 'ExptRes.result5.theory prediction (fb)', 'ExptRes.result5.upper limit (fb)', 'ExptRes.result5.expected upper limit (fb)', 'ExptRes.result5.TxNames', 'ExptRes.result5.Mass (GeV)', 'ExptRes.result5.AnalysisID', 'ExptRes.result5.DataSetID', 'ExptRes.result5.AnalysisSqrts (TeV)', 'ExptRes.result5.lumi (fb-1)', 'ExptRes.result5.dataType', 'ExptRes.result5.r', 'ExptRes.result5.r_expected', 'ExptRes.result5.Width (GeV)', 'ExptRes.result5.nll', 'ExptRes.result5.nll_min', 'ExptRes.result5.nll_SM', 'ExptRes.result6.maxcond', 'ExptRes.result6.theory prediction (fb)', 'ExptRes.result6.upper limit (fb)', 'ExptRes.result6.expected upper limit (fb)', 'ExptRes.result6.TxNames', 'ExptRes.result6.Mass (GeV)', 'ExptRes.result6.AnalysisID', 'ExptRes.result6.DataSetID', 'ExptRes.result6.AnalysisSqrts (TeV)', 'ExptRes.result6.lumi (fb-1)', 'ExptRes.result6.dataType', 'ExptRes.result6.r', 'ExptRes.result6.r_expected', 'ExptRes.result6.Width (GeV)', 'ExptRes.result6.nll', 'ExptRes.result6.nll_min', 'ExptRes.result6.nll_SM', 'ExptRes.result7.maxcond', 'ExptRes.result7.theory prediction (fb)', 'ExptRes.result7.upper limit (fb)', 'ExptRes.result7.expected upper limit (fb)', 'ExptRes.result7.TxNames', 'ExptRes.result7.Mass (GeV)', 'ExptRes.result7.AnalysisID', 'ExptRes.result7.DataSetID', 'ExptRes.result7.AnalysisSqrts (TeV)', 'ExptRes.result7.lumi (fb-1)', 'ExptRes.result7.dataType', 'ExptRes.result7.r', 'ExptRes.result7.r_expected', 'ExptRes.result7.Width (GeV)', 'ExptRes.result7.nll', 'ExptRes.result7.nll_min', 'ExptRes.result7.nll_SM', 'ExptRes.result8.maxcond', 'ExptRes.result8.theory prediction (fb)', 'ExptRes.result8.upper limit (fb)', 'ExptRes.result8.expected upper limit (fb)', 'ExptRes.result8.TxNames', 'ExptRes.result8.Mass (GeV)', 'ExptRes.result8.AnalysisID', 'ExptRes.result8.DataSetID', 'ExptRes.result8.AnalysisSqrts (TeV)', 'ExptRes.result8.lumi (fb-1)', 'ExptRes.result8.dataType', 'ExptRes.result8.r', 'ExptRes.result8.r_expected', 'ExptRes.result8.Width (GeV)', 'ExptRes.result8.nll', 'ExptRes.result8.nll_min', 'ExptRes.result8.nll_SM']\n"
     ]
    }
   ],
   "source": [
    "#Merge with SModelS DataFrame\n",
    "pclFiles = ['../data/smodels_results.pcl']\n",
    "dfs = [pd.read_pickle(i) for i in pclFiles]\n",
    "dataDF = pd.concat(dfs, ignore_index=True)\n",
    "dataDF.rename(columns=columnsDict,inplace=True)\n",
    "dropCols = [c for c in dataDF.columns if ('Output' in c or 'weight' in c)]\n",
    "dataDF.drop(columns=dropCols,inplace=True)\n",
    "print(dataDF.columns.values.tolist()) #Print all columns names"
   ]
  },
  {
   "attachments": {},
   "cell_type": "markdown",
   "metadata": {},
   "source": [
    "#### Set r = 0 for points with no results "
   ]
  },
  {
   "cell_type": "code",
   "execution_count": 17,
   "metadata": {
    "ExecuteTime": {
     "end_time": "2024-01-31T14:45:33.253371Z",
     "start_time": "2024-01-31T14:45:32.919681Z"
    },
    "execution": {
     "iopub.execute_input": "2024-08-27T14:34:21.556291Z",
     "iopub.status.busy": "2024-08-27T14:34:21.555738Z",
     "iopub.status.idle": "2024-08-27T14:34:21.685922Z",
     "shell.execute_reply": "2024-08-27T14:34:21.683864Z"
    }
   },
   "outputs": [],
   "source": [
    "#Set points without results with r == 0\n",
    "dataDF.fillna(value={c : 0 for c in dataDF.columns if c.endswith('.r')}, inplace=True)\n",
    "#Sort points according to r value:\n",
    "dataDF = dataDF.sort_values(by=['ExptRes.result0.r'],ascending=False)"
   ]
  },
  {
   "attachments": {},
   "cell_type": "markdown",
   "metadata": {},
   "source": [
    "#### Define exclusions"
   ]
  },
  {
   "cell_type": "code",
   "execution_count": 18,
   "metadata": {
    "ExecuteTime": {
     "end_time": "2024-01-31T14:45:33.616011Z",
     "start_time": "2024-01-31T14:45:33.610622Z"
    },
    "execution": {
     "iopub.execute_input": "2024-08-27T14:34:21.694594Z",
     "iopub.status.busy": "2024-08-27T14:34:21.693897Z",
     "iopub.status.idle": "2024-08-27T14:34:21.705215Z",
     "shell.execute_reply": "2024-08-27T14:34:21.703188Z"
    }
   },
   "outputs": [],
   "source": [
    "#Add simple flag for excluded points:\n",
    "dataDF['excludedLHC'] = dataDF['ExptRes.result0.r'] > 1.0"
   ]
  },
  {
   "attachments": {},
   "cell_type": "markdown",
   "metadata": {},
   "source": [
    "### Get points excluded:"
   ]
  },
  {
   "cell_type": "code",
   "execution_count": 19,
   "metadata": {
    "ExecuteTime": {
     "end_time": "2024-01-31T14:45:34.533840Z",
     "start_time": "2024-01-31T14:45:34.427775Z"
    },
    "execution": {
     "iopub.execute_input": "2024-08-27T14:34:21.713543Z",
     "iopub.status.busy": "2024-08-27T14:34:21.712878Z",
     "iopub.status.idle": "2024-08-27T14:34:21.807385Z",
     "shell.execute_reply": "2024-08-27T14:34:21.804967Z"
    }
   },
   "outputs": [
    {
     "name": "stdout",
     "output_type": "stream",
     "text": [
      "Total number of points = 21000\n",
      "Total excluded (LHC) = 9780\n",
      "Total allowed = 11220\n",
      "\n"
     ]
    }
   ],
   "source": [
    "excluded = dataDF[dataDF['excludedLHC'] == True]\n",
    "\n",
    "allowed = dataDF[(dataDF['excludedLHC'] == False)]\n",
    "\n",
    "\n",
    "print('Total number of points = %i' %len(dataDF))\n",
    "print('Total excluded (LHC) = %i'%(len(excluded)))\n",
    "print('Total allowed = %i\\n'%(len(allowed)))\n",
    "\n",
    "# print('Total excluded (r > %1.2f) = %i'%(rscale,len(excludedSC)))\n",
    "# print('Total allowed (r > %1.2f) = %i'%(rscale,len(allowedSC)))\n"
   ]
  },
  {
   "attachments": {},
   "cell_type": "markdown",
   "metadata": {},
   "source": [
    "#### Filter couplings"
   ]
  },
  {
   "cell_type": "code",
   "execution_count": 20,
   "metadata": {
    "execution": {
     "iopub.execute_input": "2024-08-27T14:34:21.815416Z",
     "iopub.status.busy": "2024-08-27T14:34:21.814725Z",
     "iopub.status.idle": "2024-08-27T14:34:21.879668Z",
     "shell.execute_reply": "2024-08-27T14:34:21.877738Z"
    }
   },
   "outputs": [],
   "source": [
    "dataDF = dataDF[((dataDF['gchi'] == 0.01) & (dataDF['gq'] == 0.1) & (dataDF['sina'] == 0.25)) \n",
    "                | ((dataDF['gchi'] == 0.01) & (dataDF['gq'] == 0.15) & (dataDF['sina'] == 0.25))]\n",
    "dataDF.reset_index(inplace=True)"
   ]
  },
  {
   "cell_type": "markdown",
   "metadata": {},
   "source": [
    "### Split dataframe by analysis ID"
   ]
  },
  {
   "cell_type": "code",
   "execution_count": 21,
   "metadata": {
    "execution": {
     "iopub.execute_input": "2024-08-27T14:34:21.888468Z",
     "iopub.status.busy": "2024-08-27T14:34:21.887787Z",
     "iopub.status.idle": "2024-08-27T14:34:23.017761Z",
     "shell.execute_reply": "2024-08-27T14:34:23.015696Z"
    }
   },
   "outputs": [],
   "source": [
    "# Get ExptRes columns and group according to ExptRes attribute\n",
    "expResCols = np.array(sorted([c for c in dataDF.columns if 'ExptRes.' in c],key = lambda c: c.split('.')[-1]))\n",
    "expCols = itertools.groupby(expResCols, key = lambda c: c.split('.')[-1])\n",
    "\n",
    "# Get all analyses\n",
    "idCols = np.array([c for c in dataDF.columns if 'AnalysisID' in c])\n",
    "analysis = sorted(dataDF[idCols].stack().drop_duplicates().tolist())\n",
    "# Get all Txnames\n",
    "txCols = np.array([c for c in dataDF.columns if 'TxNames' in c and not 'weights' in c])\n",
    "txnames = sorted(dataDF[txCols].stack().drop_duplicates().tolist())\n",
    "\n",
    "# Merge all common ExptRes columns into single columns containing a list of results\n",
    "newDataDF = dataDF.copy()\n",
    "for key,group in expCols:\n",
    "    g = list(group)\n",
    "    newCol = f'ExptRes.result.{key}'\n",
    "    newDataDF[newCol] = newDataDF[g].values.tolist()\n",
    "    newDataDF.drop(columns=g,inplace=True)\n",
    "\n",
    "\n",
    "# Now explode each list of values into distinct rows\n",
    "expResColsNew = np.array(sorted([c for c in newDataDF.columns if 'ExptRes.' in c],key = lambda c: c.split('.')[-1]))\n",
    "newDataDFexp = newDataDF.explode(list(expResColsNew))\n",
    "\n",
    "# Finally group using analsysis IDs\n",
    "anaGroups = newDataDFexp.groupby(by=['ExptRes.result.AnalysisID'])"
   ]
  },
  {
   "cell_type": "code",
   "execution_count": 22,
   "metadata": {
    "execution": {
     "iopub.execute_input": "2024-08-27T14:34:23.026143Z",
     "iopub.status.busy": "2024-08-27T14:34:23.025463Z",
     "iopub.status.idle": "2024-08-27T14:34:23.113166Z",
     "shell.execute_reply": "2024-08-27T14:34:23.111004Z"
    }
   },
   "outputs": [],
   "source": [
    "anaDict = {ana[0] : anadf for ana,anadf in anaGroups}"
   ]
  },
  {
   "cell_type": "markdown",
   "metadata": {},
   "source": [
    "# Plot Results for Resonance Searches"
   ]
  },
  {
   "cell_type": "code",
   "execution_count": 23,
   "metadata": {
    "execution": {
     "iopub.execute_input": "2024-08-27T14:34:23.122081Z",
     "iopub.status.busy": "2024-08-27T14:34:23.121415Z",
     "iopub.status.idle": "2024-08-27T14:34:23.131003Z",
     "shell.execute_reply": "2024-08-27T14:34:23.128993Z"
    }
   },
   "outputs": [],
   "source": [
    "allAnas = ['ATLAS-EXOT-2019-03', 'ATLAS-EXOT-2013-11', 'CMS-EXO-19-012', \n",
    "           'ATLAS-EXOT-2018-48', 'CMS-EXO-12-059', 'CMS-EXO-20-008', \n",
    "           'CMS-EXO-16-057']\n",
    "anaDictS = {ana : anaDict[ana] for ana in allAnas if ana in anaDict}"
   ]
  },
  {
   "attachments": {},
   "cell_type": "markdown",
   "metadata": {},
   "source": [
    "#### Create legend for plots for excluded points"
   ]
  },
  {
   "cell_type": "code",
   "execution_count": 24,
   "metadata": {
    "ExecuteTime": {
     "end_time": "2024-01-31T14:50:02.834599Z",
     "start_time": "2024-01-31T14:50:02.819369Z"
    },
    "execution": {
     "iopub.execute_input": "2024-08-27T14:34:23.138545Z",
     "iopub.status.busy": "2024-08-27T14:34:23.137943Z",
     "iopub.status.idle": "2024-08-27T14:34:23.148056Z",
     "shell.execute_reply": "2024-08-27T14:34:23.146179Z"
    }
   },
   "outputs": [],
   "source": [
    "legend = [mpatches.Patch(color=color, label=ana) for ana,color in colorDict.items()]"
   ]
  },
  {
   "attachments": {},
   "cell_type": "markdown",
   "metadata": {},
   "source": [
    "### Plot only excluded points for a selected $g_{q}, g_{\\chi}$ pair"
   ]
  },
  {
   "cell_type": "markdown",
   "metadata": {},
   "source": [
    "### Separate between dijet and heavy flavors"
   ]
  },
  {
   "cell_type": "code",
   "execution_count": 25,
   "metadata": {
    "execution": {
     "iopub.execute_input": "2024-08-27T14:34:23.154863Z",
     "iopub.status.busy": "2024-08-27T14:34:23.154352Z",
     "iopub.status.idle": "2024-08-27T14:34:23.161929Z",
     "shell.execute_reply": "2024-08-27T14:34:23.160171Z"
    }
   },
   "outputs": [],
   "source": [
    "dijAnas = ['ATLAS-EXOT-2019-03', 'CMS-EXO-19-012', 'CMS-EXO-12-059', 'ATLAS-EXOT-2013-11']\n",
    "otherAnas = ['ATLAS-EXOT-2018-48', 'CMS-EXO-20-008', 'CMS-EXO-16-057']"
   ]
  },
  {
   "cell_type": "code",
   "execution_count": 26,
   "metadata": {
    "execution": {
     "iopub.execute_input": "2024-08-27T14:34:23.168344Z",
     "iopub.status.busy": "2024-08-27T14:34:23.167809Z",
     "iopub.status.idle": "2024-08-27T14:34:23.175960Z",
     "shell.execute_reply": "2024-08-27T14:34:23.174177Z"
    }
   },
   "outputs": [],
   "source": [
    "# Figure parameters\n",
    "xlim = (-150, 3000)\n",
    "ylim = (0, 4.0)\n"
   ]
  },
  {
   "cell_type": "code",
   "execution_count": 29,
   "metadata": {
    "execution": {
     "iopub.execute_input": "2024-08-27T14:34:23.182444Z",
     "iopub.status.busy": "2024-08-27T14:34:23.181912Z",
     "iopub.status.idle": "2024-08-27T14:34:40.562102Z",
     "shell.execute_reply": "2024-08-27T14:34:40.560467Z"
    }
   },
   "outputs": [
    {
     "data": {
      "image/png": "[encoded data removed]",
      "text/plain": [
       "<Figure size 500x400 with 1 Axes>"
      ]
     },
     "metadata": {},
     "output_type": "display_data"
    }
   ],
   "source": [
    "gq = 0.10\n",
    "gchi = 0.01\n",
    "\n",
    "for ana,anadf in anaDictS.items():\n",
    "    if ana not in dijAnas:\n",
    "        continue\n",
    "    data = anadf[(anadf['gchi']==gchi) & (anadf['gq']==gq)].sort_values(['mZp'])   \n",
    "    if len(data) == 0: continue\n",
    "    x = data['mZp']\n",
    "    y = data['ExptRes.result.r']\n",
    "    label = ana\n",
    "    pl = plt.plot(x, y, '-', label=label, c=colorDict[label])\n",
    "    \n",
    "gq_2 = 0.15\n",
    "gchi_2 = 0.01\n",
    "for ana,anadf in anaDictS.items():\n",
    "    if ana not in dijAnas:\n",
    "        continue\n",
    "    data = anadf[(anadf['gchi']==gchi_2) & (anadf['gq']==gq_2)].sort_values(['mZp'])   \n",
    "    if len(data) == 0: continue\n",
    "    x = data['mZp']\n",
    "    y = data['ExptRes.result.r']\n",
    "    label = ana\n",
    "    pl2 = plt.plot(x, y, '--', label=label+'\\n'+r' ($g_{q} = %1.2f$)' %(gq_2), c=colorDict[label], alpha=0.5)\n",
    "\n",
    "    \n",
    "\n",
    "plt.hlines(1, 0, 3000, linestyles='--', color='black')\n",
    "plt.xlabel(r'$m_{Z^{\\prime}}$ (GeV)')\n",
    "plt.ylabel(r'$r_{obs}$')\n",
    "plt.title(r'SModelS v3.0.0', loc='left')\n",
    "plt.title(r'2MDM model', loc='right')\n",
    "\n",
    "plt.xlim(*xlim)\n",
    "plt.ylim(*ylim)\n",
    "\n",
    "plt.text(0.05, 0.4,r'$g_{q} = %1.2f$' %(gq),\n",
    "         bbox=dict(facecolor='white', edgecolor='none'),transform = plt.gca().transAxes)\n",
    "plt.legend(loc='upper left', framealpha=0.7)\n",
    "\n",
    "plt.text(0.8,0.9,r'$Z^\\prime \\to jj$',\n",
    "            bbox=dict(facecolor='white', edgecolor='black'),\n",
    "            transform = plt.gca().transAxes)\n",
    "\n",
    "plt.tight_layout()\n",
    "plt.savefig('./figures/exclusions_2mdm_resonance_dijet.png')\n",
    "plt.show()\n"
   ]
  },
  {
   "cell_type": "code",
   "execution_count": 30,
   "metadata": {
    "execution": {
     "iopub.execute_input": "2024-08-27T14:34:40.568866Z",
     "iopub.status.busy": "2024-08-27T14:34:40.568371Z",
     "iopub.status.idle": "2024-08-27T14:34:44.396398Z",
     "shell.execute_reply": "2024-08-27T14:34:44.394747Z"
    }
   },
   "outputs": [
    {
     "data": {
      "image/png": "[encoded data removed]",
      "text/plain": [
       "<Figure size 500x400 with 1 Axes>"
      ]
     },
     "metadata": {},
     "output_type": "display_data"
    }
   ],
   "source": [
    "gq = 0.10\n",
    "gchi = 0.01\n",
    "\n",
    "for ana,anadf in anaDictS.items():\n",
    "    if ana not in otherAnas:\n",
    "        continue\n",
    "    data = anadf[(anadf['gchi']==gchi) & (anadf['gq']==gq)].sort_values(['mZp'])   \n",
    "    if len(data) == 0: continue\n",
    "    x = data['mZp']\n",
    "    y = data['ExptRes.result.r']\n",
    "    label = ana\n",
    "    pl = plt.plot(x, y, '-', label=label, c=colorDict[label])\n",
    "    \n",
    "gq_2 = 0.15\n",
    "gchi_2 = 0.01\n",
    "for ana,anadf in anaDictS.items():\n",
    "    if ana not in otherAnas:\n",
    "        continue\n",
    "    data = anadf[(anadf['gchi']==gchi_2) & (anadf['gq']==gq_2)].sort_values(['mZp'])   \n",
    "    if len(data) == 0: continue\n",
    "    x = data['mZp']\n",
    "    y = data['ExptRes.result.r']\n",
    "    label = ana\n",
    "    pl2 = plt.plot(x, y, '--', label=label+'\\n'+r' ($g_{q} = %1.2f$)' %(gq_2), c=colorDict[label], alpha=0.5)\n",
    "\n",
    "    \n",
    "\n",
    "plt.hlines(1, 0, 3000, linestyles='--', color='black')\n",
    "plt.xlabel(r'$m_{Z^{\\prime}}$ (GeV)')\n",
    "plt.ylabel(r'$r_{obs}$')\n",
    "\n",
    "plt.title(r'SModelS v3.0.0', loc='left')\n",
    "plt.title(r'2MDM model', loc='right')\n",
    "\n",
    "plt.xlim(*xlim)\n",
    "plt.ylim(*ylim)\n",
    "\n",
    "\n",
    "plt.text(0.55, 0.4,r'$g_{q} = %1.2f$' %(gq),\n",
    "         bbox=dict(facecolor='white', edgecolor='none'),transform = plt.gca().transAxes)\n",
    "plt.legend(loc='upper right', framealpha=0.7)\n",
    "\n",
    "plt.text(0.1,0.9,r'$Z^\\prime \\to b\\bar{b},t\\bar{t}$',\n",
    "            bbox=dict(facecolor='white', edgecolor='black'),\n",
    "            transform = plt.gca().transAxes)\n",
    "\n",
    "plt.tight_layout()\n",
    "plt.savefig('./figures/exclusions_2mdm_resonance_heavyF.png')\n",
    "plt.show()\n"
   ]
  },
  {
   "cell_type": "code",
   "execution_count": null,
   "metadata": {},
   "outputs": [],
   "source": []
  }
 ],
 "metadata": {
  "kernelspec": {
   "display_name": "Python 3 (ipykernel)",
   "language": "python",
   "name": "python3"
  },
  "language_info": {
   "codemirror_mode": {
    "name": "ipython",
    "version": 3
   },
   "file_extension": ".py",
   "mimetype": "text/x-python",
   "name": "python",
   "nbconvert_exporter": "python",
   "pygments_lexer": "ipython3",
   "version": "3.12.3"
  }
 },
 "nbformat": 4,
 "nbformat_minor": 2
}
