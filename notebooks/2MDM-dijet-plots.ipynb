{
 "cells": [
  {
   "attachments": {},
   "cell_type": "markdown",
   "metadata": {},
   "source": [
    "# Plots for the 2MDM analysis"
   ]
  },
  {
   "cell_type": "code",
   "execution_count": 1,
   "metadata": {
    "ExecuteTime": {
     "end_time": "2024-01-31T14:45:31.167350Z",
     "start_time": "2024-01-31T14:45:30.326673Z"
    }
   },
   "outputs": [
    {
     "name": "stderr",
     "output_type": "stream",
     "text": [
      "/var/folders/b3/l10x2d9503j4vrszk86wqw040000gn/T/ipykernel_57394/1200496628.py:5: DeprecationWarning: the imp module is deprecated in favour of importlib; see the module's documentation for alternative uses\n",
      "  import glob,imp,os,shutil\n",
      "/var/folders/b3/l10x2d9503j4vrszk86wqw040000gn/T/ipykernel_57394/1200496628.py:36: MatplotlibDeprecationWarning: The get_cmap function was deprecated in Matplotlib 3.7 and will be removed two minor releases later. Use ``matplotlib.colormaps[name]`` or ``matplotlib.colormaps.get_cmap(obj)`` instead.\n",
      "  cm = plt.cm.get_cmap('RdYlBu')\n"
     ]
    }
   ],
   "source": [
    "import warnings\n",
    "warnings.filterwarnings(\"ignore\", message=\"numpy.dtype size changed\")\n",
    "import numpy as np\n",
    "import pandas as pd\n",
    "import glob,imp,os,shutil\n",
    "from pandas import json_normalize\n",
    "\n",
    "import pyslha\n",
    "import matplotlib as mpl\n",
    "import matplotlib.pyplot as plt\n",
    "from matplotlib.colors import LogNorm\n",
    "import matplotlib.patches as mpatches\n",
    "from collections import OrderedDict\n",
    "import seaborn as sns\n",
    "from scipy.interpolate import LinearNDInterpolator,interp2d, griddata\n",
    "from itertools import product\n",
    "from IPython.display import display, Markdown\n",
    "\n",
    "pd.option_context('display.max_columns', -1)\n",
    "\n",
    "pd.options.mode.chained_assignment = None #Disable copy warnings\n",
    "# plt.style.use('fivethirtyeight') #Set style\n",
    "# mpl.rcParams.update({'figure.figsize' : (15,10)})  #Set general plotting options\n",
    "plt.rcParams.update({\n",
    "    \"text.usetex\": True,\n",
    "    \"font.family\": \"sans-serif\",\n",
    "    \"font.sans-serif\": [\"Helvetica\"]})\n",
    "\n",
    "plt.rcParams.update({\"savefig.dpi\" : 300}) #Figure resolution\n",
    "\n",
    "\n",
    "#Define plotting style:\n",
    "sns.set() #Set style\n",
    "sns.set_style('ticks',{'font.family':'Times New Roman', 'font.serif':'Times New Roman'})\n",
    "sns.set_context('paper', font_scale=1.8)\n",
    "cm = plt.cm.get_cmap('RdYlBu')"
   ]
  },
  {
   "attachments": {},
   "cell_type": "markdown",
   "metadata": {},
   "source": [
    "#### Get data in pcl format and print all columns names"
   ]
  },
  {
   "cell_type": "code",
   "execution_count": 2,
   "metadata": {
    "ExecuteTime": {
     "end_time": "2024-01-31T14:45:32.917617Z",
     "start_time": "2024-01-31T14:45:31.229063Z"
    },
    "scrolled": true
   },
   "outputs": [
    {
     "name": "stdout",
     "output_type": "stream",
     "text": [
      "['filename', 'mass.9000006', 'mass.9900026', 'mass.9900032', 'mass.9000002', 'mass.9000003', 'mass.9000004', 'mass.9000005', 'width.9000002', 'width.9000003', 'width.9000004', 'width.9000005', 'width.9000006', 'width.9900026', 'width.9900032', 'extpar.1', 'extpar.2', 'extpar.3', 'extpar.4', 'xsec8TeV(fb).9900032', 'xsec8TeV(fb).9900026', 'xsec13TeV(fb).9900032', 'xsec13TeV(fb).9900026', 'BRs.sd.W-,W+', 'BRs.sd.higgs,higgs', 'BRs.sd.Z,Z', 'BRs.sd.t-,t+', 'BRs.sd.chi,chi', 'BRs.zp.chi,chi', 'BRs.zp.c,c', 'BRs.zp.q,q', 'BRs.zp.b,b', 'BRs.zp.t-,t+', 'BRs.sd.ta+,ta-', 'totalxsec13TeV(fb)', 'totalxsec8TeV(fb)', 'CombinedRes', 'Total xsec for missing topologies (fb)', 'Total xsec for missing topologies with displaced decays (fb)', 'Total xsec for missing topologies with prompt decays (fb)', 'Total xsec for topologies outside the grid (fb)', 'OutputStatus.sigmacut', 'OutputStatus.minmassgap', 'OutputStatus.maxcond', 'OutputStatus.ncpus', 'OutputStatus.model', 'OutputStatus.promptwidth', 'OutputStatus.stablewidth', 'OutputStatus.eraseprompt', 'OutputStatus.checkinput', 'OutputStatus.doinvisible', 'OutputStatus.docompress', 'OutputStatus.computestatistics', 'OutputStatus.testcoverage', 'OutputStatus.combinesrs', 'OutputStatus.combineanas', 'OutputStatus.reportallsrs', 'OutputStatus.experimentalfeatures', 'OutputStatus.file status', 'OutputStatus.decomposition status', 'OutputStatus.warnings', 'OutputStatus.input file', 'OutputStatus.database version', 'OutputStatus.smodels version', 'ExptRes.result0.maxcond', 'ExptRes.result0.theory prediction (fb)', 'ExptRes.result0.upper limit (fb)', 'ExptRes.result0.expected upper limit (fb)', 'ExptRes.result0.TxNames', 'ExptRes.result0.Mass (GeV)', 'ExptRes.result0.AnalysisID', 'ExptRes.result0.DataSetID', 'ExptRes.result0.AnalysisSqrts (TeV)', 'ExptRes.result0.lumi (fb-1)', 'ExptRes.result0.dataType', 'ExptRes.result0.r', 'ExptRes.result0.r_expected', 'ExptRes.result0.Width (GeV)', 'ExptRes.result1.maxcond', 'ExptRes.result1.theory prediction (fb)', 'ExptRes.result1.upper limit (fb)', 'ExptRes.result1.expected upper limit (fb)', 'ExptRes.result1.TxNames', 'ExptRes.result1.Mass (GeV)', 'ExptRes.result1.AnalysisID', 'ExptRes.result1.DataSetID', 'ExptRes.result1.AnalysisSqrts (TeV)', 'ExptRes.result1.lumi (fb-1)', 'ExptRes.result1.dataType', 'ExptRes.result1.r', 'ExptRes.result1.r_expected', 'ExptRes.result1.Width (GeV)', 'ExptRes.result1.nll', 'ExptRes.result1.nll_min', 'ExptRes.result1.nll_SM', 'ExptRes.result2.maxcond', 'ExptRes.result2.theory prediction (fb)', 'ExptRes.result2.upper limit (fb)', 'ExptRes.result2.expected upper limit (fb)', 'ExptRes.result2.TxNames', 'ExptRes.result2.Mass (GeV)', 'ExptRes.result2.AnalysisID', 'ExptRes.result2.DataSetID', 'ExptRes.result2.AnalysisSqrts (TeV)', 'ExptRes.result2.lumi (fb-1)', 'ExptRes.result2.dataType', 'ExptRes.result2.r', 'ExptRes.result2.r_expected', 'ExptRes.result2.Width (GeV)', 'ExptRes.result2.nll', 'ExptRes.result2.nll_min', 'ExptRes.result2.nll_SM', 'ExptRes.result3.maxcond', 'ExptRes.result3.theory prediction (fb)', 'ExptRes.result3.upper limit (fb)', 'ExptRes.result3.expected upper limit (fb)', 'ExptRes.result3.TxNames', 'ExptRes.result3.Mass (GeV)', 'ExptRes.result3.AnalysisID', 'ExptRes.result3.DataSetID', 'ExptRes.result3.AnalysisSqrts (TeV)', 'ExptRes.result3.lumi (fb-1)', 'ExptRes.result3.dataType', 'ExptRes.result3.r', 'ExptRes.result3.r_expected', 'ExptRes.result3.Width (GeV)', 'ExptRes.result3.nll', 'ExptRes.result3.nll_min', 'ExptRes.result3.nll_SM', 'ExptRes.result4.maxcond', 'ExptRes.result4.theory prediction (fb)', 'ExptRes.result4.upper limit (fb)', 'ExptRes.result4.expected upper limit (fb)', 'ExptRes.result4.TxNames', 'ExptRes.result4.Mass (GeV)', 'ExptRes.result4.AnalysisID', 'ExptRes.result4.DataSetID', 'ExptRes.result4.AnalysisSqrts (TeV)', 'ExptRes.result4.lumi (fb-1)', 'ExptRes.result4.dataType', 'ExptRes.result4.r', 'ExptRes.result4.r_expected', 'ExptRes.result4.Width (GeV)', 'ExptRes.result4.nll', 'ExptRes.result4.nll_min', 'ExptRes.result4.nll_SM', 'ExptRes.result5.maxcond', 'ExptRes.result5.theory prediction (fb)', 'ExptRes.result5.upper limit (fb)', 'ExptRes.result5.expected upper limit (fb)', 'ExptRes.result5.TxNames', 'ExptRes.result5.Mass (GeV)', 'ExptRes.result5.AnalysisID', 'ExptRes.result5.DataSetID', 'ExptRes.result5.AnalysisSqrts (TeV)', 'ExptRes.result5.lumi (fb-1)', 'ExptRes.result5.dataType', 'ExptRes.result5.r', 'ExptRes.result5.r_expected', 'ExptRes.result5.Width (GeV)', 'ExptRes.result0.nll', 'ExptRes.result0.nll_min', 'ExptRes.result0.nll_SM', 'ExptRes.result5.nll', 'ExptRes.result5.nll_min', 'ExptRes.result5.nll_SM', 'ExptRes.result6.maxcond', 'ExptRes.result6.theory prediction (fb)', 'ExptRes.result6.upper limit (fb)', 'ExptRes.result6.expected upper limit (fb)', 'ExptRes.result6.TxNames', 'ExptRes.result6.Mass (GeV)', 'ExptRes.result6.AnalysisID', 'ExptRes.result6.DataSetID', 'ExptRes.result6.AnalysisSqrts (TeV)', 'ExptRes.result6.lumi (fb-1)', 'ExptRes.result6.dataType', 'ExptRes.result6.r', 'ExptRes.result6.r_expected', 'ExptRes.result6.Width (GeV)', 'ExptRes.result6.nll', 'ExptRes.result6.nll_min', 'ExptRes.result6.nll_SM', 'ExptRes.result7.maxcond', 'ExptRes.result7.theory prediction (fb)', 'ExptRes.result7.upper limit (fb)', 'ExptRes.result7.expected upper limit (fb)', 'ExptRes.result7.TxNames', 'ExptRes.result7.Mass (GeV)', 'ExptRes.result7.AnalysisID', 'ExptRes.result7.DataSetID', 'ExptRes.result7.AnalysisSqrts (TeV)', 'ExptRes.result7.lumi (fb-1)', 'ExptRes.result7.dataType', 'ExptRes.result7.r', 'ExptRes.result7.r_expected', 'ExptRes.result7.Width (GeV)', 'ExptRes.result7.nll', 'ExptRes.result7.nll_min', 'ExptRes.result7.nll_SM', 'ExptRes.result8.maxcond', 'ExptRes.result8.theory prediction (fb)', 'ExptRes.result8.upper limit (fb)', 'ExptRes.result8.expected upper limit (fb)', 'ExptRes.result8.TxNames', 'ExptRes.result8.Mass (GeV)', 'ExptRes.result8.AnalysisID', 'ExptRes.result8.DataSetID', 'ExptRes.result8.AnalysisSqrts (TeV)', 'ExptRes.result8.lumi (fb-1)', 'ExptRes.result8.dataType', 'ExptRes.result8.r', 'ExptRes.result8.r_expected', 'ExptRes.result8.Width (GeV)', 'ExptRes.result8.nll', 'ExptRes.result8.nll_min', 'ExptRes.result8.nll_SM']\n"
     ]
    }
   ],
   "source": [
    "#Merge with SModelS DataFrame\n",
    "# pclFiles = ['./smodels_results_slha_gchi_001.pcl', './smodels_results_48k.pcl']\n",
    "pclFiles = ['../scan/smodels_results_final.pcl']\n",
    "dfs = [pd.read_pickle(i) for i in pclFiles]\n",
    "dataDF = pd.concat(dfs, ignore_index=True)\n",
    "print(dataDF.columns.values.tolist()) #Print all columns names"
   ]
  },
  {
   "attachments": {},
   "cell_type": "markdown",
   "metadata": {},
   "source": [
    "#### Set r = 0 for points with no results "
   ]
  },
  {
   "cell_type": "code",
   "execution_count": 3,
   "metadata": {
    "ExecuteTime": {
     "end_time": "2024-01-31T14:45:33.253371Z",
     "start_time": "2024-01-31T14:45:32.919681Z"
    }
   },
   "outputs": [],
   "source": [
    "#Set points without results with r == 0\n",
    "dataDF.fillna(value={c : 0 for c in dataDF.columns if c.endswith('.r')}, inplace=True)\n",
    "#Sort points according to r value:\n",
    "dataDF = dataDF.sort_values(by=['ExptRes.result0.r'],ascending=False)"
   ]
  },
  {
   "attachments": {},
   "cell_type": "markdown",
   "metadata": {},
   "source": [
    "#### Define exclusions"
   ]
  },
  {
   "cell_type": "code",
   "execution_count": 4,
   "metadata": {
    "ExecuteTime": {
     "end_time": "2024-01-31T14:45:33.616011Z",
     "start_time": "2024-01-31T14:45:33.610622Z"
    }
   },
   "outputs": [],
   "source": [
    "#Add simple flag for excluded points:\n",
    "dataDF['excludedLHC'] = dataDF['ExptRes.result0.r'] > 1.0"
   ]
  },
  {
   "attachments": {},
   "cell_type": "markdown",
   "metadata": {},
   "source": [
    "### Get points excluded:"
   ]
  },
  {
   "cell_type": "code",
   "execution_count": 5,
   "metadata": {
    "ExecuteTime": {
     "end_time": "2024-01-31T14:45:34.533840Z",
     "start_time": "2024-01-31T14:45:34.427775Z"
    }
   },
   "outputs": [
    {
     "name": "stdout",
     "output_type": "stream",
     "text": [
      "Total number of points = 20991\n",
      "Total excluded (LHC) = 9780\n",
      "Total allowed = 11211\n",
      "\n"
     ]
    }
   ],
   "source": [
    "excluded = dataDF[dataDF['excludedLHC'] == True]\n",
    "\n",
    "allowed = dataDF[(dataDF['excludedLHC'] == False)]\n",
    "\n",
    "\n",
    "print('Total number of points = %i' %len(dataDF))\n",
    "print('Total excluded (LHC) = %i'%(len(excluded)))\n",
    "print('Total allowed = %i\\n'%(len(allowed)))\n",
    "\n",
    "# print('Total excluded (r > %1.2f) = %i'%(rscale,len(excludedSC)))\n",
    "# print('Total allowed (r > %1.2f) = %i'%(rscale,len(allowedSC)))\n"
   ]
  },
  {
   "attachments": {},
   "cell_type": "markdown",
   "metadata": {},
   "source": [
    "#### Filter couplings"
   ]
  },
  {
   "cell_type": "code",
   "execution_count": 6,
   "metadata": {},
   "outputs": [],
   "source": [
    "# gchi = extpar.1\n",
    "# gq = extpar.2\n",
    "# sina = extpar.3\n",
    "\n",
    "dataDF = dataDF[((dataDF['extpar.1'] == 0.01)&(dataDF['extpar.2'] == 0.1))|((dataDF['extpar.1'] == 0.01)&(dataDF['extpar.2'] == 0.15))]"
   ]
  },
  {
   "attachments": {},
   "cell_type": "markdown",
   "metadata": {},
   "source": [
    "### Get all analyses in one column"
   ]
  },
  {
   "cell_type": "code",
   "execution_count": 7,
   "metadata": {
    "ExecuteTime": {
     "end_time": "2024-01-31T14:45:39.301539Z",
     "start_time": "2024-01-31T14:45:39.291289Z"
    },
    "scrolled": true
   },
   "outputs": [
    {
     "name": "stdout",
     "output_type": "stream",
     "text": [
      "['ExptRes.result0.AnalysisID', 'ExptRes.result1.AnalysisID', 'ExptRes.result2.AnalysisID', 'ExptRes.result3.AnalysisID', 'ExptRes.result4.AnalysisID', 'ExptRes.result5.AnalysisID', 'ExptRes.result6.AnalysisID', 'ExptRes.result7.AnalysisID', 'ExptRes.result8.AnalysisID']\n"
     ]
    }
   ],
   "source": [
    "idCols = [c for c in dataDF.columns if 'AnalysisID' in c]\n",
    "txCols = [c for c in dataDF.columns if 'TxNames' in c]\n",
    "print(idCols)"
   ]
  },
  {
   "cell_type": "code",
   "execution_count": 8,
   "metadata": {
    "ExecuteTime": {
     "end_time": "2024-01-31T14:45:39.998163Z",
     "start_time": "2024-01-31T14:45:39.778319Z"
    }
   },
   "outputs": [],
   "source": [
    "ana, tx = [], []\n",
    "for c in idCols:\n",
    "    for i in dataDF[c].dropna().unique():\n",
    "        ana.append(i)\n",
    "        \n",
    "for c in txCols:\n",
    "    for txlist in dataDF[c].dropna():\n",
    "        for i in txlist:\n",
    "            tx.append(i)"
   ]
  },
  {
   "cell_type": "code",
   "execution_count": 9,
   "metadata": {
    "ExecuteTime": {
     "end_time": "2024-01-31T14:45:41.342608Z",
     "start_time": "2024-01-31T14:45:41.317039Z"
    }
   },
   "outputs": [],
   "source": [
    "txnames = pd.Series(tx).drop_duplicates().tolist()\n",
    "analysis = pd.Series(ana).drop_duplicates().tolist()"
   ]
  },
  {
   "cell_type": "code",
   "execution_count": 10,
   "metadata": {
    "ExecuteTime": {
     "end_time": "2024-01-31T14:48:07.015211Z",
     "start_time": "2024-01-31T14:45:43.826265Z"
    }
   },
   "outputs": [],
   "source": [
    "filteredDF = []\n",
    "# anaID = analysis\n",
    "# txID = txnames\n",
    "for irow,row in dataDF.iterrows():\n",
    "    for anaID in analysis:\n",
    "        for txID in txnames:\n",
    "            # resCols = [idc for idc in idCols if (row[idc] == anaID and (row[idc.replace('AnalysisID','TxNames')] == [txID]\n",
    "            #                                                            or row[idc.replace('AnalysisID','TxNames')] == ['TRS1', 'TRV1']))]\n",
    "            resCols = [idc for idc in idCols if (row[idc] == anaID)]\n",
    "            if not resCols:\n",
    "                continue\n",
    "            resCol = resCols[0].rsplit('.',1)[0]\n",
    "            newrow = {c.replace(resCol,'ExptRes.result') : row[c] for c in dataDF.columns if (('ExptRes' not in c) or (resCol in c))}\n",
    "            filteredDF.append(newrow)  "
   ]
  },
  {
   "cell_type": "code",
   "execution_count": 11,
   "metadata": {
    "ExecuteTime": {
     "end_time": "2024-01-31T14:48:13.001560Z",
     "start_time": "2024-01-31T14:48:07.016931Z"
    }
   },
   "outputs": [],
   "source": [
    "newDF = pd.DataFrame.from_dict(filteredDF)"
   ]
  },
  {
   "cell_type": "code",
   "execution_count": 12,
   "metadata": {
    "ExecuteTime": {
     "end_time": "2024-01-31T14:48:13.045310Z",
     "start_time": "2024-01-31T14:48:13.003520Z"
    },
    "scrolled": false
   },
   "outputs": [
    {
     "data": {
      "text/html": [
       "<div>\n",
       "<style scoped>\n",
       "    .dataframe tbody tr th:only-of-type {\n",
       "        vertical-align: middle;\n",
       "    }\n",
       "\n",
       "    .dataframe tbody tr th {\n",
       "        vertical-align: top;\n",
       "    }\n",
       "\n",
       "    .dataframe thead th {\n",
       "        text-align: right;\n",
       "    }\n",
       "</style>\n",
       "<table border=\"1\" class=\"dataframe\">\n",
       "  <thead>\n",
       "    <tr style=\"text-align: right;\">\n",
       "      <th></th>\n",
       "      <th>ExptRes.result.AnalysisID</th>\n",
       "      <th>ExptRes.result.TxNames</th>\n",
       "      <th>ExptRes.result.r</th>\n",
       "    </tr>\n",
       "  </thead>\n",
       "  <tbody>\n",
       "    <tr>\n",
       "      <th>0</th>\n",
       "      <td>ATLAS-EXOT-2019-03</td>\n",
       "      <td>[TRV1jj]</td>\n",
       "      <td>3.760189</td>\n",
       "    </tr>\n",
       "    <tr>\n",
       "      <th>1</th>\n",
       "      <td>ATLAS-EXOT-2019-03</td>\n",
       "      <td>[TRV1jj]</td>\n",
       "      <td>3.760189</td>\n",
       "    </tr>\n",
       "    <tr>\n",
       "      <th>2</th>\n",
       "      <td>ATLAS-EXOT-2019-03</td>\n",
       "      <td>[TRV1jj]</td>\n",
       "      <td>3.760189</td>\n",
       "    </tr>\n",
       "    <tr>\n",
       "      <th>3</th>\n",
       "      <td>ATLAS-EXOT-2019-03</td>\n",
       "      <td>[TRV1jj]</td>\n",
       "      <td>3.760189</td>\n",
       "    </tr>\n",
       "    <tr>\n",
       "      <th>4</th>\n",
       "      <td>ATLAS-EXOT-2019-03</td>\n",
       "      <td>[TRV1jj]</td>\n",
       "      <td>3.760189</td>\n",
       "    </tr>\n",
       "    <tr>\n",
       "      <th>...</th>\n",
       "      <td>...</td>\n",
       "      <td>...</td>\n",
       "      <td>...</td>\n",
       "    </tr>\n",
       "    <tr>\n",
       "      <th>200989</th>\n",
       "      <td>ATLAS-SUSY-2018-22</td>\n",
       "      <td>[TRV1]</td>\n",
       "      <td>0.000067</td>\n",
       "    </tr>\n",
       "    <tr>\n",
       "      <th>200990</th>\n",
       "      <td>ATLAS-SUSY-2018-22</td>\n",
       "      <td>[TRV1]</td>\n",
       "      <td>0.000067</td>\n",
       "    </tr>\n",
       "    <tr>\n",
       "      <th>200991</th>\n",
       "      <td>ATLAS-SUSY-2018-22</td>\n",
       "      <td>[TRV1]</td>\n",
       "      <td>0.000067</td>\n",
       "    </tr>\n",
       "    <tr>\n",
       "      <th>200992</th>\n",
       "      <td>ATLAS-SUSY-2018-22</td>\n",
       "      <td>[TRV1]</td>\n",
       "      <td>0.000067</td>\n",
       "    </tr>\n",
       "    <tr>\n",
       "      <th>200993</th>\n",
       "      <td>ATLAS-SUSY-2018-22</td>\n",
       "      <td>[TRV1]</td>\n",
       "      <td>0.000067</td>\n",
       "    </tr>\n",
       "  </tbody>\n",
       "</table>\n",
       "<p>200994 rows × 3 columns</p>\n",
       "</div>"
      ],
      "text/plain": [
       "       ExptRes.result.AnalysisID ExptRes.result.TxNames  ExptRes.result.r\n",
       "0             ATLAS-EXOT-2019-03               [TRV1jj]          3.760189\n",
       "1             ATLAS-EXOT-2019-03               [TRV1jj]          3.760189\n",
       "2             ATLAS-EXOT-2019-03               [TRV1jj]          3.760189\n",
       "3             ATLAS-EXOT-2019-03               [TRV1jj]          3.760189\n",
       "4             ATLAS-EXOT-2019-03               [TRV1jj]          3.760189\n",
       "...                          ...                    ...               ...\n",
       "200989        ATLAS-SUSY-2018-22                 [TRV1]          0.000067\n",
       "200990        ATLAS-SUSY-2018-22                 [TRV1]          0.000067\n",
       "200991        ATLAS-SUSY-2018-22                 [TRV1]          0.000067\n",
       "200992        ATLAS-SUSY-2018-22                 [TRV1]          0.000067\n",
       "200993        ATLAS-SUSY-2018-22                 [TRV1]          0.000067\n",
       "\n",
       "[200994 rows x 3 columns]"
      ]
     },
     "execution_count": 12,
     "metadata": {},
     "output_type": "execute_result"
    }
   ],
   "source": [
    "newDF[['ExptRes.result.AnalysisID','ExptRes.result.TxNames','ExptRes.result.r']]"
   ]
  },
  {
   "cell_type": "code",
   "execution_count": 13,
   "metadata": {},
   "outputs": [],
   "source": [
    "# select only dijet resonances searches\n",
    "dijAnas = ['ATLAS-EXOT-2019-03', 'CMS-EXO-19-012', 'CMS-EXO-12-059', 'ATLAS-EXOT-2013-11']"
   ]
  },
  {
   "cell_type": "code",
   "execution_count": 14,
   "metadata": {},
   "outputs": [],
   "source": [
    "newDF = newDF[newDF['ExptRes.result.AnalysisID'].isin(dijAnas)]"
   ]
  },
  {
   "cell_type": "code",
   "execution_count": 15,
   "metadata": {
    "ExecuteTime": {
     "end_time": "2024-01-31T14:48:35.773121Z",
     "start_time": "2024-01-31T14:48:13.050299Z"
    }
   },
   "outputs": [],
   "source": [
    "newDF['excluded'] = newDF['ExptRes.result.r'] > 1.0\n",
    "excluded = newDF[newDF['excluded'] == True]\n",
    "anas = excluded['ExptRes.result.AnalysisID'].value_counts()\n",
    "anas.sort_values(inplace=True,ascending=False)\n"
   ]
  },
  {
   "cell_type": "code",
   "execution_count": 16,
   "metadata": {
    "ExecuteTime": {
     "end_time": "2024-01-31T14:48:36.433741Z",
     "start_time": "2024-01-31T14:48:36.419180Z"
    }
   },
   "outputs": [
    {
     "data": {
      "text/plain": [
       "array(['ATLAS-EXOT-2019-03', 'CMS-EXO-19-012', 'ATLAS-EXOT-2013-11'],\n",
       "      dtype=object)"
      ]
     },
     "execution_count": 16,
     "metadata": {},
     "output_type": "execute_result"
    }
   ],
   "source": [
    "excluded['ExptRes.result.AnalysisID'].unique()"
   ]
  },
  {
   "attachments": {},
   "cell_type": "markdown",
   "metadata": {},
   "source": [
    "#### Create legend for plots for excluded points"
   ]
  },
  {
   "cell_type": "code",
   "execution_count": 17,
   "metadata": {
    "ExecuteTime": {
     "end_time": "2024-01-31T14:50:02.834599Z",
     "start_time": "2024-01-31T14:50:02.819369Z"
    }
   },
   "outputs": [],
   "source": [
    "colors = sns.color_palette(\"hls\",len(newDF['ExptRes.result.AnalysisID'].unique()))\n"
   ]
  },
  {
   "cell_type": "code",
   "execution_count": 18,
   "metadata": {
    "ExecuteTime": {
     "end_time": "2024-01-31T14:50:03.251524Z",
     "start_time": "2024-01-31T14:50:03.000777Z"
    }
   },
   "outputs": [],
   "source": [
    "colorDict = {}\n",
    "\n",
    "for i, l in enumerate(newDF['ExptRes.result.AnalysisID'].unique()):\n",
    "    colorDict[l] = np.array(colors[i]).reshape(-1,3)"
   ]
  },
  {
   "cell_type": "code",
   "execution_count": 19,
   "metadata": {
    "ExecuteTime": {
     "end_time": "2024-01-31T14:50:04.782005Z",
     "start_time": "2024-01-31T14:50:04.766370Z"
    }
   },
   "outputs": [],
   "source": [
    "legend = []\n",
    "for ana, color in colorDict.items():\n",
    "    l = mpatches.Patch(color=color, label=ana)\n",
    "    legend.append(l)"
   ]
  },
  {
   "attachments": {},
   "cell_type": "markdown",
   "metadata": {},
   "source": [
    "### Plot only excluded points for a selected $g_{q}, g_{\\chi}$ pair"
   ]
  },
  {
   "cell_type": "code",
   "execution_count": 20,
   "metadata": {
    "scrolled": true
   },
   "outputs": [
    {
     "data": {
      "text/plain": [
       "array([0.1 , 0.15])"
      ]
     },
     "execution_count": 20,
     "metadata": {},
     "output_type": "execute_result"
    }
   ],
   "source": [
    "newDF['extpar.2'].unique()"
   ]
  },
  {
   "cell_type": "code",
   "execution_count": 21,
   "metadata": {},
   "outputs": [
    {
     "data": {
      "text/plain": [
       "array([0.01])"
      ]
     },
     "execution_count": 21,
     "metadata": {},
     "output_type": "execute_result"
    }
   ],
   "source": [
    "newDF['extpar.1'].unique()"
   ]
  },
  {
   "cell_type": "code",
   "execution_count": 22,
   "metadata": {},
   "outputs": [
    {
     "data": {
      "text/plain": [
       "{'ATLAS-EXOT-2019-03': array([[0.86  , 0.3712, 0.34  ]]),\n",
       " 'ATLAS-EXOT-2013-11': array([[0.5688, 0.86  , 0.34  ]]),\n",
       " 'CMS-EXO-12-059': array([[0.34  , 0.8288, 0.86  ]]),\n",
       " 'CMS-EXO-19-012': array([[0.6312, 0.34  , 0.86  ]])}"
      ]
     },
     "execution_count": 22,
     "metadata": {},
     "output_type": "execute_result"
    }
   ],
   "source": [
    "colorDict"
   ]
  },
  {
   "cell_type": "code",
   "execution_count": 23,
   "metadata": {
    "ExecuteTime": {
     "end_time": "2024-01-31T14:48:49.949918Z",
     "start_time": "2024-01-31T14:48:41.008179Z"
    },
    "scrolled": false
   },
   "outputs": [
    {
     "data": {
      "image/png": "[encoded data removed]",
      "text/plain": [
       "<Figure size 1000x800 with 1 Axes>"
      ]
     },
     "metadata": {},
     "output_type": "display_data"
    }
   ],
   "source": [
    "cm = plt.colormaps.get_cmap('RdYlBu_r')\n",
    "plt.colormaps['RdYlBu_r']\n",
    "plt.figure(figsize=(10,8))\n",
    "\n",
    "gqv = 0.10\n",
    "gchi = 0.01\n",
    "\n",
    "\n",
    "for label in newDF['ExptRes.result.AnalysisID'].unique():\n",
    "#     if 'CMS-EXO-19-012' not in label: continue\n",
    "    data = newDF[newDF['ExptRes.result.AnalysisID']==label]\n",
    "    data = data[(data['extpar.1']==gchi)&(data['extpar.2']==gqv)].sort_values(['mass.9900032'])\n",
    "#     print(label)\n",
    "    \n",
    "    if len(data) == 0: continue\n",
    "    x = data['mass.9900032']\n",
    "    y = data['ExptRes.result.r']\n",
    "\n",
    "    pl = plt.plot(x, y, '-', lw=3., label=label, c=colorDict[label])\n",
    "    \n",
    "    # sc = plt.scatter(x,y,s=10, label=label, c=colorDict[label])\n",
    "\n",
    "data2 = newDF[(newDF['extpar.1']==gchi)&(newDF['extpar.2']==0.15)].sort_values(['mass.9900032'])\n",
    "\n",
    "for label in data2['ExptRes.result.AnalysisID'].unique():\n",
    "    if len(data2) == 0: continue\n",
    "    x = data2['mass.9900032']\n",
    "    y = data2['ExptRes.result.r']\n",
    "\n",
    "    pl2 = plt.plot(x, y, '--', lw=3., label=label+r' ($g_{q} = %1.2f$)' %(0.15), c=colorDict[label], alpha=0.5)\n",
    "\n",
    "    # sc2 = plt.scatter(x,y,s=10, label=label, c=colorDict[label], alpha=0.5, marker=',')\n",
    "    \n",
    "\n",
    "plt.hlines(1, 0, 3050, linestyles='--', color='black')\n",
    "plt.xlabel(r'$m_{Z^{\\prime}}$ (GeV)', fontsize=25)\n",
    "plt.ylabel(r'$r$', fontsize=25)\n",
    "plt.text(0.1,0.5,r'$g_{q} = %1.2f$' %(gqv),fontsize=20,\n",
    "         bbox=dict(facecolor='white', edgecolor='black'),transform = plt.gca().transAxes)\n",
    "\n",
    "plt.title(r'SModelS v3.0.0', loc='left', fontsize=25)\n",
    "plt.title(r'2MDM model', loc='right', fontsize=25)\n",
    "\n",
    "plt.xlim(0, 3050)\n",
    "plt.yticks(fontsize=25)\n",
    "plt.xticks(fontsize=25)\n",
    "\n",
    "plt.legend(loc='upper left', fontsize=20)\n",
    "plt.tight_layout()\n",
    "plt.grid()\n",
    "\n",
    "plt.savefig('./figures/exclusions_2mdm_dijet.png')\n",
    "plt.show()\n"
   ]
  },
  {
   "cell_type": "code",
   "execution_count": 24,
   "metadata": {},
   "outputs": [
    {
     "data": {
      "text/html": [
       "<div>\n",
       "<style scoped>\n",
       "    .dataframe tbody tr th:only-of-type {\n",
       "        vertical-align: middle;\n",
       "    }\n",
       "\n",
       "    .dataframe tbody tr th {\n",
       "        vertical-align: top;\n",
       "    }\n",
       "\n",
       "    .dataframe thead th {\n",
       "        text-align: right;\n",
       "    }\n",
       "</style>\n",
       "<table border=\"1\" class=\"dataframe\">\n",
       "  <thead>\n",
       "    <tr style=\"text-align: right;\">\n",
       "      <th></th>\n",
       "      <th>filename</th>\n",
       "      <th>mass.9000006</th>\n",
       "      <th>mass.9900026</th>\n",
       "      <th>mass.9900032</th>\n",
       "      <th>mass.9000002</th>\n",
       "      <th>mass.9000003</th>\n",
       "      <th>mass.9000004</th>\n",
       "      <th>mass.9000005</th>\n",
       "      <th>width.9000002</th>\n",
       "      <th>width.9000003</th>\n",
       "      <th>...</th>\n",
       "      <th>ExptRes.result.lumi (fb-1)</th>\n",
       "      <th>ExptRes.result.dataType</th>\n",
       "      <th>ExptRes.result.r</th>\n",
       "      <th>ExptRes.result.r_expected</th>\n",
       "      <th>ExptRes.result.Width (GeV)</th>\n",
       "      <th>ExptRes.result.nll</th>\n",
       "      <th>ExptRes.result.nll_min</th>\n",
       "      <th>ExptRes.result.nll_SM</th>\n",
       "      <th>excludedLHC</th>\n",
       "      <th>excluded</th>\n",
       "    </tr>\n",
       "  </thead>\n",
       "  <tbody>\n",
       "    <tr>\n",
       "      <th>0</th>\n",
       "      <td>scan_3_xfrks_2q.slha</td>\n",
       "      <td>65.0</td>\n",
       "      <td>834.4148</td>\n",
       "      <td>1668.83</td>\n",
       "      <td>91.1876</td>\n",
       "      <td>79.82436</td>\n",
       "      <td>79.82436</td>\n",
       "      <td>1500.0</td>\n",
       "      <td>2.4952</td>\n",
       "      <td>2.085</td>\n",
       "      <td>...</td>\n",
       "      <td>139.0</td>\n",
       "      <td>upperLimit</td>\n",
       "      <td>3.760189</td>\n",
       "      <td>2.566468</td>\n",
       "      <td>[(zp, 7.9694)]</td>\n",
       "      <td>NaN</td>\n",
       "      <td>NaN</td>\n",
       "      <td>NaN</td>\n",
       "      <td>True</td>\n",
       "      <td>True</td>\n",
       "    </tr>\n",
       "    <tr>\n",
       "      <th>1</th>\n",
       "      <td>scan_3_xfrks_2q.slha</td>\n",
       "      <td>65.0</td>\n",
       "      <td>834.4148</td>\n",
       "      <td>1668.83</td>\n",
       "      <td>91.1876</td>\n",
       "      <td>79.82436</td>\n",
       "      <td>79.82436</td>\n",
       "      <td>1500.0</td>\n",
       "      <td>2.4952</td>\n",
       "      <td>2.085</td>\n",
       "      <td>...</td>\n",
       "      <td>139.0</td>\n",
       "      <td>upperLimit</td>\n",
       "      <td>3.760189</td>\n",
       "      <td>2.566468</td>\n",
       "      <td>[(zp, 7.9694)]</td>\n",
       "      <td>NaN</td>\n",
       "      <td>NaN</td>\n",
       "      <td>NaN</td>\n",
       "      <td>True</td>\n",
       "      <td>True</td>\n",
       "    </tr>\n",
       "    <tr>\n",
       "      <th>2</th>\n",
       "      <td>scan_3_xfrks_2q.slha</td>\n",
       "      <td>65.0</td>\n",
       "      <td>834.4148</td>\n",
       "      <td>1668.83</td>\n",
       "      <td>91.1876</td>\n",
       "      <td>79.82436</td>\n",
       "      <td>79.82436</td>\n",
       "      <td>1500.0</td>\n",
       "      <td>2.4952</td>\n",
       "      <td>2.085</td>\n",
       "      <td>...</td>\n",
       "      <td>139.0</td>\n",
       "      <td>upperLimit</td>\n",
       "      <td>3.760189</td>\n",
       "      <td>2.566468</td>\n",
       "      <td>[(zp, 7.9694)]</td>\n",
       "      <td>NaN</td>\n",
       "      <td>NaN</td>\n",
       "      <td>NaN</td>\n",
       "      <td>True</td>\n",
       "      <td>True</td>\n",
       "    </tr>\n",
       "    <tr>\n",
       "      <th>3</th>\n",
       "      <td>scan_3_xfrks_2q.slha</td>\n",
       "      <td>65.0</td>\n",
       "      <td>834.4148</td>\n",
       "      <td>1668.83</td>\n",
       "      <td>91.1876</td>\n",
       "      <td>79.82436</td>\n",
       "      <td>79.82436</td>\n",
       "      <td>1500.0</td>\n",
       "      <td>2.4952</td>\n",
       "      <td>2.085</td>\n",
       "      <td>...</td>\n",
       "      <td>139.0</td>\n",
       "      <td>upperLimit</td>\n",
       "      <td>3.760189</td>\n",
       "      <td>2.566468</td>\n",
       "      <td>[(zp, 7.9694)]</td>\n",
       "      <td>NaN</td>\n",
       "      <td>NaN</td>\n",
       "      <td>NaN</td>\n",
       "      <td>True</td>\n",
       "      <td>True</td>\n",
       "    </tr>\n",
       "    <tr>\n",
       "      <th>4</th>\n",
       "      <td>scan_3_xfrks_2q.slha</td>\n",
       "      <td>65.0</td>\n",
       "      <td>834.4148</td>\n",
       "      <td>1668.83</td>\n",
       "      <td>91.1876</td>\n",
       "      <td>79.82436</td>\n",
       "      <td>79.82436</td>\n",
       "      <td>1500.0</td>\n",
       "      <td>2.4952</td>\n",
       "      <td>2.085</td>\n",
       "      <td>...</td>\n",
       "      <td>139.0</td>\n",
       "      <td>upperLimit</td>\n",
       "      <td>3.760189</td>\n",
       "      <td>2.566468</td>\n",
       "      <td>[(zp, 7.9694)]</td>\n",
       "      <td>NaN</td>\n",
       "      <td>NaN</td>\n",
       "      <td>NaN</td>\n",
       "      <td>True</td>\n",
       "      <td>True</td>\n",
       "    </tr>\n",
       "    <tr>\n",
       "      <th>...</th>\n",
       "      <td>...</td>\n",
       "      <td>...</td>\n",
       "      <td>...</td>\n",
       "      <td>...</td>\n",
       "      <td>...</td>\n",
       "      <td>...</td>\n",
       "      <td>...</td>\n",
       "      <td>...</td>\n",
       "      <td>...</td>\n",
       "      <td>...</td>\n",
       "      <td>...</td>\n",
       "      <td>...</td>\n",
       "      <td>...</td>\n",
       "      <td>...</td>\n",
       "      <td>...</td>\n",
       "      <td>...</td>\n",
       "      <td>...</td>\n",
       "      <td>...</td>\n",
       "      <td>...</td>\n",
       "      <td>...</td>\n",
       "      <td>...</td>\n",
       "    </tr>\n",
       "    <tr>\n",
       "      <th>160195</th>\n",
       "      <td>scan_3_0zacjj39.slha</td>\n",
       "      <td>65.0</td>\n",
       "      <td>1500.0000</td>\n",
       "      <td>3000.00</td>\n",
       "      <td>91.1876</td>\n",
       "      <td>79.82436</td>\n",
       "      <td>79.82436</td>\n",
       "      <td>1500.0</td>\n",
       "      <td>2.4952</td>\n",
       "      <td>2.085</td>\n",
       "      <td>...</td>\n",
       "      <td>137.0</td>\n",
       "      <td>upperLimit</td>\n",
       "      <td>0.312589</td>\n",
       "      <td>-1.000000</td>\n",
       "      <td>[(zp, 32.232)]</td>\n",
       "      <td>NaN</td>\n",
       "      <td>NaN</td>\n",
       "      <td>NaN</td>\n",
       "      <td>False</td>\n",
       "      <td>False</td>\n",
       "    </tr>\n",
       "    <tr>\n",
       "      <th>160196</th>\n",
       "      <td>scan_3_0zacjj39.slha</td>\n",
       "      <td>65.0</td>\n",
       "      <td>1500.0000</td>\n",
       "      <td>3000.00</td>\n",
       "      <td>91.1876</td>\n",
       "      <td>79.82436</td>\n",
       "      <td>79.82436</td>\n",
       "      <td>1500.0</td>\n",
       "      <td>2.4952</td>\n",
       "      <td>2.085</td>\n",
       "      <td>...</td>\n",
       "      <td>137.0</td>\n",
       "      <td>upperLimit</td>\n",
       "      <td>0.312589</td>\n",
       "      <td>-1.000000</td>\n",
       "      <td>[(zp, 32.232)]</td>\n",
       "      <td>NaN</td>\n",
       "      <td>NaN</td>\n",
       "      <td>NaN</td>\n",
       "      <td>False</td>\n",
       "      <td>False</td>\n",
       "    </tr>\n",
       "    <tr>\n",
       "      <th>160197</th>\n",
       "      <td>scan_3_0zacjj39.slha</td>\n",
       "      <td>65.0</td>\n",
       "      <td>1500.0000</td>\n",
       "      <td>3000.00</td>\n",
       "      <td>91.1876</td>\n",
       "      <td>79.82436</td>\n",
       "      <td>79.82436</td>\n",
       "      <td>1500.0</td>\n",
       "      <td>2.4952</td>\n",
       "      <td>2.085</td>\n",
       "      <td>...</td>\n",
       "      <td>137.0</td>\n",
       "      <td>upperLimit</td>\n",
       "      <td>0.312589</td>\n",
       "      <td>-1.000000</td>\n",
       "      <td>[(zp, 32.232)]</td>\n",
       "      <td>NaN</td>\n",
       "      <td>NaN</td>\n",
       "      <td>NaN</td>\n",
       "      <td>False</td>\n",
       "      <td>False</td>\n",
       "    </tr>\n",
       "    <tr>\n",
       "      <th>160198</th>\n",
       "      <td>scan_3_0zacjj39.slha</td>\n",
       "      <td>65.0</td>\n",
       "      <td>1500.0000</td>\n",
       "      <td>3000.00</td>\n",
       "      <td>91.1876</td>\n",
       "      <td>79.82436</td>\n",
       "      <td>79.82436</td>\n",
       "      <td>1500.0</td>\n",
       "      <td>2.4952</td>\n",
       "      <td>2.085</td>\n",
       "      <td>...</td>\n",
       "      <td>137.0</td>\n",
       "      <td>upperLimit</td>\n",
       "      <td>0.312589</td>\n",
       "      <td>-1.000000</td>\n",
       "      <td>[(zp, 32.232)]</td>\n",
       "      <td>NaN</td>\n",
       "      <td>NaN</td>\n",
       "      <td>NaN</td>\n",
       "      <td>False</td>\n",
       "      <td>False</td>\n",
       "    </tr>\n",
       "    <tr>\n",
       "      <th>160199</th>\n",
       "      <td>scan_3_0zacjj39.slha</td>\n",
       "      <td>65.0</td>\n",
       "      <td>1500.0000</td>\n",
       "      <td>3000.00</td>\n",
       "      <td>91.1876</td>\n",
       "      <td>79.82436</td>\n",
       "      <td>79.82436</td>\n",
       "      <td>1500.0</td>\n",
       "      <td>2.4952</td>\n",
       "      <td>2.085</td>\n",
       "      <td>...</td>\n",
       "      <td>137.0</td>\n",
       "      <td>upperLimit</td>\n",
       "      <td>0.312589</td>\n",
       "      <td>-1.000000</td>\n",
       "      <td>[(zp, 32.232)]</td>\n",
       "      <td>NaN</td>\n",
       "      <td>NaN</td>\n",
       "      <td>NaN</td>\n",
       "      <td>False</td>\n",
       "      <td>False</td>\n",
       "    </tr>\n",
       "  </tbody>\n",
       "</table>\n",
       "<p>44676 rows × 83 columns</p>\n",
       "</div>"
      ],
      "text/plain": [
       "                    filename  mass.9000006  mass.9900026  mass.9900032   \n",
       "0       scan_3_xfrks_2q.slha          65.0      834.4148       1668.83  \\\n",
       "1       scan_3_xfrks_2q.slha          65.0      834.4148       1668.83   \n",
       "2       scan_3_xfrks_2q.slha          65.0      834.4148       1668.83   \n",
       "3       scan_3_xfrks_2q.slha          65.0      834.4148       1668.83   \n",
       "4       scan_3_xfrks_2q.slha          65.0      834.4148       1668.83   \n",
       "...                      ...           ...           ...           ...   \n",
       "160195  scan_3_0zacjj39.slha          65.0     1500.0000       3000.00   \n",
       "160196  scan_3_0zacjj39.slha          65.0     1500.0000       3000.00   \n",
       "160197  scan_3_0zacjj39.slha          65.0     1500.0000       3000.00   \n",
       "160198  scan_3_0zacjj39.slha          65.0     1500.0000       3000.00   \n",
       "160199  scan_3_0zacjj39.slha          65.0     1500.0000       3000.00   \n",
       "\n",
       "        mass.9000002  mass.9000003  mass.9000004  mass.9000005  width.9000002   \n",
       "0            91.1876      79.82436      79.82436        1500.0         2.4952  \\\n",
       "1            91.1876      79.82436      79.82436        1500.0         2.4952   \n",
       "2            91.1876      79.82436      79.82436        1500.0         2.4952   \n",
       "3            91.1876      79.82436      79.82436        1500.0         2.4952   \n",
       "4            91.1876      79.82436      79.82436        1500.0         2.4952   \n",
       "...              ...           ...           ...           ...            ...   \n",
       "160195       91.1876      79.82436      79.82436        1500.0         2.4952   \n",
       "160196       91.1876      79.82436      79.82436        1500.0         2.4952   \n",
       "160197       91.1876      79.82436      79.82436        1500.0         2.4952   \n",
       "160198       91.1876      79.82436      79.82436        1500.0         2.4952   \n",
       "160199       91.1876      79.82436      79.82436        1500.0         2.4952   \n",
       "\n",
       "        width.9000003  ...  ExptRes.result.lumi (fb-1)   \n",
       "0               2.085  ...                       139.0  \\\n",
       "1               2.085  ...                       139.0   \n",
       "2               2.085  ...                       139.0   \n",
       "3               2.085  ...                       139.0   \n",
       "4               2.085  ...                       139.0   \n",
       "...               ...  ...                         ...   \n",
       "160195          2.085  ...                       137.0   \n",
       "160196          2.085  ...                       137.0   \n",
       "160197          2.085  ...                       137.0   \n",
       "160198          2.085  ...                       137.0   \n",
       "160199          2.085  ...                       137.0   \n",
       "\n",
       "        ExptRes.result.dataType  ExptRes.result.r  ExptRes.result.r_expected   \n",
       "0                    upperLimit          3.760189                   2.566468  \\\n",
       "1                    upperLimit          3.760189                   2.566468   \n",
       "2                    upperLimit          3.760189                   2.566468   \n",
       "3                    upperLimit          3.760189                   2.566468   \n",
       "4                    upperLimit          3.760189                   2.566468   \n",
       "...                         ...               ...                        ...   \n",
       "160195               upperLimit          0.312589                  -1.000000   \n",
       "160196               upperLimit          0.312589                  -1.000000   \n",
       "160197               upperLimit          0.312589                  -1.000000   \n",
       "160198               upperLimit          0.312589                  -1.000000   \n",
       "160199               upperLimit          0.312589                  -1.000000   \n",
       "\n",
       "        ExptRes.result.Width (GeV)  ExptRes.result.nll   \n",
       "0                   [(zp, 7.9694)]                 NaN  \\\n",
       "1                   [(zp, 7.9694)]                 NaN   \n",
       "2                   [(zp, 7.9694)]                 NaN   \n",
       "3                   [(zp, 7.9694)]                 NaN   \n",
       "4                   [(zp, 7.9694)]                 NaN   \n",
       "...                            ...                 ...   \n",
       "160195              [(zp, 32.232)]                 NaN   \n",
       "160196              [(zp, 32.232)]                 NaN   \n",
       "160197              [(zp, 32.232)]                 NaN   \n",
       "160198              [(zp, 32.232)]                 NaN   \n",
       "160199              [(zp, 32.232)]                 NaN   \n",
       "\n",
       "        ExptRes.result.nll_min  ExptRes.result.nll_SM  excludedLHC  excluded  \n",
       "0                          NaN                    NaN         True      True  \n",
       "1                          NaN                    NaN         True      True  \n",
       "2                          NaN                    NaN         True      True  \n",
       "3                          NaN                    NaN         True      True  \n",
       "4                          NaN                    NaN         True      True  \n",
       "...                        ...                    ...          ...       ...  \n",
       "160195                     NaN                    NaN        False     False  \n",
       "160196                     NaN                    NaN        False     False  \n",
       "160197                     NaN                    NaN        False     False  \n",
       "160198                     NaN                    NaN        False     False  \n",
       "160199                     NaN                    NaN        False     False  \n",
       "\n",
       "[44676 rows x 83 columns]"
      ]
     },
     "execution_count": 24,
     "metadata": {},
     "output_type": "execute_result"
    }
   ],
   "source": [
    "newDF"
   ]
  },
  {
   "cell_type": "code",
   "execution_count": null,
   "metadata": {},
   "outputs": [],
   "source": []
  }
 ],
 "metadata": {
  "kernelspec": {
   "display_name": "Python 3 (ipykernel)",
   "language": "python",
   "name": "python3"
  },
  "language_info": {
   "codemirror_mode": {
    "name": "ipython",
    "version": 3
   },
   "file_extension": ".py",
   "mimetype": "text/x-python",
   "name": "python",
   "nbconvert_exporter": "python",
   "pygments_lexer": "ipython3",
   "version": "3.9.13"
  }
 },
 "nbformat": 4,
 "nbformat_minor": 2
}
