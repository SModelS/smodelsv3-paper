{
 "cells": [
  {
   "cell_type": "markdown",
   "metadata": {},
   "source": [
    "### Read SLHA, SModelS output and store the data in a pandas DataFrame"
   ]
  },
  {
   "cell_type": "code",
   "execution_count": 1,
   "metadata": {
    "ExecuteTime": {
     "end_time": "2023-11-20T10:57:54.613768Z",
     "start_time": "2023-11-20T10:57:53.715372Z"
    },
    "scrolled": true
   },
   "outputs": [
    {
     "name": "stderr",
     "output_type": "stream",
     "text": [
      "/tmp/ipykernel_4161229/3423779146.py:5: DeprecationWarning: the imp module is deprecated in favour of importlib and slated for removal in Python 3.12; see the module's documentation for alternative uses\n",
      "  import glob,imp,os,sys\n"
     ]
    }
   ],
   "source": [
    "import warnings\n",
    "warnings.filterwarnings(\"ignore\", message=\"numpy.dtype size changed\")\n",
    "import numpy as np\n",
    "import pandas as pd\n",
    "import glob,imp,os,sys\n",
    "from pandas import json_normalize\n",
    "import pyslha\n",
    "sys.path.append('/home/camila/smodels/')\n",
    "from smodels.share.models.mssm import BSMList\n",
    "from smodels.share.models.SMparticles import SMList\n",
    "from smodels.base.model import Model\n",
    "from smodels.particlesLoader import getParticlesFromSLHA\n",
    "\n",
    "pd.options.mode.chained_assignment = None #Disable copy warnings"
   ]
  },
  {
   "cell_type": "code",
   "execution_count": 2,
   "metadata": {
    "ExecuteTime": {
     "end_time": "2023-11-20T10:57:54.626626Z",
     "start_time": "2023-11-20T10:57:54.615882Z"
    }
   },
   "outputs": [
    {
     "name": "stdout",
     "output_type": "stream",
     "text": [
      "[gha, gha~, ghz, ghz~, ghwp, ghwp~, ghwm, ghwm~, ghg, ghg~, zp, ghzp, ghzp~, sd, chi]\n"
     ]
    }
   ],
   "source": [
    "BSMlist = getParticlesFromSLHA('../../slha_files_extra/all/run_01_zp_3612_dm_1412_gqv_06.slha')\n",
    "model = Model(BSMparticles=BSMlist, SMparticles=SMList)\n",
    "print(BSMlist)"
   ]
  },
  {
   "cell_type": "code",
   "execution_count": 3,
   "metadata": {
    "ExecuteTime": {
     "end_time": "2023-11-20T10:57:54.824677Z",
     "start_time": "2023-11-20T10:57:54.628289Z"
    }
   },
   "outputs": [],
   "source": [
    "slhaFolder = '../../slha_files_scan_alpha_v3/zp_only/'\n",
    "smodelsFolder = '../../data/2mdm_results_scan_alpha_v3/zp_only/'\n",
    "parametersSmodels = '/home/camila/smodels/parameters_2mdm.ini'"
   ]
  },
  {
   "cell_type": "code",
   "execution_count": 4,
   "metadata": {
    "ExecuteTime": {
     "end_time": "2023-11-20T18:04:39.837291Z",
     "start_time": "2023-11-20T10:57:54.831073Z"
    },
    "scrolled": false
   },
   "outputs": [
    {
     "name": "stdout",
     "output_type": "stream",
     "text": [
      "INFO in databaseObj.loadBinaryFile() in 526: loading binary db file /home/camila/smodels-database/db3.pcl format version 214\n",
      "INFO in databaseObj.loadBinaryFile() in 533: Loaded database from /home/camila/smodels-database/db3.pcl in 2.0 secs.\n",
      "INFO in modelTester.loadDatabaseResults() in 498: Including non-validated results\n",
      "INFO in modelTester.testPoints() in 358: Running SModelS for 7000 files with a single process. Messages will be redirected to smodels.log\n"
     ]
    }
   ],
   "source": [
    "!/home/camila/smodels/runSModelS.py -p {parametersSmodels} -f {slhaFolder} -o {smodelsFolder}"
   ]
  },
  {
   "cell_type": "code",
   "execution_count": 5,
   "metadata": {
    "ExecuteTime": {
     "end_time": "2023-11-20T18:04:44.117207Z",
     "start_time": "2023-11-20T18:04:39.841514Z"
    }
   },
   "outputs": [],
   "source": [
    "#Convert Experimental Results list to a dictionary\n",
    "data = []\n",
    "removeFromDict = ['topologies outside the grid',\"missing topologies\",\n",
    "                  \"missing topologies with displaced decays\", 'missing topologies with prompt decays',\n",
    "                 \"Asymmetric Branches\",\"Outside Grid\",\"Missed Topologies\",\"Long Cascades\"]\n",
    "for f in glob.glob(smodelsFolder+'/*.py'):\n",
    "    with open(f,'r') as ff:\n",
    "        dataF = ff.read()\n",
    "    dataF = dataF.replace('inf','-1')\n",
    "    dataF = dataF.replace('None', '-1')\n",
    "    with open(f.replace('.py','_fix.py'),'w') as ff:\n",
    "        ff.write(dataF)\n",
    "    f = f.replace('.py','_fix.py')\n",
    "    smodelsDict = imp.load_source(f.replace('.py',''),f).smodelsOutput\n",
    "    for rmKey in removeFromDict:\n",
    "        if rmKey in smodelsDict:\n",
    "            smodelsDict.pop(rmKey)\n",
    "    if 'ExptRes' in smodelsDict:\n",
    "        for res in smodelsDict['ExptRes']:\n",
    "#             if res['r'] == None:\n",
    "#                 res['r'] = np.nan\n",
    "            if 'TxNames weights (fb)' in res:\n",
    "                res.pop('TxNames weights (fb)')  \n",
    "        expList = sorted(smodelsDict['ExptRes'], key=lambda pt: pt['r'],reverse=True)\n",
    "        expDict = dict([['result%i'%i,val] for i,val in enumerate(expList)])\n",
    "        smodelsDict['ExptRes'] = expDict\n",
    "    slhaFile = smodelsDict['OutputStatus']['input file']\n",
    "    dataDict = {'filename' : os.path.basename(slhaFile)}\n",
    "    dataDict.update(smodelsDict)\n",
    "    data.append(dataDict)"
   ]
  },
  {
   "cell_type": "code",
   "execution_count": 6,
   "metadata": {
    "ExecuteTime": {
     "end_time": "2023-11-20T18:04:44.121856Z",
     "start_time": "2023-11-20T18:04:44.119268Z"
    }
   },
   "outputs": [
    {
     "name": "stdout",
     "output_type": "stream",
     "text": [
      "7000\n"
     ]
    }
   ],
   "source": [
    "print(len(data))"
   ]
  },
  {
   "cell_type": "code",
   "execution_count": 7,
   "metadata": {
    "ExecuteTime": {
     "end_time": "2023-11-20T18:04:44.929940Z",
     "start_time": "2023-11-20T18:04:44.124386Z"
    }
   },
   "outputs": [],
   "source": [
    "#Convert data to flat DataFrame:\n",
    "smodelsDF = json_normalize(data)"
   ]
  },
  {
   "cell_type": "code",
   "execution_count": 8,
   "metadata": {
    "ExecuteTime": {
     "end_time": "2023-11-20T18:05:21.496169Z",
     "start_time": "2023-11-20T18:04:44.931876Z"
    }
   },
   "outputs": [],
   "source": [
    "#Get SLHA data:\n",
    "slhaData = []\n",
    "for f in smodelsDF['filename']:\n",
    "    slhaFile = os.path.join(slhaFolder,f)\n",
    "    slha = pyslha.readSLHAFile(slhaFile)\n",
    "    massDict = dict([[str(key),abs(val)] for key,val in slha.blocks['MASS'].items() if key >= 9000006])\n",
    "    extparDict = dict([[str(key),val] for key,val in slha.blocks['ZPRIME'].items()])\n",
    "    extparDict.update(dict([[str(key+len(extparDict)),val] for key,val in slha.blocks['BLINPUTS'].items()]))\n",
    "    \n",
    "    widthDict = dict([[str(key),val.totalwidth] for key,val in slha.decays.items() if key >= 9000006])\n",
    "    BRsDict = {}\n",
    "    for pdg,val in slha.decays.items():\n",
    "#         if not abs(pdg) in [1000024,1000023]:\n",
    "#             continue\n",
    "        initialState = model.getParticlesWith(pdg=pdg)[0].label            \n",
    "        BRsDict[initialState] = {}\n",
    "        for dec in val.decays:\n",
    "            if dec.br < 0.01: continue            \n",
    "            finalState = ','.join([model.getParticlesWith(pdg=pid)[0].label for pid in sorted(dec.ids)])\n",
    "            BRsDict[initialState][finalState] = dec.br\n",
    "    xsec8TeV = dict([ [str(proc.pidsfinal).replace('[','').replace(']','').replace(',','_').replace(' ',''),\n",
    "                   max([x.value for x in proc.get_xsecs(sqrts=8000)])*1000] \n",
    "                 for proc in slha.xsections.values()  if proc.get_xsecs(sqrts=8000)])\n",
    "    xsec13TeV = dict([ [str(proc.pidsfinal).replace('[','').replace(']','').replace(',','_').replace(' ',''),\n",
    "                   max([x.value for x in proc.get_xsecs(sqrts=13000)])*1000] \n",
    "                 for proc in slha.xsections.values()  if proc.get_xsecs(sqrts=13000)])    \n",
    "    slhaDict = {'filename' : f, 'mass' : massDict, 'width' : widthDict, 'extpar' : extparDict, \n",
    "                'xsec8TeV(fb)' : xsec8TeV, 'xsec13TeV(fb)' : xsec13TeV, 'BRs' : BRsDict}\n",
    "    slhaData.append(slhaDict)"
   ]
  },
  {
   "cell_type": "code",
   "execution_count": 9,
   "metadata": {
    "ExecuteTime": {
     "end_time": "2023-11-20T18:05:21.747232Z",
     "start_time": "2023-11-20T18:05:21.497623Z"
    }
   },
   "outputs": [],
   "source": [
    "#Convert to DataFrame\n",
    "slhaDF = json_normalize(slhaData)\n",
    "#Add total cross-sections:\n",
    "xsecs13 = [x for x in list(slhaDF) if 'xsec13TeV' in x]\n",
    "xsecs8 = [x for x in list(slhaDF) if 'xsec8TeV' in x]\n",
    "slhaDF['totalxsec13TeV(fb)'] = slhaDF[xsecs13].sum(axis=1)\n",
    "slhaDF['totalxsec8TeV(fb)'] = slhaDF[xsecs8].sum(axis=1)"
   ]
  },
  {
   "cell_type": "code",
   "execution_count": 10,
   "metadata": {
    "ExecuteTime": {
     "end_time": "2023-11-20T18:05:21.834481Z",
     "start_time": "2023-11-20T18:05:21.748684Z"
    }
   },
   "outputs": [],
   "source": [
    "#Merge with SModelS DataFrame\n",
    "dataDF = slhaDF.merge(smodelsDF,how='inner')"
   ]
  },
  {
   "cell_type": "code",
   "execution_count": 11,
   "metadata": {
    "ExecuteTime": {
     "end_time": "2023-11-20T18:05:21.982501Z",
     "start_time": "2023-11-20T18:05:21.837467Z"
    }
   },
   "outputs": [
    {
     "name": "stdout",
     "output_type": "stream",
     "text": [
      "Final number of data points: 7000\n"
     ]
    }
   ],
   "source": [
    "\n",
    "print('Final number of data points:',dataDF.shape[0])\n",
    "#print(dataDF2.columns.values.tolist()) #Print all columns names"
   ]
  },
  {
   "cell_type": "code",
   "execution_count": 12,
   "metadata": {
    "ExecuteTime": {
     "end_time": "2023-11-20T18:05:22.238275Z",
     "start_time": "2023-11-20T18:05:21.984309Z"
    }
   },
   "outputs": [
    {
     "data": {
      "text/html": [
       "<div>\n",
       "<style scoped>\n",
       "    .dataframe tbody tr th:only-of-type {\n",
       "        vertical-align: middle;\n",
       "    }\n",
       "\n",
       "    .dataframe tbody tr th {\n",
       "        vertical-align: top;\n",
       "    }\n",
       "\n",
       "    .dataframe thead th {\n",
       "        text-align: right;\n",
       "    }\n",
       "</style>\n",
       "<table border=\"1\" class=\"dataframe\">\n",
       "  <thead>\n",
       "    <tr style=\"text-align: right;\">\n",
       "      <th></th>\n",
       "      <th>filename</th>\n",
       "      <th>mass.9000006</th>\n",
       "      <th>mass.9900032</th>\n",
       "      <th>mass.9900026</th>\n",
       "      <th>width.9000006</th>\n",
       "      <th>width.9900026</th>\n",
       "      <th>width.9900032</th>\n",
       "      <th>extpar.1</th>\n",
       "      <th>extpar.2</th>\n",
       "      <th>extpar.3</th>\n",
       "      <th>...</th>\n",
       "      <th>ExptRes.result6.l_SM</th>\n",
       "      <th>ExptRes.result2.likelihood</th>\n",
       "      <th>ExptRes.result2.l_max</th>\n",
       "      <th>ExptRes.result2.l_SM</th>\n",
       "      <th>ExptRes.result1.likelihood</th>\n",
       "      <th>ExptRes.result1.l_max</th>\n",
       "      <th>ExptRes.result1.l_SM</th>\n",
       "      <th>ExptRes.result0.likelihood</th>\n",
       "      <th>ExptRes.result0.l_max</th>\n",
       "      <th>ExptRes.result0.l_SM</th>\n",
       "    </tr>\n",
       "  </thead>\n",
       "  <tbody>\n",
       "    <tr>\n",
       "      <th>0</th>\n",
       "      <td>run_1147_zp_1250_sd_333.slha</td>\n",
       "      <td>65.0</td>\n",
       "      <td>2250.0</td>\n",
       "      <td>333.0812</td>\n",
       "      <td>0.0</td>\n",
       "      <td>23.192440</td>\n",
       "      <td>96.83343</td>\n",
       "      <td>1.0</td>\n",
       "      <td>0.25</td>\n",
       "      <td>0.0</td>\n",
       "      <td>...</td>\n",
       "      <td>1.793298e-276</td>\n",
       "      <td>NaN</td>\n",
       "      <td>NaN</td>\n",
       "      <td>NaN</td>\n",
       "      <td>NaN</td>\n",
       "      <td>NaN</td>\n",
       "      <td>NaN</td>\n",
       "      <td>NaN</td>\n",
       "      <td>NaN</td>\n",
       "      <td>NaN</td>\n",
       "    </tr>\n",
       "    <tr>\n",
       "      <th>1</th>\n",
       "      <td>run_5984_zp_2000_sd_220.slha</td>\n",
       "      <td>65.0</td>\n",
       "      <td>1750.0</td>\n",
       "      <td>220.1359</td>\n",
       "      <td>0.0</td>\n",
       "      <td>3.646074</td>\n",
       "      <td>75.23602</td>\n",
       "      <td>1.0</td>\n",
       "      <td>0.25</td>\n",
       "      <td>0.0</td>\n",
       "      <td>...</td>\n",
       "      <td>NaN</td>\n",
       "      <td>8.002068e-276</td>\n",
       "      <td>1.123483e-275</td>\n",
       "      <td>1.793298e-276</td>\n",
       "      <td>NaN</td>\n",
       "      <td>NaN</td>\n",
       "      <td>NaN</td>\n",
       "      <td>NaN</td>\n",
       "      <td>NaN</td>\n",
       "      <td>NaN</td>\n",
       "    </tr>\n",
       "    <tr>\n",
       "      <th>2</th>\n",
       "      <td>run_3889_zp_1000_sd_509.slha</td>\n",
       "      <td>65.0</td>\n",
       "      <td>2250.0</td>\n",
       "      <td>509.3662</td>\n",
       "      <td>0.0</td>\n",
       "      <td>49.723590</td>\n",
       "      <td>96.83343</td>\n",
       "      <td>1.0</td>\n",
       "      <td>0.25</td>\n",
       "      <td>0.0</td>\n",
       "      <td>...</td>\n",
       "      <td>1.793298e-276</td>\n",
       "      <td>NaN</td>\n",
       "      <td>NaN</td>\n",
       "      <td>NaN</td>\n",
       "      <td>NaN</td>\n",
       "      <td>NaN</td>\n",
       "      <td>NaN</td>\n",
       "      <td>NaN</td>\n",
       "      <td>NaN</td>\n",
       "      <td>NaN</td>\n",
       "    </tr>\n",
       "    <tr>\n",
       "      <th>3</th>\n",
       "      <td>run_329_zp_1500_sd_465.slha</td>\n",
       "      <td>65.0</td>\n",
       "      <td>2500.0</td>\n",
       "      <td>464.8951</td>\n",
       "      <td>0.0</td>\n",
       "      <td>47.186780</td>\n",
       "      <td>107.62510</td>\n",
       "      <td>1.0</td>\n",
       "      <td>0.25</td>\n",
       "      <td>0.0</td>\n",
       "      <td>...</td>\n",
       "      <td>1.793298e-276</td>\n",
       "      <td>NaN</td>\n",
       "      <td>NaN</td>\n",
       "      <td>NaN</td>\n",
       "      <td>NaN</td>\n",
       "      <td>NaN</td>\n",
       "      <td>NaN</td>\n",
       "      <td>NaN</td>\n",
       "      <td>NaN</td>\n",
       "      <td>NaN</td>\n",
       "    </tr>\n",
       "    <tr>\n",
       "      <th>4</th>\n",
       "      <td>run_3612_zp_1500_sd_309.slha</td>\n",
       "      <td>65.0</td>\n",
       "      <td>2250.0</td>\n",
       "      <td>309.1801</td>\n",
       "      <td>0.0</td>\n",
       "      <td>15.833890</td>\n",
       "      <td>96.83343</td>\n",
       "      <td>1.0</td>\n",
       "      <td>0.25</td>\n",
       "      <td>0.0</td>\n",
       "      <td>...</td>\n",
       "      <td>1.793298e-276</td>\n",
       "      <td>NaN</td>\n",
       "      <td>NaN</td>\n",
       "      <td>NaN</td>\n",
       "      <td>NaN</td>\n",
       "      <td>NaN</td>\n",
       "      <td>NaN</td>\n",
       "      <td>NaN</td>\n",
       "      <td>NaN</td>\n",
       "      <td>NaN</td>\n",
       "    </tr>\n",
       "    <tr>\n",
       "      <th>...</th>\n",
       "      <td>...</td>\n",
       "      <td>...</td>\n",
       "      <td>...</td>\n",
       "      <td>...</td>\n",
       "      <td>...</td>\n",
       "      <td>...</td>\n",
       "      <td>...</td>\n",
       "      <td>...</td>\n",
       "      <td>...</td>\n",
       "      <td>...</td>\n",
       "      <td>...</td>\n",
       "      <td>...</td>\n",
       "      <td>...</td>\n",
       "      <td>...</td>\n",
       "      <td>...</td>\n",
       "      <td>...</td>\n",
       "      <td>...</td>\n",
       "      <td>...</td>\n",
       "      <td>...</td>\n",
       "      <td>...</td>\n",
       "      <td>...</td>\n",
       "    </tr>\n",
       "    <tr>\n",
       "      <th>6995</th>\n",
       "      <td>run_5172_zp_2000_sd_353.slha</td>\n",
       "      <td>65.0</td>\n",
       "      <td>2250.0</td>\n",
       "      <td>352.6926</td>\n",
       "      <td>0.0</td>\n",
       "      <td>24.635030</td>\n",
       "      <td>96.83343</td>\n",
       "      <td>1.0</td>\n",
       "      <td>0.25</td>\n",
       "      <td>0.0</td>\n",
       "      <td>...</td>\n",
       "      <td>1.793298e-276</td>\n",
       "      <td>NaN</td>\n",
       "      <td>NaN</td>\n",
       "      <td>NaN</td>\n",
       "      <td>NaN</td>\n",
       "      <td>NaN</td>\n",
       "      <td>NaN</td>\n",
       "      <td>NaN</td>\n",
       "      <td>NaN</td>\n",
       "      <td>NaN</td>\n",
       "    </tr>\n",
       "    <tr>\n",
       "      <th>6996</th>\n",
       "      <td>run_4808_zp_1500_sd_363.slha</td>\n",
       "      <td>65.0</td>\n",
       "      <td>1750.0</td>\n",
       "      <td>362.8566</td>\n",
       "      <td>0.0</td>\n",
       "      <td>25.291640</td>\n",
       "      <td>75.23602</td>\n",
       "      <td>1.0</td>\n",
       "      <td>0.25</td>\n",
       "      <td>0.0</td>\n",
       "      <td>...</td>\n",
       "      <td>NaN</td>\n",
       "      <td>7.970969e-276</td>\n",
       "      <td>1.123483e-275</td>\n",
       "      <td>1.793298e-276</td>\n",
       "      <td>NaN</td>\n",
       "      <td>NaN</td>\n",
       "      <td>NaN</td>\n",
       "      <td>NaN</td>\n",
       "      <td>NaN</td>\n",
       "      <td>NaN</td>\n",
       "    </tr>\n",
       "    <tr>\n",
       "      <th>6997</th>\n",
       "      <td>run_566_zp_1750_sd_523.slha</td>\n",
       "      <td>65.0</td>\n",
       "      <td>1500.0</td>\n",
       "      <td>523.2329</td>\n",
       "      <td>0.0</td>\n",
       "      <td>61.254190</td>\n",
       "      <td>64.42510</td>\n",
       "      <td>1.0</td>\n",
       "      <td>0.25</td>\n",
       "      <td>0.0</td>\n",
       "      <td>...</td>\n",
       "      <td>NaN</td>\n",
       "      <td>NaN</td>\n",
       "      <td>NaN</td>\n",
       "      <td>NaN</td>\n",
       "      <td>5.482562e-278</td>\n",
       "      <td>9.241687e-276</td>\n",
       "      <td>1.793298e-276</td>\n",
       "      <td>NaN</td>\n",
       "      <td>NaN</td>\n",
       "      <td>NaN</td>\n",
       "    </tr>\n",
       "    <tr>\n",
       "      <th>6998</th>\n",
       "      <td>run_1181_zp_2000_sd_462.slha</td>\n",
       "      <td>65.0</td>\n",
       "      <td>2250.0</td>\n",
       "      <td>462.4554</td>\n",
       "      <td>0.0</td>\n",
       "      <td>39.722920</td>\n",
       "      <td>96.83343</td>\n",
       "      <td>1.0</td>\n",
       "      <td>0.25</td>\n",
       "      <td>0.0</td>\n",
       "      <td>...</td>\n",
       "      <td>1.793298e-276</td>\n",
       "      <td>NaN</td>\n",
       "      <td>NaN</td>\n",
       "      <td>NaN</td>\n",
       "      <td>NaN</td>\n",
       "      <td>NaN</td>\n",
       "      <td>NaN</td>\n",
       "      <td>NaN</td>\n",
       "      <td>NaN</td>\n",
       "      <td>NaN</td>\n",
       "    </tr>\n",
       "    <tr>\n",
       "      <th>6999</th>\n",
       "      <td>run_3882_zp_1500_sd_558.slha</td>\n",
       "      <td>65.0</td>\n",
       "      <td>2500.0</td>\n",
       "      <td>558.1957</td>\n",
       "      <td>0.0</td>\n",
       "      <td>89.917040</td>\n",
       "      <td>107.62510</td>\n",
       "      <td>1.0</td>\n",
       "      <td>0.25</td>\n",
       "      <td>0.0</td>\n",
       "      <td>...</td>\n",
       "      <td>1.793298e-276</td>\n",
       "      <td>NaN</td>\n",
       "      <td>NaN</td>\n",
       "      <td>NaN</td>\n",
       "      <td>NaN</td>\n",
       "      <td>NaN</td>\n",
       "      <td>NaN</td>\n",
       "      <td>NaN</td>\n",
       "      <td>NaN</td>\n",
       "      <td>NaN</td>\n",
       "    </tr>\n",
       "  </tbody>\n",
       "</table>\n",
       "<p>7000 rows × 163 columns</p>\n",
       "</div>"
      ],
      "text/plain": [
       "                          filename  mass.9000006  mass.9900032  mass.9900026  \\\n",
       "0     run_1147_zp_1250_sd_333.slha          65.0        2250.0      333.0812   \n",
       "1     run_5984_zp_2000_sd_220.slha          65.0        1750.0      220.1359   \n",
       "2     run_3889_zp_1000_sd_509.slha          65.0        2250.0      509.3662   \n",
       "3      run_329_zp_1500_sd_465.slha          65.0        2500.0      464.8951   \n",
       "4     run_3612_zp_1500_sd_309.slha          65.0        2250.0      309.1801   \n",
       "...                            ...           ...           ...           ...   \n",
       "6995  run_5172_zp_2000_sd_353.slha          65.0        2250.0      352.6926   \n",
       "6996  run_4808_zp_1500_sd_363.slha          65.0        1750.0      362.8566   \n",
       "6997   run_566_zp_1750_sd_523.slha          65.0        1500.0      523.2329   \n",
       "6998  run_1181_zp_2000_sd_462.slha          65.0        2250.0      462.4554   \n",
       "6999  run_3882_zp_1500_sd_558.slha          65.0        2500.0      558.1957   \n",
       "\n",
       "      width.9000006  width.9900026  width.9900032  extpar.1  extpar.2  \\\n",
       "0               0.0      23.192440       96.83343       1.0      0.25   \n",
       "1               0.0       3.646074       75.23602       1.0      0.25   \n",
       "2               0.0      49.723590       96.83343       1.0      0.25   \n",
       "3               0.0      47.186780      107.62510       1.0      0.25   \n",
       "4               0.0      15.833890       96.83343       1.0      0.25   \n",
       "...             ...            ...            ...       ...       ...   \n",
       "6995            0.0      24.635030       96.83343       1.0      0.25   \n",
       "6996            0.0      25.291640       75.23602       1.0      0.25   \n",
       "6997            0.0      61.254190       64.42510       1.0      0.25   \n",
       "6998            0.0      39.722920       96.83343       1.0      0.25   \n",
       "6999            0.0      89.917040      107.62510       1.0      0.25   \n",
       "\n",
       "      extpar.3  ...  ExptRes.result6.l_SM  ExptRes.result2.likelihood  \\\n",
       "0          0.0  ...         1.793298e-276                         NaN   \n",
       "1          0.0  ...                   NaN               8.002068e-276   \n",
       "2          0.0  ...         1.793298e-276                         NaN   \n",
       "3          0.0  ...         1.793298e-276                         NaN   \n",
       "4          0.0  ...         1.793298e-276                         NaN   \n",
       "...        ...  ...                   ...                         ...   \n",
       "6995       0.0  ...         1.793298e-276                         NaN   \n",
       "6996       0.0  ...                   NaN               7.970969e-276   \n",
       "6997       0.0  ...                   NaN                         NaN   \n",
       "6998       0.0  ...         1.793298e-276                         NaN   \n",
       "6999       0.0  ...         1.793298e-276                         NaN   \n",
       "\n",
       "      ExptRes.result2.l_max  ExptRes.result2.l_SM  ExptRes.result1.likelihood  \\\n",
       "0                       NaN                   NaN                         NaN   \n",
       "1             1.123483e-275         1.793298e-276                         NaN   \n",
       "2                       NaN                   NaN                         NaN   \n",
       "3                       NaN                   NaN                         NaN   \n",
       "4                       NaN                   NaN                         NaN   \n",
       "...                     ...                   ...                         ...   \n",
       "6995                    NaN                   NaN                         NaN   \n",
       "6996          1.123483e-275         1.793298e-276                         NaN   \n",
       "6997                    NaN                   NaN               5.482562e-278   \n",
       "6998                    NaN                   NaN                         NaN   \n",
       "6999                    NaN                   NaN                         NaN   \n",
       "\n",
       "      ExptRes.result1.l_max  ExptRes.result1.l_SM  ExptRes.result0.likelihood  \\\n",
       "0                       NaN                   NaN                         NaN   \n",
       "1                       NaN                   NaN                         NaN   \n",
       "2                       NaN                   NaN                         NaN   \n",
       "3                       NaN                   NaN                         NaN   \n",
       "4                       NaN                   NaN                         NaN   \n",
       "...                     ...                   ...                         ...   \n",
       "6995                    NaN                   NaN                         NaN   \n",
       "6996                    NaN                   NaN                         NaN   \n",
       "6997          9.241687e-276         1.793298e-276                         NaN   \n",
       "6998                    NaN                   NaN                         NaN   \n",
       "6999                    NaN                   NaN                         NaN   \n",
       "\n",
       "      ExptRes.result0.l_max  ExptRes.result0.l_SM  \n",
       "0                       NaN                   NaN  \n",
       "1                       NaN                   NaN  \n",
       "2                       NaN                   NaN  \n",
       "3                       NaN                   NaN  \n",
       "4                       NaN                   NaN  \n",
       "...                     ...                   ...  \n",
       "6995                    NaN                   NaN  \n",
       "6996                    NaN                   NaN  \n",
       "6997                    NaN                   NaN  \n",
       "6998                    NaN                   NaN  \n",
       "6999                    NaN                   NaN  \n",
       "\n",
       "[7000 rows x 163 columns]"
      ]
     },
     "execution_count": 12,
     "metadata": {},
     "output_type": "execute_result"
    }
   ],
   "source": [
    "dataDF"
   ]
  },
  {
   "cell_type": "code",
   "execution_count": 13,
   "metadata": {
    "ExecuteTime": {
     "end_time": "2023-11-20T18:05:22.695635Z",
     "start_time": "2023-11-20T18:05:22.239926Z"
    }
   },
   "outputs": [],
   "source": [
    "#Save DataFrame to pickle file:\n",
    "dataDF.to_pickle('../../data/2mdm_results_scan_alpha_v3/zp_only/results.pcl')"
   ]
  },
  {
   "cell_type": "code",
   "execution_count": 14,
   "metadata": {
    "ExecuteTime": {
     "end_time": "2023-11-20T18:05:22.835697Z",
     "start_time": "2023-11-20T18:05:22.697296Z"
    },
    "scrolled": true
   },
   "outputs": [
    {
     "name": "stdout",
     "output_type": "stream",
     "text": [
      "7000\n"
     ]
    }
   ],
   "source": [
    "print(len(dataDF))"
   ]
  },
  {
   "cell_type": "code",
   "execution_count": null,
   "metadata": {},
   "outputs": [],
   "source": []
  }
 ],
 "metadata": {
  "kernelspec": {
   "display_name": "Python 3 (ipykernel)",
   "language": "python",
   "name": "python3"
  },
  "language_info": {
   "codemirror_mode": {
    "name": "ipython",
    "version": 3
   },
   "file_extension": ".py",
   "mimetype": "text/x-python",
   "name": "python",
   "nbconvert_exporter": "python",
   "pygments_lexer": "ipython3",
   "version": "3.10.12"
  }
 },
 "nbformat": 4,
 "nbformat_minor": 2
}
