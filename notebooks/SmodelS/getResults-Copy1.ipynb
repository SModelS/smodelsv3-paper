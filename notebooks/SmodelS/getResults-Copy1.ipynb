{
 "cells": [
  {
   "cell_type": "markdown",
   "metadata": {},
   "source": [
    "### Read SLHA, SModelS output and store the data in a pandas DataFrame"
   ]
  },
  {
   "cell_type": "code",
   "execution_count": 1,
   "metadata": {
    "ExecuteTime": {
     "end_time": "2023-10-18T20:35:11.966069Z",
     "start_time": "2023-10-18T20:35:11.696322Z"
    }
   },
   "outputs": [
    {
     "name": "stderr",
     "output_type": "stream",
     "text": [
      "/tmp/ipykernel_106179/72230128.py:5: DeprecationWarning: the imp module is deprecated in favour of importlib and slated for removal in Python 3.12; see the module's documentation for alternative uses\n",
      "  import glob,imp,os,sys\n"
     ]
    }
   ],
   "source": [
    "import warnings\n",
    "warnings.filterwarnings(\"ignore\", message=\"numpy.dtype size changed\")\n",
    "import numpy as np\n",
    "import pandas as pd\n",
    "import glob,imp,os,sys\n",
    "from pandas import json_normalize\n",
    "import pyslha\n",
    "sys.path.append('/home/camila/smodels')\n",
    "from smodels.share.models.mssm import BSMList\n",
    "from smodels.share.models.SMparticles import SMList\n",
    "from smodels.base.model import Model\n",
    "from smodels.particlesLoader import getParticlesFromSLHA\n",
    "\n",
    "pd.options.mode.chained_assignment = None #Disable copy warnings"
   ]
  },
  {
   "cell_type": "code",
   "execution_count": 2,
   "metadata": {
    "ExecuteTime": {
     "end_time": "2023-10-18T20:35:12.609627Z",
     "start_time": "2023-10-18T20:35:12.569851Z"
    }
   },
   "outputs": [
    {
     "name": "stdout",
     "output_type": "stream",
     "text": [
      "[gha, gha~, ghz, ghz~, ghwp, ghwp~, ghwm, ghwm~, ghg, ghg~, zp, ghzp, ghzp~, sd, chi]\n"
     ]
    }
   ],
   "source": [
    "BSMlist = getParticlesFromSLHA('../../slha_files_extra/run_01_zp_3612_dm_1412_gqv_06.slha')\n",
    "model = Model(BSMparticles=BSMlist, SMparticles=SMList)\n",
    "print(BSMlist)"
   ]
  },
  {
   "cell_type": "code",
   "execution_count": 31,
   "metadata": {
    "ExecuteTime": {
     "end_time": "2023-10-18T20:58:40.581837Z",
     "start_time": "2023-10-18T20:58:40.578768Z"
    }
   },
   "outputs": [],
   "source": [
    "slhaFolder = '../../slha_files/'\n",
    "smodelsFolder = '../../data/2mdm_results/'"
   ]
  },
  {
   "cell_type": "code",
   "execution_count": 5,
   "metadata": {
    "ExecuteTime": {
     "end_time": "2023-10-18T20:45:55.043716Z",
     "start_time": "2023-10-18T20:35:45.826335Z"
    }
   },
   "outputs": [
    {
     "name": "stdout",
     "output_type": "stream",
     "text": [
      "INFO in databaseObj.loadBinaryFile() in 526: loading binary db file /home/camila/smodels-database/db3.pcl format version 214\n",
      "INFO in databaseObj.loadBinaryFile() in 533: Loaded database from /home/camila/smodels-database/db3.pcl in 2.0 secs.\n",
      "INFO in modelTester.loadDatabaseResults() in 498: Including non-validated results\n",
      "INFO in modelTester.testPoints() in 358: Running SModelS for 1000 files with a single process. Messages will be redirected to smodels.log\n"
     ]
    }
   ],
   "source": [
    "!/home/camila/smodels/runSModelS.py -p /home/camila/smodels/parameters_2mdm.ini -f /home/camila/2MDM/slha_files_extra/ -o /home/camila/2MDM/data/2mdm_results_extra/"
   ]
  },
  {
   "cell_type": "code",
   "execution_count": 32,
   "metadata": {
    "ExecuteTime": {
     "end_time": "2023-10-18T20:58:53.258737Z",
     "start_time": "2023-10-18T20:58:50.874047Z"
    }
   },
   "outputs": [],
   "source": [
    "#Convert Experimental Results list to a dictionary\n",
    "data = []\n",
    "removeFromDict = ['topologies outside the grid',\"missing topologies\",\n",
    "                  \"missing topologies with displaced decays\", 'missing topologies with prompt decays',\n",
    "                 \"Asymmetric Branches\",\"Outside Grid\",\"Missed Topologies\",\"Long Cascades\"]\n",
    "for f in glob.glob(smodelsFolder+'/*.py'):\n",
    "    with open(f,'r') as ff:\n",
    "        dataF = ff.read()\n",
    "    dataF = dataF.replace('inf','-1')\n",
    "    with open(f.replace('.py','_fix.py'),'w') as ff:\n",
    "        ff.write(dataF)\n",
    "    f = f.replace('.py','_fix.py')\n",
    "    smodelsDict = imp.load_source(f.replace('.py',''),f).smodelsOutput\n",
    "    for rmKey in removeFromDict:\n",
    "        if rmKey in smodelsDict:\n",
    "            smodelsDict.pop(rmKey)\n",
    "    if 'ExptRes' in smodelsDict:\n",
    "        for res in smodelsDict['ExptRes']:\n",
    "            if 'TxNames weights (fb)' in res:\n",
    "                res.pop('TxNames weights (fb)')  \n",
    "        expList = sorted(smodelsDict['ExptRes'], key=lambda pt: pt['r'],reverse=True)\n",
    "        expDict = dict([['result%i'%i,val] for i,val in enumerate(expList)])\n",
    "        smodelsDict['ExptRes'] = expDict\n",
    "    slhaFile = smodelsDict['OutputStatus']['input file']\n",
    "    dataDict = {'filename' : os.path.basename(slhaFile)}\n",
    "    dataDict.update(smodelsDict)\n",
    "    data.append(dataDict)"
   ]
  },
  {
   "cell_type": "code",
   "execution_count": 33,
   "metadata": {
    "ExecuteTime": {
     "end_time": "2023-10-18T20:58:53.864719Z",
     "start_time": "2023-10-18T20:58:53.854823Z"
    }
   },
   "outputs": [
    {
     "name": "stdout",
     "output_type": "stream",
     "text": [
      "870\n"
     ]
    }
   ],
   "source": [
    "print(len(data))"
   ]
  },
  {
   "cell_type": "code",
   "execution_count": 34,
   "metadata": {
    "ExecuteTime": {
     "end_time": "2023-10-18T20:58:56.613871Z",
     "start_time": "2023-10-18T20:58:56.070774Z"
    }
   },
   "outputs": [],
   "source": [
    "#Convert data to flat DataFrame:\n",
    "smodelsDF = json_normalize(data)"
   ]
  },
  {
   "cell_type": "code",
   "execution_count": 41,
   "metadata": {
    "ExecuteTime": {
     "end_time": "2023-10-18T21:22:38.399986Z",
     "start_time": "2023-10-18T21:22:34.077346Z"
    }
   },
   "outputs": [],
   "source": [
    "#Get SLHA data:\n",
    "slhaData = []\n",
    "for f in smodelsDF['filename']:\n",
    "    slhaFile = os.path.join(slhaFolder,f)\n",
    "    slha = pyslha.readSLHAFile(slhaFile)\n",
    "    massDict = dict([[str(key),abs(val)] for key,val in slha.blocks['MASS'].items() if key >= 9000006])\n",
    "    extparDict = dict([[str(key),val] for key,val in slha.blocks['ZPRIME'].items()])\n",
    "    extparDict.update(dict([[str(key+len(extparDict)),val] for key,val in slha.blocks['BLINPUTS'].items()]))\n",
    "    \n",
    "    widthDict = dict([[str(key),val.totalwidth] for key,val in slha.decays.items() if key >= 9000006])\n",
    "    BRsDict = {}\n",
    "    for pdg,val in slha.decays.items():\n",
    "#         if not abs(pdg) in [1000024,1000023]:\n",
    "#             continue\n",
    "        initialState = model.getParticlesWith(pdg=pdg)[0].label            \n",
    "        BRsDict[initialState] = {}\n",
    "        for dec in val.decays:\n",
    "            if dec.br < 0.01: continue            \n",
    "            finalState = ','.join([model.getParticlesWith(pdg=pid)[0].label for pid in sorted(dec.ids)])\n",
    "            BRsDict[initialState][finalState] = dec.br\n",
    "    xsec8TeV = dict([ [str(proc.pidsfinal).replace('[','').replace(']','').replace(',','_').replace(' ',''),\n",
    "                   max([x.value for x in proc.get_xsecs(sqrts=8000)])*1000] \n",
    "                 for proc in slha.xsections.values()  if proc.get_xsecs(sqrts=8000)])\n",
    "    xsec13TeV = dict([ [str(proc.pidsfinal).replace('[','').replace(']','').replace(',','_').replace(' ',''),\n",
    "                   max([x.value for x in proc.get_xsecs(sqrts=13000)])*1000] \n",
    "                 for proc in slha.xsections.values()  if proc.get_xsecs(sqrts=13000)])    \n",
    "    slhaDict = {'filename' : f, 'mass' : massDict, 'width' : widthDict, 'extpar' : extparDict, \n",
    "                'xsec8TeV(fb)' : xsec8TeV, 'xsec13TeV(fb)' : xsec13TeV, 'BRs' : BRsDict}\n",
    "    slhaData.append(slhaDict)"
   ]
  },
  {
   "cell_type": "code",
   "execution_count": 36,
   "metadata": {
    "ExecuteTime": {
     "end_time": "2023-10-18T20:59:12.579021Z",
     "start_time": "2023-10-18T20:59:12.531549Z"
    }
   },
   "outputs": [],
   "source": [
    "#Convert to DataFrame\n",
    "slhaDF = json_normalize(slhaData)\n",
    "#Add total cross-sections:\n",
    "xsecs13 = [x for x in list(slhaDF) if 'xsec13TeV' in x]\n",
    "xsecs8 = [x for x in list(slhaDF) if 'xsec8TeV' in x]\n",
    "slhaDF['totalxsec13TeV(fb)'] = slhaDF[xsecs13].sum(axis=1)\n",
    "slhaDF['totalxsec8TeV(fb)'] = slhaDF[xsecs8].sum(axis=1)"
   ]
  },
  {
   "cell_type": "code",
   "execution_count": 37,
   "metadata": {
    "ExecuteTime": {
     "end_time": "2023-10-18T20:59:13.012027Z",
     "start_time": "2023-10-18T20:59:12.941588Z"
    }
   },
   "outputs": [],
   "source": [
    "#Merge with SModelS DataFrame\n",
    "dataDF = slhaDF.merge(smodelsDF,how='inner')"
   ]
  },
  {
   "cell_type": "code",
   "execution_count": 38,
   "metadata": {
    "ExecuteTime": {
     "end_time": "2023-10-18T20:59:13.205745Z",
     "start_time": "2023-10-18T20:59:13.197559Z"
    }
   },
   "outputs": [
    {
     "name": "stdout",
     "output_type": "stream",
     "text": [
      "Final number of data points: 870\n"
     ]
    }
   ],
   "source": [
    "\n",
    "print('Final number of data points:',dataDF.shape[0])\n",
    "#print(dataDF2.columns.values.tolist()) #Print all columns names"
   ]
  },
  {
   "cell_type": "code",
   "execution_count": 39,
   "metadata": {
    "ExecuteTime": {
     "end_time": "2023-10-18T20:59:18.466367Z",
     "start_time": "2023-10-18T20:59:18.372058Z"
    }
   },
   "outputs": [],
   "source": [
    "#Save DataFrame to pickle file:\n",
    "dataDF.to_pickle('../../data/2mdm_results/results.pcl')"
   ]
  },
  {
   "cell_type": "code",
   "execution_count": 40,
   "metadata": {
    "ExecuteTime": {
     "end_time": "2023-10-18T20:59:19.373322Z",
     "start_time": "2023-10-18T20:59:19.369447Z"
    }
   },
   "outputs": [
    {
     "name": "stdout",
     "output_type": "stream",
     "text": [
      "870\n"
     ]
    }
   ],
   "source": [
    "print(len(dataDF))"
   ]
  },
  {
   "cell_type": "code",
   "execution_count": null,
   "metadata": {},
   "outputs": [],
   "source": []
  }
 ],
 "metadata": {
  "kernelspec": {
   "display_name": "Python 3 (ipykernel)",
   "language": "python",
   "name": "python3"
  },
  "language_info": {
   "codemirror_mode": {
    "name": "ipython",
    "version": 3
   },
   "file_extension": ".py",
   "mimetype": "text/x-python",
   "name": "python",
   "nbconvert_exporter": "python",
   "pygments_lexer": "ipython3",
   "version": "3.10.12"
  }
 },
 "nbformat": 4,
 "nbformat_minor": 2
}
