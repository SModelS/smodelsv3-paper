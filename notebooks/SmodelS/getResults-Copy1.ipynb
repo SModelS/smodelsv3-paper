{
 "cells": [
  {
   "cell_type": "markdown",
   "metadata": {},
   "source": [
    "### Read SLHA, SModelS output and store the data in a pandas DataFrame"
   ]
  },
  {
   "cell_type": "code",
   "execution_count": 1,
   "metadata": {
    "ExecuteTime": {
     "end_time": "2023-10-30T18:28:08.823632Z",
     "start_time": "2023-10-30T18:28:08.578112Z"
    },
    "scrolled": true
   },
   "outputs": [
    {
     "name": "stderr",
     "output_type": "stream",
     "text": [
      "/tmp/ipykernel_2334329/3423779146.py:5: DeprecationWarning: the imp module is deprecated in favour of importlib and slated for removal in Python 3.12; see the module's documentation for alternative uses\n",
      "  import glob,imp,os,sys\n"
     ]
    }
   ],
   "source": [
    "import warnings\n",
    "warnings.filterwarnings(\"ignore\", message=\"numpy.dtype size changed\")\n",
    "import numpy as np\n",
    "import pandas as pd\n",
    "import glob,imp,os,sys\n",
    "from pandas import json_normalize\n",
    "import pyslha\n",
    "sys.path.append('/home/camila/smodels/')\n",
    "from smodels.share.models.mssm import BSMList\n",
    "from smodels.share.models.SMparticles import SMList\n",
    "from smodels.base.model import Model\n",
    "from smodels.particlesLoader import getParticlesFromSLHA\n",
    "\n",
    "pd.options.mode.chained_assignment = None #Disable copy warnings"
   ]
  },
  {
   "cell_type": "code",
   "execution_count": 2,
   "metadata": {
    "ExecuteTime": {
     "end_time": "2023-10-30T18:28:09.007582Z",
     "start_time": "2023-10-30T18:28:08.825165Z"
    }
   },
   "outputs": [
    {
     "name": "stdout",
     "output_type": "stream",
     "text": [
      "[gha, gha~, ghz, ghz~, ghwp, ghwp~, ghwm, ghwm~, ghg, ghg~, zp, ghzp, ghzp~, sd, chi]\n"
     ]
    }
   ],
   "source": [
    "BSMlist = getParticlesFromSLHA('../../slha_files_extra/all/run_01_zp_3612_dm_1412_gqv_06.slha')\n",
    "model = Model(BSMparticles=BSMlist, SMparticles=SMList)\n",
    "print(BSMlist)"
   ]
  },
  {
   "cell_type": "code",
   "execution_count": 3,
   "metadata": {
    "ExecuteTime": {
     "end_time": "2023-10-30T18:28:09.309862Z",
     "start_time": "2023-10-30T18:28:09.013508Z"
    }
   },
   "outputs": [],
   "source": [
    "slhaFolder = '../../slha_files_rescaled/zp_only/'\n",
    "smodelsFolder = '../../data/2mdm_results_rescaled/zp_only/'\n",
    "parametersSmodels = '/home/camila/smodels/parameters_2mdm.ini'"
   ]
  },
  {
   "cell_type": "code",
   "execution_count": 4,
   "metadata": {
    "scrolled": false
   },
   "outputs": [
    {
     "name": "stdout",
     "output_type": "stream",
     "text": [
      "INFO in databaseObj.loadBinaryFile() in 526: loading binary db file /home/camila/smodels-database/db3.pcl format version 214\n",
      "INFO in databaseObj.loadBinaryFile() in 533: Loaded database from /home/camila/smodels-database/db3.pcl in 1.9 secs.\n",
      "INFO in modelTester.loadDatabaseResults() in 498: Including non-validated results\n",
      "INFO in modelTester.testPoints() in 358: Running SModelS for 422 files with a single process. Messages will be redirected to smodels.log\n"
     ]
    }
   ],
   "source": [
    "!/home/camila/smodels/runSModelS.py -p {parametersSmodels} -f {slhaFolder} -o {smodelsFolder}"
   ]
  },
  {
   "cell_type": "code",
   "execution_count": 5,
   "metadata": {
    "ExecuteTime": {
     "end_time": "2023-10-30T18:41:18.654473Z",
     "start_time": "2023-10-30T18:41:18.425947Z"
    }
   },
   "outputs": [],
   "source": [
    "#Convert Experimental Results list to a dictionary\n",
    "data = []\n",
    "removeFromDict = ['topologies outside the grid',\"missing topologies\",\n",
    "                  \"missing topologies with displaced decays\", 'missing topologies with prompt decays',\n",
    "                 \"Asymmetric Branches\",\"Outside Grid\",\"Missed Topologies\",\"Long Cascades\"]\n",
    "for f in glob.glob(smodelsFolder+'/*.py'):\n",
    "    with open(f,'r') as ff:\n",
    "        dataF = ff.read()\n",
    "    dataF = dataF.replace('inf','-1')\n",
    "    dataF = dataF.replace('None', '-1')\n",
    "    with open(f.replace('.py','_fix.py'),'w') as ff:\n",
    "        ff.write(dataF)\n",
    "    f = f.replace('.py','_fix.py')\n",
    "    smodelsDict = imp.load_source(f.replace('.py',''),f).smodelsOutput\n",
    "    for rmKey in removeFromDict:\n",
    "        if rmKey in smodelsDict:\n",
    "            smodelsDict.pop(rmKey)\n",
    "    if 'ExptRes' in smodelsDict:\n",
    "        for res in smodelsDict['ExptRes']:\n",
    "#             if res['r'] == None:\n",
    "#                 res['r'] = np.nan\n",
    "            if 'TxNames weights (fb)' in res:\n",
    "                res.pop('TxNames weights (fb)')  \n",
    "        expList = sorted(smodelsDict['ExptRes'], key=lambda pt: pt['r'],reverse=True)\n",
    "        expDict = dict([['result%i'%i,val] for i,val in enumerate(expList)])\n",
    "        smodelsDict['ExptRes'] = expDict\n",
    "    slhaFile = smodelsDict['OutputStatus']['input file']\n",
    "    dataDict = {'filename' : os.path.basename(slhaFile)}\n",
    "    dataDict.update(smodelsDict)\n",
    "    data.append(dataDict)"
   ]
  },
  {
   "cell_type": "code",
   "execution_count": 6,
   "metadata": {
    "ExecuteTime": {
     "end_time": "2023-10-30T18:41:18.836054Z",
     "start_time": "2023-10-30T18:41:18.655918Z"
    }
   },
   "outputs": [
    {
     "name": "stdout",
     "output_type": "stream",
     "text": [
      "422\n"
     ]
    }
   ],
   "source": [
    "print(len(data))"
   ]
  },
  {
   "cell_type": "code",
   "execution_count": 7,
   "metadata": {
    "ExecuteTime": {
     "end_time": "2023-10-30T18:41:19.166759Z",
     "start_time": "2023-10-30T18:41:18.840906Z"
    }
   },
   "outputs": [],
   "source": [
    "#Convert data to flat DataFrame:\n",
    "smodelsDF = json_normalize(data)"
   ]
  },
  {
   "cell_type": "code",
   "execution_count": 8,
   "metadata": {
    "ExecuteTime": {
     "end_time": "2023-10-30T18:41:21.572964Z",
     "start_time": "2023-10-30T18:41:19.171150Z"
    }
   },
   "outputs": [],
   "source": [
    "#Get SLHA data:\n",
    "slhaData = []\n",
    "for f in smodelsDF['filename']:\n",
    "    slhaFile = os.path.join(slhaFolder,f)\n",
    "    slha = pyslha.readSLHAFile(slhaFile)\n",
    "    massDict = dict([[str(key),abs(val)] for key,val in slha.blocks['MASS'].items() if key >= 9000006])\n",
    "    extparDict = dict([[str(key),val] for key,val in slha.blocks['ZPRIME'].items()])\n",
    "    extparDict.update(dict([[str(key+len(extparDict)),val] for key,val in slha.blocks['BLINPUTS'].items()]))\n",
    "    \n",
    "    widthDict = dict([[str(key),val.totalwidth] for key,val in slha.decays.items() if key >= 9000006])\n",
    "    BRsDict = {}\n",
    "    for pdg,val in slha.decays.items():\n",
    "#         if not abs(pdg) in [1000024,1000023]:\n",
    "#             continue\n",
    "        initialState = model.getParticlesWith(pdg=pdg)[0].label            \n",
    "        BRsDict[initialState] = {}\n",
    "        for dec in val.decays:\n",
    "            if dec.br < 0.01: continue            \n",
    "            finalState = ','.join([model.getParticlesWith(pdg=pid)[0].label for pid in sorted(dec.ids)])\n",
    "            BRsDict[initialState][finalState] = dec.br\n",
    "    xsec8TeV = dict([ [str(proc.pidsfinal).replace('[','').replace(']','').replace(',','_').replace(' ',''),\n",
    "                   max([x.value for x in proc.get_xsecs(sqrts=8000)])*1000] \n",
    "                 for proc in slha.xsections.values()  if proc.get_xsecs(sqrts=8000)])\n",
    "    xsec13TeV = dict([ [str(proc.pidsfinal).replace('[','').replace(']','').replace(',','_').replace(' ',''),\n",
    "                   max([x.value for x in proc.get_xsecs(sqrts=13000)])*1000] \n",
    "                 for proc in slha.xsections.values()  if proc.get_xsecs(sqrts=13000)])    \n",
    "    slhaDict = {'filename' : f, 'mass' : massDict, 'width' : widthDict, 'extpar' : extparDict, \n",
    "                'xsec8TeV(fb)' : xsec8TeV, 'xsec13TeV(fb)' : xsec13TeV, 'BRs' : BRsDict}\n",
    "    slhaData.append(slhaDict)"
   ]
  },
  {
   "cell_type": "code",
   "execution_count": 9,
   "metadata": {
    "ExecuteTime": {
     "end_time": "2023-10-30T18:41:21.595467Z",
     "start_time": "2023-10-30T18:41:21.574566Z"
    }
   },
   "outputs": [],
   "source": [
    "#Convert to DataFrame\n",
    "slhaDF = json_normalize(slhaData)\n",
    "#Add total cross-sections:\n",
    "xsecs13 = [x for x in list(slhaDF) if 'xsec13TeV' in x]\n",
    "xsecs8 = [x for x in list(slhaDF) if 'xsec8TeV' in x]\n",
    "slhaDF['totalxsec13TeV(fb)'] = slhaDF[xsecs13].sum(axis=1)\n",
    "slhaDF['totalxsec8TeV(fb)'] = slhaDF[xsecs8].sum(axis=1)"
   ]
  },
  {
   "cell_type": "code",
   "execution_count": 10,
   "metadata": {
    "ExecuteTime": {
     "end_time": "2023-10-30T18:41:22.344835Z",
     "start_time": "2023-10-30T18:41:21.597553Z"
    }
   },
   "outputs": [],
   "source": [
    "#Merge with SModelS DataFrame\n",
    "dataDF = slhaDF.merge(smodelsDF,how='inner')"
   ]
  },
  {
   "cell_type": "code",
   "execution_count": 11,
   "metadata": {
    "ExecuteTime": {
     "end_time": "2023-10-30T18:41:22.643127Z",
     "start_time": "2023-10-30T18:41:22.347045Z"
    }
   },
   "outputs": [
    {
     "name": "stdout",
     "output_type": "stream",
     "text": [
      "Final number of data points: 422\n"
     ]
    }
   ],
   "source": [
    "\n",
    "print('Final number of data points:',dataDF.shape[0])\n",
    "#print(dataDF2.columns.values.tolist()) #Print all columns names"
   ]
  },
  {
   "cell_type": "code",
   "execution_count": 12,
   "metadata": {
    "ExecuteTime": {
     "end_time": "2023-10-30T18:41:23.005511Z",
     "start_time": "2023-10-30T18:41:22.649615Z"
    }
   },
   "outputs": [
    {
     "data": {
      "text/html": [
       "<div>\n",
       "<style scoped>\n",
       "    .dataframe tbody tr th:only-of-type {\n",
       "        vertical-align: middle;\n",
       "    }\n",
       "\n",
       "    .dataframe tbody tr th {\n",
       "        vertical-align: top;\n",
       "    }\n",
       "\n",
       "    .dataframe thead th {\n",
       "        text-align: right;\n",
       "    }\n",
       "</style>\n",
       "<table border=\"1\" class=\"dataframe\">\n",
       "  <thead>\n",
       "    <tr style=\"text-align: right;\">\n",
       "      <th></th>\n",
       "      <th>filename</th>\n",
       "      <th>mass.9000006</th>\n",
       "      <th>mass.9900032</th>\n",
       "      <th>mass.9900026</th>\n",
       "      <th>width.9000006</th>\n",
       "      <th>width.9900026</th>\n",
       "      <th>width.9900032</th>\n",
       "      <th>extpar.1</th>\n",
       "      <th>extpar.2</th>\n",
       "      <th>extpar.3</th>\n",
       "      <th>...</th>\n",
       "      <th>ExptRes.result5.l_SM</th>\n",
       "      <th>ExptRes.result1.likelihood</th>\n",
       "      <th>ExptRes.result1.l_max</th>\n",
       "      <th>ExptRes.result1.l_SM</th>\n",
       "      <th>ExptRes.result0.likelihood</th>\n",
       "      <th>ExptRes.result0.l_max</th>\n",
       "      <th>ExptRes.result0.l_SM</th>\n",
       "      <th>ExptRes.result2.likelihood</th>\n",
       "      <th>ExptRes.result2.l_max</th>\n",
       "      <th>ExptRes.result2.l_SM</th>\n",
       "    </tr>\n",
       "  </thead>\n",
       "  <tbody>\n",
       "    <tr>\n",
       "      <th>0</th>\n",
       "      <td>run_179_zp_2300_dm_300.slha</td>\n",
       "      <td>300.0</td>\n",
       "      <td>2300.0</td>\n",
       "      <td>1150.0</td>\n",
       "      <td>0.0</td>\n",
       "      <td>92.03608</td>\n",
       "      <td>130.38330</td>\n",
       "      <td>1.5</td>\n",
       "      <td>0.25</td>\n",
       "      <td>0.0</td>\n",
       "      <td>...</td>\n",
       "      <td>1.793298e-276</td>\n",
       "      <td>NaN</td>\n",
       "      <td>NaN</td>\n",
       "      <td>NaN</td>\n",
       "      <td>NaN</td>\n",
       "      <td>NaN</td>\n",
       "      <td>NaN</td>\n",
       "      <td>NaN</td>\n",
       "      <td>NaN</td>\n",
       "      <td>NaN</td>\n",
       "    </tr>\n",
       "    <tr>\n",
       "      <th>1</th>\n",
       "      <td>run_114_zp_1500_dm_200.slha</td>\n",
       "      <td>200.0</td>\n",
       "      <td>1500.0</td>\n",
       "      <td>750.0</td>\n",
       "      <td>0.0</td>\n",
       "      <td>35.96803</td>\n",
       "      <td>84.82805</td>\n",
       "      <td>1.5</td>\n",
       "      <td>0.25</td>\n",
       "      <td>0.0</td>\n",
       "      <td>...</td>\n",
       "      <td>NaN</td>\n",
       "      <td>1.702891e-286</td>\n",
       "      <td>1.002372e-275</td>\n",
       "      <td>1.793298e-276</td>\n",
       "      <td>NaN</td>\n",
       "      <td>NaN</td>\n",
       "      <td>NaN</td>\n",
       "      <td>NaN</td>\n",
       "      <td>NaN</td>\n",
       "      <td>NaN</td>\n",
       "    </tr>\n",
       "    <tr>\n",
       "      <th>2</th>\n",
       "      <td>run_287_zp_3200_dm_600.slha</td>\n",
       "      <td>600.0</td>\n",
       "      <td>3200.0</td>\n",
       "      <td>1600.0</td>\n",
       "      <td>0.0</td>\n",
       "      <td>188.59920</td>\n",
       "      <td>171.56780</td>\n",
       "      <td>1.5</td>\n",
       "      <td>0.25</td>\n",
       "      <td>0.0</td>\n",
       "      <td>...</td>\n",
       "      <td>NaN</td>\n",
       "      <td>NaN</td>\n",
       "      <td>NaN</td>\n",
       "      <td>NaN</td>\n",
       "      <td>NaN</td>\n",
       "      <td>NaN</td>\n",
       "      <td>NaN</td>\n",
       "      <td>NaN</td>\n",
       "      <td>NaN</td>\n",
       "      <td>NaN</td>\n",
       "    </tr>\n",
       "    <tr>\n",
       "      <th>3</th>\n",
       "      <td>run_77_zp_3750_dm_1900.slha</td>\n",
       "      <td>1900.0</td>\n",
       "      <td>3750.0</td>\n",
       "      <td>1875.0</td>\n",
       "      <td>0.0</td>\n",
       "      <td>273.04930</td>\n",
       "      <td>111.90530</td>\n",
       "      <td>1.5</td>\n",
       "      <td>0.25</td>\n",
       "      <td>0.0</td>\n",
       "      <td>...</td>\n",
       "      <td>NaN</td>\n",
       "      <td>NaN</td>\n",
       "      <td>NaN</td>\n",
       "      <td>NaN</td>\n",
       "      <td>NaN</td>\n",
       "      <td>NaN</td>\n",
       "      <td>NaN</td>\n",
       "      <td>NaN</td>\n",
       "      <td>NaN</td>\n",
       "      <td>NaN</td>\n",
       "    </tr>\n",
       "    <tr>\n",
       "      <th>4</th>\n",
       "      <td>run_354_zp_3600_dm_1600.slha</td>\n",
       "      <td>1600.0</td>\n",
       "      <td>3600.0</td>\n",
       "      <td>1800.0</td>\n",
       "      <td>0.0</td>\n",
       "      <td>242.13570</td>\n",
       "      <td>117.75830</td>\n",
       "      <td>1.5</td>\n",
       "      <td>0.25</td>\n",
       "      <td>0.0</td>\n",
       "      <td>...</td>\n",
       "      <td>NaN</td>\n",
       "      <td>NaN</td>\n",
       "      <td>NaN</td>\n",
       "      <td>NaN</td>\n",
       "      <td>NaN</td>\n",
       "      <td>NaN</td>\n",
       "      <td>NaN</td>\n",
       "      <td>NaN</td>\n",
       "      <td>NaN</td>\n",
       "      <td>NaN</td>\n",
       "    </tr>\n",
       "    <tr>\n",
       "      <th>...</th>\n",
       "      <td>...</td>\n",
       "      <td>...</td>\n",
       "      <td>...</td>\n",
       "      <td>...</td>\n",
       "      <td>...</td>\n",
       "      <td>...</td>\n",
       "      <td>...</td>\n",
       "      <td>...</td>\n",
       "      <td>...</td>\n",
       "      <td>...</td>\n",
       "      <td>...</td>\n",
       "      <td>...</td>\n",
       "      <td>...</td>\n",
       "      <td>...</td>\n",
       "      <td>...</td>\n",
       "      <td>...</td>\n",
       "      <td>...</td>\n",
       "      <td>...</td>\n",
       "      <td>...</td>\n",
       "      <td>...</td>\n",
       "      <td>...</td>\n",
       "    </tr>\n",
       "    <tr>\n",
       "      <th>417</th>\n",
       "      <td>run_257_zp_2900_dm_1200.slha</td>\n",
       "      <td>1200.0</td>\n",
       "      <td>2900.0</td>\n",
       "      <td>1450.0</td>\n",
       "      <td>0.0</td>\n",
       "      <td>128.43380</td>\n",
       "      <td>101.84660</td>\n",
       "      <td>1.5</td>\n",
       "      <td>0.25</td>\n",
       "      <td>0.0</td>\n",
       "      <td>...</td>\n",
       "      <td>1.793298e-276</td>\n",
       "      <td>NaN</td>\n",
       "      <td>NaN</td>\n",
       "      <td>NaN</td>\n",
       "      <td>NaN</td>\n",
       "      <td>NaN</td>\n",
       "      <td>NaN</td>\n",
       "      <td>NaN</td>\n",
       "      <td>NaN</td>\n",
       "      <td>NaN</td>\n",
       "    </tr>\n",
       "    <tr>\n",
       "      <th>418</th>\n",
       "      <td>run_170_zp_2200_dm_500.slha</td>\n",
       "      <td>500.0</td>\n",
       "      <td>2200.0</td>\n",
       "      <td>1100.0</td>\n",
       "      <td>0.0</td>\n",
       "      <td>60.46382</td>\n",
       "      <td>112.04410</td>\n",
       "      <td>1.5</td>\n",
       "      <td>0.25</td>\n",
       "      <td>0.0</td>\n",
       "      <td>...</td>\n",
       "      <td>1.793298e-276</td>\n",
       "      <td>NaN</td>\n",
       "      <td>NaN</td>\n",
       "      <td>NaN</td>\n",
       "      <td>NaN</td>\n",
       "      <td>NaN</td>\n",
       "      <td>NaN</td>\n",
       "      <td>NaN</td>\n",
       "      <td>NaN</td>\n",
       "      <td>NaN</td>\n",
       "    </tr>\n",
       "    <tr>\n",
       "      <th>419</th>\n",
       "      <td>run_384_zp_3800_dm_1000.slha</td>\n",
       "      <td>1000.0</td>\n",
       "      <td>3800.0</td>\n",
       "      <td>1900.0</td>\n",
       "      <td>0.0</td>\n",
       "      <td>283.91240</td>\n",
       "      <td>183.10900</td>\n",
       "      <td>1.5</td>\n",
       "      <td>0.25</td>\n",
       "      <td>0.0</td>\n",
       "      <td>...</td>\n",
       "      <td>NaN</td>\n",
       "      <td>NaN</td>\n",
       "      <td>NaN</td>\n",
       "      <td>NaN</td>\n",
       "      <td>NaN</td>\n",
       "      <td>NaN</td>\n",
       "      <td>NaN</td>\n",
       "      <td>NaN</td>\n",
       "      <td>NaN</td>\n",
       "      <td>NaN</td>\n",
       "    </tr>\n",
       "    <tr>\n",
       "      <th>420</th>\n",
       "      <td>run_235_zp_2800_dm_400.slha</td>\n",
       "      <td>400.0</td>\n",
       "      <td>2800.0</td>\n",
       "      <td>1400.0</td>\n",
       "      <td>0.0</td>\n",
       "      <td>144.78390</td>\n",
       "      <td>157.09180</td>\n",
       "      <td>1.5</td>\n",
       "      <td>0.25</td>\n",
       "      <td>0.0</td>\n",
       "      <td>...</td>\n",
       "      <td>1.793298e-276</td>\n",
       "      <td>NaN</td>\n",
       "      <td>NaN</td>\n",
       "      <td>NaN</td>\n",
       "      <td>NaN</td>\n",
       "      <td>NaN</td>\n",
       "      <td>NaN</td>\n",
       "      <td>NaN</td>\n",
       "      <td>NaN</td>\n",
       "      <td>NaN</td>\n",
       "    </tr>\n",
       "    <tr>\n",
       "      <th>421</th>\n",
       "      <td>run_36_zp_2750_dm_300.slha</td>\n",
       "      <td>300.0</td>\n",
       "      <td>2750.0</td>\n",
       "      <td>1375.0</td>\n",
       "      <td>0.0</td>\n",
       "      <td>147.34480</td>\n",
       "      <td>158.33780</td>\n",
       "      <td>1.5</td>\n",
       "      <td>0.25</td>\n",
       "      <td>0.0</td>\n",
       "      <td>...</td>\n",
       "      <td>1.793298e-276</td>\n",
       "      <td>NaN</td>\n",
       "      <td>NaN</td>\n",
       "      <td>NaN</td>\n",
       "      <td>NaN</td>\n",
       "      <td>NaN</td>\n",
       "      <td>NaN</td>\n",
       "      <td>NaN</td>\n",
       "      <td>NaN</td>\n",
       "      <td>NaN</td>\n",
       "    </tr>\n",
       "  </tbody>\n",
       "</table>\n",
       "<p>422 rows × 149 columns</p>\n",
       "</div>"
      ],
      "text/plain": [
       "                         filename  mass.9000006  mass.9900032  mass.9900026  \\\n",
       "0     run_179_zp_2300_dm_300.slha         300.0        2300.0        1150.0   \n",
       "1     run_114_zp_1500_dm_200.slha         200.0        1500.0         750.0   \n",
       "2     run_287_zp_3200_dm_600.slha         600.0        3200.0        1600.0   \n",
       "3     run_77_zp_3750_dm_1900.slha        1900.0        3750.0        1875.0   \n",
       "4    run_354_zp_3600_dm_1600.slha        1600.0        3600.0        1800.0   \n",
       "..                            ...           ...           ...           ...   \n",
       "417  run_257_zp_2900_dm_1200.slha        1200.0        2900.0        1450.0   \n",
       "418   run_170_zp_2200_dm_500.slha         500.0        2200.0        1100.0   \n",
       "419  run_384_zp_3800_dm_1000.slha        1000.0        3800.0        1900.0   \n",
       "420   run_235_zp_2800_dm_400.slha         400.0        2800.0        1400.0   \n",
       "421    run_36_zp_2750_dm_300.slha         300.0        2750.0        1375.0   \n",
       "\n",
       "     width.9000006  width.9900026  width.9900032  extpar.1  extpar.2  \\\n",
       "0              0.0       92.03608      130.38330       1.5      0.25   \n",
       "1              0.0       35.96803       84.82805       1.5      0.25   \n",
       "2              0.0      188.59920      171.56780       1.5      0.25   \n",
       "3              0.0      273.04930      111.90530       1.5      0.25   \n",
       "4              0.0      242.13570      117.75830       1.5      0.25   \n",
       "..             ...            ...            ...       ...       ...   \n",
       "417            0.0      128.43380      101.84660       1.5      0.25   \n",
       "418            0.0       60.46382      112.04410       1.5      0.25   \n",
       "419            0.0      283.91240      183.10900       1.5      0.25   \n",
       "420            0.0      144.78390      157.09180       1.5      0.25   \n",
       "421            0.0      147.34480      158.33780       1.5      0.25   \n",
       "\n",
       "     extpar.3  ...  ExptRes.result5.l_SM  ExptRes.result1.likelihood  \\\n",
       "0         0.0  ...         1.793298e-276                         NaN   \n",
       "1         0.0  ...                   NaN               1.702891e-286   \n",
       "2         0.0  ...                   NaN                         NaN   \n",
       "3         0.0  ...                   NaN                         NaN   \n",
       "4         0.0  ...                   NaN                         NaN   \n",
       "..        ...  ...                   ...                         ...   \n",
       "417       0.0  ...         1.793298e-276                         NaN   \n",
       "418       0.0  ...         1.793298e-276                         NaN   \n",
       "419       0.0  ...                   NaN                         NaN   \n",
       "420       0.0  ...         1.793298e-276                         NaN   \n",
       "421       0.0  ...         1.793298e-276                         NaN   \n",
       "\n",
       "     ExptRes.result1.l_max  ExptRes.result1.l_SM  ExptRes.result0.likelihood  \\\n",
       "0                      NaN                   NaN                         NaN   \n",
       "1            1.002372e-275         1.793298e-276                         NaN   \n",
       "2                      NaN                   NaN                         NaN   \n",
       "3                      NaN                   NaN                         NaN   \n",
       "4                      NaN                   NaN                         NaN   \n",
       "..                     ...                   ...                         ...   \n",
       "417                    NaN                   NaN                         NaN   \n",
       "418                    NaN                   NaN                         NaN   \n",
       "419                    NaN                   NaN                         NaN   \n",
       "420                    NaN                   NaN                         NaN   \n",
       "421                    NaN                   NaN                         NaN   \n",
       "\n",
       "     ExptRes.result0.l_max  ExptRes.result0.l_SM  ExptRes.result2.likelihood  \\\n",
       "0                      NaN                   NaN                         NaN   \n",
       "1                      NaN                   NaN                         NaN   \n",
       "2                      NaN                   NaN                         NaN   \n",
       "3                      NaN                   NaN                         NaN   \n",
       "4                      NaN                   NaN                         NaN   \n",
       "..                     ...                   ...                         ...   \n",
       "417                    NaN                   NaN                         NaN   \n",
       "418                    NaN                   NaN                         NaN   \n",
       "419                    NaN                   NaN                         NaN   \n",
       "420                    NaN                   NaN                         NaN   \n",
       "421                    NaN                   NaN                         NaN   \n",
       "\n",
       "     ExptRes.result2.l_max  ExptRes.result2.l_SM  \n",
       "0                      NaN                   NaN  \n",
       "1                      NaN                   NaN  \n",
       "2                      NaN                   NaN  \n",
       "3                      NaN                   NaN  \n",
       "4                      NaN                   NaN  \n",
       "..                     ...                   ...  \n",
       "417                    NaN                   NaN  \n",
       "418                    NaN                   NaN  \n",
       "419                    NaN                   NaN  \n",
       "420                    NaN                   NaN  \n",
       "421                    NaN                   NaN  \n",
       "\n",
       "[422 rows x 149 columns]"
      ]
     },
     "execution_count": 12,
     "metadata": {},
     "output_type": "execute_result"
    }
   ],
   "source": [
    "dataDF"
   ]
  },
  {
   "cell_type": "code",
   "execution_count": 13,
   "metadata": {
    "ExecuteTime": {
     "end_time": "2023-10-30T18:46:08.095073Z",
     "start_time": "2023-10-30T18:46:08.087997Z"
    }
   },
   "outputs": [],
   "source": [
    "#Save DataFrame to pickle file:\n",
    "dataDF.to_pickle('../../data/2mdm_results_rescaled/zp_only/results.pcl')"
   ]
  },
  {
   "cell_type": "code",
   "execution_count": 14,
   "metadata": {
    "ExecuteTime": {
     "end_time": "2023-10-30T17:05:03.584216Z",
     "start_time": "2023-10-30T17:05:03.571908Z"
    },
    "scrolled": true
   },
   "outputs": [
    {
     "name": "stdout",
     "output_type": "stream",
     "text": [
      "143\n"
     ]
    }
   ],
   "source": [
    "print(len(dataDF))"
   ]
  },
  {
   "cell_type": "code",
   "execution_count": null,
   "metadata": {},
   "outputs": [],
   "source": []
  }
 ],
 "metadata": {
  "kernelspec": {
   "display_name": "Python 3 (ipykernel)",
   "language": "python",
   "name": "python3"
  },
  "language_info": {
   "codemirror_mode": {
    "name": "ipython",
    "version": 3
   },
   "file_extension": ".py",
   "mimetype": "text/x-python",
   "name": "python",
   "nbconvert_exporter": "python",
   "pygments_lexer": "ipython3",
   "version": "3.10.12"
  }
 },
 "nbformat": 4,
 "nbformat_minor": 2
}
