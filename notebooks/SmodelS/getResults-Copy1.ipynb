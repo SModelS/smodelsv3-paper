{
 "cells": [
  {
   "cell_type": "markdown",
   "metadata": {},
   "source": [
    "### Read SLHA, SModelS output and store the data in a pandas DataFrame"
   ]
  },
  {
   "cell_type": "code",
   "execution_count": 1,
   "metadata": {
    "ExecuteTime": {
     "end_time": "2024-01-26T12:07:45.675249Z",
     "start_time": "2024-01-26T12:07:45.404407Z"
    },
    "scrolled": true
   },
   "outputs": [
    {
     "name": "stderr",
     "output_type": "stream",
     "text": [
      "/tmp/ipykernel_45177/3423779146.py:5: DeprecationWarning: the imp module is deprecated in favour of importlib and slated for removal in Python 3.12; see the module's documentation for alternative uses\n",
      "  import glob,imp,os,sys\n"
     ]
    }
   ],
   "source": [
    "import warnings\n",
    "warnings.filterwarnings(\"ignore\", message=\"numpy.dtype size changed\")\n",
    "import numpy as np\n",
    "import pandas as pd\n",
    "import glob,imp,os,sys\n",
    "from pandas import json_normalize\n",
    "import pyslha\n",
    "sys.path.append('/home/camila/smodels/')\n",
    "from smodels.share.models.mssm import BSMList\n",
    "from smodels.share.models.SMparticles import SMList\n",
    "from smodels.base.model import Model\n",
    "from smodels.particlesLoader import getParticlesFromSLHA\n",
    "\n",
    "pd.options.mode.chained_assignment = None #Disable copy warnings"
   ]
  },
  {
   "cell_type": "code",
   "execution_count": 2,
   "metadata": {
    "ExecuteTime": {
     "end_time": "2024-01-26T12:07:45.852904Z",
     "start_time": "2024-01-26T12:07:45.676838Z"
    }
   },
   "outputs": [
    {
     "name": "stdout",
     "output_type": "stream",
     "text": [
      "[gha, gha~, ghz, ghz~, ghwp, ghwp~, ghwm, ghwm~, ghg, ghg~, zp, ghzp, ghzp~, sd, chi]\n"
     ]
    }
   ],
   "source": [
    "BSMlist = getParticlesFromSLHA('../../2mdm_example.slha')\n",
    "model = Model(BSMparticles=BSMlist, SMparticles=SMList)\n",
    "print(BSMlist)"
   ]
  },
  {
   "cell_type": "code",
   "execution_count": 3,
   "metadata": {
    "ExecuteTime": {
     "end_time": "2024-01-26T12:07:46.127272Z",
     "start_time": "2024-01-26T12:07:45.855555Z"
    }
   },
   "outputs": [],
   "source": [
    "slhaFolder = '../../scan/slha_files/'\n",
    "smodelsFolder = '../../scan/smodels_results/'\n",
    "parametersSmodels = '../../parameters_2mdm.ini'"
   ]
  },
  {
   "cell_type": "code",
   "execution_count": null,
   "metadata": {
    "ExecuteTime": {
     "start_time": "2024-01-26T12:07:45.708Z"
    },
    "scrolled": true
   },
   "outputs": [
    {
     "name": "stdout",
     "output_type": "stream",
     "text": [
      "INFO in databaseObj.loadBinaryFile() in 549: loading binary db file /home/camila/smodels-database/db3.pcl format version 214\n",
      "INFO in databaseObj.loadBinaryFile() in 556: Loaded database from /home/camila/smodels-database/db3.pcl in 1.9 secs.\n",
      "INFO in modelTester.loadDatabaseResults() in 497: Including non-validated results\n",
      "INFO in modelTester.testPoints() in 357: Running SModelS for 160000 files with a single process. Messages will be redirected to smodels.log\n"
     ]
    }
   ],
   "source": [
    "!/home/camila/smodels-develop/runSModelS.py -p {parametersSmodels} -f {slhaFolder} -o {smodelsFolder}"
   ]
  },
  {
   "cell_type": "code",
   "execution_count": 5,
   "metadata": {
    "ExecuteTime": {
     "end_time": "2024-01-26T00:53:06.818129Z",
     "start_time": "2024-01-26T00:53:06.256767Z"
    }
   },
   "outputs": [],
   "source": [
    "#Convert Experimental Results list to a dictionary\n",
    "data = []\n",
    "removeFromDict = ['topologies outside the grid',\"missing topologies\",\n",
    "                  \"missing topologies with displaced decays\", 'missing topologies with prompt decays',\n",
    "                 \"Asymmetric Branches\",\"Outside Grid\",\"Missed Topologies\",\"Long Cascades\"]\n",
    "for f in glob.glob(smodelsFolder+'/*.py'):\n",
    "    with open(f,'r') as ff:\n",
    "        dataF = ff.read()\n",
    "    dataF = dataF.replace('inf','-1')\n",
    "    dataF = dataF.replace('None', '-1')\n",
    "    with open(f.replace('.py','_fix.py'),'w') as ff:\n",
    "        ff.write(dataF)\n",
    "    f = f.replace('.py','_fix.py')\n",
    "    smodelsDict = imp.load_source(f.replace('.py',''),f).smodelsOutput\n",
    "    for rmKey in removeFromDict:\n",
    "        if rmKey in smodelsDict:\n",
    "            smodelsDict.pop(rmKey)\n",
    "    if 'ExptRes' in smodelsDict:\n",
    "        for res in smodelsDict['ExptRes']:\n",
    "#             if res['r'] == None:\n",
    "#                 res['r'] = np.nan\n",
    "            if 'TxNames weights (fb)' in res:\n",
    "                res.pop('TxNames weights (fb)')  \n",
    "        expList = sorted(smodelsDict['ExptRes'], key=lambda pt: pt['r'],reverse=True)\n",
    "        expDict = dict([['result%i'%i,val] for i,val in enumerate(expList)])\n",
    "        smodelsDict['ExptRes'] = expDict\n",
    "    slhaFile = smodelsDict['OutputStatus']['input file']\n",
    "    dataDict = {'filename' : os.path.basename(slhaFile)}\n",
    "    dataDict.update(smodelsDict)\n",
    "    data.append(dataDict)"
   ]
  },
  {
   "cell_type": "code",
   "execution_count": 6,
   "metadata": {
    "ExecuteTime": {
     "end_time": "2024-01-26T00:53:06.823795Z",
     "start_time": "2024-01-26T00:53:06.819788Z"
    }
   },
   "outputs": [
    {
     "name": "stdout",
     "output_type": "stream",
     "text": [
      "500\n"
     ]
    }
   ],
   "source": [
    "print(len(data))"
   ]
  },
  {
   "cell_type": "code",
   "execution_count": 7,
   "metadata": {
    "ExecuteTime": {
     "end_time": "2024-01-26T00:53:07.168273Z",
     "start_time": "2024-01-26T00:53:06.827844Z"
    }
   },
   "outputs": [],
   "source": [
    "#Convert data to flat DataFrame:\n",
    "smodelsDF = json_normalize(data)"
   ]
  },
  {
   "cell_type": "code",
   "execution_count": 8,
   "metadata": {
    "ExecuteTime": {
     "end_time": "2024-01-26T00:53:07.384063Z",
     "start_time": "2024-01-26T00:53:07.169926Z"
    }
   },
   "outputs": [
    {
     "data": {
      "text/plain": [
       "500"
      ]
     },
     "execution_count": 8,
     "metadata": {},
     "output_type": "execute_result"
    }
   ],
   "source": [
    "len(smodelsDF['filename'])"
   ]
  },
  {
   "cell_type": "code",
   "execution_count": 9,
   "metadata": {
    "ExecuteTime": {
     "end_time": "2024-01-26T00:53:11.235055Z",
     "start_time": "2024-01-26T00:53:07.386195Z"
    }
   },
   "outputs": [],
   "source": [
    "#Get SLHA data:\n",
    "slhaData = []\n",
    "for f in smodelsDF['filename']:\n",
    "    if f == 'pq-1wlb.slha': continue\n",
    "    slhaFile = os.path.join(slhaFolder,f)\n",
    "    slha = pyslha.readSLHAFile(slhaFile)\n",
    "    massDict = dict([[str(key),abs(val)] for key,val in slha.blocks['MASS'].items() if key >= 52])\n",
    "    extparDict = dict([[str(key),val] for key,val in slha.blocks['ZPRIME'].items()])\n",
    "    extparDict.update(dict([[str(key+len(extparDict)),val] for key,val in slha.blocks['BLINPUTS'].items()]))\n",
    "    \n",
    "    widthDict = dict([[str(key),val.totalwidth] for key,val in slha.decays.items() if key >= 52])\n",
    "    BRsDict = {}\n",
    "    for pdg,val in slha.decays.items():\n",
    "#         if not abs(pdg) in [1000024,1000023]:\n",
    "#             continue\n",
    "        initialState = model.getParticlesWith(pdg=pdg)[0].label            \n",
    "        BRsDict[initialState] = {}\n",
    "        for dec in val.decays:\n",
    "            if dec.br < 0.01: continue            \n",
    "            finalState = ','.join([model.getParticlesWith(pdg=pid)[0].label for pid in sorted(dec.ids)])\n",
    "            BRsDict[initialState][finalState] = dec.br\n",
    "    xsec8TeV = dict([ [str(proc.pidsfinal).replace('[','').replace(']','').replace(',','_').replace(' ',''),\n",
    "                   max([x.value for x in proc.get_xsecs(sqrts=8000)])*1000] \n",
    "                 for proc in slha.xsections.values()  if proc.get_xsecs(sqrts=8000)])\n",
    "    xsec13TeV = dict([ [str(proc.pidsfinal).replace('[','').replace(']','').replace(',','_').replace(' ',''),\n",
    "                   max([x.value for x in proc.get_xsecs(sqrts=13000)])*1000] \n",
    "                 for proc in slha.xsections.values()  if proc.get_xsecs(sqrts=13000)])    \n",
    "    slhaDict = {'filename' : f, 'mass' : massDict, 'width' : widthDict, 'extpar' : extparDict, \n",
    "                'xsec8TeV(fb)' : xsec8TeV, 'xsec13TeV(fb)' : xsec13TeV, 'BRs' : BRsDict}\n",
    "    slhaData.append(slhaDict)"
   ]
  },
  {
   "cell_type": "code",
   "execution_count": 10,
   "metadata": {
    "ExecuteTime": {
     "end_time": "2024-01-26T00:53:11.271339Z",
     "start_time": "2024-01-26T00:53:11.236588Z"
    }
   },
   "outputs": [],
   "source": [
    "#Convert to DataFrame\n",
    "slhaDF = json_normalize(slhaData)\n",
    "#Add total cross-sections:\n",
    "xsecs13 = [x for x in list(slhaDF) if 'xsec13TeV' in x]\n",
    "xsecs8 = [x for x in list(slhaDF) if 'xsec8TeV' in x]\n",
    "slhaDF['totalxsec13TeV(fb)'] = slhaDF[xsecs13].sum(axis=1)\n",
    "slhaDF['totalxsec8TeV(fb)'] = slhaDF[xsecs8].sum(axis=1)"
   ]
  },
  {
   "cell_type": "code",
   "execution_count": 11,
   "metadata": {
    "ExecuteTime": {
     "end_time": "2024-01-26T00:53:11.567012Z",
     "start_time": "2024-01-26T00:53:11.273225Z"
    }
   },
   "outputs": [],
   "source": [
    "#Merge with SModelS DataFrame\n",
    "dataDF = slhaDF.merge(smodelsDF,how='inner')"
   ]
  },
  {
   "cell_type": "code",
   "execution_count": 12,
   "metadata": {
    "ExecuteTime": {
     "end_time": "2024-01-26T00:53:11.794329Z",
     "start_time": "2024-01-26T00:53:11.570788Z"
    }
   },
   "outputs": [
    {
     "name": "stdout",
     "output_type": "stream",
     "text": [
      "Final number of data points: 500\n"
     ]
    }
   ],
   "source": [
    "\n",
    "print('Final number of data points:',dataDF.shape[0])\n",
    "#print(dataDF2.columns.values.tolist()) #Print all columns names"
   ]
  },
  {
   "cell_type": "code",
   "execution_count": 13,
   "metadata": {
    "ExecuteTime": {
     "end_time": "2024-01-26T00:53:12.115960Z",
     "start_time": "2024-01-26T00:53:11.801123Z"
    }
   },
   "outputs": [
    {
     "data": {
      "text/html": [
       "<div>\n",
       "<style scoped>\n",
       "    .dataframe tbody tr th:only-of-type {\n",
       "        vertical-align: middle;\n",
       "    }\n",
       "\n",
       "    .dataframe tbody tr th {\n",
       "        vertical-align: top;\n",
       "    }\n",
       "\n",
       "    .dataframe thead th {\n",
       "        text-align: right;\n",
       "    }\n",
       "</style>\n",
       "<table border=\"1\" class=\"dataframe\">\n",
       "  <thead>\n",
       "    <tr style=\"text-align: right;\">\n",
       "      <th></th>\n",
       "      <th>filename</th>\n",
       "      <th>mass.9000006</th>\n",
       "      <th>mass.9900032</th>\n",
       "      <th>mass.9000002</th>\n",
       "      <th>mass.9000003</th>\n",
       "      <th>mass.9000004</th>\n",
       "      <th>mass.9000005</th>\n",
       "      <th>mass.9900026</th>\n",
       "      <th>width.9000002</th>\n",
       "      <th>width.9000003</th>\n",
       "      <th>...</th>\n",
       "      <th>ExptRes.result5.DataSetID</th>\n",
       "      <th>ExptRes.result5.AnalysisSqrts (TeV)</th>\n",
       "      <th>ExptRes.result5.lumi (fb-1)</th>\n",
       "      <th>ExptRes.result5.dataType</th>\n",
       "      <th>ExptRes.result5.r</th>\n",
       "      <th>ExptRes.result5.r_expected</th>\n",
       "      <th>ExptRes.result5.Width (GeV)</th>\n",
       "      <th>ExptRes.result5.likelihood</th>\n",
       "      <th>ExptRes.result5.l_max</th>\n",
       "      <th>ExptRes.result5.l_SM</th>\n",
       "    </tr>\n",
       "  </thead>\n",
       "  <tbody>\n",
       "    <tr>\n",
       "      <th>0</th>\n",
       "      <td>krwapnqu.slha</td>\n",
       "      <td>995.2105</td>\n",
       "      <td>3325.3750</td>\n",
       "      <td>91.1876</td>\n",
       "      <td>79.82436</td>\n",
       "      <td>79.82436</td>\n",
       "      <td>1500.0</td>\n",
       "      <td>1662.6880</td>\n",
       "      <td>2.4952</td>\n",
       "      <td>2.085</td>\n",
       "      <td>...</td>\n",
       "      <td>NaN</td>\n",
       "      <td>NaN</td>\n",
       "      <td>NaN</td>\n",
       "      <td>NaN</td>\n",
       "      <td>NaN</td>\n",
       "      <td>NaN</td>\n",
       "      <td>NaN</td>\n",
       "      <td>NaN</td>\n",
       "      <td>NaN</td>\n",
       "      <td>NaN</td>\n",
       "    </tr>\n",
       "    <tr>\n",
       "      <th>1</th>\n",
       "      <td>orfkwbzj.slha</td>\n",
       "      <td>868.6225</td>\n",
       "      <td>2717.1510</td>\n",
       "      <td>91.1876</td>\n",
       "      <td>79.82436</td>\n",
       "      <td>79.82436</td>\n",
       "      <td>1500.0</td>\n",
       "      <td>1358.5750</td>\n",
       "      <td>2.4952</td>\n",
       "      <td>2.085</td>\n",
       "      <td>...</td>\n",
       "      <td>NaN</td>\n",
       "      <td>NaN</td>\n",
       "      <td>NaN</td>\n",
       "      <td>NaN</td>\n",
       "      <td>NaN</td>\n",
       "      <td>NaN</td>\n",
       "      <td>NaN</td>\n",
       "      <td>NaN</td>\n",
       "      <td>NaN</td>\n",
       "      <td>NaN</td>\n",
       "    </tr>\n",
       "    <tr>\n",
       "      <th>2</th>\n",
       "      <td>ghdjxkov.slha</td>\n",
       "      <td>1443.4310</td>\n",
       "      <td>3735.0750</td>\n",
       "      <td>91.1876</td>\n",
       "      <td>79.82436</td>\n",
       "      <td>79.82436</td>\n",
       "      <td>1500.0</td>\n",
       "      <td>1867.5380</td>\n",
       "      <td>2.4952</td>\n",
       "      <td>2.085</td>\n",
       "      <td>...</td>\n",
       "      <td>NaN</td>\n",
       "      <td>NaN</td>\n",
       "      <td>NaN</td>\n",
       "      <td>NaN</td>\n",
       "      <td>NaN</td>\n",
       "      <td>NaN</td>\n",
       "      <td>NaN</td>\n",
       "      <td>NaN</td>\n",
       "      <td>NaN</td>\n",
       "      <td>NaN</td>\n",
       "    </tr>\n",
       "    <tr>\n",
       "      <th>3</th>\n",
       "      <td>tymwhlcd.slha</td>\n",
       "      <td>208.7580</td>\n",
       "      <td>431.9450</td>\n",
       "      <td>91.1876</td>\n",
       "      <td>79.82436</td>\n",
       "      <td>79.82436</td>\n",
       "      <td>1500.0</td>\n",
       "      <td>215.9725</td>\n",
       "      <td>2.4952</td>\n",
       "      <td>2.085</td>\n",
       "      <td>...</td>\n",
       "      <td>NaN</td>\n",
       "      <td>NaN</td>\n",
       "      <td>NaN</td>\n",
       "      <td>NaN</td>\n",
       "      <td>NaN</td>\n",
       "      <td>NaN</td>\n",
       "      <td>NaN</td>\n",
       "      <td>NaN</td>\n",
       "      <td>NaN</td>\n",
       "      <td>NaN</td>\n",
       "    </tr>\n",
       "    <tr>\n",
       "      <th>4</th>\n",
       "      <td>kfpcvmed.slha</td>\n",
       "      <td>199.3033</td>\n",
       "      <td>538.0356</td>\n",
       "      <td>91.1876</td>\n",
       "      <td>79.82436</td>\n",
       "      <td>79.82436</td>\n",
       "      <td>1500.0</td>\n",
       "      <td>269.0178</td>\n",
       "      <td>2.4952</td>\n",
       "      <td>2.085</td>\n",
       "      <td>...</td>\n",
       "      <td>NaN</td>\n",
       "      <td>NaN</td>\n",
       "      <td>NaN</td>\n",
       "      <td>NaN</td>\n",
       "      <td>NaN</td>\n",
       "      <td>NaN</td>\n",
       "      <td>NaN</td>\n",
       "      <td>NaN</td>\n",
       "      <td>NaN</td>\n",
       "      <td>NaN</td>\n",
       "    </tr>\n",
       "    <tr>\n",
       "      <th>...</th>\n",
       "      <td>...</td>\n",
       "      <td>...</td>\n",
       "      <td>...</td>\n",
       "      <td>...</td>\n",
       "      <td>...</td>\n",
       "      <td>...</td>\n",
       "      <td>...</td>\n",
       "      <td>...</td>\n",
       "      <td>...</td>\n",
       "      <td>...</td>\n",
       "      <td>...</td>\n",
       "      <td>...</td>\n",
       "      <td>...</td>\n",
       "      <td>...</td>\n",
       "      <td>...</td>\n",
       "      <td>...</td>\n",
       "      <td>...</td>\n",
       "      <td>...</td>\n",
       "      <td>...</td>\n",
       "      <td>...</td>\n",
       "      <td>...</td>\n",
       "    </tr>\n",
       "    <tr>\n",
       "      <th>495</th>\n",
       "      <td>qmblpedf.slha</td>\n",
       "      <td>263.0186</td>\n",
       "      <td>1093.2460</td>\n",
       "      <td>91.1876</td>\n",
       "      <td>79.82436</td>\n",
       "      <td>79.82436</td>\n",
       "      <td>1500.0</td>\n",
       "      <td>546.6228</td>\n",
       "      <td>2.4952</td>\n",
       "      <td>2.085</td>\n",
       "      <td>...</td>\n",
       "      <td>NaN</td>\n",
       "      <td>NaN</td>\n",
       "      <td>NaN</td>\n",
       "      <td>NaN</td>\n",
       "      <td>NaN</td>\n",
       "      <td>NaN</td>\n",
       "      <td>NaN</td>\n",
       "      <td>NaN</td>\n",
       "      <td>NaN</td>\n",
       "      <td>NaN</td>\n",
       "    </tr>\n",
       "    <tr>\n",
       "      <th>496</th>\n",
       "      <td>zxwraqey.slha</td>\n",
       "      <td>611.1910</td>\n",
       "      <td>3126.5020</td>\n",
       "      <td>91.1876</td>\n",
       "      <td>79.82436</td>\n",
       "      <td>79.82436</td>\n",
       "      <td>1500.0</td>\n",
       "      <td>1563.2510</td>\n",
       "      <td>2.4952</td>\n",
       "      <td>2.085</td>\n",
       "      <td>...</td>\n",
       "      <td>NaN</td>\n",
       "      <td>NaN</td>\n",
       "      <td>NaN</td>\n",
       "      <td>NaN</td>\n",
       "      <td>NaN</td>\n",
       "      <td>NaN</td>\n",
       "      <td>NaN</td>\n",
       "      <td>NaN</td>\n",
       "      <td>NaN</td>\n",
       "      <td>NaN</td>\n",
       "    </tr>\n",
       "    <tr>\n",
       "      <th>497</th>\n",
       "      <td>abznlekc.slha</td>\n",
       "      <td>509.4655</td>\n",
       "      <td>3644.7430</td>\n",
       "      <td>91.1876</td>\n",
       "      <td>79.82436</td>\n",
       "      <td>79.82436</td>\n",
       "      <td>1500.0</td>\n",
       "      <td>1822.3720</td>\n",
       "      <td>2.4952</td>\n",
       "      <td>2.085</td>\n",
       "      <td>...</td>\n",
       "      <td>NaN</td>\n",
       "      <td>NaN</td>\n",
       "      <td>NaN</td>\n",
       "      <td>NaN</td>\n",
       "      <td>NaN</td>\n",
       "      <td>NaN</td>\n",
       "      <td>NaN</td>\n",
       "      <td>NaN</td>\n",
       "      <td>NaN</td>\n",
       "      <td>NaN</td>\n",
       "    </tr>\n",
       "    <tr>\n",
       "      <th>498</th>\n",
       "      <td>bvckmtzq.slha</td>\n",
       "      <td>275.8141</td>\n",
       "      <td>2774.1380</td>\n",
       "      <td>91.1876</td>\n",
       "      <td>79.82436</td>\n",
       "      <td>79.82436</td>\n",
       "      <td>1500.0</td>\n",
       "      <td>1387.0690</td>\n",
       "      <td>2.4952</td>\n",
       "      <td>2.085</td>\n",
       "      <td>...</td>\n",
       "      <td>NaN</td>\n",
       "      <td>NaN</td>\n",
       "      <td>NaN</td>\n",
       "      <td>NaN</td>\n",
       "      <td>NaN</td>\n",
       "      <td>NaN</td>\n",
       "      <td>NaN</td>\n",
       "      <td>NaN</td>\n",
       "      <td>NaN</td>\n",
       "      <td>NaN</td>\n",
       "    </tr>\n",
       "    <tr>\n",
       "      <th>499</th>\n",
       "      <td>lhnfytxi.slha</td>\n",
       "      <td>150.2015</td>\n",
       "      <td>637.6009</td>\n",
       "      <td>91.1876</td>\n",
       "      <td>79.82436</td>\n",
       "      <td>79.82436</td>\n",
       "      <td>1500.0</td>\n",
       "      <td>318.8004</td>\n",
       "      <td>2.4952</td>\n",
       "      <td>2.085</td>\n",
       "      <td>...</td>\n",
       "      <td>NaN</td>\n",
       "      <td>NaN</td>\n",
       "      <td>NaN</td>\n",
       "      <td>NaN</td>\n",
       "      <td>NaN</td>\n",
       "      <td>NaN</td>\n",
       "      <td>NaN</td>\n",
       "      <td>NaN</td>\n",
       "      <td>NaN</td>\n",
       "      <td>NaN</td>\n",
       "    </tr>\n",
       "  </tbody>\n",
       "</table>\n",
       "<p>500 rows × 167 columns</p>\n",
       "</div>"
      ],
      "text/plain": [
       "          filename  mass.9000006  mass.9900032  mass.9000002  mass.9000003  \\\n",
       "0    krwapnqu.slha      995.2105     3325.3750       91.1876      79.82436   \n",
       "1    orfkwbzj.slha      868.6225     2717.1510       91.1876      79.82436   \n",
       "2    ghdjxkov.slha     1443.4310     3735.0750       91.1876      79.82436   \n",
       "3    tymwhlcd.slha      208.7580      431.9450       91.1876      79.82436   \n",
       "4    kfpcvmed.slha      199.3033      538.0356       91.1876      79.82436   \n",
       "..             ...           ...           ...           ...           ...   \n",
       "495  qmblpedf.slha      263.0186     1093.2460       91.1876      79.82436   \n",
       "496  zxwraqey.slha      611.1910     3126.5020       91.1876      79.82436   \n",
       "497  abznlekc.slha      509.4655     3644.7430       91.1876      79.82436   \n",
       "498  bvckmtzq.slha      275.8141     2774.1380       91.1876      79.82436   \n",
       "499  lhnfytxi.slha      150.2015      637.6009       91.1876      79.82436   \n",
       "\n",
       "     mass.9000004  mass.9000005  mass.9900026  width.9000002  width.9000003  \\\n",
       "0        79.82436        1500.0     1662.6880         2.4952          2.085   \n",
       "1        79.82436        1500.0     1358.5750         2.4952          2.085   \n",
       "2        79.82436        1500.0     1867.5380         2.4952          2.085   \n",
       "3        79.82436        1500.0      215.9725         2.4952          2.085   \n",
       "4        79.82436        1500.0      269.0178         2.4952          2.085   \n",
       "..            ...           ...           ...            ...            ...   \n",
       "495      79.82436        1500.0      546.6228         2.4952          2.085   \n",
       "496      79.82436        1500.0     1563.2510         2.4952          2.085   \n",
       "497      79.82436        1500.0     1822.3720         2.4952          2.085   \n",
       "498      79.82436        1500.0     1387.0690         2.4952          2.085   \n",
       "499      79.82436        1500.0      318.8004         2.4952          2.085   \n",
       "\n",
       "     ...  ExptRes.result5.DataSetID  ExptRes.result5.AnalysisSqrts (TeV)  \\\n",
       "0    ...                        NaN                                  NaN   \n",
       "1    ...                        NaN                                  NaN   \n",
       "2    ...                        NaN                                  NaN   \n",
       "3    ...                        NaN                                  NaN   \n",
       "4    ...                        NaN                                  NaN   \n",
       "..   ...                        ...                                  ...   \n",
       "495  ...                        NaN                                  NaN   \n",
       "496  ...                        NaN                                  NaN   \n",
       "497  ...                        NaN                                  NaN   \n",
       "498  ...                        NaN                                  NaN   \n",
       "499  ...                        NaN                                  NaN   \n",
       "\n",
       "     ExptRes.result5.lumi (fb-1)  ExptRes.result5.dataType  ExptRes.result5.r  \\\n",
       "0                            NaN                       NaN                NaN   \n",
       "1                            NaN                       NaN                NaN   \n",
       "2                            NaN                       NaN                NaN   \n",
       "3                            NaN                       NaN                NaN   \n",
       "4                            NaN                       NaN                NaN   \n",
       "..                           ...                       ...                ...   \n",
       "495                          NaN                       NaN                NaN   \n",
       "496                          NaN                       NaN                NaN   \n",
       "497                          NaN                       NaN                NaN   \n",
       "498                          NaN                       NaN                NaN   \n",
       "499                          NaN                       NaN                NaN   \n",
       "\n",
       "     ExptRes.result5.r_expected  ExptRes.result5.Width (GeV)  \\\n",
       "0                           NaN                          NaN   \n",
       "1                           NaN                          NaN   \n",
       "2                           NaN                          NaN   \n",
       "3                           NaN                          NaN   \n",
       "4                           NaN                          NaN   \n",
       "..                          ...                          ...   \n",
       "495                         NaN                          NaN   \n",
       "496                         NaN                          NaN   \n",
       "497                         NaN                          NaN   \n",
       "498                         NaN                          NaN   \n",
       "499                         NaN                          NaN   \n",
       "\n",
       "     ExptRes.result5.likelihood  ExptRes.result5.l_max  ExptRes.result5.l_SM  \n",
       "0                           NaN                    NaN                   NaN  \n",
       "1                           NaN                    NaN                   NaN  \n",
       "2                           NaN                    NaN                   NaN  \n",
       "3                           NaN                    NaN                   NaN  \n",
       "4                           NaN                    NaN                   NaN  \n",
       "..                          ...                    ...                   ...  \n",
       "495                         NaN                    NaN                   NaN  \n",
       "496                         NaN                    NaN                   NaN  \n",
       "497                         NaN                    NaN                   NaN  \n",
       "498                         NaN                    NaN                   NaN  \n",
       "499                         NaN                    NaN                   NaN  \n",
       "\n",
       "[500 rows x 167 columns]"
      ]
     },
     "execution_count": 13,
     "metadata": {},
     "output_type": "execute_result"
    }
   ],
   "source": [
    "dataDF"
   ]
  },
  {
   "cell_type": "code",
   "execution_count": 14,
   "metadata": {
    "ExecuteTime": {
     "end_time": "2024-01-26T00:53:12.312635Z",
     "start_time": "2024-01-26T00:53:12.117621Z"
    }
   },
   "outputs": [],
   "source": [
    "#Save DataFrame to pickle file:\n",
    "dataDF.to_pickle('../../scan/smodels_results/scan_results.pcl')"
   ]
  },
  {
   "cell_type": "code",
   "execution_count": 15,
   "metadata": {
    "ExecuteTime": {
     "end_time": "2024-01-25T22:56:11.574649Z",
     "start_time": "2024-01-25T22:56:11.570656Z"
    },
    "scrolled": false
   },
   "outputs": [
    {
     "name": "stdout",
     "output_type": "stream",
     "text": [
      "250\n"
     ]
    }
   ],
   "source": [
    "print(len(dataDF))"
   ]
  },
  {
   "cell_type": "code",
   "execution_count": 15,
   "metadata": {
    "ExecuteTime": {
     "end_time": "2024-01-22T17:40:27.118096Z",
     "start_time": "2024-01-22T17:40:27.106206Z"
    }
   },
   "outputs": [
    {
     "data": {
      "text/plain": [
       "0.3445060843"
      ]
     },
     "execution_count": 15,
     "metadata": {},
     "output_type": "execute_result"
    }
   ],
   "source": [
    "6.4700e-01*5.324669e-01"
   ]
  },
  {
   "cell_type": "code",
   "execution_count": null,
   "metadata": {},
   "outputs": [],
   "source": []
  }
 ],
 "metadata": {
  "kernelspec": {
   "display_name": "Python 3 (ipykernel)",
   "language": "python",
   "name": "python3"
  },
  "language_info": {
   "codemirror_mode": {
    "name": "ipython",
    "version": 3
   },
   "file_extension": ".py",
   "mimetype": "text/x-python",
   "name": "python",
   "nbconvert_exporter": "python",
   "pygments_lexer": "ipython3",
   "version": "3.10.12"
  }
 },
 "nbformat": 4,
 "nbformat_minor": 2
}
