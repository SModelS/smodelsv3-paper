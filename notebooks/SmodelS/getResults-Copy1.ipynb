{
 "cells": [
  {
   "cell_type": "markdown",
   "metadata": {},
   "source": [
    "### Read SLHA, SModelS output and store the data in a pandas DataFrame"
   ]
  },
  {
   "cell_type": "code",
   "execution_count": 1,
   "metadata": {
    "ExecuteTime": {
     "end_time": "2024-01-18T22:22:34.665502Z",
     "start_time": "2024-01-18T22:22:34.407109Z"
    },
    "scrolled": true
   },
   "outputs": [
    {
     "name": "stderr",
     "output_type": "stream",
     "text": [
      "/tmp/ipykernel_343817/3423779146.py:5: DeprecationWarning: the imp module is deprecated in favour of importlib and slated for removal in Python 3.12; see the module's documentation for alternative uses\n",
      "  import glob,imp,os,sys\n"
     ]
    }
   ],
   "source": [
    "import warnings\n",
    "warnings.filterwarnings(\"ignore\", message=\"numpy.dtype size changed\")\n",
    "import numpy as np\n",
    "import pandas as pd\n",
    "import glob,imp,os,sys\n",
    "from pandas import json_normalize\n",
    "import pyslha\n",
    "sys.path.append('/home/camila/smodels/')\n",
    "from smodels.share.models.mssm import BSMList\n",
    "from smodels.share.models.SMparticles import SMList\n",
    "from smodels.base.model import Model\n",
    "from smodels.particlesLoader import getParticlesFromSLHA\n",
    "\n",
    "pd.options.mode.chained_assignment = None #Disable copy warnings"
   ]
  },
  {
   "cell_type": "code",
   "execution_count": 2,
   "metadata": {
    "ExecuteTime": {
     "end_time": "2024-01-18T22:22:34.744971Z",
     "start_time": "2024-01-18T22:22:34.714084Z"
    }
   },
   "outputs": [
    {
     "name": "stdout",
     "output_type": "stream",
     "text": [
      "[gha, gha~, ghz, ghz~, ghwp, ghwp~, ghwm, ghwm~, ghg, ghg~, zp, ghzp, ghzp~, sd, chi]\n"
     ]
    }
   ],
   "source": [
    "BSMlist = getParticlesFromSLHA('../../2mdm_zp_prod_random_v3/Events/run_01/run_01_zp_1195.slha')\n",
    "model = Model(BSMparticles=BSMlist, SMparticles=SMList)\n",
    "print(BSMlist)"
   ]
  },
  {
   "cell_type": "code",
   "execution_count": 3,
   "metadata": {
    "ExecuteTime": {
     "end_time": "2024-01-18T22:22:35.002122Z",
     "start_time": "2024-01-18T22:22:34.992879Z"
    }
   },
   "outputs": [],
   "source": [
    "slhaFolder = '../../slha_files_8TeV/'\n",
    "smodelsFolder = '../../data/2mdm_results_8TeV/'\n",
    "parametersSmodels = '/home/camila/smodels/parameters_2mdm.ini'"
   ]
  },
  {
   "cell_type": "code",
   "execution_count": 4,
   "metadata": {
    "ExecuteTime": {
     "end_time": "2024-01-18T22:23:45.455549Z",
     "start_time": "2024-01-18T22:22:35.227150Z"
    },
    "scrolled": true
   },
   "outputs": [
    {
     "name": "stdout",
     "output_type": "stream",
     "text": [
      "INFO in databaseObj.loadBinaryFile() in 526: loading binary db file /home/camila/smodels-database/db3.pcl format version 214\n",
      "INFO in databaseObj.loadBinaryFile() in 533: Loaded database from /home/camila/smodels-database/db3.pcl in 1.9 secs.\n",
      "INFO in modelTester.loadDatabaseResults() in 498: Including non-validated results\n",
      "INFO in modelTester.testPoints() in 358: Running SModelS for 153 files with a single process. Messages will be redirected to smodels.log\n"
     ]
    }
   ],
   "source": [
    "!/home/camila/smodels/runSModelS.py -p {parametersSmodels} -f {slhaFolder} -o {smodelsFolder}"
   ]
  },
  {
   "cell_type": "code",
   "execution_count": 5,
   "metadata": {
    "ExecuteTime": {
     "end_time": "2024-01-18T22:23:50.667708Z",
     "start_time": "2024-01-18T22:23:50.569947Z"
    }
   },
   "outputs": [],
   "source": [
    "#Convert Experimental Results list to a dictionary\n",
    "data = []\n",
    "removeFromDict = ['topologies outside the grid',\"missing topologies\",\n",
    "                  \"missing topologies with displaced decays\", 'missing topologies with prompt decays',\n",
    "                 \"Asymmetric Branches\",\"Outside Grid\",\"Missed Topologies\",\"Long Cascades\"]\n",
    "for f in glob.glob(smodelsFolder+'/*.py'):\n",
    "    with open(f,'r') as ff:\n",
    "        dataF = ff.read()\n",
    "    dataF = dataF.replace('inf','-1')\n",
    "    dataF = dataF.replace('None', '-1')\n",
    "    with open(f.replace('.py','_fix.py'),'w') as ff:\n",
    "        ff.write(dataF)\n",
    "    f = f.replace('.py','_fix.py')\n",
    "    smodelsDict = imp.load_source(f.replace('.py',''),f).smodelsOutput\n",
    "    for rmKey in removeFromDict:\n",
    "        if rmKey in smodelsDict:\n",
    "            smodelsDict.pop(rmKey)\n",
    "    if 'ExptRes' in smodelsDict:\n",
    "        for res in smodelsDict['ExptRes']:\n",
    "#             if res['r'] == None:\n",
    "#                 res['r'] = np.nan\n",
    "            if 'TxNames weights (fb)' in res:\n",
    "                res.pop('TxNames weights (fb)')  \n",
    "        expList = sorted(smodelsDict['ExptRes'], key=lambda pt: pt['r'],reverse=True)\n",
    "        expDict = dict([['result%i'%i,val] for i,val in enumerate(expList)])\n",
    "        smodelsDict['ExptRes'] = expDict\n",
    "    slhaFile = smodelsDict['OutputStatus']['input file']\n",
    "    dataDict = {'filename' : os.path.basename(slhaFile)}\n",
    "    dataDict.update(smodelsDict)\n",
    "    data.append(dataDict)"
   ]
  },
  {
   "cell_type": "code",
   "execution_count": 6,
   "metadata": {
    "ExecuteTime": {
     "end_time": "2024-01-18T22:23:51.014842Z",
     "start_time": "2024-01-18T22:23:50.846462Z"
    }
   },
   "outputs": [
    {
     "name": "stdout",
     "output_type": "stream",
     "text": [
      "153\n"
     ]
    }
   ],
   "source": [
    "print(len(data))"
   ]
  },
  {
   "cell_type": "code",
   "execution_count": 7,
   "metadata": {
    "ExecuteTime": {
     "end_time": "2024-01-18T22:23:51.430363Z",
     "start_time": "2024-01-18T22:23:51.074050Z"
    }
   },
   "outputs": [],
   "source": [
    "#Convert data to flat DataFrame:\n",
    "smodelsDF = json_normalize(data)"
   ]
  },
  {
   "cell_type": "code",
   "execution_count": 8,
   "metadata": {
    "ExecuteTime": {
     "end_time": "2024-01-18T22:23:52.455147Z",
     "start_time": "2024-01-18T22:23:51.697740Z"
    }
   },
   "outputs": [],
   "source": [
    "#Get SLHA data:\n",
    "slhaData = []\n",
    "for f in smodelsDF['filename']:\n",
    "    slhaFile = os.path.join(slhaFolder,f)\n",
    "    slha = pyslha.readSLHAFile(slhaFile)\n",
    "    massDict = dict([[str(key),abs(val)] for key,val in slha.blocks['MASS'].items() if key >= 52])\n",
    "    extparDict = dict([[str(key),val] for key,val in slha.blocks['ZPRIME'].items()])\n",
    "    extparDict.update(dict([[str(key+len(extparDict)),val] for key,val in slha.blocks['BLINPUTS'].items()]))\n",
    "    \n",
    "    widthDict = dict([[str(key),val.totalwidth] for key,val in slha.decays.items() if key >= 52])\n",
    "    BRsDict = {}\n",
    "    for pdg,val in slha.decays.items():\n",
    "#         if not abs(pdg) in [1000024,1000023]:\n",
    "#             continue\n",
    "        initialState = model.getParticlesWith(pdg=pdg)[0].label            \n",
    "        BRsDict[initialState] = {}\n",
    "        for dec in val.decays:\n",
    "            if dec.br < 0.01: continue            \n",
    "            finalState = ','.join([model.getParticlesWith(pdg=pid)[0].label for pid in sorted(dec.ids)])\n",
    "            BRsDict[initialState][finalState] = dec.br\n",
    "    xsec8TeV = dict([ [str(proc.pidsfinal).replace('[','').replace(']','').replace(',','_').replace(' ',''),\n",
    "                   max([x.value for x in proc.get_xsecs(sqrts=8000)])*1000] \n",
    "                 for proc in slha.xsections.values()  if proc.get_xsecs(sqrts=8000)])\n",
    "    xsec13TeV = dict([ [str(proc.pidsfinal).replace('[','').replace(']','').replace(',','_').replace(' ',''),\n",
    "                   max([x.value for x in proc.get_xsecs(sqrts=13000)])*1000] \n",
    "                 for proc in slha.xsections.values()  if proc.get_xsecs(sqrts=13000)])    \n",
    "    slhaDict = {'filename' : f, 'mass' : massDict, 'width' : widthDict, 'extpar' : extparDict, \n",
    "                'xsec8TeV(fb)' : xsec8TeV, 'xsec13TeV(fb)' : xsec13TeV, 'BRs' : BRsDict}\n",
    "    slhaData.append(slhaDict)"
   ]
  },
  {
   "cell_type": "code",
   "execution_count": 9,
   "metadata": {
    "ExecuteTime": {
     "end_time": "2024-01-18T22:23:52.468777Z",
     "start_time": "2024-01-18T22:23:52.456755Z"
    }
   },
   "outputs": [],
   "source": [
    "#Convert to DataFrame\n",
    "slhaDF = json_normalize(slhaData)\n",
    "#Add total cross-sections:\n",
    "xsecs13 = [x for x in list(slhaDF) if 'xsec13TeV' in x]\n",
    "xsecs8 = [x for x in list(slhaDF) if 'xsec8TeV' in x]\n",
    "slhaDF['totalxsec13TeV(fb)'] = slhaDF[xsecs13].sum(axis=1)\n",
    "slhaDF['totalxsec8TeV(fb)'] = slhaDF[xsecs8].sum(axis=1)"
   ]
  },
  {
   "cell_type": "code",
   "execution_count": 10,
   "metadata": {
    "ExecuteTime": {
     "end_time": "2024-01-18T22:23:52.847049Z",
     "start_time": "2024-01-18T22:23:52.832967Z"
    }
   },
   "outputs": [],
   "source": [
    "#Merge with SModelS DataFrame\n",
    "dataDF = slhaDF.merge(smodelsDF,how='inner')"
   ]
  },
  {
   "cell_type": "code",
   "execution_count": 11,
   "metadata": {
    "ExecuteTime": {
     "end_time": "2024-01-18T22:23:53.180589Z",
     "start_time": "2024-01-18T22:23:53.031517Z"
    }
   },
   "outputs": [
    {
     "name": "stdout",
     "output_type": "stream",
     "text": [
      "Final number of data points: 153\n"
     ]
    }
   ],
   "source": [
    "\n",
    "print('Final number of data points:',dataDF.shape[0])\n",
    "#print(dataDF2.columns.values.tolist()) #Print all columns names"
   ]
  },
  {
   "cell_type": "code",
   "execution_count": 12,
   "metadata": {
    "ExecuteTime": {
     "end_time": "2024-01-18T22:23:53.866860Z",
     "start_time": "2024-01-18T22:23:53.823218Z"
    }
   },
   "outputs": [
    {
     "data": {
      "text/html": [
       "<div>\n",
       "<style scoped>\n",
       "    .dataframe tbody tr th:only-of-type {\n",
       "        vertical-align: middle;\n",
       "    }\n",
       "\n",
       "    .dataframe tbody tr th {\n",
       "        vertical-align: top;\n",
       "    }\n",
       "\n",
       "    .dataframe thead th {\n",
       "        text-align: right;\n",
       "    }\n",
       "</style>\n",
       "<table border=\"1\" class=\"dataframe\">\n",
       "  <thead>\n",
       "    <tr style=\"text-align: right;\">\n",
       "      <th></th>\n",
       "      <th>filename</th>\n",
       "      <th>mass.9000006</th>\n",
       "      <th>mass.9900032</th>\n",
       "      <th>mass.9000002</th>\n",
       "      <th>mass.9000003</th>\n",
       "      <th>mass.9000004</th>\n",
       "      <th>mass.9000005</th>\n",
       "      <th>mass.9900026</th>\n",
       "      <th>width.9000002</th>\n",
       "      <th>width.9000003</th>\n",
       "      <th>...</th>\n",
       "      <th>ExptRes.result1.TxNames</th>\n",
       "      <th>ExptRes.result1.Mass (GeV)</th>\n",
       "      <th>ExptRes.result1.AnalysisID</th>\n",
       "      <th>ExptRes.result1.DataSetID</th>\n",
       "      <th>ExptRes.result1.AnalysisSqrts (TeV)</th>\n",
       "      <th>ExptRes.result1.lumi (fb-1)</th>\n",
       "      <th>ExptRes.result1.dataType</th>\n",
       "      <th>ExptRes.result1.r</th>\n",
       "      <th>ExptRes.result1.r_expected</th>\n",
       "      <th>ExptRes.result1.Width (GeV)</th>\n",
       "    </tr>\n",
       "  </thead>\n",
       "  <tbody>\n",
       "    <tr>\n",
       "      <th>0</th>\n",
       "      <td>run_62_zp_1725.slha</td>\n",
       "      <td>65.0</td>\n",
       "      <td>1725.0</td>\n",
       "      <td>91.1876</td>\n",
       "      <td>79.82436</td>\n",
       "      <td>79.82436</td>\n",
       "      <td>1500.0</td>\n",
       "      <td>862.5</td>\n",
       "      <td>2.4952</td>\n",
       "      <td>2.085</td>\n",
       "      <td>...</td>\n",
       "      <td>NaN</td>\n",
       "      <td>NaN</td>\n",
       "      <td>NaN</td>\n",
       "      <td>NaN</td>\n",
       "      <td>NaN</td>\n",
       "      <td>NaN</td>\n",
       "      <td>NaN</td>\n",
       "      <td>NaN</td>\n",
       "      <td>NaN</td>\n",
       "      <td>NaN</td>\n",
       "    </tr>\n",
       "    <tr>\n",
       "      <th>1</th>\n",
       "      <td>run_30_zp_925.slha</td>\n",
       "      <td>65.0</td>\n",
       "      <td>925.0</td>\n",
       "      <td>91.1876</td>\n",
       "      <td>79.82436</td>\n",
       "      <td>79.82436</td>\n",
       "      <td>1500.0</td>\n",
       "      <td>462.5</td>\n",
       "      <td>2.4952</td>\n",
       "      <td>2.085</td>\n",
       "      <td>...</td>\n",
       "      <td>NaN</td>\n",
       "      <td>NaN</td>\n",
       "      <td>NaN</td>\n",
       "      <td>NaN</td>\n",
       "      <td>NaN</td>\n",
       "      <td>NaN</td>\n",
       "      <td>NaN</td>\n",
       "      <td>NaN</td>\n",
       "      <td>NaN</td>\n",
       "      <td>NaN</td>\n",
       "    </tr>\n",
       "    <tr>\n",
       "      <th>2</th>\n",
       "      <td>run_74_zp_2025.slha</td>\n",
       "      <td>65.0</td>\n",
       "      <td>2025.0</td>\n",
       "      <td>91.1876</td>\n",
       "      <td>79.82436</td>\n",
       "      <td>79.82436</td>\n",
       "      <td>1500.0</td>\n",
       "      <td>1012.5</td>\n",
       "      <td>2.4952</td>\n",
       "      <td>2.085</td>\n",
       "      <td>...</td>\n",
       "      <td>NaN</td>\n",
       "      <td>NaN</td>\n",
       "      <td>NaN</td>\n",
       "      <td>NaN</td>\n",
       "      <td>NaN</td>\n",
       "      <td>NaN</td>\n",
       "      <td>NaN</td>\n",
       "      <td>NaN</td>\n",
       "      <td>NaN</td>\n",
       "      <td>NaN</td>\n",
       "    </tr>\n",
       "    <tr>\n",
       "      <th>3</th>\n",
       "      <td>run_73_zp_2000.slha</td>\n",
       "      <td>65.0</td>\n",
       "      <td>2000.0</td>\n",
       "      <td>91.1876</td>\n",
       "      <td>79.82436</td>\n",
       "      <td>79.82436</td>\n",
       "      <td>1500.0</td>\n",
       "      <td>1000.0</td>\n",
       "      <td>2.4952</td>\n",
       "      <td>2.085</td>\n",
       "      <td>...</td>\n",
       "      <td>NaN</td>\n",
       "      <td>NaN</td>\n",
       "      <td>NaN</td>\n",
       "      <td>NaN</td>\n",
       "      <td>NaN</td>\n",
       "      <td>NaN</td>\n",
       "      <td>NaN</td>\n",
       "      <td>NaN</td>\n",
       "      <td>NaN</td>\n",
       "      <td>NaN</td>\n",
       "    </tr>\n",
       "    <tr>\n",
       "      <th>4</th>\n",
       "      <td>run_29_zp_900.slha</td>\n",
       "      <td>65.0</td>\n",
       "      <td>900.0</td>\n",
       "      <td>91.1876</td>\n",
       "      <td>79.82436</td>\n",
       "      <td>79.82436</td>\n",
       "      <td>1500.0</td>\n",
       "      <td>450.0</td>\n",
       "      <td>2.4952</td>\n",
       "      <td>2.085</td>\n",
       "      <td>...</td>\n",
       "      <td>NaN</td>\n",
       "      <td>NaN</td>\n",
       "      <td>NaN</td>\n",
       "      <td>NaN</td>\n",
       "      <td>NaN</td>\n",
       "      <td>NaN</td>\n",
       "      <td>NaN</td>\n",
       "      <td>NaN</td>\n",
       "      <td>NaN</td>\n",
       "      <td>NaN</td>\n",
       "    </tr>\n",
       "    <tr>\n",
       "      <th>...</th>\n",
       "      <td>...</td>\n",
       "      <td>...</td>\n",
       "      <td>...</td>\n",
       "      <td>...</td>\n",
       "      <td>...</td>\n",
       "      <td>...</td>\n",
       "      <td>...</td>\n",
       "      <td>...</td>\n",
       "      <td>...</td>\n",
       "      <td>...</td>\n",
       "      <td>...</td>\n",
       "      <td>...</td>\n",
       "      <td>...</td>\n",
       "      <td>...</td>\n",
       "      <td>...</td>\n",
       "      <td>...</td>\n",
       "      <td>...</td>\n",
       "      <td>...</td>\n",
       "      <td>...</td>\n",
       "      <td>...</td>\n",
       "      <td>...</td>\n",
       "    </tr>\n",
       "    <tr>\n",
       "      <th>148</th>\n",
       "      <td>run_96_zp_2575.slha</td>\n",
       "      <td>65.0</td>\n",
       "      <td>2575.0</td>\n",
       "      <td>91.1876</td>\n",
       "      <td>79.82436</td>\n",
       "      <td>79.82436</td>\n",
       "      <td>1500.0</td>\n",
       "      <td>1287.5</td>\n",
       "      <td>2.4952</td>\n",
       "      <td>2.085</td>\n",
       "      <td>...</td>\n",
       "      <td>NaN</td>\n",
       "      <td>NaN</td>\n",
       "      <td>NaN</td>\n",
       "      <td>NaN</td>\n",
       "      <td>NaN</td>\n",
       "      <td>NaN</td>\n",
       "      <td>NaN</td>\n",
       "      <td>NaN</td>\n",
       "      <td>NaN</td>\n",
       "      <td>NaN</td>\n",
       "    </tr>\n",
       "    <tr>\n",
       "      <th>149</th>\n",
       "      <td>run_09_zp_400.slha</td>\n",
       "      <td>65.0</td>\n",
       "      <td>400.0</td>\n",
       "      <td>91.1876</td>\n",
       "      <td>79.82436</td>\n",
       "      <td>79.82436</td>\n",
       "      <td>1500.0</td>\n",
       "      <td>200.0</td>\n",
       "      <td>2.4952</td>\n",
       "      <td>2.085</td>\n",
       "      <td>...</td>\n",
       "      <td>NaN</td>\n",
       "      <td>NaN</td>\n",
       "      <td>NaN</td>\n",
       "      <td>NaN</td>\n",
       "      <td>NaN</td>\n",
       "      <td>NaN</td>\n",
       "      <td>NaN</td>\n",
       "      <td>NaN</td>\n",
       "      <td>NaN</td>\n",
       "      <td>NaN</td>\n",
       "    </tr>\n",
       "    <tr>\n",
       "      <th>150</th>\n",
       "      <td>run_137_zp_3600.slha</td>\n",
       "      <td>65.0</td>\n",
       "      <td>3600.0</td>\n",
       "      <td>91.1876</td>\n",
       "      <td>79.82436</td>\n",
       "      <td>79.82436</td>\n",
       "      <td>1500.0</td>\n",
       "      <td>1800.0</td>\n",
       "      <td>2.4952</td>\n",
       "      <td>2.085</td>\n",
       "      <td>...</td>\n",
       "      <td>NaN</td>\n",
       "      <td>NaN</td>\n",
       "      <td>NaN</td>\n",
       "      <td>NaN</td>\n",
       "      <td>NaN</td>\n",
       "      <td>NaN</td>\n",
       "      <td>NaN</td>\n",
       "      <td>NaN</td>\n",
       "      <td>NaN</td>\n",
       "      <td>NaN</td>\n",
       "    </tr>\n",
       "    <tr>\n",
       "      <th>151</th>\n",
       "      <td>run_58_zp_1625.slha</td>\n",
       "      <td>65.0</td>\n",
       "      <td>1625.0</td>\n",
       "      <td>91.1876</td>\n",
       "      <td>79.82436</td>\n",
       "      <td>79.82436</td>\n",
       "      <td>1500.0</td>\n",
       "      <td>812.5</td>\n",
       "      <td>2.4952</td>\n",
       "      <td>2.085</td>\n",
       "      <td>...</td>\n",
       "      <td>NaN</td>\n",
       "      <td>NaN</td>\n",
       "      <td>NaN</td>\n",
       "      <td>NaN</td>\n",
       "      <td>NaN</td>\n",
       "      <td>NaN</td>\n",
       "      <td>NaN</td>\n",
       "      <td>NaN</td>\n",
       "      <td>NaN</td>\n",
       "      <td>NaN</td>\n",
       "    </tr>\n",
       "    <tr>\n",
       "      <th>152</th>\n",
       "      <td>run_128_zp_3375.slha</td>\n",
       "      <td>65.0</td>\n",
       "      <td>3375.0</td>\n",
       "      <td>91.1876</td>\n",
       "      <td>79.82436</td>\n",
       "      <td>79.82436</td>\n",
       "      <td>1500.0</td>\n",
       "      <td>1687.5</td>\n",
       "      <td>2.4952</td>\n",
       "      <td>2.085</td>\n",
       "      <td>...</td>\n",
       "      <td>NaN</td>\n",
       "      <td>NaN</td>\n",
       "      <td>NaN</td>\n",
       "      <td>NaN</td>\n",
       "      <td>NaN</td>\n",
       "      <td>NaN</td>\n",
       "      <td>NaN</td>\n",
       "      <td>NaN</td>\n",
       "      <td>NaN</td>\n",
       "      <td>NaN</td>\n",
       "    </tr>\n",
       "  </tbody>\n",
       "</table>\n",
       "<p>153 rows × 103 columns</p>\n",
       "</div>"
      ],
      "text/plain": [
       "                 filename  mass.9000006  mass.9900032  mass.9000002  \\\n",
       "0     run_62_zp_1725.slha          65.0        1725.0       91.1876   \n",
       "1      run_30_zp_925.slha          65.0         925.0       91.1876   \n",
       "2     run_74_zp_2025.slha          65.0        2025.0       91.1876   \n",
       "3     run_73_zp_2000.slha          65.0        2000.0       91.1876   \n",
       "4      run_29_zp_900.slha          65.0         900.0       91.1876   \n",
       "..                    ...           ...           ...           ...   \n",
       "148   run_96_zp_2575.slha          65.0        2575.0       91.1876   \n",
       "149    run_09_zp_400.slha          65.0         400.0       91.1876   \n",
       "150  run_137_zp_3600.slha          65.0        3600.0       91.1876   \n",
       "151   run_58_zp_1625.slha          65.0        1625.0       91.1876   \n",
       "152  run_128_zp_3375.slha          65.0        3375.0       91.1876   \n",
       "\n",
       "     mass.9000003  mass.9000004  mass.9000005  mass.9900026  width.9000002  \\\n",
       "0        79.82436      79.82436        1500.0         862.5         2.4952   \n",
       "1        79.82436      79.82436        1500.0         462.5         2.4952   \n",
       "2        79.82436      79.82436        1500.0        1012.5         2.4952   \n",
       "3        79.82436      79.82436        1500.0        1000.0         2.4952   \n",
       "4        79.82436      79.82436        1500.0         450.0         2.4952   \n",
       "..            ...           ...           ...           ...            ...   \n",
       "148      79.82436      79.82436        1500.0        1287.5         2.4952   \n",
       "149      79.82436      79.82436        1500.0         200.0         2.4952   \n",
       "150      79.82436      79.82436        1500.0        1800.0         2.4952   \n",
       "151      79.82436      79.82436        1500.0         812.5         2.4952   \n",
       "152      79.82436      79.82436        1500.0        1687.5         2.4952   \n",
       "\n",
       "     width.9000003  ...  ExptRes.result1.TxNames  ExptRes.result1.Mass (GeV)  \\\n",
       "0            2.085  ...                      NaN                         NaN   \n",
       "1            2.085  ...                      NaN                         NaN   \n",
       "2            2.085  ...                      NaN                         NaN   \n",
       "3            2.085  ...                      NaN                         NaN   \n",
       "4            2.085  ...                      NaN                         NaN   \n",
       "..             ...  ...                      ...                         ...   \n",
       "148          2.085  ...                      NaN                         NaN   \n",
       "149          2.085  ...                      NaN                         NaN   \n",
       "150          2.085  ...                      NaN                         NaN   \n",
       "151          2.085  ...                      NaN                         NaN   \n",
       "152          2.085  ...                      NaN                         NaN   \n",
       "\n",
       "     ExptRes.result1.AnalysisID  ExptRes.result1.DataSetID  \\\n",
       "0                           NaN                        NaN   \n",
       "1                           NaN                        NaN   \n",
       "2                           NaN                        NaN   \n",
       "3                           NaN                        NaN   \n",
       "4                           NaN                        NaN   \n",
       "..                          ...                        ...   \n",
       "148                         NaN                        NaN   \n",
       "149                         NaN                        NaN   \n",
       "150                         NaN                        NaN   \n",
       "151                         NaN                        NaN   \n",
       "152                         NaN                        NaN   \n",
       "\n",
       "     ExptRes.result1.AnalysisSqrts (TeV)  ExptRes.result1.lumi (fb-1)  \\\n",
       "0                                    NaN                          NaN   \n",
       "1                                    NaN                          NaN   \n",
       "2                                    NaN                          NaN   \n",
       "3                                    NaN                          NaN   \n",
       "4                                    NaN                          NaN   \n",
       "..                                   ...                          ...   \n",
       "148                                  NaN                          NaN   \n",
       "149                                  NaN                          NaN   \n",
       "150                                  NaN                          NaN   \n",
       "151                                  NaN                          NaN   \n",
       "152                                  NaN                          NaN   \n",
       "\n",
       "     ExptRes.result1.dataType  ExptRes.result1.r  ExptRes.result1.r_expected  \\\n",
       "0                         NaN                NaN                         NaN   \n",
       "1                         NaN                NaN                         NaN   \n",
       "2                         NaN                NaN                         NaN   \n",
       "3                         NaN                NaN                         NaN   \n",
       "4                         NaN                NaN                         NaN   \n",
       "..                        ...                ...                         ...   \n",
       "148                       NaN                NaN                         NaN   \n",
       "149                       NaN                NaN                         NaN   \n",
       "150                       NaN                NaN                         NaN   \n",
       "151                       NaN                NaN                         NaN   \n",
       "152                       NaN                NaN                         NaN   \n",
       "\n",
       "     ExptRes.result1.Width (GeV)  \n",
       "0                            NaN  \n",
       "1                            NaN  \n",
       "2                            NaN  \n",
       "3                            NaN  \n",
       "4                            NaN  \n",
       "..                           ...  \n",
       "148                          NaN  \n",
       "149                          NaN  \n",
       "150                          NaN  \n",
       "151                          NaN  \n",
       "152                          NaN  \n",
       "\n",
       "[153 rows x 103 columns]"
      ]
     },
     "execution_count": 12,
     "metadata": {},
     "output_type": "execute_result"
    }
   ],
   "source": [
    "dataDF"
   ]
  },
  {
   "cell_type": "code",
   "execution_count": 13,
   "metadata": {
    "ExecuteTime": {
     "end_time": "2024-01-18T22:23:58.171345Z",
     "start_time": "2024-01-18T22:23:58.165716Z"
    }
   },
   "outputs": [],
   "source": [
    "#Save DataFrame to pickle file:\n",
    "dataDF.to_pickle('../../scan/8TeV/mg5_scan_results.pcl')"
   ]
  },
  {
   "cell_type": "code",
   "execution_count": 14,
   "metadata": {
    "ExecuteTime": {
     "end_time": "2024-01-18T22:23:58.703702Z",
     "start_time": "2024-01-18T22:23:58.694290Z"
    },
    "scrolled": false
   },
   "outputs": [
    {
     "name": "stdout",
     "output_type": "stream",
     "text": [
      "153\n"
     ]
    }
   ],
   "source": [
    "print(len(dataDF))"
   ]
  },
  {
   "cell_type": "code",
   "execution_count": null,
   "metadata": {},
   "outputs": [],
   "source": []
  }
 ],
 "metadata": {
  "kernelspec": {
   "display_name": "Python 3 (ipykernel)",
   "language": "python",
   "name": "python3"
  },
  "language_info": {
   "codemirror_mode": {
    "name": "ipython",
    "version": 3
   },
   "file_extension": ".py",
   "mimetype": "text/x-python",
   "name": "python",
   "nbconvert_exporter": "python",
   "pygments_lexer": "ipython3",
   "version": "3.10.12"
  }
 },
 "nbformat": 4,
 "nbformat_minor": 2
}
