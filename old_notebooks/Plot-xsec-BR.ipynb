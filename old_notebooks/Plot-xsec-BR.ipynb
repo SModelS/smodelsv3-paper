{
 "cells": [
  {
   "cell_type": "code",
   "execution_count": 1,
   "id": "4c346874",
   "metadata": {
    "ExecuteTime": {
     "end_time": "2023-09-26T16:24:04.446271Z",
     "start_time": "2023-09-26T16:23:50.889375Z"
    }
   },
   "outputs": [
    {
     "name": "stdout",
     "output_type": "stream",
     "text": [
      "Welcome to JupyROOT 6.26/10\n"
     ]
    }
   ],
   "source": [
    "import sys,os,glob,copy\n",
    "sys.path.append('../')\n",
    "import numpy as np\n",
    "from numpy.linalg import norm\n",
    "import pandas as pd\n",
    "from matplotlib import pyplot as plt\n",
    "import seaborn as sns\n",
    "from scipy.interpolate import LinearNDInterpolator,interp2d\n",
    "import scipy\n",
    "import matplotlib as mpl\n",
    "import sympy as sp\n",
    "from matplotlib.colors import LogNorm\n",
    "from IPython.display import display, Markdown\n",
    "from collections import OrderedDict\n",
    "import pylhe\n",
    "import glob\n",
    "import pyslha\n",
    "import ROOT\n",
    "import xml.etree.ElementTree as ET\n",
    "\n",
    "\n",
    "plt.rcParams.update({\n",
    "    \"text.usetex\": True,\n",
    "    \"font.family\": \"sans-serif\",\n",
    "    \"font.sans-serif\": [\"Helvetica\"]})\n",
    "\n",
    "plt.rcParams.update({\"savefig.dpi\" : 300}) #Figure resolution\n",
    "\n",
    "\n",
    "#Define plotting style:\n",
    "sns.set() #Set style\n",
    "sns.set_style('ticks',{'font.family':'Times New Roman', 'font.serif':'Times New Roman'})\n",
    "sns.set_context('paper', font_scale=1.8)\n",
    "cm = plt.cm.get_cmap('RdYlBu')"
   ]
  },
  {
   "cell_type": "code",
   "execution_count": 2,
   "id": "f7a18657",
   "metadata": {
    "ExecuteTime": {
     "end_time": "2023-09-26T16:24:06.503397Z",
     "start_time": "2023-09-26T16:24:06.363475Z"
    }
   },
   "outputs": [],
   "source": [
    "# Get data from MG5 runs\n",
    "pclFiles = {'pp->zp': '../data/2mdm_zp_jet.pcl',\n",
    "            'pp->sd': '../data/2mdm_sd_jet.pcl'}\n",
    "\n",
    "df = [pd.read_pickle(f) for l, f in pclFiles.items()]\n",
    "\n",
    "for i, label in enumerate(pclFiles.keys()):\n",
    "    df[i]['process'] = label\n",
    "    \n",
    "    if label == 'pp->zp':\n",
    "        df[i] = df[i].drop(columns=['$m_{s}$'])\n",
    "        df[i] = df[i].rename(columns={'$m_{Z^{\\prime}}$': '$m_{med}$'})\n",
    "        \n",
    "    elif label == 'pp->sd':\n",
    "        df[i] = df[i].drop(columns=['$m_{Z^{\\prime}}$'])\n",
    "        df[i] = df[i].rename(columns={'$m_{s}$': '$m_{med}$'})\n",
    "        \n",
    "    df[i] = df[i].rename(columns={'$\\sin\\\\theta$': '$\\sin\\\\alpha$'})\n",
    "\n",
    "    \n",
    "for d in df:\n",
    "    d = d.sort_values(['process', '$m_{med}$', '$\\sin\\\\alpha$', '$g_{q}$'],inplace=True, \n",
    "                     ascending=[True, True, True, True])"
   ]
  },
  {
   "cell_type": "code",
   "execution_count": 3,
   "id": "ba2832d4",
   "metadata": {
    "ExecuteTime": {
     "end_time": "2023-09-26T16:24:09.461216Z",
     "start_time": "2023-09-26T16:24:07.174886Z"
    }
   },
   "outputs": [],
   "source": [
    "data = pd.DataFrame()\n",
    "for d in df:\n",
    "    data = pd.concat((data,d))"
   ]
  },
  {
   "cell_type": "code",
   "execution_count": 4,
   "id": "014d001c",
   "metadata": {
    "ExecuteTime": {
     "end_time": "2023-09-26T16:24:11.277909Z",
     "start_time": "2023-09-26T16:24:10.715557Z"
    }
   },
   "outputs": [],
   "source": [
    "BRdata = pd.read_pickle('../data/BRdata.pcl')"
   ]
  },
  {
   "cell_type": "code",
   "execution_count": 5,
   "id": "1eab5bfe",
   "metadata": {
    "ExecuteTime": {
     "end_time": "2023-09-26T16:24:12.769440Z",
     "start_time": "2023-09-26T16:24:11.281906Z"
    }
   },
   "outputs": [],
   "source": [
    "dataS = data[data['process'] == 'pp->sd']\n",
    "dataZ = data[data['process'] == 'pp->zp']\n",
    "brS = BRdata[BRdata['Mediator'] == 'spin-0']\n",
    "brZ = BRdata[BRdata['Mediator'] == 'spin-1']"
   ]
  },
  {
   "cell_type": "code",
   "execution_count": 6,
   "id": "59e80e5d",
   "metadata": {
    "ExecuteTime": {
     "end_time": "2023-09-26T16:24:15.045144Z",
     "start_time": "2023-09-26T16:24:12.773652Z"
    }
   },
   "outputs": [],
   "source": [
    "col = ['$m_{med}$', '$\\\\sin\\\\alpha$']\n",
    "\n",
    "keys = list(dataS[col].columns.values)\n",
    "i1 = dataS.set_index(keys).index\n",
    "i2 = brS.set_index(keys).index\n",
    "brS = brS[i2.isin(i1)]\n",
    "\n",
    "col = ['$m_{med}$', '$g_{q}$']\n",
    "\n",
    "keys = list(dataZ[col].columns.values)\n",
    "i1 = dataZ.set_index(keys).index\n",
    "i2 = brZ.set_index(keys).index\n",
    "brZ = brZ[i2.isin(i1)]"
   ]
  },
  {
   "cell_type": "code",
   "execution_count": 7,
   "id": "28308a6a",
   "metadata": {
    "ExecuteTime": {
     "end_time": "2023-09-26T16:24:17.123616Z",
     "start_time": "2023-09-26T16:24:15.049309Z"
    }
   },
   "outputs": [
    {
     "name": "stdout",
     "output_type": "stream",
     "text": [
      "14 14 26 26\n"
     ]
    }
   ],
   "source": [
    "# Filter models\n",
    "\n",
    "filter1 = {'$y_{\\\\chi}$': 1.5}\n",
    "filter2 = {'$g_{\\\\chi}$': 1.0}\n",
    "filter3 = {'$\\\\sin\\\\alpha$': 0.2}\n",
    "filter4 = {'$g_{q}$': 0.25}\n",
    "\n",
    "str1 = '\\n'.join([r'%s = %s' %(k,v) for k,v in filter1.items()])\n",
    "str2 = '\\n'.join([r'%s = %s' %(k,v) for k,v in filter2.items()])\n",
    "str3 = '\\n'.join([r'%s = %s' %(k,v) for k,v in filter3.items()])\n",
    "str4 = '\\n'.join([r'%s = %s' %(k,v) for k,v in filter4.items()])\n",
    "textstr = '\\n'.join([str1]+[str2]+[str3]+[str4])\n",
    "\n",
    "dataS = dataS.loc[(dataS[list(filter3)] == pd.Series(filter3)).all(axis=1)]\n",
    "brS = brS.loc[(brS[list(filter1)] == pd.Series(filter1)).all(axis=1)]\n",
    "brS = brS.loc[(brS[list(filter3)] == pd.Series(filter3)).all(axis=1)]\n",
    "\n",
    "dataZ = dataZ.loc[(dataZ[list(filter4)] == pd.Series(filter4)).all(axis=1)]\n",
    "brZ = brZ.loc[(brZ[list(filter2)] == pd.Series(filter2)).all(axis=1)]\n",
    "brZ = brZ.loc[(brZ[list(filter4)] == pd.Series(filter4)).all(axis=1)]\n",
    "\n",
    "print(len(dataS), len(brS), len(dataZ), len(brZ))"
   ]
  },
  {
   "cell_type": "code",
   "execution_count": 8,
   "id": "a8d381ec",
   "metadata": {
    "ExecuteTime": {
     "end_time": "2023-09-26T16:24:19.698641Z",
     "start_time": "2023-09-26T16:24:19.591135Z"
    }
   },
   "outputs": [],
   "source": [
    "colors = {label : sns.color_palette('deep', n_colors=16)[i] for i,label in enumerate(pclFiles.keys())}    "
   ]
  },
  {
   "cell_type": "code",
   "execution_count": 9,
   "id": "018025db",
   "metadata": {
    "ExecuteTime": {
     "end_time": "2023-09-26T16:24:30.422661Z",
     "start_time": "2023-09-26T16:24:20.011763Z"
    }
   },
   "outputs": [
    {
     "data": {
      "image/png": "[encoded data removed]",
      "text/plain": [
       "<Figure size 800x600 with 1 Axes>"
      ]
     },
     "metadata": {},
     "output_type": "display_data"
    }
   ],
   "source": [
    "# plot cross-section\n",
    "plt.figure(figsize=(8,6))\n",
    "\n",
    "plt.plot(dataS['$m_{med}$'], dataS['x-sec pT-250 (pb)'], label=r'$\\sigma(pp -> s)$', \n",
    "         color=colors['pp->sd'], alpha=0.5, marker='+', linestyle='')\n",
    "\n",
    "\n",
    "plt.plot(dataS['$m_{med}$'], np.array(dataS['x-sec pT-250 (pb)'])*np.array(brS['$BR(med>\\\\chi\\\\chi)$']),\n",
    "         label=r'$\\sigma(pp -> s) \\times BR(s -> \\chi \\chi) $', color=colors['pp->sd'], marker='+', linestyle='')\n",
    "\n",
    "\n",
    "plt.plot(dataZ['$m_{med}$'], dataZ['x-sec pT-250 (pb)'], label=r'$\\sigma(pp -> Z^{\\prime})$', \n",
    "         color=colors['pp->zp'], alpha=0.5, marker='+', linestyle='')\n",
    "\n",
    "\n",
    "plt.plot(dataZ['$m_{med}$'], np.array(dataZ['x-sec pT-250 (pb)'])*np.array(brZ['$BR(med>\\\\chi\\\\chi)$']),\n",
    "         label=r'$\\sigma(pp -> Z^{\\prime}) \\times BR(Z^{\\prime} -> \\chi \\chi) $', color=colors['pp->zp'], \n",
    "         marker='+', linestyle='')\n",
    "\n",
    "    \n",
    "plt.hlines(0.003, xmin=0.0, xmax=3100, linestyles='--', alpha=0.2, color='gray')\n",
    "plt.yscale('log')\n",
    "\n",
    "plt.title('Mediators production cross-section')\n",
    "plt.xlabel(r'$mass$ (GeV)')\n",
    "plt.ylabel(r'$\\sigma$ (pb)')\n",
    "\n",
    "plt.text(0.78,0.2,textstr,fontsize=14,bbox=dict(facecolor='white', edgecolor='black'),\n",
    "         transform = plt.gca().transAxes)\n",
    "plt.xlim(0.0, 3100)\n",
    "plt.grid(which='major')\n",
    "\n",
    "plt.legend(fontsize=12, loc='upper right')\n",
    "\n",
    "plt.savefig('../../Pictures/xsec_cuts.png')\n",
    "plt.show()"
   ]
  },
  {
   "cell_type": "code",
   "execution_count": 10,
   "id": "7f446b62",
   "metadata": {
    "ExecuteTime": {
     "end_time": "2023-09-26T16:24:48.639693Z",
     "start_time": "2023-09-26T16:24:48.527144Z"
    }
   },
   "outputs": [
    {
     "name": "stdout",
     "output_type": "stream",
     "text": [
      "200.0 0.002847531157235254\n",
      "300.0 0.0021288554035778255\n",
      "400.0 0.0020991157663619578\n",
      "500.0 0.0013488708679248308\n",
      "600.0 0.0007741174028714246\n",
      "700.0 0.00039943005775534965\n",
      "800.0 0.000210937178828083\n",
      "900.0 0.00011077541296770121\n",
      "1000.0 6.0189712101127884e-05\n",
      "1100.0 3.4434214792165956e-05\n",
      "1200.0 1.883047497734188e-05\n",
      "1300.0 1.1225749001878769e-05\n",
      "1400.0 6.371215145657945e-06\n",
      "1500.0 3.7445341015492202e-06\n"
     ]
    }
   ],
   "source": [
    "prod = np.array(dataS['x-sec pT-250 (pb)'])*np.array(brS['$BR(med>\\\\chi\\\\chi)$'])\n",
    "for i, m in enumerate(dataS['$m_{med}$']):\n",
    "    print(m, prod[i])"
   ]
  },
  {
   "cell_type": "code",
   "execution_count": 11,
   "id": "ebb45390",
   "metadata": {
    "ExecuteTime": {
     "end_time": "2023-09-26T16:24:50.232470Z",
     "start_time": "2023-09-26T16:24:50.121972Z"
    }
   },
   "outputs": [
    {
     "name": "stdout",
     "output_type": "stream",
     "text": [
      "500.0 1.471521883954394\n",
      "600.0 0.9632504766169674\n",
      "700.0 0.6240118500406071\n",
      "800.0 0.44119767715814995\n",
      "900.0 0.30861496047286524\n",
      "1000.0 0.21882304052394103\n",
      "1100.0 0.15735709624252436\n",
      "1200.0 0.11200177438721767\n",
      "1300.0 0.0872490246477926\n",
      "1400.0 0.06337166213392624\n",
      "1500.0 0.048548508574944256\n",
      "1600.0 0.03637264071535793\n",
      "1700.0 0.02815369537530837\n",
      "1800.0 0.02093301920537189\n",
      "1900.0 0.016308492741161223\n",
      "2000.0 0.012608984837155683\n",
      "2100.0 0.009468406795842722\n",
      "2200.0 0.007616524175355143\n",
      "2300.0 0.006161311274262634\n",
      "2400.0 0.004676399861543182\n",
      "2500.0 0.0035747642889695738\n",
      "2600.0 0.002959716659513473\n",
      "2700.0 0.0022428955794711373\n",
      "2800.0 0.0017732867782327\n",
      "2900.0 0.001409900499349976\n",
      "3000.0 0.001116067648044609\n"
     ]
    }
   ],
   "source": [
    "prod = np.array(dataZ['x-sec pT-250 (pb)'])*np.array(brZ['$BR(med>\\\\chi\\\\chi)$'])\n",
    "for i, m in enumerate(dataZ['$m_{med}$']):\n",
    "    print(m, prod[i])"
   ]
  },
  {
   "cell_type": "code",
   "execution_count": null,
   "id": "e0277ad8",
   "metadata": {},
   "outputs": [],
   "source": []
  }
 ],
 "metadata": {
  "kernelspec": {
   "display_name": "Python 3 (ipykernel)",
   "language": "python",
   "name": "python3"
  },
  "language_info": {
   "codemirror_mode": {
    "name": "ipython",
    "version": 3
   },
   "file_extension": ".py",
   "mimetype": "text/x-python",
   "name": "python",
   "nbconvert_exporter": "python",
   "pygments_lexer": "ipython3",
   "version": "3.10.12"
  }
 },
 "nbformat": 4,
 "nbformat_minor": 5
}
