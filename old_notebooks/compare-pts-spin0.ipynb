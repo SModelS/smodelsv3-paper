{
 "cells": [
  {
   "cell_type": "code",
   "execution_count": 1,
   "id": "21b0921d",
   "metadata": {
    "ExecuteTime": {
     "end_time": "2023-11-16T12:00:21.815670Z",
     "start_time": "2023-11-16T12:00:19.074327Z"
    }
   },
   "outputs": [],
   "source": [
    "import sys,os,glob,copy\n",
    "sys.path.append('../')\n",
    "import numpy as np\n",
    "from numpy.linalg import norm\n",
    "import pandas as pd\n",
    "from matplotlib import pyplot as plt\n",
    "import seaborn as sns\n",
    "from scipy.interpolate import LinearNDInterpolator,interp2d\n",
    "import matplotlib as mpl\n",
    "from matplotlib.colors import LogNorm\n",
    "from IPython.display import display, Markdown\n",
    "import glob\n",
    "plt.rcParams.update({\n",
    "    \"text.usetex\": True,\n",
    "    \"font.family\": \"sans-serif\",\n",
    "    \"font.sans-serif\": [\"Helvetica\"]})\n",
    "\n",
    "plt.rcParams.update({\"savefig.dpi\" : 300}) #Figure resolution\n",
    "\n",
    "\n",
    "#Define plotting style:\n",
    "sns.set() #Set style\n",
    "sns.set_style('ticks',{'font.family':'Times New Roman', 'font.serif':'Times New Roman'})\n",
    "sns.set_context('paper', font_scale=1.8)\n",
    "cm = plt.cm.get_cmap('RdYlBu')\n",
    "\n",
    "\n",
    "pd.set_option('display.max_rows', 200)"
   ]
  },
  {
   "cell_type": "markdown",
   "id": "9b257d6d",
   "metadata": {},
   "source": [
    "## Load data"
   ]
  },
  {
   "cell_type": "code",
   "execution_count": 2,
   "id": "486e770c",
   "metadata": {
    "ExecuteTime": {
     "end_time": "2023-11-16T12:00:23.174281Z",
     "start_time": "2023-11-16T12:00:22.697520Z"
    }
   },
   "outputs": [],
   "source": [
    "inputFiles = '../data/2mdm_spin0.pcl'\n",
    "\n",
    "dmData = pd.read_pickle(inputFiles)\n",
    "\n",
    "dmData.sort_values(['$m_{s}$', '$m_{Z^{\\prime}}$', '$\\sin\\\\alpha$', '$g_{q}$', '$g_{\\chi}$',\n",
    "                    '$y_{\\chi}$', '$m_{\\chi}$'], inplace=True, ascending=[True,True,True,True,True,True,True])\n",
    "BRdata = pd.read_pickle('../data/BRdata.pcl')"
   ]
  },
  {
   "cell_type": "markdown",
   "id": "f36ee121",
   "metadata": {},
   "source": [
    "## Filter data"
   ]
  },
  {
   "cell_type": "code",
   "execution_count": 3,
   "id": "ae45d89f",
   "metadata": {
    "ExecuteTime": {
     "end_time": "2023-11-16T12:00:23.196608Z",
     "start_time": "2023-11-16T12:00:23.177535Z"
    }
   },
   "outputs": [],
   "source": [
    "## Filter DM data\n",
    "\n",
    "filter_spin0 = {\n",
    "    '$m_{\\chi}$': 65.0,\n",
    "    '$y_{\\chi}$': 1.5,\n",
    "    '$\\sin\\\\alpha$': 0.25\n",
    "}\n",
    "\n",
    "dfModel = dmData.loc[(dmData[list(filter_spin0)] == pd.Series(filter_spin0)).all(axis=1)]\n",
    "        \n",
    "dfModel = dfModel[dfModel['Data-takingperiod'] == 2017]\n",
    "dfModel = dfModel.rename(columns={'$m_{s}$': '$m_{med}$'})\n",
    "\n",
    "BRdata = BRdata[BRdata['Mediator']=='spin-0']\n",
    "\n",
    "textstr = '\\n'.join([r'%s = %s' %(k,v) for k,v in filter_spin0.items()])"
   ]
  },
  {
   "cell_type": "code",
   "execution_count": 4,
   "id": "8067493f",
   "metadata": {
    "ExecuteTime": {
     "end_time": "2023-11-16T12:00:23.613003Z",
     "start_time": "2023-11-16T12:00:23.520312Z"
    }
   },
   "outputs": [],
   "source": [
    "## Filter Branching ratio\n",
    "col = ['$m_{med}$', '$\\\\sin\\\\alpha$', '$y_{\\chi}$']\n",
    "\n",
    "keys = list(dfModel[col].columns.values)\n",
    "i1 = dfModel.set_index(keys).index\n",
    "i2 = BRdata.set_index(keys).index\n",
    "brS = BRdata[i2.isin(i1)]"
   ]
  },
  {
   "cell_type": "markdown",
   "id": "1671c5b2",
   "metadata": {},
   "source": [
    "### Auxiliar functions for plotting"
   ]
  },
  {
   "cell_type": "code",
   "execution_count": 5,
   "id": "a41e8ae1",
   "metadata": {
    "ExecuteTime": {
     "end_time": "2023-11-16T12:00:24.202576Z",
     "start_time": "2023-11-16T12:00:24.194983Z"
    }
   },
   "outputs": [],
   "source": [
    "def getBins(dfModel,rightBin = 1400.):\n",
    "    \n",
    "    bins = {c : eval(c.split('_')[1]) for c in dfModel.columns if (\"bin_\" in c)}    \n",
    "    binCenter = (np.array(list(bins.values()))+np.diff(list(bins.values())+[rightBin])/2).tolist()    \n",
    "    binLeft = [bins[c] for c in bins]+[rightBin] \n",
    "    \n",
    "    return bins,binCenter,binLeft\n",
    "\n",
    "def getMETbins(dfSingle,bins):\n",
    "\n",
    "    data = {c : dfSingle[c].iloc[0] for c in bins}\n",
    "\n",
    "    return data"
   ]
  },
  {
   "cell_type": "code",
   "execution_count": 19,
   "id": "6ca0101c",
   "metadata": {
    "ExecuteTime": {
     "end_time": "2023-11-16T12:07:39.021109Z",
     "start_time": "2023-11-16T12:07:36.934114Z"
    }
   },
   "outputs": [
    {
     "data": {
      "image/png": "[encoded data removed]",
      "text/plain": [
       "<Figure size 1000x600 with 1 Axes>"
      ]
     },
     "metadata": {},
     "output_type": "display_data"
    }
   ],
   "source": [
    "bins, binCenter, binLeft = getBins(dfModel)\n",
    "\n",
    "fig = plt.figure(figsize=(10,6))\n",
    "\n",
    "data = {}\n",
    "weights = {}\n",
    "for mass in dfModel['$m_{med}$']:\n",
    "    dfSingle = dfModel[dfModel['$m_{med}$'] == mass]\n",
    "    d = getMETbins(dfSingle, bins)\n",
    "    data[mass] = d\n",
    "    weights[mass] = np.array([data[mass][c] for c in bins])/np.array(brS[brS['$m_{med}$']==mass]['$BR(med>\\\\chi\\\\chi)$'])\n",
    "    \n",
    "colors = {label: sns.color_palette('bright')[i] for i, label in enumerate(data.keys())}\n",
    "\n",
    "for mass in data:\n",
    "    if mass in [400, 600, 800]:\n",
    "        plt.hist(binCenter, bins=binLeft, label=r'$m_{S} = %1.2f$ GeV' %(mass), weights=weights[mass], \n",
    "                 histtype='step', linewidth=2.0, color=colors[mass])\n",
    "    \n",
    "plt.yscale('log')\n",
    "# plt.ylim(1e0,1e2)\n",
    "plt.xlabel(r'$p^{miss}_T$ (GeV)')\n",
    "plt.ylabel(r'Events')\n",
    "plt.xlim(250,1400)\n",
    "plt.legend(loc='upper right', fontsize='x-small')\n",
    "plt.text(0.8,0.4,textstr,fontsize=14,bbox=dict(facecolor='white', edgecolor='black'),\n",
    "         transform = plt.gca().transAxes)\n",
    "\n",
    "plt.savefig('../../Pictures/pt_ms_masses.png')\n",
    "plt.show()"
   ]
  },
  {
   "cell_type": "code",
   "execution_count": null,
   "id": "619f0ec4",
   "metadata": {},
   "outputs": [],
   "source": []
  }
 ],
 "metadata": {
  "kernelspec": {
   "display_name": "Python 3 (ipykernel)",
   "language": "python",
   "name": "python3"
  },
  "language_info": {
   "codemirror_mode": {
    "name": "ipython",
    "version": 3
   },
   "file_extension": ".py",
   "mimetype": "text/x-python",
   "name": "python",
   "nbconvert_exporter": "python",
   "pygments_lexer": "ipython3",
   "version": "3.10.12"
  }
 },
 "nbformat": 4,
 "nbformat_minor": 5
}
